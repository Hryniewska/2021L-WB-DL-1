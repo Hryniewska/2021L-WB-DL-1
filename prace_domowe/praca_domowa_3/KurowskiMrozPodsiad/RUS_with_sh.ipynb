{
 "cells": [
  {
   "cell_type": "code",
   "execution_count": 1,
   "metadata": {},
   "outputs": [
    {
     "ename": "error",
     "evalue": "OpenCV(4.5.1) /tmp/pip-install-8lnbzhlo/opencv-python/opencv/modules/imgproc/src/resize.cpp:4051: error: (-215:Assertion failed) !ssize.empty() in function 'resize'\n",
     "output_type": "error",
     "traceback": [
      "\u001b[0;31m---------------------------------------------------------------------------\u001b[0m",
      "\u001b[0;31merror\u001b[0m                                     Traceback (most recent call last)",
      "\u001b[0;32m<ipython-input-1-c8f2e89fe6ad>\u001b[0m in \u001b[0;36m<module>\u001b[0;34m\u001b[0m\n\u001b[1;32m      3\u001b[0m \u001b[0;34m\u001b[0m\u001b[0m\n\u001b[1;32m      4\u001b[0m \u001b[0mimg\u001b[0m \u001b[0;34m=\u001b[0m \u001b[0mcv2\u001b[0m\u001b[0;34m.\u001b[0m\u001b[0mimread\u001b[0m\u001b[0;34m(\u001b[0m\u001b[0;34m\"HeliView.jpg\"\u001b[0m\u001b[0;34m)\u001b[0m\u001b[0;34m\u001b[0m\u001b[0;34m\u001b[0m\u001b[0m\n\u001b[0;32m----> 5\u001b[0;31m \u001b[0mimg\u001b[0m \u001b[0;34m=\u001b[0m \u001b[0mcv2\u001b[0m\u001b[0;34m.\u001b[0m\u001b[0mresize\u001b[0m\u001b[0;34m(\u001b[0m\u001b[0mimg\u001b[0m\u001b[0;34m,\u001b[0m \u001b[0;34m(\u001b[0m\u001b[0;36m0\u001b[0m\u001b[0;34m,\u001b[0m \u001b[0;36m0\u001b[0m\u001b[0;34m)\u001b[0m\u001b[0;34m,\u001b[0m \u001b[0;32mNone\u001b[0m\u001b[0;34m,\u001b[0m \u001b[0;36m.25\u001b[0m\u001b[0;34m,\u001b[0m \u001b[0;36m.25\u001b[0m\u001b[0;34m)\u001b[0m\u001b[0;34m\u001b[0m\u001b[0;34m\u001b[0m\u001b[0m\n\u001b[0m\u001b[1;32m      6\u001b[0m \u001b[0;34m\u001b[0m\u001b[0m\n\u001b[1;32m      7\u001b[0m \u001b[0mgaussianBlurKernel\u001b[0m \u001b[0;34m=\u001b[0m \u001b[0mnp\u001b[0m\u001b[0;34m.\u001b[0m\u001b[0marray\u001b[0m\u001b[0;34m(\u001b[0m\u001b[0;34m(\u001b[0m\u001b[0;34m[\u001b[0m\u001b[0;34m[\u001b[0m\u001b[0;36m1\u001b[0m\u001b[0;34m,\u001b[0m \u001b[0;36m2\u001b[0m\u001b[0;34m,\u001b[0m \u001b[0;36m1\u001b[0m\u001b[0;34m]\u001b[0m\u001b[0;34m,\u001b[0m \u001b[0;34m[\u001b[0m\u001b[0;36m2\u001b[0m\u001b[0;34m,\u001b[0m \u001b[0;36m4\u001b[0m\u001b[0;34m,\u001b[0m \u001b[0;36m2\u001b[0m\u001b[0;34m]\u001b[0m\u001b[0;34m,\u001b[0m \u001b[0;34m[\u001b[0m\u001b[0;36m1\u001b[0m\u001b[0;34m,\u001b[0m \u001b[0;36m2\u001b[0m\u001b[0;34m,\u001b[0m \u001b[0;36m1\u001b[0m\u001b[0;34m]\u001b[0m\u001b[0;34m]\u001b[0m\u001b[0;34m)\u001b[0m\u001b[0;34m,\u001b[0m \u001b[0mnp\u001b[0m\u001b[0;34m.\u001b[0m\u001b[0mfloat32\u001b[0m\u001b[0;34m)\u001b[0m\u001b[0;34m/\u001b[0m\u001b[0;36m9\u001b[0m\u001b[0;34m\u001b[0m\u001b[0;34m\u001b[0m\u001b[0m\n",
      "\u001b[0;31merror\u001b[0m: OpenCV(4.5.1) /tmp/pip-install-8lnbzhlo/opencv-python/opencv/modules/imgproc/src/resize.cpp:4051: error: (-215:Assertion failed) !ssize.empty() in function 'resize'\n"
     ]
    }
   ],
   "source": [
    "import cv2\n",
    "import numpy as np\n",
    "\n",
    "img = cv2.imread(\"HeliView.jpg\")\n",
    "img = cv2.resize(img, (0, 0), None, .25, .25)\n",
    "\n",
    "gaussianBlurKernel = np.array(([[1, 2, 1], [2, 4, 2], [1, 2, 1]]), np.float32)/9\n",
    "sharpenKernel = np.array(([[0, -1, 0], [-1, 9, -1], [0, -1, 0]]), np.float32)/9\n",
    "meanBlurKernel = np.ones((3, 3), np.float32)/9\n",
    "\n",
    "gaussianBlur = cv2.filter2D(src=img, kernel=gaussianBlurKernel, ddepth=-1)\n",
    "meanBlur = cv2.filter2D(src=img, kernel=meanBlurKernel, ddepth=-1)\n",
    "sharpen = cv2.filter2D(src=img, kernel=sharpenKernel, ddepth=-1)\n",
    "\n",
    "horizontalStack = np.concatenate((img, gaussianBlur, meanBlur, sharpen), axis=1)\n",
    "\n",
    "cv2.imwrite(\"Output.jpg\", horizontalStack)\n",
    "\n",
    "cv2.imshow(\"2D Convolution Example\", horizontalStack)\n",
    "\n",
    "cv2.waitKey(0)\n",
    "cv2.destroyAllWindows()"
   ]
  },
  {
   "cell_type": "code",
   "execution_count": 2,
   "metadata": {},
   "outputs": [
    {
     "name": "stdout",
     "output_type": "stream",
     "text": [
      "/home/kurowskik/data_wb_iad\n"
     ]
    }
   ],
   "source": [
    "#x_train /= 255????\n",
    "import os\n",
    "\n",
    "# Get the current working directory\n",
    "print( os.getcwd())\n",
    "os.chdir(\"/home/kurowskik/data_wb_iad\")"
   ]
  },
  {
   "cell_type": "code",
   "execution_count": 3,
   "metadata": {},
   "outputs": [],
   "source": [
    "import matplotlib.pyplot as plt\n",
    "import seaborn as sns\n",
    "from sklearn.datasets import make_classification\n",
    "from sklearn.decomposition import PCA\n",
    "\n",
    "import numpy as np\n",
    "from imblearn.under_sampling import RandomUnderSampler\n",
    "\n",
    "import pandas as pd\n",
    "df_test = pd.read_csv('data/test_split.txt',\n",
    "                 delimiter = \" \",\n",
    "                  names=[\"number\", \"filename\", \"illness\", \"data\"]\n",
    "                     )\n",
    "\n",
    "\n",
    "df_train = pd.read_csv('data/train_split.txt',\n",
    "                 delimiter = \" \",\n",
    "                names=[\"number\", \"filename\", \"illness\", \"data\"])\n",
    "\n",
    "dict_test = pd.Series(df_test.illness.values,index=df_test.filename).to_dict() \n",
    "dict_train = pd.Series(df_train.illness.values,index=df_train.filename).to_dict() \n",
    "\n",
    "rus_train = RandomUnderSampler( random_state = 2137, sampling_strategy = {'COVID-19':1670,'pneumonia':1670,'normal':1670})\n",
    "X_resampled_train, y_resampled_train = rus_train.fit_resample( np.array([*dict_train.keys()]).reshape(-1,1) , [*dict_train.values()])\n",
    "\n",
    "rus_test = RandomUnderSampler( random_state = 2137, sampling_strategy = {'COVID-19':100,'pneumonia':100,'normal':100})\n",
    "X_resampled_test, y_resampled_test = rus_test.fit_resample( np.array([*dict_test.keys()]).reshape(-1,1) , [*dict_test.values()])\n",
    "\n",
    "train_resampled = dict()\n",
    "\n",
    "for i in range( len( X_resampled_train)):\n",
    "    if y_resampled_train[i] == \"normal\":\n",
    "        train_resampled[ str( X_resampled_train[i][0])] = 0\n",
    "    if y_resampled_train[i] == \"COVID-19\":\n",
    "        train_resampled[ str( X_resampled_train[i][0])] = 1\n",
    "    if y_resampled_train[i] == \"pneumonia\":\n",
    "        train_resampled[ str( X_resampled_train[i][0])] = 2\n",
    "    \n",
    "test_resampled = dict()\n",
    "\n",
    "for i in range( len( X_resampled_test)):\n",
    "    if y_resampled_test[i] == \"normal\":\n",
    "        test_resampled[ str( X_resampled_test[i][0])] = 0\n",
    "    if y_resampled_test[i] == \"COVID-19\":\n",
    "        test_resampled[ str( X_resampled_test[i][0])] = 1\n",
    "    if y_resampled_test[i] == \"pneumonia\":\n",
    "        test_resampled[ str( X_resampled_test[i][0])] = 2\n",
    "    \n"
   ]
  },
  {
   "cell_type": "code",
   "execution_count": 4,
   "metadata": {},
   "outputs": [],
   "source": [
    "import numpy as np\n",
    "import os\n",
    "from PIL import Image\n",
    "import pandas as pd"
   ]
  },
  {
   "cell_type": "code",
   "execution_count": 5,
   "metadata": {},
   "outputs": [],
   "source": [
    "img_path = os.path.join(\"data\", \"train\")\n",
    "\n",
    "def load_images(names):\n",
    "    n_images = len(names)\n",
    "    images = np.zeros((n_images, 224, 224, 3))\n",
    "    labels = np.empty(n_images, dtype='object')\n",
    "    for i in range(n_images):\n",
    "        name = names[i]\n",
    "        #print(name)\n",
    "        image = Image.open(os.path.join(img_path, name))\n",
    "        image = image.convert('RGB').resize((224,224)) #thumbnail\n",
    "        image = np.asarray(image)\n",
    "        images[i] = image\n",
    "        labels[i] = dict_train[name]\n",
    "    return images, labels"
   ]
  },
  {
   "cell_type": "code",
   "execution_count": 6,
   "metadata": {},
   "outputs": [
    {
     "name": "stdout",
     "output_type": "stream",
     "text": [
      "/home/kurowskik/data_wb_iad\n"
     ]
    }
   ],
   "source": [
    "def encode(y):\n",
    "    y[y==\"normal\"]=0\n",
    "    y[y==\"COVID-19\"]=1\n",
    "    y[y==\"pneumonia\"]=2\n",
    "    return y.astype(int)\n",
    "\n",
    "print( os.getcwd())"
   ]
  },
  {
   "cell_type": "code",
   "execution_count": 7,
   "metadata": {},
   "outputs": [],
   "source": [
    "\n",
    "X_train, y_train = load_images( list(train_resampled.keys()))\n",
    "y_train = encode(y_train)"
   ]
  },
  {
   "cell_type": "code",
   "execution_count": 9,
   "metadata": {},
   "outputs": [
    {
     "ename": "AttributeError",
     "evalue": "'numpy.ndarray' object has no attribute 'read'",
     "output_type": "error",
     "traceback": [
      "\u001b[0;31m---------------------------------------------------------------------------\u001b[0m",
      "\u001b[0;31mAttributeError\u001b[0m                            Traceback (most recent call last)",
      "\u001b[0;32m~/wbiad3.6/lib/python3.6/site-packages/PIL/Image.py\u001b[0m in \u001b[0;36mopen\u001b[0;34m(fp, mode, formats)\u001b[0m\n\u001b[1;32m   2907\u001b[0m     \u001b[0;32mtry\u001b[0m\u001b[0;34m:\u001b[0m\u001b[0;34m\u001b[0m\u001b[0;34m\u001b[0m\u001b[0m\n\u001b[0;32m-> 2908\u001b[0;31m         \u001b[0mfp\u001b[0m\u001b[0;34m.\u001b[0m\u001b[0mseek\u001b[0m\u001b[0;34m(\u001b[0m\u001b[0;36m0\u001b[0m\u001b[0;34m)\u001b[0m\u001b[0;34m\u001b[0m\u001b[0;34m\u001b[0m\u001b[0m\n\u001b[0m\u001b[1;32m   2909\u001b[0m     \u001b[0;32mexcept\u001b[0m \u001b[0;34m(\u001b[0m\u001b[0mAttributeError\u001b[0m\u001b[0;34m,\u001b[0m \u001b[0mio\u001b[0m\u001b[0;34m.\u001b[0m\u001b[0mUnsupportedOperation\u001b[0m\u001b[0;34m)\u001b[0m\u001b[0;34m:\u001b[0m\u001b[0;34m\u001b[0m\u001b[0;34m\u001b[0m\u001b[0m\n",
      "\u001b[0;31mAttributeError\u001b[0m: 'numpy.ndarray' object has no attribute 'seek'",
      "\nDuring handling of the above exception, another exception occurred:\n",
      "\u001b[0;31mAttributeError\u001b[0m                            Traceback (most recent call last)",
      "\u001b[0;32m<ipython-input-9-eb820c6fe814>\u001b[0m in \u001b[0;36m<module>\u001b[0;34m\u001b[0m\n\u001b[1;32m      1\u001b[0m \u001b[0;32mfrom\u001b[0m \u001b[0mPIL\u001b[0m \u001b[0;32mimport\u001b[0m \u001b[0mImage\u001b[0m\u001b[0;34m,\u001b[0m \u001b[0mImageFilter\u001b[0m\u001b[0;34m\u001b[0m\u001b[0;34m\u001b[0m\u001b[0m\n\u001b[1;32m      2\u001b[0m \u001b[0;34m\u001b[0m\u001b[0m\n\u001b[0;32m----> 3\u001b[0;31m \u001b[0mim\u001b[0m \u001b[0;34m=\u001b[0m \u001b[0mImage\u001b[0m\u001b[0;34m.\u001b[0m\u001b[0mopen\u001b[0m\u001b[0;34m(\u001b[0m\u001b[0mX_train\u001b[0m\u001b[0;34m[\u001b[0m\u001b[0;36m0\u001b[0m\u001b[0;34m]\u001b[0m\u001b[0;34m)\u001b[0m\u001b[0;34m\u001b[0m\u001b[0;34m\u001b[0m\u001b[0m\n\u001b[0m\u001b[1;32m      4\u001b[0m \u001b[0;34m\u001b[0m\u001b[0m\n\u001b[1;32m      5\u001b[0m \u001b[0mim1\u001b[0m \u001b[0;34m=\u001b[0m \u001b[0mim\u001b[0m\u001b[0;34m.\u001b[0m\u001b[0mfilter\u001b[0m\u001b[0;34m(\u001b[0m\u001b[0mImageFilter\u001b[0m\u001b[0;34m.\u001b[0m\u001b[0mBLUR\u001b[0m\u001b[0;34m)\u001b[0m\u001b[0;34m\u001b[0m\u001b[0;34m\u001b[0m\u001b[0m\n",
      "\u001b[0;32m~/wbiad3.6/lib/python3.6/site-packages/PIL/Image.py\u001b[0m in \u001b[0;36mopen\u001b[0;34m(fp, mode, formats)\u001b[0m\n\u001b[1;32m   2908\u001b[0m         \u001b[0mfp\u001b[0m\u001b[0;34m.\u001b[0m\u001b[0mseek\u001b[0m\u001b[0;34m(\u001b[0m\u001b[0;36m0\u001b[0m\u001b[0;34m)\u001b[0m\u001b[0;34m\u001b[0m\u001b[0;34m\u001b[0m\u001b[0m\n\u001b[1;32m   2909\u001b[0m     \u001b[0;32mexcept\u001b[0m \u001b[0;34m(\u001b[0m\u001b[0mAttributeError\u001b[0m\u001b[0;34m,\u001b[0m \u001b[0mio\u001b[0m\u001b[0;34m.\u001b[0m\u001b[0mUnsupportedOperation\u001b[0m\u001b[0;34m)\u001b[0m\u001b[0;34m:\u001b[0m\u001b[0;34m\u001b[0m\u001b[0;34m\u001b[0m\u001b[0m\n\u001b[0;32m-> 2910\u001b[0;31m         \u001b[0mfp\u001b[0m \u001b[0;34m=\u001b[0m \u001b[0mio\u001b[0m\u001b[0;34m.\u001b[0m\u001b[0mBytesIO\u001b[0m\u001b[0;34m(\u001b[0m\u001b[0mfp\u001b[0m\u001b[0;34m.\u001b[0m\u001b[0mread\u001b[0m\u001b[0;34m(\u001b[0m\u001b[0;34m)\u001b[0m\u001b[0;34m)\u001b[0m\u001b[0;34m\u001b[0m\u001b[0;34m\u001b[0m\u001b[0m\n\u001b[0m\u001b[1;32m   2911\u001b[0m         \u001b[0mexclusive_fp\u001b[0m \u001b[0;34m=\u001b[0m \u001b[0;32mTrue\u001b[0m\u001b[0;34m\u001b[0m\u001b[0;34m\u001b[0m\u001b[0m\n\u001b[1;32m   2912\u001b[0m \u001b[0;34m\u001b[0m\u001b[0m\n",
      "\u001b[0;31mAttributeError\u001b[0m: 'numpy.ndarray' object has no attribute 'read'"
     ]
    }
   ],
   "source": [
    "from PIL import Image, ImageFilter\n",
    "\n",
    "im = Image.open(X_train[0])\n",
    "\n",
    "im1 = im.filter(ImageFilter.BLUR)\n",
    "im1.show()\n",
    "\n",
    "im2 = im.filter(ImageFilter.MinFilter(3))\n",
    "im2.show()\n",
    "\n",
    "im3 = im.filter(ImageFilter.MinFilter) # same as MinFilter(3)\n",
    "im3.show()"
   ]
  },
  {
   "cell_type": "code",
   "execution_count": 13,
   "metadata": {},
   "outputs": [],
   "source": [
    "img_path = os.path.join(\"data\", \"train\")\n",
    "\n",
    "def load_images_sharpen(names):\n",
    "    n_images = len(names)\n",
    "    images = np.zeros((n_images, 224, 224, 3))\n",
    "    labels = np.empty(n_images, dtype='object')\n",
    "    for i in range(n_images):\n",
    "        name = names[i]\n",
    "        #print(name)\n",
    "        image = Image.open(os.path.join(img_path, name))\n",
    "        image = image.convert('RGB').resize((224,224)) #thumbnail\n",
    "        image = image.filter(ImageFilter.SHARPEN)\n",
    "        image = np.asarray(image)\n",
    "        images[i] = image\n",
    "        labels[i] = dict_train[name]\n",
    "    return images, labels"
   ]
  },
  {
   "cell_type": "code",
   "execution_count": 14,
   "metadata": {},
   "outputs": [],
   "source": [
    "\n",
    "X_train_sharp, y_train_sharp = load_images_sharpen( list(train_resampled.keys()))\n",
    "y_train_sharp = encode(y_train_sharp)"
   ]
  },
  {
   "cell_type": "code",
   "execution_count": 15,
   "metadata": {},
   "outputs": [],
   "source": [
    "np.save(\"data/x_train_undersampled_sh.npy\", X_train)\n",
    "np.save(\"data/y_train_undersampled_sh.npy\", y_train)"
   ]
  },
  {
   "cell_type": "code",
   "execution_count": 18,
   "metadata": {},
   "outputs": [],
   "source": [
    "img_path = os.path.join(\"data\", \"train\")\n",
    "\n",
    "def load_images_test_sh(names):\n",
    "    n_images = len(names)\n",
    "    images = np.zeros((n_images, 224, 224, 3))\n",
    "    labels = np.empty(n_images, dtype='object')\n",
    "    for i in range(n_images):\n",
    "        name = names[i]\n",
    "        #print(name)\n",
    "        image = Image.open(\"/home/kurowskik/data_wb_iad/data/test/\" + name)\n",
    "        image = image.convert('RGB').resize((224,224)) #thumbnail\n",
    "        image = image.filter(ImageFilter.SHARPEN)\n",
    "        image = np.asarray(image)\n",
    "        images[i] = image\n",
    "        labels[i] = test_resampled[name]\n",
    "    return images, labels"
   ]
  },
  {
   "cell_type": "code",
   "execution_count": 19,
   "metadata": {},
   "outputs": [],
   "source": [
    "X_test, y_test = load_images_test_sh( list(test_resampled.keys()))"
   ]
  },
  {
   "cell_type": "code",
   "execution_count": 21,
   "metadata": {},
   "outputs": [],
   "source": [
    "y_test = encode(y_test)"
   ]
  },
  {
   "cell_type": "code",
   "execution_count": 22,
   "metadata": {},
   "outputs": [],
   "source": [
    "np.save(\"data/x_test_undersampled_sh.npy\", X_test)\n",
    "np.save(\"data/y_test_undersampled_sh.npy\", y_test)"
   ]
  }
 ],
 "metadata": {
  "kernelspec": {
   "display_name": "wbiad3.6",
   "language": "python",
   "name": "wbiad3.6"
  },
  "language_info": {
   "codemirror_mode": {
    "name": "ipython",
    "version": 3
   },
   "file_extension": ".py",
   "mimetype": "text/x-python",
   "name": "python",
   "nbconvert_exporter": "python",
   "pygments_lexer": "ipython3",
   "version": "3.6.13"
  }
 },
 "nbformat": 4,
 "nbformat_minor": 4
}
