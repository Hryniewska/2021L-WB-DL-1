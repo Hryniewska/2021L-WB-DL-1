{
 "cells": [
  {
   "cell_type": "code",
   "execution_count": 6,
   "metadata": {},
   "outputs": [],
   "source": [
    "import os\n",
    "import matplotlib.pyplot as plt\n",
    "import seaborn as sns\n",
    "from sklearn.datasets import make_classification\n",
    "from sklearn.decomposition import PCA\n",
    "\n",
    "import numpy as np\n",
    "from imblearn.under_sampling import RandomUnderSampler\n",
    "\n",
    "import pandas as pd\n",
    "df_test = pd.read_csv('data/test_split.txt',\n",
    "                 delimiter = \" \",\n",
    "                  names=[\"number\", \"filename\", \"illness\", \"data\"]\n",
    "                     )\n",
    "\n",
    "\n",
    "df_train = pd.read_csv('data/train_split.txt',\n",
    "                 delimiter = \" \",\n",
    "                names=[\"number\", \"filename\", \"illness\", \"data\"])\n",
    "\n",
    "dict_test = pd.Series(df_test.illness.values,index=df_test.filename).to_dict() \n",
    "dict_train = pd.Series(df_train.illness.values,index=df_train.filename).to_dict() \n",
    "\n",
    "rus_train = RandomUnderSampler( random_state = 2137, sampling_strategy = {'COVID-19':1670,'pneumonia':1670,'normal':1670})\n",
    "X_resampled_train, y_resampled_train = rus_train.fit_resample( np.array([*dict_train.keys()]).reshape(-1,1) , [*dict_train.values()])\n",
    "\n",
    "rus_test = RandomUnderSampler( random_state = 2137, sampling_strategy = {'COVID-19':100,'pneumonia':100,'normal':100})\n",
    "X_resampled_test, y_resampled_test = rus_test.fit_resample( np.array([*dict_test.keys()]).reshape(-1,1) , [*dict_test.values()])\n"
   ]
  },
  {
   "cell_type": "code",
   "execution_count": 39,
   "metadata": {},
   "outputs": [
    {
     "data": {
      "text/plain": [
       "'sirm'"
      ]
     },
     "execution_count": 39,
     "metadata": {},
     "output_type": "execute_result"
    }
   ],
   "source": [
    "pd.Series.to_string(df_train[df_train.filename==X_resampled_train[1][0]].data, index=False).strip()"
   ]
  },
  {
   "cell_type": "code",
   "execution_count": 70,
   "metadata": {},
   "outputs": [],
   "source": [
    "y_dataset_train = []\n",
    "y_dataset_test = []\n",
    "\n",
    "for i in range(len(X_resampled_train)):\n",
    "    y_dataset_train.append( pd.Series.to_string(df_train[df_train.filename==X_resampled_train[i][0]].data, index=False).strip() )\n",
    "    \n",
    "for i in range(len(X_resampled_test)):\n",
    "    y_dataset_test.append( pd.Series.to_string(df_test[df_test.filename==X_resampled_test[i][0]].data, index=False).strip() )\n",
    "    "
   ]
  },
  {
   "cell_type": "code",
   "execution_count": 49,
   "metadata": {},
   "outputs": [
    {
     "name": "stdout",
     "output_type": "stream",
     "text": [
      "{'cohen', 'rsna', 'sirm', 'actmed', 'fig1'}\n",
      "{'cohen', 'rsna', 'sirm', 'actmed', 'fig1'}\n"
     ]
    }
   ],
   "source": [
    "print(set(y_dataset_train))\n",
    "print(set(y_dataset_test))"
   ]
  },
  {
   "cell_type": "code",
   "execution_count": 73,
   "metadata": {},
   "outputs": [],
   "source": [
    "for i in range( len( y_dataset_train)):\n",
    "    if y_dataset_train[i] == \"rsna\": y_dataset_train[i] = 0\n",
    "    if y_dataset_train[i] == \"sirm\": y_dataset_train[i] = 1\n",
    "    if y_dataset_train[i] == \"cohen\": y_dataset_train[i] = 2\n",
    "    if y_dataset_train[i] == \"actmed\": y_dataset_train[i] = 3\n",
    "    if y_dataset_train[i] == \"fig1\": y_dataset_train[i] = 4\n",
    "\n",
    "for i in range( len( y_dataset_test)):\n",
    "    if y_dataset_test[i] == \"rsna\": y_dataset_test[i] = 0\n",
    "    if y_dataset_test[i] == \"sirm\": y_dataset_test[i] = 1\n",
    "    if y_dataset_test[i] == \"cohen\": y_dataset_test[i] = 2\n",
    "    if y_dataset_test[i] == \"actmed\": y_dataset_test[i] = 3\n",
    "    if y_dataset_test[i] == \"fig1\": y_dataset_test[i] = 4\n"
   ]
  },
  {
   "cell_type": "code",
   "execution_count": 80,
   "metadata": {},
   "outputs": [],
   "source": [
    "np.save(\"data/y_train_undersampled_dataset.npy\", y_dataset_train)\n",
    "np.save(\"data/y_test_undersampled_dataset.npy\", y_dataset_test)"
   ]
  }
 ],
 "metadata": {
  "kernelspec": {
   "display_name": "Python 3",
   "language": "python",
   "name": "python3"
  },
  "language_info": {
   "codemirror_mode": {
    "name": "ipython",
    "version": 3
   },
   "file_extension": ".py",
   "mimetype": "text/x-python",
   "name": "python",
   "nbconvert_exporter": "python",
   "pygments_lexer": "ipython3",
   "version": "3.7.9"
  }
 },
 "nbformat": 4,
 "nbformat_minor": 4
}
