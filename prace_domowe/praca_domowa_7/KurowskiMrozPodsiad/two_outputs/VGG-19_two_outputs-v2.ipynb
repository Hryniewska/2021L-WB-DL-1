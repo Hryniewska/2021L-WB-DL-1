{
 "cells": [
  {
   "cell_type": "code",
   "execution_count": 1,
   "metadata": {},
   "outputs": [],
   "source": [
    "import cv2\n",
    "import numpy as np\n",
    "import matplotlib.pyplot as plt\n",
    "import os"
   ]
  },
  {
   "cell_type": "code",
   "execution_count": 2,
   "metadata": {},
   "outputs": [],
   "source": [
    "x_train = np.load('data/x_train_undersampled.npy')\n",
    "y_train = np.load('data/y_train_undersampled.npy')\n",
    "x_test = np.load('data/x_test_undersampled.npy')\n",
    "y_test = np.load('data/y_test_undersampled.npy')\n",
    "y_train2 = np.load('data/y_train_undersampled_dataset.npy')\n",
    "y_test2 = np.load('data/y_test_undersampled_dataset.npy')"
   ]
  },
  {
   "cell_type": "code",
   "execution_count": 3,
   "metadata": {
    "scrolled": true
   },
   "outputs": [
    {
     "name": "stdout",
     "output_type": "stream",
     "text": [
      "(5010, 224, 224, 3)\n",
      "(300, 224, 224, 3)\n"
     ]
    }
   ],
   "source": [
    "print(x_train.shape)\n",
    "print(x_test.shape)"
   ]
  },
  {
   "cell_type": "code",
   "execution_count": 4,
   "metadata": {},
   "outputs": [
    {
     "name": "stdout",
     "output_type": "stream",
     "text": [
      "(5010,)\n",
      "(300,)\n"
     ]
    }
   ],
   "source": [
    "print(y_train.shape)\n",
    "print(y_test.shape)"
   ]
  },
  {
   "cell_type": "code",
   "execution_count": 5,
   "metadata": {},
   "outputs": [
    {
     "name": "stdout",
     "output_type": "stream",
     "text": [
      "(5010,)\n",
      "(300,)\n"
     ]
    }
   ],
   "source": [
    "print(y_train2.shape)\n",
    "print(y_test2.shape)"
   ]
  },
  {
   "cell_type": "code",
   "execution_count": 6,
   "metadata": {
    "scrolled": true
   },
   "outputs": [
    {
     "name": "stderr",
     "output_type": "stream",
     "text": [
      "C:\\Users\\hp\\Anaconda3\\envs\\wbvenv36\\lib\\site-packages\\tensorflow\\python\\framework\\dtypes.py:516: FutureWarning: Passing (type, 1) or '1type' as a synonym of type is deprecated; in a future version of numpy, it will be understood as (type, (1,)) / '(1,)type'.\n",
      "  _np_qint8 = np.dtype([(\"qint8\", np.int8, 1)])\n",
      "C:\\Users\\hp\\Anaconda3\\envs\\wbvenv36\\lib\\site-packages\\tensorflow\\python\\framework\\dtypes.py:517: FutureWarning: Passing (type, 1) or '1type' as a synonym of type is deprecated; in a future version of numpy, it will be understood as (type, (1,)) / '(1,)type'.\n",
      "  _np_quint8 = np.dtype([(\"quint8\", np.uint8, 1)])\n",
      "C:\\Users\\hp\\Anaconda3\\envs\\wbvenv36\\lib\\site-packages\\tensorflow\\python\\framework\\dtypes.py:518: FutureWarning: Passing (type, 1) or '1type' as a synonym of type is deprecated; in a future version of numpy, it will be understood as (type, (1,)) / '(1,)type'.\n",
      "  _np_qint16 = np.dtype([(\"qint16\", np.int16, 1)])\n",
      "C:\\Users\\hp\\Anaconda3\\envs\\wbvenv36\\lib\\site-packages\\tensorflow\\python\\framework\\dtypes.py:519: FutureWarning: Passing (type, 1) or '1type' as a synonym of type is deprecated; in a future version of numpy, it will be understood as (type, (1,)) / '(1,)type'.\n",
      "  _np_quint16 = np.dtype([(\"quint16\", np.uint16, 1)])\n",
      "C:\\Users\\hp\\Anaconda3\\envs\\wbvenv36\\lib\\site-packages\\tensorflow\\python\\framework\\dtypes.py:520: FutureWarning: Passing (type, 1) or '1type' as a synonym of type is deprecated; in a future version of numpy, it will be understood as (type, (1,)) / '(1,)type'.\n",
      "  _np_qint32 = np.dtype([(\"qint32\", np.int32, 1)])\n",
      "C:\\Users\\hp\\Anaconda3\\envs\\wbvenv36\\lib\\site-packages\\tensorflow\\python\\framework\\dtypes.py:525: FutureWarning: Passing (type, 1) or '1type' as a synonym of type is deprecated; in a future version of numpy, it will be understood as (type, (1,)) / '(1,)type'.\n",
      "  np_resource = np.dtype([(\"resource\", np.ubyte, 1)])\n",
      "C:\\Users\\hp\\Anaconda3\\envs\\wbvenv36\\lib\\site-packages\\tensorboard\\compat\\tensorflow_stub\\dtypes.py:541: FutureWarning: Passing (type, 1) or '1type' as a synonym of type is deprecated; in a future version of numpy, it will be understood as (type, (1,)) / '(1,)type'.\n",
      "  _np_qint8 = np.dtype([(\"qint8\", np.int8, 1)])\n",
      "C:\\Users\\hp\\Anaconda3\\envs\\wbvenv36\\lib\\site-packages\\tensorboard\\compat\\tensorflow_stub\\dtypes.py:542: FutureWarning: Passing (type, 1) or '1type' as a synonym of type is deprecated; in a future version of numpy, it will be understood as (type, (1,)) / '(1,)type'.\n",
      "  _np_quint8 = np.dtype([(\"quint8\", np.uint8, 1)])\n",
      "C:\\Users\\hp\\Anaconda3\\envs\\wbvenv36\\lib\\site-packages\\tensorboard\\compat\\tensorflow_stub\\dtypes.py:543: FutureWarning: Passing (type, 1) or '1type' as a synonym of type is deprecated; in a future version of numpy, it will be understood as (type, (1,)) / '(1,)type'.\n",
      "  _np_qint16 = np.dtype([(\"qint16\", np.int16, 1)])\n",
      "C:\\Users\\hp\\Anaconda3\\envs\\wbvenv36\\lib\\site-packages\\tensorboard\\compat\\tensorflow_stub\\dtypes.py:544: FutureWarning: Passing (type, 1) or '1type' as a synonym of type is deprecated; in a future version of numpy, it will be understood as (type, (1,)) / '(1,)type'.\n",
      "  _np_quint16 = np.dtype([(\"quint16\", np.uint16, 1)])\n",
      "C:\\Users\\hp\\Anaconda3\\envs\\wbvenv36\\lib\\site-packages\\tensorboard\\compat\\tensorflow_stub\\dtypes.py:545: FutureWarning: Passing (type, 1) or '1type' as a synonym of type is deprecated; in a future version of numpy, it will be understood as (type, (1,)) / '(1,)type'.\n",
      "  _np_qint32 = np.dtype([(\"qint32\", np.int32, 1)])\n",
      "C:\\Users\\hp\\Anaconda3\\envs\\wbvenv36\\lib\\site-packages\\tensorboard\\compat\\tensorflow_stub\\dtypes.py:550: FutureWarning: Passing (type, 1) or '1type' as a synonym of type is deprecated; in a future version of numpy, it will be understood as (type, (1,)) / '(1,)type'.\n",
      "  np_resource = np.dtype([(\"resource\", np.ubyte, 1)])\n",
      "Using TensorFlow backend.\n"
     ]
    }
   ],
   "source": [
    "from __future__ import print_function\n",
    "\n",
    "import numpy as np\n",
    "from random import shuffle\n",
    "import time\n",
    "import csv\n",
    "from PIL import Image\n",
    "import os\n",
    "import tensorflow as tf\n",
    "import keras\n",
    "from keras.callbacks import EarlyStopping, LearningRateScheduler\n",
    "from keras import initializers\n",
    "from keras.optimizers import SGD\n",
    "from keras.preprocessing import sequence\n",
    "from keras.utils import np_utils\n",
    "from keras.models import Sequential,load_model,Model\n",
    "from keras.layers import Dense, Dropout, Activation, Flatten\n",
    "from keras.layers import *\n",
    "from keras.callbacks import CSVLogger\n",
    "from keras import callbacks\n",
    "from keras.preprocessing.image import ImageDataGenerator\n",
    "\n",
    "from sklearn.metrics import classification_report\n",
    "from sklearn.model_selection import train_test_split\n",
    "import sklearn.metrics as sklm\n",
    "import sys\n",
    "sys.path.insert(0,'..')\n",
    "from utils import lossprettifier\n",
    "from Classifier.VGG_two_outputs_v2 import *"
   ]
  },
  {
   "cell_type": "code",
   "execution_count": 7,
   "metadata": {},
   "outputs": [],
   "source": [
    "# for reproducibility\n",
    "np.random.seed(3768)\n",
    "\n",
    "# use this environment flag to change which GPU to use \n",
    "os.environ[\"CUDA_DEVICE_ORDER\"]=\"PCI_BUS_ID\"\n",
    "os.environ[\"CUDA_VISIBLE_DEVICES\"]=\"0\"  # specify which GPU(s) to be used\n",
    "\n",
    "#Get TensorFlow session\n",
    "def get_session(): \n",
    "  config = tf.ConfigProto() \n",
    "  config.gpu_options.allow_growth = True \n",
    "  return tf.Session(config=config) \n",
    "  \n",
    "# One hot encoding of labels \n",
    "def dense_to_one_hot(labels_dense,num_clases=3):\n",
    "  return np.eye(num_clases)[labels_dense]"
   ]
  },
  {
   "cell_type": "code",
   "execution_count": 8,
   "metadata": {},
   "outputs": [],
   "source": [
    "# Preparing training and test sets\n",
    "x_train_tmp, x_valid, y_train, y_valid = train_test_split(x_train, y_train, test_size=0.10, random_state=42)\n",
    "x_train2, x_valid2, y_train2, y_valid2 = train_test_split(x_train, y_train2, test_size=0.10, random_state=42)"
   ]
  },
  {
   "cell_type": "code",
   "execution_count": 9,
   "metadata": {},
   "outputs": [],
   "source": [
    "x_train = x_train_tmp"
   ]
  },
  {
   "cell_type": "code",
   "execution_count": 10,
   "metadata": {},
   "outputs": [],
   "source": [
    "y_train = dense_to_one_hot(y_train,num_clases=3)\n",
    "y_valid = dense_to_one_hot(y_valid,num_clases=3)\n",
    "y_train2 = dense_to_one_hot(y_train2,num_clases=5)\n",
    "y_valid2 = dense_to_one_hot(y_valid2,num_clases=5)"
   ]
  },
  {
   "cell_type": "code",
   "execution_count": 11,
   "metadata": {},
   "outputs": [
    {
     "name": "stderr",
     "output_type": "stream",
     "text": [
      "C:\\Users\\hp\\Anaconda3\\envs\\wbvenv36\\lib\\site-packages\\keras_preprocessing\\image\\image_data_generator.py:349: UserWarning: This ImageDataGenerator specifies `featurewise_std_normalization`, which overrides setting of `featurewise_center`.\n",
      "  warnings.warn('This ImageDataGenerator specifies '\n"
     ]
    }
   ],
   "source": [
    "#Image data generation for the training \n",
    "datagen = ImageDataGenerator(\n",
    "               featurewise_center = False, \n",
    "               samplewise_center = False,  # set each sample mean to 0\n",
    "               featurewise_std_normalization = True,  \n",
    "               samplewise_std_normalization = False)  \n",
    "\n",
    "datagen.fit(x_train) \n",
    "for i in range(len(x_test)):\n",
    "      x_test[i] = datagen.standardize(x_test[i])"
   ]
  },
  {
   "cell_type": "code",
   "execution_count": 12,
   "metadata": {
    "scrolled": true
   },
   "outputs": [
    {
     "name": "stdout",
     "output_type": "stream",
     "text": [
      "WARNING:tensorflow:From C:\\Users\\hp\\AppData\\Roaming\\Python\\Python36\\site-packages\\keras\\backend\\tensorflow_backend.py:4070: The name tf.nn.max_pool is deprecated. Please use tf.nn.max_pool2d instead.\n",
      "\n"
     ]
    }
   ],
   "source": [
    "#Defining hyperparameters\n",
    "batch_Size = 32\n",
    "steps_Per_Epoch = 32\n",
    "numEpochs = 50\n",
    "\n",
    "#Instantating VGG19 model\n",
    "model = VGG19((224,224,3),classes=[3, 5]) #VGG19_dense for revised VGG19, VGG19 for VGG19. Please pay attention to VGG16(), chnage the input shape and class number in VGG.py.\n",
    "\n",
    "#Creating an optimizers\n",
    "adaDelta = keras.optimizers.Adadelta(lr=1.0, rho=0.95)\n",
    "sgd = SGD(lr=0.01, decay=1e-6, momentum=0.95, nesterov=True)\n",
    "model.compile(optimizer = sgd , loss = 'categorical_crossentropy', metrics = ['accuracy'])\n",
    "\n",
    "#Creating early stopping \n",
    "earlystop = EarlyStopping(monitor = 'val_accuracy', min_delta = 0, patience = 50, verbose = 1, mode = 'auto', restore_best_weights = True)       "
   ]
  },
  {
   "cell_type": "code",
   "execution_count": 13,
   "metadata": {},
   "outputs": [],
   "source": [
    "def make_multi_output_flow(image_gen, X, y_list, batch_size):\n",
    "    y_item_0 = y_list[0]\n",
    "    y_indices = np.arange(y_item_0.shape[0])\n",
    "    orig_flow = image_gen.flow(X, y=y_indices, batch_size=batch_size)\n",
    "\n",
    "    while True:\n",
    "        (X, y_next_i) = next(orig_flow)\n",
    "        y_next = [ y_item[y_next_i] for y_item in y_list ]\n",
    "        yield X, y_next\n",
    "\n",
    "y_train_gen = [y_train, y_train2]\n",
    "train_generator = make_multi_output_flow(datagen, x_train, y_train_gen, batch_Size)\n",
    "\n",
    "y_valid_gen = [y_valid, y_valid2]\n",
    "validation_generator = make_multi_output_flow(datagen, x_valid, y_valid_gen, batch_Size)\n",
    "        \n",
    "#train_generator = datagen.flow(x_train, y_train, batch_size = batch_Size)\n",
    "#validation_generator = datagen.flow(x_valid, y_valid, batch_size = batch_Size)"
   ]
  },
  {
   "cell_type": "code",
   "execution_count": 14,
   "metadata": {},
   "outputs": [],
   "source": [
    "class_weight = [{0: 1, 1: 1, 2: 1},{0: 1, 1: 3, 2: 7, 3:50, 4:50}]"
   ]
  },
  {
   "cell_type": "code",
   "execution_count": 15,
   "metadata": {
    "scrolled": true
   },
   "outputs": [
    {
     "name": "stdout",
     "output_type": "stream",
     "text": [
      "WARNING:tensorflow:From C:\\Users\\hp\\AppData\\Roaming\\Python\\Python36\\site-packages\\keras\\backend\\tensorflow_backend.py:422: The name tf.global_variables is deprecated. Please use tf.compat.v1.global_variables instead.\n",
      "\n",
      "Epoch 1/50\n",
      "32/32 [==============================] - 5s 169ms/step - loss: 4.9414 - predictions_loss: 1.0911 - predictions_branch_loss: 3.8504 - predictions_accuracy: 0.3623 - predictions_branch_accuracy: 0.2324 - val_loss: 2.3871 - val_predictions_loss: 1.0474 - val_predictions_branch_loss: 1.3241 - val_predictions_accuracy: 0.5629 - val_predictions_branch_accuracy: 0.0938\n",
      "Epoch 2/50\n",
      "32/32 [==============================] - 2s 56ms/step - loss: 4.5292 - predictions_loss: 0.9940 - predictions_branch_loss: 3.5352 - predictions_accuracy: 0.5078 - predictions_branch_accuracy: 0.2646 - val_loss: 2.1192 - val_predictions_loss: 0.9103 - val_predictions_branch_loss: 1.2144 - val_predictions_accuracy: 0.6008 - val_predictions_branch_accuracy: 0.2515\n",
      "Epoch 3/50\n",
      "32/32 [==============================] - 2s 57ms/step - loss: 5.0410 - predictions_loss: 0.8980 - predictions_branch_loss: 4.1430 - predictions_accuracy: 0.5957 - predictions_branch_accuracy: 0.3096 - val_loss: 2.3079 - val_predictions_loss: 0.8813 - val_predictions_branch_loss: 1.4206 - val_predictions_accuracy: 0.6048 - val_predictions_branch_accuracy: 0.2515\n",
      "Epoch 4/50\n",
      "32/32 [==============================] - 2s 56ms/step - loss: 4.7511 - predictions_loss: 0.8560 - predictions_branch_loss: 3.8951 - predictions_accuracy: 0.6445 - predictions_branch_accuracy: 0.2295 - val_loss: 2.1790 - val_predictions_loss: 0.7798 - val_predictions_branch_loss: 1.3724 - val_predictions_accuracy: 0.6786 - val_predictions_branch_accuracy: 0.2515\n",
      "Epoch 5/50\n",
      "32/32 [==============================] - 2s 64ms/step - loss: 5.0533 - predictions_loss: 0.8324 - predictions_branch_loss: 4.2208 - predictions_accuracy: 0.6533 - predictions_branch_accuracy: 0.3115 - val_loss: 1.9374 - val_predictions_loss: 0.7131 - val_predictions_branch_loss: 1.3074 - val_predictions_accuracy: 0.6986 - val_predictions_branch_accuracy: 0.6467\n",
      "Epoch 6/50\n",
      "32/32 [==============================] - 2s 56ms/step - loss: 4.2585 - predictions_loss: 0.8442 - predictions_branch_loss: 3.4143 - predictions_accuracy: 0.6572 - predictions_branch_accuracy: 0.5244 - val_loss: 2.2254 - val_predictions_loss: 0.8203 - val_predictions_branch_loss: 1.3543 - val_predictions_accuracy: 0.6487 - val_predictions_branch_accuracy: 0.0938\n",
      "Epoch 7/50\n",
      "32/32 [==============================] - 2s 55ms/step - loss: 4.5947 - predictions_loss: 0.9408 - predictions_branch_loss: 3.6539 - predictions_accuracy: 0.5654 - predictions_branch_accuracy: 0.3438 - val_loss: 2.3438 - val_predictions_loss: 0.8464 - val_predictions_branch_loss: 1.2680 - val_predictions_accuracy: 0.6228 - val_predictions_branch_accuracy: 0.2515\n",
      "Epoch 8/50\n",
      "32/32 [==============================] - 2s 56ms/step - loss: 4.6799 - predictions_loss: 0.8103 - predictions_branch_loss: 3.8696 - predictions_accuracy: 0.6494 - predictions_branch_accuracy: 0.2383 - val_loss: 2.0848 - val_predictions_loss: 0.7642 - val_predictions_branch_loss: 1.3082 - val_predictions_accuracy: 0.6766 - val_predictions_branch_accuracy: 0.2515\n",
      "Epoch 9/50\n",
      "32/32 [==============================] - 2s 55ms/step - loss: 5.2530 - predictions_loss: 0.8001 - predictions_branch_loss: 4.4527 - predictions_accuracy: 0.6445 - predictions_branch_accuracy: 0.1714 - val_loss: 2.0710 - val_predictions_loss: 0.7650 - val_predictions_branch_loss: 1.4229 - val_predictions_accuracy: 0.6707 - val_predictions_branch_accuracy: 0.2515\n",
      "Epoch 10/50\n",
      "32/32 [==============================] - 2s 55ms/step - loss: 4.5328 - predictions_loss: 0.7823 - predictions_branch_loss: 3.7506 - predictions_accuracy: 0.6768 - predictions_branch_accuracy: 0.4121 - val_loss: 1.8843 - val_predictions_loss: 0.7186 - val_predictions_branch_loss: 1.2859 - val_predictions_accuracy: 0.6966 - val_predictions_branch_accuracy: 0.6467\n",
      "Epoch 11/50\n",
      "32/32 [==============================] - 2s 56ms/step - loss: 4.2696 - predictions_loss: 0.7643 - predictions_branch_loss: 3.5052 - predictions_accuracy: 0.6748 - predictions_branch_accuracy: 0.3457 - val_loss: 1.8573 - val_predictions_loss: 0.7002 - val_predictions_branch_loss: 1.2635 - val_predictions_accuracy: 0.7126 - val_predictions_branch_accuracy: 0.2515\n",
      "Epoch 12/50\n",
      "32/32 [==============================] - 2s 57ms/step - loss: 4.8856 - predictions_loss: 0.7336 - predictions_branch_loss: 4.1521 - predictions_accuracy: 0.7021 - predictions_branch_accuracy: 0.2324 - val_loss: 2.2390 - val_predictions_loss: 0.7393 - val_predictions_branch_loss: 1.3912 - val_predictions_accuracy: 0.7146 - val_predictions_branch_accuracy: 0.0938\n",
      "Epoch 13/50\n",
      "32/32 [==============================] - 2s 55ms/step - loss: 4.6024 - predictions_loss: 0.7375 - predictions_branch_loss: 3.8649 - predictions_accuracy: 0.6885 - predictions_branch_accuracy: 0.0977 - val_loss: 2.2331 - val_predictions_loss: 0.6978 - val_predictions_branch_loss: 1.3770 - val_predictions_accuracy: 0.7186 - val_predictions_branch_accuracy: 0.0938\n",
      "Epoch 14/50\n",
      "32/32 [==============================] - 2s 56ms/step - loss: 4.9700 - predictions_loss: 0.7501 - predictions_branch_loss: 4.2201 - predictions_accuracy: 0.6925 - predictions_branch_accuracy: 0.2282 - val_loss: 2.0764 - val_predictions_loss: 0.7273 - val_predictions_branch_loss: 1.3814 - val_predictions_accuracy: 0.7046 - val_predictions_branch_accuracy: 0.2515\n",
      "Epoch 15/50\n",
      "32/32 [==============================] - 2s 56ms/step - loss: 4.5066 - predictions_loss: 0.7374 - predictions_branch_loss: 3.7692 - predictions_accuracy: 0.6836 - predictions_branch_accuracy: 0.4902 - val_loss: 2.2004 - val_predictions_loss: 0.7083 - val_predictions_branch_loss: 1.3227 - val_predictions_accuracy: 0.7126 - val_predictions_branch_accuracy: 0.2515\n",
      "Epoch 16/50\n",
      "32/32 [==============================] - 2s 55ms/step - loss: 4.7253 - predictions_loss: 0.7386 - predictions_branch_loss: 3.9867 - predictions_accuracy: 0.6865 - predictions_branch_accuracy: 0.2734 - val_loss: 2.2960 - val_predictions_loss: 0.8181 - val_predictions_branch_loss: 1.3828 - val_predictions_accuracy: 0.6547 - val_predictions_branch_accuracy: 0.2515\n",
      "Epoch 17/50\n",
      "32/32 [==============================] - 2s 55ms/step - loss: 4.0764 - predictions_loss: 0.7328 - predictions_branch_loss: 3.3435 - predictions_accuracy: 0.6953 - predictions_branch_accuracy: 0.2852 - val_loss: 1.7936 - val_predictions_loss: 0.6861 - val_predictions_branch_loss: 1.3066 - val_predictions_accuracy: 0.7206 - val_predictions_branch_accuracy: 0.2515\n",
      "Epoch 18/50\n",
      "32/32 [==============================] - 2s 55ms/step - loss: 4.7061 - predictions_loss: 0.7307 - predictions_branch_loss: 3.9756 - predictions_accuracy: 0.6895 - predictions_branch_accuracy: 0.1361 - val_loss: 1.8697 - val_predictions_loss: 0.6460 - val_predictions_branch_loss: 1.2885 - val_predictions_accuracy: 0.7305 - val_predictions_branch_accuracy: 0.0938\n",
      "Epoch 19/50\n",
      "32/32 [==============================] - 2s 56ms/step - loss: 4.8504 - predictions_loss: 0.7006 - predictions_branch_loss: 4.1498 - predictions_accuracy: 0.7197 - predictions_branch_accuracy: 0.3877 - val_loss: 2.0191 - val_predictions_loss: 0.6554 - val_predictions_branch_loss: 1.3811 - val_predictions_accuracy: 0.7605 - val_predictions_branch_accuracy: 0.6467\n",
      "Epoch 20/50\n",
      "32/32 [==============================] - 2s 55ms/step - loss: 4.4301 - predictions_loss: 0.6885 - predictions_branch_loss: 3.7417 - predictions_accuracy: 0.7070 - predictions_branch_accuracy: 0.3252 - val_loss: 1.9310 - val_predictions_loss: 0.6861 - val_predictions_branch_loss: 1.3062 - val_predictions_accuracy: 0.7405 - val_predictions_branch_accuracy: 0.2515\n",
      "Epoch 21/50\n",
      "32/32 [==============================] - 2s 56ms/step - loss: 4.3563 - predictions_loss: 0.6800 - predictions_branch_loss: 3.6763 - predictions_accuracy: 0.7451 - predictions_branch_accuracy: 0.1768 - val_loss: 1.7577 - val_predictions_loss: 0.6056 - val_predictions_branch_loss: 1.3610 - val_predictions_accuracy: 0.7645 - val_predictions_branch_accuracy: 0.0938\n",
      "Epoch 22/50\n"
     ]
    },
    {
     "name": "stdout",
     "output_type": "stream",
     "text": [
      "32/32 [==============================] - 2s 55ms/step - loss: 4.4911 - predictions_loss: 0.7194 - predictions_branch_loss: 3.7718 - predictions_accuracy: 0.6924 - predictions_branch_accuracy: 0.1729 - val_loss: 1.8913 - val_predictions_loss: 0.6724 - val_predictions_branch_loss: 1.2918 - val_predictions_accuracy: 0.7146 - val_predictions_branch_accuracy: 0.2515\n",
      "Epoch 23/50\n",
      "32/32 [==============================] - 2s 56ms/step - loss: 4.5761 - predictions_loss: 0.6510 - predictions_branch_loss: 3.9251 - predictions_accuracy: 0.7169 - predictions_branch_accuracy: 0.2527 - val_loss: 1.9252 - val_predictions_loss: 0.6345 - val_predictions_branch_loss: 1.3710 - val_predictions_accuracy: 0.7305 - val_predictions_branch_accuracy: 0.2515\n",
      "Epoch 24/50\n",
      "32/32 [==============================] - 2s 56ms/step - loss: 4.5769 - predictions_loss: 0.6883 - predictions_branch_loss: 3.8887 - predictions_accuracy: 0.7227 - predictions_branch_accuracy: 0.2959 - val_loss: 1.9941 - val_predictions_loss: 0.5822 - val_predictions_branch_loss: 1.3200 - val_predictions_accuracy: 0.7745 - val_predictions_branch_accuracy: 0.6467\n",
      "Epoch 25/50\n",
      "32/32 [==============================] - 2s 55ms/step - loss: 4.3480 - predictions_loss: 0.6575 - predictions_branch_loss: 3.6905 - predictions_accuracy: 0.7373 - predictions_branch_accuracy: 0.3945 - val_loss: 1.9793 - val_predictions_loss: 0.6260 - val_predictions_branch_loss: 1.2541 - val_predictions_accuracy: 0.7385 - val_predictions_branch_accuracy: 0.2515\n",
      "Epoch 26/50\n",
      "32/32 [==============================] - 2s 54ms/step - loss: 4.4445 - predictions_loss: 0.6610 - predictions_branch_loss: 3.7834 - predictions_accuracy: 0.7305 - predictions_branch_accuracy: 0.1377 - val_loss: 1.9210 - val_predictions_loss: 0.5764 - val_predictions_branch_loss: 1.3444 - val_predictions_accuracy: 0.7804 - val_predictions_branch_accuracy: 0.0938\n",
      "Epoch 27/50\n",
      "32/32 [==============================] - 2s 55ms/step - loss: 4.1084 - predictions_loss: 0.6208 - predictions_branch_loss: 3.4876 - predictions_accuracy: 0.7395 - predictions_branch_accuracy: 0.3595 - val_loss: 2.0255 - val_predictions_loss: 0.5538 - val_predictions_branch_loss: 1.2894 - val_predictions_accuracy: 0.7944 - val_predictions_branch_accuracy: 0.2515\n",
      "Epoch 28/50\n",
      "32/32 [==============================] - 2s 55ms/step - loss: 4.6883 - predictions_loss: 0.6130 - predictions_branch_loss: 4.0753 - predictions_accuracy: 0.7598 - predictions_branch_accuracy: 0.4072 - val_loss: 1.8593 - val_predictions_loss: 0.5383 - val_predictions_branch_loss: 1.3171 - val_predictions_accuracy: 0.8064 - val_predictions_branch_accuracy: 0.6467\n",
      "Epoch 29/50\n",
      "32/32 [==============================] - 2s 55ms/step - loss: 4.3157 - predictions_loss: 0.5712 - predictions_branch_loss: 3.7445 - predictions_accuracy: 0.7734 - predictions_branch_accuracy: 0.3193 - val_loss: 1.9587 - val_predictions_loss: 0.5791 - val_predictions_branch_loss: 1.3646 - val_predictions_accuracy: 0.7804 - val_predictions_branch_accuracy: 0.0938\n",
      "Epoch 30/50\n",
      "32/32 [==============================] - 2s 55ms/step - loss: 4.7181 - predictions_loss: 0.6950 - predictions_branch_loss: 4.0231 - predictions_accuracy: 0.7158 - predictions_branch_accuracy: 0.1328 - val_loss: 2.0485 - val_predictions_loss: 0.6213 - val_predictions_branch_loss: 1.3491 - val_predictions_accuracy: 0.7565 - val_predictions_branch_accuracy: 0.2515\n",
      "Epoch 31/50\n",
      "32/32 [==============================] - 2s 55ms/step - loss: 4.4482 - predictions_loss: 0.6300 - predictions_branch_loss: 3.8181 - predictions_accuracy: 0.7542 - predictions_branch_accuracy: 0.2331 - val_loss: 1.7565 - val_predictions_loss: 0.5388 - val_predictions_branch_loss: 1.3193 - val_predictions_accuracy: 0.7884 - val_predictions_branch_accuracy: 0.2515\n",
      "Epoch 32/50\n",
      "32/32 [==============================] - 2s 55ms/step - loss: 4.0551 - predictions_loss: 0.5938 - predictions_branch_loss: 3.4613 - predictions_accuracy: 0.7637 - predictions_branch_accuracy: 0.2549 - val_loss: 1.6136 - val_predictions_loss: 0.5502 - val_predictions_branch_loss: 1.3032 - val_predictions_accuracy: 0.7884 - val_predictions_branch_accuracy: 0.2515\n",
      "Epoch 33/50\n",
      "32/32 [==============================] - 2s 55ms/step - loss: 4.5282 - predictions_loss: 0.6497 - predictions_branch_loss: 3.8785 - predictions_accuracy: 0.7334 - predictions_branch_accuracy: 0.3906 - val_loss: 1.8113 - val_predictions_loss: 0.6002 - val_predictions_branch_loss: 1.3102 - val_predictions_accuracy: 0.7784 - val_predictions_branch_accuracy: 0.2515\n",
      "Epoch 34/50\n",
      "32/32 [==============================] - 2s 54ms/step - loss: 4.9132 - predictions_loss: 0.6452 - predictions_branch_loss: 4.2680 - predictions_accuracy: 0.7393 - predictions_branch_accuracy: 0.3115 - val_loss: 1.7952 - val_predictions_loss: 0.5773 - val_predictions_branch_loss: 1.3560 - val_predictions_accuracy: 0.7645 - val_predictions_branch_accuracy: 0.6467\n",
      "Epoch 35/50\n",
      "32/32 [==============================] - 2s 55ms/step - loss: 4.4927 - predictions_loss: 0.6325 - predictions_branch_loss: 3.8602 - predictions_accuracy: 0.7471 - predictions_branch_accuracy: 0.5283 - val_loss: 1.7100 - val_predictions_loss: 0.5575 - val_predictions_branch_loss: 1.3430 - val_predictions_accuracy: 0.7804 - val_predictions_branch_accuracy: 0.2515\n",
      "Epoch 36/50\n",
      "32/32 [==============================] - 2s 55ms/step - loss: 3.9160 - predictions_loss: 0.6114 - predictions_branch_loss: 3.3046 - predictions_accuracy: 0.7620 - predictions_branch_accuracy: 0.2272 - val_loss: 2.0219 - val_predictions_loss: 0.5278 - val_predictions_branch_loss: 1.2704 - val_predictions_accuracy: 0.7804 - val_predictions_branch_accuracy: 0.0938\n",
      "Epoch 37/50\n",
      "32/32 [==============================] - 2s 56ms/step - loss: 4.3163 - predictions_loss: 0.6583 - predictions_branch_loss: 3.6581 - predictions_accuracy: 0.7148 - predictions_branch_accuracy: 0.1299 - val_loss: 1.8186 - val_predictions_loss: 0.6090 - val_predictions_branch_loss: 1.2806 - val_predictions_accuracy: 0.7585 - val_predictions_branch_accuracy: 0.2515\n",
      "Epoch 38/50\n",
      "32/32 [==============================] - 2s 56ms/step - loss: 4.6964 - predictions_loss: 0.6180 - predictions_branch_loss: 4.0784 - predictions_accuracy: 0.7451 - predictions_branch_accuracy: 0.2832 - val_loss: 1.8842 - val_predictions_loss: 0.5538 - val_predictions_branch_loss: 1.3132 - val_predictions_accuracy: 0.7824 - val_predictions_branch_accuracy: 0.6467\n",
      "Epoch 39/50\n",
      "32/32 [==============================] - 2s 55ms/step - loss: 4.9804 - predictions_loss: 0.5755 - predictions_branch_loss: 4.4049 - predictions_accuracy: 0.7588 - predictions_branch_accuracy: 0.3047 - val_loss: 2.0338 - val_predictions_loss: 0.5243 - val_predictions_branch_loss: 1.4757 - val_predictions_accuracy: 0.7984 - val_predictions_branch_accuracy: 0.2515\n",
      "Epoch 40/50\n",
      "32/32 [==============================] - 2s 56ms/step - loss: 4.5879 - predictions_loss: 0.5959 - predictions_branch_loss: 3.9922 - predictions_accuracy: 0.7571 - predictions_branch_accuracy: 0.1871 - val_loss: 1.6266 - val_predictions_loss: 0.4773 - val_predictions_branch_loss: 1.3110 - val_predictions_accuracy: 0.8104 - val_predictions_branch_accuracy: 0.2515\n",
      "Epoch 41/50\n",
      "32/32 [==============================] - 2s 55ms/step - loss: 4.2765 - predictions_loss: 0.5468 - predictions_branch_loss: 3.7297 - predictions_accuracy: 0.7861 - predictions_branch_accuracy: 0.2305 - val_loss: 1.8829 - val_predictions_loss: 0.5176 - val_predictions_branch_loss: 1.3301 - val_predictions_accuracy: 0.8004 - val_predictions_branch_accuracy: 0.6467\n",
      "Epoch 42/50\n",
      "32/32 [==============================] - 2s 56ms/step - loss: 4.4835 - predictions_loss: 0.5960 - predictions_branch_loss: 3.8875 - predictions_accuracy: 0.7695 - predictions_branch_accuracy: 0.3252 - val_loss: 1.9699 - val_predictions_loss: 0.6377 - val_predictions_branch_loss: 1.3089 - val_predictions_accuracy: 0.7665 - val_predictions_branch_accuracy: 0.6467\n",
      "Epoch 43/50\n",
      "32/32 [==============================] - 2s 56ms/step - loss: 4.2667 - predictions_loss: 0.6741 - predictions_branch_loss: 3.5926 - predictions_accuracy: 0.7197 - predictions_branch_accuracy: 0.3477 - val_loss: 1.9367 - val_predictions_loss: 0.6000 - val_predictions_branch_loss: 1.3459 - val_predictions_accuracy: 0.7545 - val_predictions_branch_accuracy: 0.2515\n"
     ]
    },
    {
     "name": "stdout",
     "output_type": "stream",
     "text": [
      "Epoch 44/50\n",
      "32/32 [==============================] - 2s 56ms/step - loss: 4.4872 - predictions_loss: 0.6203 - predictions_branch_loss: 3.8669 - predictions_accuracy: 0.7383 - predictions_branch_accuracy: 0.2520 - val_loss: 1.8027 - val_predictions_loss: 0.5982 - val_predictions_branch_loss: 1.2666 - val_predictions_accuracy: 0.7685 - val_predictions_branch_accuracy: 0.6467\n",
      "Epoch 45/50\n",
      "32/32 [==============================] - 2s 56ms/step - loss: 4.8422 - predictions_loss: 0.5897 - predictions_branch_loss: 4.2524 - predictions_accuracy: 0.7571 - predictions_branch_accuracy: 0.3124 - val_loss: 1.8079 - val_predictions_loss: 0.5885 - val_predictions_branch_loss: 1.4262 - val_predictions_accuracy: 0.7764 - val_predictions_branch_accuracy: 0.2515\n",
      "Epoch 46/50\n",
      "32/32 [==============================] - 2s 56ms/step - loss: 4.3838 - predictions_loss: 0.5529 - predictions_branch_loss: 3.8310 - predictions_accuracy: 0.7764 - predictions_branch_accuracy: 0.1475 - val_loss: 2.0603 - val_predictions_loss: 0.4769 - val_predictions_branch_loss: 1.3384 - val_predictions_accuracy: 0.8064 - val_predictions_branch_accuracy: 0.0938\n",
      "Epoch 47/50\n",
      "32/32 [==============================] - 2s 56ms/step - loss: 4.5374 - predictions_loss: 0.5677 - predictions_branch_loss: 3.9697 - predictions_accuracy: 0.7881 - predictions_branch_accuracy: 0.1523 - val_loss: 1.5962 - val_predictions_loss: 0.4890 - val_predictions_branch_loss: 1.3018 - val_predictions_accuracy: 0.8244 - val_predictions_branch_accuracy: 0.0938\n",
      "Epoch 48/50\n",
      "32/32 [==============================] - 2s 56ms/step - loss: 4.0341 - predictions_loss: 0.5657 - predictions_branch_loss: 3.4684 - predictions_accuracy: 0.7734 - predictions_branch_accuracy: 0.5283 - val_loss: 2.1769 - val_predictions_loss: 0.5747 - val_predictions_branch_loss: 1.2573 - val_predictions_accuracy: 0.7924 - val_predictions_branch_accuracy: 0.2515\n",
      "Epoch 49/50\n",
      "32/32 [==============================] - 2s 56ms/step - loss: 4.9822 - predictions_loss: 0.5899 - predictions_branch_loss: 4.3921 - predictions_accuracy: 0.7659 - predictions_branch_accuracy: 0.3467 - val_loss: 1.9616 - val_predictions_loss: 0.5525 - val_predictions_branch_loss: 1.3710 - val_predictions_accuracy: 0.7705 - val_predictions_branch_accuracy: 0.6467\n",
      "Epoch 50/50\n",
      "32/32 [==============================] - 2s 56ms/step - loss: 4.0353 - predictions_loss: 0.5713 - predictions_branch_loss: 3.4640 - predictions_accuracy: 0.7617 - predictions_branch_accuracy: 0.2832 - val_loss: 1.7178 - val_predictions_loss: 0.5220 - val_predictions_branch_loss: 1.3525 - val_predictions_accuracy: 0.7984 - val_predictions_branch_accuracy: 0.2515\n"
     ]
    }
   ],
   "source": [
    "# Model training\n",
    "history = model.fit_generator(\n",
    "    train_generator,\n",
    "    steps_per_epoch = steps_Per_Epoch,\n",
    "    validation_data = validation_generator, \n",
    "    validation_steps = 16,\n",
    "    epochs = numEpochs,\n",
    "    shuffle = True, \n",
    "    verbose = 1,\n",
    "    class_weight=class_weight)"
   ]
  },
  {
   "cell_type": "code",
   "execution_count": 16,
   "metadata": {},
   "outputs": [],
   "source": [
    "modelPath = \"VGG19_COVID19-v2.h5\"\n",
    "resultPath = 'VGG19_COVID19-v2.txt'\n",
    "modelsavePath = 'VGG19_COVID19-v2_MODEL'"
   ]
  },
  {
   "cell_type": "code",
   "execution_count": 17,
   "metadata": {},
   "outputs": [
    {
     "name": "stdout",
     "output_type": "stream",
     "text": [
      "Epoch     0 | LossA: 4.94(+0.00%) \u001b[0m\t| LossAB: 2.39(+0.00%) \u001b[0m\t\n",
      "Epoch     1 | LossA: \u001b[32m4.53(-8.34%) ▼\u001b[0m\t| LossAB: \u001b[32m2.12(-11.22%) ▼\u001b[0m\t\n",
      "Epoch     2 | LossA: \u001b[91m5.04(+11.30%) ▲\u001b[0m\t| LossAB: \u001b[91m2.31(+8.90%) ▲\u001b[0m\t\n",
      "Epoch     3 | LossA: \u001b[32m4.75(-5.75%) ▼\u001b[0m\t| LossAB: \u001b[32m2.18(-5.58%) ▼\u001b[0m\t\n",
      "Epoch     4 | LossA: \u001b[91m5.06(+6.47%) ▲\u001b[0m\t| LossAB: \u001b[32m1.94(-11.09%) ▼\u001b[0m\t\n",
      "Epoch     5 | LossA: \u001b[32m4.26(-15.81%) ▼\u001b[0m\t| LossAB: \u001b[91m2.23(+14.87%) ▲\u001b[0m\t\n",
      "Epoch     6 | LossA: \u001b[91m4.59(+7.89%) ▲\u001b[0m\t| LossAB: \u001b[91m2.34(+5.32%) ▲\u001b[0m\t\n",
      "Epoch     7 | LossA: \u001b[91m4.68(+1.86%) ▲\u001b[0m\t| LossAB: \u001b[32m2.08(-11.05%) ▼\u001b[0m\t\n",
      "Epoch     8 | LossA: \u001b[91m5.26(+12.38%) ▲\u001b[0m\t| LossAB: \u001b[32m2.07(-0.66%) ▼\u001b[0m\t\n",
      "Epoch     9 | LossA: \u001b[32m4.53(-13.81%) ▼\u001b[0m\t| LossAB: \u001b[32m1.88(-9.02%) ▼\u001b[0m\t\n",
      "Epoch    10 | LossA: \u001b[32m4.27(-5.81%) ▼\u001b[0m\t| LossAB: \u001b[32m1.86(-1.44%) ▼\u001b[0m\t\n",
      "Epoch    11 | LossA: \u001b[91m4.89(+14.43%) ▲\u001b[0m\t| LossAB: \u001b[91m2.24(+20.55%) ▲\u001b[0m\t\n",
      "Epoch    12 | LossA: \u001b[32m4.60(-5.80%) ▼\u001b[0m\t| LossAB: \u001b[32m2.23(-0.26%) ▼\u001b[0m\t\n",
      "Epoch    13 | LossA: \u001b[91m4.96(+7.80%) ▲\u001b[0m\t| LossAB: \u001b[32m2.08(-7.02%) ▼\u001b[0m\t\n",
      "Epoch    14 | LossA: \u001b[32m4.51(-9.17%) ▼\u001b[0m\t| LossAB: \u001b[91m2.20(+5.97%) ▲\u001b[0m\t\n",
      "Epoch    15 | LossA: \u001b[91m4.73(+4.85%) ▲\u001b[0m\t| LossAB: \u001b[91m2.30(+4.35%) ▲\u001b[0m\t\n",
      "Epoch    16 | LossA: \u001b[32m4.08(-13.73%) ▼\u001b[0m\t| LossAB: \u001b[32m1.79(-21.88%) ▼\u001b[0m\t\n",
      "Epoch    17 | LossA: \u001b[91m4.70(+15.23%) ▲\u001b[0m\t| LossAB: \u001b[91m1.87(+4.25%) ▲\u001b[0m\t\n",
      "Epoch    18 | LossA: \u001b[91m4.85(+3.26%) ▲\u001b[0m\t| LossAB: \u001b[91m2.02(+7.99%) ▲\u001b[0m\t\n",
      "Epoch    19 | LossA: \u001b[32m4.43(-8.66%) ▼\u001b[0m\t| LossAB: \u001b[32m1.93(-4.36%) ▼\u001b[0m\t\n",
      "Epoch    20 | LossA: \u001b[32m4.36(-1.67%) ▼\u001b[0m\t| LossAB: \u001b[32m1.76(-8.97%) ▼\u001b[0m\t\n",
      "Epoch    21 | LossA: \u001b[91m4.49(+3.09%) ▲\u001b[0m\t| LossAB: \u001b[91m1.89(+7.60%) ▲\u001b[0m\t\n",
      "Epoch    22 | LossA: \u001b[91m4.58(+1.92%) ▲\u001b[0m\t| LossAB: \u001b[91m1.93(+1.79%) ▲\u001b[0m\t\n",
      "Epoch    23 | LossA: \u001b[32m4.58(-0.01%) ▼\u001b[0m\t| LossAB: \u001b[91m1.99(+3.58%) ▲\u001b[0m\t\n",
      "Epoch    24 | LossA: \u001b[32m4.35(-5.00%) ▼\u001b[0m\t| LossAB: \u001b[32m1.98(-0.74%) ▼\u001b[0m\t\n",
      "Epoch    25 | LossA: \u001b[91m4.44(+2.22%) ▲\u001b[0m\t| LossAB: \u001b[32m1.92(-2.95%) ▼\u001b[0m\t\n",
      "Epoch    26 | LossA: \u001b[32m4.11(-7.52%) ▼\u001b[0m\t| LossAB: \u001b[91m2.03(+5.44%) ▲\u001b[0m\t\n",
      "Epoch    27 | LossA: \u001b[91m4.69(+14.06%) ▲\u001b[0m\t| LossAB: \u001b[32m1.86(-8.20%) ▼\u001b[0m\t\n",
      "Epoch    28 | LossA: \u001b[32m4.32(-7.95%) ▼\u001b[0m\t| LossAB: \u001b[91m1.96(+5.35%) ▲\u001b[0m\t\n",
      "Epoch    29 | LossA: \u001b[91m4.72(+9.32%) ▲\u001b[0m\t| LossAB: \u001b[91m2.05(+4.58%) ▲\u001b[0m\t\n",
      "Epoch    30 | LossA: \u001b[32m4.45(-5.59%) ▼\u001b[0m\t| LossAB: \u001b[32m1.76(-14.26%) ▼\u001b[0m\t\n",
      "Epoch    31 | LossA: \u001b[32m4.06(-8.96%) ▼\u001b[0m\t| LossAB: \u001b[32m1.61(-8.14%) ▼\u001b[0m\t\n",
      "Epoch    32 | LossA: \u001b[91m4.53(+11.67%) ▲\u001b[0m\t| LossAB: \u001b[91m1.81(+12.26%) ▲\u001b[0m\t\n",
      "Epoch    33 | LossA: \u001b[91m4.91(+8.50%) ▲\u001b[0m\t| LossAB: \u001b[32m1.80(-0.89%) ▼\u001b[0m\t\n",
      "Epoch    34 | LossA: \u001b[32m4.49(-8.56%) ▼\u001b[0m\t| LossAB: \u001b[32m1.71(-4.75%) ▼\u001b[0m\t\n",
      "Epoch    35 | LossA: \u001b[32m3.92(-12.79%) ▼\u001b[0m\t| LossAB: \u001b[91m2.02(+18.24%) ▲\u001b[0m\t\n",
      "Epoch    36 | LossA: \u001b[91m4.32(+10.17%) ▲\u001b[0m\t| LossAB: \u001b[32m1.82(-10.05%) ▼\u001b[0m\t\n",
      "Epoch    37 | LossA: \u001b[91m4.70(+8.80%) ▲\u001b[0m\t| LossAB: \u001b[91m1.88(+3.61%) ▲\u001b[0m\t\n",
      "Epoch    38 | LossA: \u001b[91m4.98(+6.05%) ▲\u001b[0m\t| LossAB: \u001b[91m2.03(+7.94%) ▲\u001b[0m\t\n",
      "Epoch    39 | LossA: \u001b[32m4.58(-8.05%) ▼\u001b[0m\t| LossAB: \u001b[32m1.63(-20.02%) ▼\u001b[0m\t\n",
      "Epoch    40 | LossA: \u001b[32m4.28(-6.62%) ▼\u001b[0m\t| LossAB: \u001b[91m1.88(+15.76%) ▲\u001b[0m\t\n",
      "Epoch    41 | LossA: \u001b[91m4.48(+4.84%) ▲\u001b[0m\t| LossAB: \u001b[91m1.97(+4.62%) ▲\u001b[0m\t\n",
      "Epoch    42 | LossA: \u001b[32m4.27(-4.84%) ▼\u001b[0m\t| LossAB: \u001b[32m1.94(-1.69%) ▼\u001b[0m\t\n",
      "Epoch    43 | LossA: \u001b[91m4.49(+5.17%) ▲\u001b[0m\t| LossAB: \u001b[32m1.80(-6.92%) ▼\u001b[0m\t\n",
      "Epoch    44 | LossA: \u001b[91m4.85(+7.98%) ▲\u001b[0m\t| LossAB: \u001b[91m1.81(+0.29%) ▲\u001b[0m\t\n",
      "Epoch    45 | LossA: \u001b[32m4.38(-9.53%) ▼\u001b[0m\t| LossAB: \u001b[91m2.06(+13.96%) ▲\u001b[0m\t\n",
      "Epoch    46 | LossA: \u001b[91m4.54(+3.50%) ▲\u001b[0m\t| LossAB: \u001b[32m1.60(-22.53%) ▼\u001b[0m\t\n",
      "Epoch    47 | LossA: \u001b[32m4.03(-11.09%) ▼\u001b[0m\t| LossAB: \u001b[91m2.18(+36.38%) ▲\u001b[0m\t\n",
      "Epoch    48 | LossA: \u001b[91m4.99(+23.65%) ▲\u001b[0m\t| LossAB: \u001b[32m1.96(-9.89%) ▼\u001b[0m\t\n"
     ]
    }
   ],
   "source": [
    "y_test_oh = dense_to_one_hot(y_test, num_clases=3)\n",
    "y_test_oh2 = dense_to_one_hot(y_test2, num_clases=5)\n",
    "\n",
    "# visualizing losses and accuracy\n",
    "train_loss = history.history['loss']\n",
    "val_loss = history.history['val_loss']\n",
    "\n",
    "#Observing the losses but can be commented out as it's not mandatory \n",
    "reporter = lossprettifier.LossPrettifier(show_percentage=True)\n",
    "\n",
    "for i in range(numEpochs-1):\n",
    "    reporter(epoch=i, LossA = train_loss[i], LossAB = val_loss[i])"
   ]
  },
  {
   "cell_type": "code",
   "execution_count": 18,
   "metadata": {},
   "outputs": [
    {
     "name": "stdout",
     "output_type": "stream",
     "text": [
      "300/300 [==============================] - 0s 2ms/step\n",
      "Accuracy: 0.7866666913032532\n",
      "Branch Accuracy: 0.05666666850447655\n"
     ]
    }
   ],
   "source": [
    "# Model evaluation \n",
    "loss, main_loss, aux_loss, main_acc, aux_acc = model.evaluate(x_test, [y_test_oh, y_test_oh2], batch_size=batch_Size)\n",
    "print(\"Accuracy:\", main_acc)\n",
    "print(\"Branch Accuracy:\", aux_acc)\n",
    "\n",
    "#if acc>0.675:\n",
    "model.save_weights(modelPath)\n",
    "model.save(modelsavePath)"
   ]
  },
  {
   "cell_type": "code",
   "execution_count": 19,
   "metadata": {
    "scrolled": true
   },
   "outputs": [
    {
     "name": "stdout",
     "output_type": "stream",
     "text": [
      "              precision    recall  f1-score   support\n",
      "\n",
      "           0       0.87      0.77      0.81       100\n",
      "           1       0.76      0.78      0.77       100\n",
      "           2       0.75      0.81      0.78       100\n",
      "\n",
      "    accuracy                           0.79       300\n",
      "   macro avg       0.79      0.79      0.79       300\n",
      "weighted avg       0.79      0.79      0.79       300\n",
      "\n",
      "------------------------------------\n",
      "              precision    recall  f1-score   support\n",
      "\n",
      "           0       0.00      0.00      0.00       198\n",
      "           1       0.06      1.00      0.11        17\n",
      "           2       0.00      0.00      0.00        41\n",
      "           3       0.00      0.00      0.00        33\n",
      "           4       0.00      0.00      0.00        11\n",
      "\n",
      "    accuracy                           0.06       300\n",
      "   macro avg       0.01      0.20      0.02       300\n",
      "weighted avg       0.00      0.06      0.01       300\n",
      "\n"
     ]
    },
    {
     "name": "stderr",
     "output_type": "stream",
     "text": [
      "C:\\Users\\hp\\Anaconda3\\envs\\wbvenv36\\lib\\site-packages\\sklearn\\metrics\\_classification.py:1245: UndefinedMetricWarning: Precision and F-score are ill-defined and being set to 0.0 in labels with no predicted samples. Use `zero_division` parameter to control this behavior.\n",
      "  _warn_prf(average, modifier, msg_start, len(result))\n",
      "C:\\Users\\hp\\Anaconda3\\envs\\wbvenv36\\lib\\site-packages\\sklearn\\metrics\\_classification.py:1245: UndefinedMetricWarning: Precision and F-score are ill-defined and being set to 0.0 in labels with no predicted samples. Use `zero_division` parameter to control this behavior.\n",
      "  _warn_prf(average, modifier, msg_start, len(result))\n",
      "C:\\Users\\hp\\Anaconda3\\envs\\wbvenv36\\lib\\site-packages\\sklearn\\metrics\\_classification.py:1245: UndefinedMetricWarning: Precision and F-score are ill-defined and being set to 0.0 in labels with no predicted samples. Use `zero_division` parameter to control this behavior.\n",
      "  _warn_prf(average, modifier, msg_start, len(result))\n"
     ]
    }
   ],
   "source": [
    "y_pred, y_pred2 = model.predict(x_test)\n",
    "y_pred = y_pred.reshape(len(y_test), 3)\n",
    "y_pred2 = y_pred2.reshape(len(y_test2), 5)\n",
    "y_pred = np.argmax(y_pred, axis=1)\n",
    "y_pred2 = np.argmax(y_pred2, axis=1)\n",
    "\n",
    "#Print class-wise classification metrics\n",
    "print(classification_report(y_test, y_pred))\n",
    "print(\"------------------------------------\")\n",
    "print(classification_report(y_test2, y_pred2))"
   ]
  },
  {
   "cell_type": "code",
   "execution_count": 20,
   "metadata": {},
   "outputs": [
    {
     "name": "stdout",
     "output_type": "stream",
     "text": [
      "oryginalne\n"
     ]
    },
    {
     "data": {
      "image/png": "[encoded data removed]",
      "text/plain": [
       "<Figure size 432x288 with 2 Axes>"
      ]
     },
     "metadata": {
      "needs_background": "light"
     },
     "output_type": "display_data"
    }
   ],
   "source": [
    "from sklearn.metrics import confusion_matrix, ConfusionMatrixDisplay\n",
    "print(\"oryginalne\")\n",
    "cm = confusion_matrix(y_test, y_pred)\n",
    "disp = ConfusionMatrixDisplay(confusion_matrix=cm, display_labels=np.array(['normal', 'COVID19', 'pneumonia']))\n",
    "disp.plot(cmap='Blues') \n",
    "disp.ax_.set_title(\"COVID prediction\")\n",
    "disp.ax_.get_images()[0].set_clim(0, 100)"
   ]
  },
  {
   "cell_type": "code",
   "execution_count": 21,
   "metadata": {},
   "outputs": [
    {
     "name": "stdout",
     "output_type": "stream",
     "text": [
      "predykcja datasetu\n"
     ]
    },
    {
     "data": {
      "text/plain": [
       "<matplotlib.image.AxesImage at 0x2533f33f7b8>"
      ]
     },
     "execution_count": 21,
     "metadata": {},
     "output_type": "execute_result"
    },
    {
     "data": {
      "image/png": "[encoded data removed]",
      "text/plain": [
       "<Figure size 432x288 with 2 Axes>"
      ]
     },
     "metadata": {
      "needs_background": "light"
     },
     "output_type": "display_data"
    }
   ],
   "source": [
    "print(\"predykcja datasetu\")\n",
    "cm2 = confusion_matrix(y_test2, y_pred2)\n",
    "disp2 = ConfusionMatrixDisplay(confusion_matrix=cm2, display_labels=np.array(['rsna', 'sirm', 'cohen', 'actmed', 'fig1']))\n",
    "disp2.plot(cmap='Purples') \n",
    "disp2.ax_.set_title(\"Dataset prediction\")\n",
    "disp2.ax_.get_images()[0] #.set_clim(0, 100)"
   ]
  }
 ],
 "metadata": {
  "kernelspec": {
   "display_name": "wbvenv36",
   "language": "python",
   "name": "wbvenv36"
  },
  "language_info": {
   "codemirror_mode": {
    "name": "ipython",
    "version": 3
   },
   "file_extension": ".py",
   "mimetype": "text/x-python",
   "name": "python",
   "nbconvert_exporter": "python",
   "pygments_lexer": "ipython3",
   "version": "3.6.12"
  }
 },
 "nbformat": 4,
 "nbformat_minor": 2
}
