{
 "cells": [
  {
   "cell_type": "code",
   "execution_count": 1,
   "metadata": {},
   "outputs": [],
   "source": [
    "import cv2\n",
    "import numpy as np\n",
    "import matplotlib.pyplot as plt\n",
    "import os"
   ]
  },
  {
   "cell_type": "code",
   "execution_count": 2,
   "metadata": {},
   "outputs": [],
   "source": [
    "x_train = np.load('data/x_train_undersampled.npy')\n",
    "y_train = np.load('data/y_train_undersampled.npy')\n",
    "x_test = np.load('data/x_test_undersampled.npy')\n",
    "y_test = np.load('data/y_test_undersampled.npy')\n",
    "y_train2 = np.load('data/y_train_undersampled_dataset.npy')\n",
    "y_test2 = np.load('data/y_test_undersampled_dataset.npy')"
   ]
  },
  {
   "cell_type": "code",
   "execution_count": 3,
   "metadata": {
    "scrolled": true
   },
   "outputs": [
    {
     "name": "stdout",
     "output_type": "stream",
     "text": [
      "(5010, 224, 224, 3)\n",
      "(300, 224, 224, 3)\n"
     ]
    }
   ],
   "source": [
    "print(x_train.shape)\n",
    "print(x_test.shape)"
   ]
  },
  {
   "cell_type": "code",
   "execution_count": 4,
   "metadata": {},
   "outputs": [
    {
     "name": "stdout",
     "output_type": "stream",
     "text": [
      "(5010,)\n",
      "(300,)\n"
     ]
    }
   ],
   "source": [
    "print(y_train.shape)\n",
    "print(y_test.shape)"
   ]
  },
  {
   "cell_type": "code",
   "execution_count": 5,
   "metadata": {},
   "outputs": [
    {
     "name": "stdout",
     "output_type": "stream",
     "text": [
      "(5010,)\n",
      "(300,)\n"
     ]
    }
   ],
   "source": [
    "print(y_train2.shape)\n",
    "print(y_test2.shape)"
   ]
  },
  {
   "cell_type": "code",
   "execution_count": 6,
   "metadata": {
    "scrolled": true
   },
   "outputs": [
    {
     "name": "stderr",
     "output_type": "stream",
     "text": [
      "C:\\Users\\hp\\Anaconda3\\envs\\wbvenv36\\lib\\site-packages\\tensorflow\\python\\framework\\dtypes.py:516: FutureWarning: Passing (type, 1) or '1type' as a synonym of type is deprecated; in a future version of numpy, it will be understood as (type, (1,)) / '(1,)type'.\n",
      "  _np_qint8 = np.dtype([(\"qint8\", np.int8, 1)])\n",
      "C:\\Users\\hp\\Anaconda3\\envs\\wbvenv36\\lib\\site-packages\\tensorflow\\python\\framework\\dtypes.py:517: FutureWarning: Passing (type, 1) or '1type' as a synonym of type is deprecated; in a future version of numpy, it will be understood as (type, (1,)) / '(1,)type'.\n",
      "  _np_quint8 = np.dtype([(\"quint8\", np.uint8, 1)])\n",
      "C:\\Users\\hp\\Anaconda3\\envs\\wbvenv36\\lib\\site-packages\\tensorflow\\python\\framework\\dtypes.py:518: FutureWarning: Passing (type, 1) or '1type' as a synonym of type is deprecated; in a future version of numpy, it will be understood as (type, (1,)) / '(1,)type'.\n",
      "  _np_qint16 = np.dtype([(\"qint16\", np.int16, 1)])\n",
      "C:\\Users\\hp\\Anaconda3\\envs\\wbvenv36\\lib\\site-packages\\tensorflow\\python\\framework\\dtypes.py:519: FutureWarning: Passing (type, 1) or '1type' as a synonym of type is deprecated; in a future version of numpy, it will be understood as (type, (1,)) / '(1,)type'.\n",
      "  _np_quint16 = np.dtype([(\"quint16\", np.uint16, 1)])\n",
      "C:\\Users\\hp\\Anaconda3\\envs\\wbvenv36\\lib\\site-packages\\tensorflow\\python\\framework\\dtypes.py:520: FutureWarning: Passing (type, 1) or '1type' as a synonym of type is deprecated; in a future version of numpy, it will be understood as (type, (1,)) / '(1,)type'.\n",
      "  _np_qint32 = np.dtype([(\"qint32\", np.int32, 1)])\n",
      "C:\\Users\\hp\\Anaconda3\\envs\\wbvenv36\\lib\\site-packages\\tensorflow\\python\\framework\\dtypes.py:525: FutureWarning: Passing (type, 1) or '1type' as a synonym of type is deprecated; in a future version of numpy, it will be understood as (type, (1,)) / '(1,)type'.\n",
      "  np_resource = np.dtype([(\"resource\", np.ubyte, 1)])\n",
      "C:\\Users\\hp\\Anaconda3\\envs\\wbvenv36\\lib\\site-packages\\tensorboard\\compat\\tensorflow_stub\\dtypes.py:541: FutureWarning: Passing (type, 1) or '1type' as a synonym of type is deprecated; in a future version of numpy, it will be understood as (type, (1,)) / '(1,)type'.\n",
      "  _np_qint8 = np.dtype([(\"qint8\", np.int8, 1)])\n",
      "C:\\Users\\hp\\Anaconda3\\envs\\wbvenv36\\lib\\site-packages\\tensorboard\\compat\\tensorflow_stub\\dtypes.py:542: FutureWarning: Passing (type, 1) or '1type' as a synonym of type is deprecated; in a future version of numpy, it will be understood as (type, (1,)) / '(1,)type'.\n",
      "  _np_quint8 = np.dtype([(\"quint8\", np.uint8, 1)])\n",
      "C:\\Users\\hp\\Anaconda3\\envs\\wbvenv36\\lib\\site-packages\\tensorboard\\compat\\tensorflow_stub\\dtypes.py:543: FutureWarning: Passing (type, 1) or '1type' as a synonym of type is deprecated; in a future version of numpy, it will be understood as (type, (1,)) / '(1,)type'.\n",
      "  _np_qint16 = np.dtype([(\"qint16\", np.int16, 1)])\n",
      "C:\\Users\\hp\\Anaconda3\\envs\\wbvenv36\\lib\\site-packages\\tensorboard\\compat\\tensorflow_stub\\dtypes.py:544: FutureWarning: Passing (type, 1) or '1type' as a synonym of type is deprecated; in a future version of numpy, it will be understood as (type, (1,)) / '(1,)type'.\n",
      "  _np_quint16 = np.dtype([(\"quint16\", np.uint16, 1)])\n",
      "C:\\Users\\hp\\Anaconda3\\envs\\wbvenv36\\lib\\site-packages\\tensorboard\\compat\\tensorflow_stub\\dtypes.py:545: FutureWarning: Passing (type, 1) or '1type' as a synonym of type is deprecated; in a future version of numpy, it will be understood as (type, (1,)) / '(1,)type'.\n",
      "  _np_qint32 = np.dtype([(\"qint32\", np.int32, 1)])\n",
      "C:\\Users\\hp\\Anaconda3\\envs\\wbvenv36\\lib\\site-packages\\tensorboard\\compat\\tensorflow_stub\\dtypes.py:550: FutureWarning: Passing (type, 1) or '1type' as a synonym of type is deprecated; in a future version of numpy, it will be understood as (type, (1,)) / '(1,)type'.\n",
      "  np_resource = np.dtype([(\"resource\", np.ubyte, 1)])\n",
      "Using TensorFlow backend.\n"
     ]
    }
   ],
   "source": [
    "from __future__ import print_function\n",
    "\n",
    "import numpy as np\n",
    "from random import shuffle\n",
    "import time\n",
    "import csv\n",
    "from PIL import Image\n",
    "import os\n",
    "import tensorflow as tf\n",
    "import keras\n",
    "from keras.callbacks import EarlyStopping, LearningRateScheduler\n",
    "from keras import initializers\n",
    "from keras.optimizers import SGD\n",
    "from keras.preprocessing import sequence\n",
    "from keras.utils import np_utils\n",
    "from keras.models import Sequential,load_model,Model\n",
    "from keras.layers import Dense, Dropout, Activation, Flatten\n",
    "from keras.layers import *\n",
    "from keras.callbacks import CSVLogger\n",
    "from keras import callbacks\n",
    "from keras.preprocessing.image import ImageDataGenerator\n",
    "\n",
    "from sklearn.metrics import classification_report\n",
    "from sklearn.model_selection import train_test_split\n",
    "import sklearn.metrics as sklm\n",
    "import sys\n",
    "sys.path.insert(0,'..')\n",
    "from utils import lossprettifier\n",
    "from Classifier.VGG_two_outputs_v3 import *"
   ]
  },
  {
   "cell_type": "code",
   "execution_count": 7,
   "metadata": {},
   "outputs": [],
   "source": [
    "# for reproducibility\n",
    "np.random.seed(3768)\n",
    "\n",
    "# use this environment flag to change which GPU to use \n",
    "os.environ[\"CUDA_DEVICE_ORDER\"]=\"PCI_BUS_ID\"\n",
    "os.environ[\"CUDA_VISIBLE_DEVICES\"]=\"0\"  # specify which GPU(s) to be used\n",
    "\n",
    "#Get TensorFlow session\n",
    "def get_session(): \n",
    "  config = tf.ConfigProto() \n",
    "  config.gpu_options.allow_growth = True \n",
    "  return tf.Session(config=config) \n",
    "  \n",
    "# One hot encoding of labels \n",
    "def dense_to_one_hot(labels_dense,num_clases=3):\n",
    "  return np.eye(num_clases)[labels_dense]"
   ]
  },
  {
   "cell_type": "code",
   "execution_count": 8,
   "metadata": {},
   "outputs": [],
   "source": [
    "# Preparing training and test sets\n",
    "x_train_tmp, x_valid, y_train, y_valid = train_test_split(x_train, y_train, test_size=0.10, random_state=42)\n",
    "x_train2, x_valid2, y_train2, y_valid2 = train_test_split(x_train, y_train2, test_size=0.10, random_state=42)"
   ]
  },
  {
   "cell_type": "code",
   "execution_count": 9,
   "metadata": {},
   "outputs": [],
   "source": [
    "x_train = x_train_tmp"
   ]
  },
  {
   "cell_type": "code",
   "execution_count": 10,
   "metadata": {},
   "outputs": [],
   "source": [
    "y_train = dense_to_one_hot(y_train,num_clases=3)\n",
    "y_valid = dense_to_one_hot(y_valid,num_clases=3)\n",
    "y_train2 = dense_to_one_hot(y_train2,num_clases=5)\n",
    "y_valid2 = dense_to_one_hot(y_valid2,num_clases=5)"
   ]
  },
  {
   "cell_type": "code",
   "execution_count": 11,
   "metadata": {},
   "outputs": [
    {
     "name": "stderr",
     "output_type": "stream",
     "text": [
      "C:\\Users\\hp\\Anaconda3\\envs\\wbvenv36\\lib\\site-packages\\keras_preprocessing\\image\\image_data_generator.py:349: UserWarning: This ImageDataGenerator specifies `featurewise_std_normalization`, which overrides setting of `featurewise_center`.\n",
      "  warnings.warn('This ImageDataGenerator specifies '\n"
     ]
    }
   ],
   "source": [
    "#Image data generation for the training \n",
    "datagen = ImageDataGenerator(\n",
    "               featurewise_center = False, \n",
    "               samplewise_center = False,  # set each sample mean to 0\n",
    "               featurewise_std_normalization = True,  \n",
    "               samplewise_std_normalization = False)  \n",
    "\n",
    "datagen.fit(x_train) \n",
    "for i in range(len(x_test)):\n",
    "      x_test[i] = datagen.standardize(x_test[i])"
   ]
  },
  {
   "cell_type": "code",
   "execution_count": 12,
   "metadata": {
    "scrolled": true
   },
   "outputs": [
    {
     "name": "stdout",
     "output_type": "stream",
     "text": [
      "WARNING:tensorflow:From C:\\Users\\hp\\AppData\\Roaming\\Python\\Python36\\site-packages\\keras\\backend\\tensorflow_backend.py:4070: The name tf.nn.max_pool is deprecated. Please use tf.nn.max_pool2d instead.\n",
      "\n"
     ]
    }
   ],
   "source": [
    "#Defining hyperparameters\n",
    "batch_Size = 32\n",
    "steps_Per_Epoch = 32\n",
    "numEpochs = 50\n",
    "\n",
    "#Instantating VGG19 model\n",
    "model = VGG19((224,224,3),classes=[3, 5]) #VGG19_dense for revised VGG19, VGG19 for VGG19. Please pay attention to VGG16(), chnage the input shape and class number in VGG.py.\n",
    "\n",
    "#Creating an optimizers\n",
    "adaDelta = keras.optimizers.Adadelta(lr=1.0, rho=0.95)\n",
    "sgd = SGD(lr=0.01, decay=1e-6, momentum=0.95, nesterov=True)\n",
    "model.compile(optimizer = sgd , loss = 'categorical_crossentropy', metrics = ['accuracy'])\n",
    "\n",
    "#Creating early stopping \n",
    "earlystop = EarlyStopping(monitor = 'val_accuracy', min_delta = 0, patience = 50, verbose = 1, mode = 'auto', restore_best_weights = True)       "
   ]
  },
  {
   "cell_type": "code",
   "execution_count": 13,
   "metadata": {},
   "outputs": [],
   "source": [
    "def make_multi_output_flow(image_gen, X, y_list, batch_size):\n",
    "    y_item_0 = y_list[0]\n",
    "    y_indices = np.arange(y_item_0.shape[0])\n",
    "    orig_flow = image_gen.flow(X, y=y_indices, batch_size=batch_size)\n",
    "\n",
    "    while True:\n",
    "        (X, y_next_i) = next(orig_flow)\n",
    "        y_next = [ y_item[y_next_i] for y_item in y_list ]\n",
    "        yield X, y_next\n",
    "\n",
    "y_train_gen = [y_train, y_train2]\n",
    "train_generator = make_multi_output_flow(datagen, x_train, y_train_gen, batch_Size)\n",
    "\n",
    "y_valid_gen = [y_valid, y_valid2]\n",
    "validation_generator = make_multi_output_flow(datagen, x_valid, y_valid_gen, batch_Size)\n",
    "        \n",
    "#train_generator = datagen.flow(x_train, y_train, batch_size = batch_Size)\n",
    "#validation_generator = datagen.flow(x_valid, y_valid, batch_size = batch_Size)"
   ]
  },
  {
   "cell_type": "code",
   "execution_count": 14,
   "metadata": {},
   "outputs": [],
   "source": [
    "#class_weight = [{0: 1, 1: 1, 2: 1},{0: 1, 1: 1, 2: 2, 3:5, 4:5}]"
   ]
  },
  {
   "cell_type": "code",
   "execution_count": 15,
   "metadata": {
    "scrolled": true
   },
   "outputs": [
    {
     "name": "stdout",
     "output_type": "stream",
     "text": [
      "WARNING:tensorflow:From C:\\Users\\hp\\AppData\\Roaming\\Python\\Python36\\site-packages\\keras\\backend\\tensorflow_backend.py:422: The name tf.global_variables is deprecated. Please use tf.compat.v1.global_variables instead.\n",
      "\n",
      "Epoch 1/50\n",
      "32/32 [==============================] - 6s 186ms/step - loss: 2.3399 - predictions_loss: 1.0967 - predictions_branch_loss: 1.2432 - predictions_accuracy: 0.3730 - predictions_branch_accuracy: 0.5381 - val_loss: 1.8523 - val_predictions_loss: 1.0745 - val_predictions_branch_loss: 0.9260 - val_predictions_accuracy: 0.4611 - val_predictions_branch_accuracy: 0.6467\n",
      "Epoch 2/50\n",
      "32/32 [==============================] - 2s 76ms/step - loss: 1.9401 - predictions_loss: 1.0452 - predictions_branch_loss: 0.8949 - predictions_accuracy: 0.4521 - predictions_branch_accuracy: 0.6709 - val_loss: 1.6758 - val_predictions_loss: 1.0649 - val_predictions_branch_loss: 0.9089 - val_predictions_accuracy: 0.3613 - val_predictions_branch_accuracy: 0.6467\n",
      "Epoch 3/50\n",
      "32/32 [==============================] - 2s 76ms/step - loss: 1.9417 - predictions_loss: 1.0395 - predictions_branch_loss: 0.9022 - predictions_accuracy: 0.4629 - predictions_branch_accuracy: 0.6611 - val_loss: 1.7390 - val_predictions_loss: 0.9472 - val_predictions_branch_loss: 0.8936 - val_predictions_accuracy: 0.5589 - val_predictions_branch_accuracy: 0.6467\n",
      "Epoch 4/50\n",
      "32/32 [==============================] - 2s 77ms/step - loss: 1.7654 - predictions_loss: 0.8802 - predictions_branch_loss: 0.8852 - predictions_accuracy: 0.6123 - predictions_branch_accuracy: 0.6631 - val_loss: 1.8176 - val_predictions_loss: 0.8493 - val_predictions_branch_loss: 0.9028 - val_predictions_accuracy: 0.6387 - val_predictions_branch_accuracy: 0.6467\n",
      "Epoch 5/50\n",
      "32/32 [==============================] - 3s 88ms/step - loss: 1.6862 - predictions_loss: 0.8211 - predictions_branch_loss: 0.8652 - predictions_accuracy: 0.6680 - predictions_branch_accuracy: 0.6758 - val_loss: 1.4643 - val_predictions_loss: 0.7453 - val_predictions_branch_loss: 0.8986 - val_predictions_accuracy: 0.6986 - val_predictions_branch_accuracy: 0.6467\n",
      "Epoch 6/50\n",
      "32/32 [==============================] - 2s 77ms/step - loss: 1.6854 - predictions_loss: 0.8127 - predictions_branch_loss: 0.8728 - predictions_accuracy: 0.6650 - predictions_branch_accuracy: 0.6777 - val_loss: 1.5928 - val_predictions_loss: 0.6733 - val_predictions_branch_loss: 0.8973 - val_predictions_accuracy: 0.7086 - val_predictions_branch_accuracy: 0.6467\n",
      "Epoch 7/50\n",
      "32/32 [==============================] - 2s 78ms/step - loss: 1.6347 - predictions_loss: 0.7587 - predictions_branch_loss: 0.8760 - predictions_accuracy: 0.6768 - predictions_branch_accuracy: 0.6787 - val_loss: 1.5866 - val_predictions_loss: 0.6872 - val_predictions_branch_loss: 0.8935 - val_predictions_accuracy: 0.7046 - val_predictions_branch_accuracy: 0.6467\n",
      "Epoch 8/50\n",
      "32/32 [==============================] - 2s 76ms/step - loss: 1.5965 - predictions_loss: 0.6962 - predictions_branch_loss: 0.9004 - predictions_accuracy: 0.7285 - predictions_branch_accuracy: 0.6445 - val_loss: 1.5790 - val_predictions_loss: 0.6727 - val_predictions_branch_loss: 0.8966 - val_predictions_accuracy: 0.7305 - val_predictions_branch_accuracy: 0.6467\n",
      "Epoch 9/50\n",
      "32/32 [==============================] - 2s 77ms/step - loss: 1.6565 - predictions_loss: 0.7407 - predictions_branch_loss: 0.9158 - predictions_accuracy: 0.6895 - predictions_branch_accuracy: 0.6484 - val_loss: 1.2156 - val_predictions_loss: 0.6510 - val_predictions_branch_loss: 0.8912 - val_predictions_accuracy: 0.7445 - val_predictions_branch_accuracy: 0.6467\n",
      "Epoch 10/50\n",
      "32/32 [==============================] - 2s 78ms/step - loss: 1.6107 - predictions_loss: 0.7133 - predictions_branch_loss: 0.8973 - predictions_accuracy: 0.6963 - predictions_branch_accuracy: 0.6533 - val_loss: 1.5960 - val_predictions_loss: 0.6613 - val_predictions_branch_loss: 0.8947 - val_predictions_accuracy: 0.7345 - val_predictions_branch_accuracy: 0.6467\n",
      "Epoch 11/50\n",
      "32/32 [==============================] - 2s 77ms/step - loss: 1.5242 - predictions_loss: 0.6815 - predictions_branch_loss: 0.8427 - predictions_accuracy: 0.7246 - predictions_branch_accuracy: 0.6787 - val_loss: 1.1638 - val_predictions_loss: 0.6205 - val_predictions_branch_loss: 0.8959 - val_predictions_accuracy: 0.7445 - val_predictions_branch_accuracy: 0.6467\n",
      "Epoch 12/50\n",
      "32/32 [==============================] - 3s 80ms/step - loss: 1.5858 - predictions_loss: 0.6834 - predictions_branch_loss: 0.9023 - predictions_accuracy: 0.7139 - predictions_branch_accuracy: 0.6660 - val_loss: 1.5606 - val_predictions_loss: 0.6198 - val_predictions_branch_loss: 0.8958 - val_predictions_accuracy: 0.7425 - val_predictions_branch_accuracy: 0.6467\n",
      "Epoch 13/50\n",
      "32/32 [==============================] - 2s 77ms/step - loss: 1.5733 - predictions_loss: 0.6736 - predictions_branch_loss: 0.8997 - predictions_accuracy: 0.7285 - predictions_branch_accuracy: 0.6641 - val_loss: 1.4200 - val_predictions_loss: 0.6138 - val_predictions_branch_loss: 0.9041 - val_predictions_accuracy: 0.7585 - val_predictions_branch_accuracy: 0.6467\n",
      "Epoch 14/50\n",
      "32/32 [==============================] - 2s 76ms/step - loss: 1.5895 - predictions_loss: 0.6896 - predictions_branch_loss: 0.8999 - predictions_accuracy: 0.7120 - predictions_branch_accuracy: 0.6572 - val_loss: 1.6253 - val_predictions_loss: 0.8543 - val_predictions_branch_loss: 0.8939 - val_predictions_accuracy: 0.6108 - val_predictions_branch_accuracy: 0.6467\n",
      "Epoch 15/50\n",
      "32/32 [==============================] - 2s 76ms/step - loss: 1.6658 - predictions_loss: 0.8373 - predictions_branch_loss: 0.8286 - predictions_accuracy: 0.6250 - predictions_branch_accuracy: 0.7070 - val_loss: 1.7440 - val_predictions_loss: 0.6932 - val_predictions_branch_loss: 0.9116 - val_predictions_accuracy: 0.7305 - val_predictions_branch_accuracy: 0.6467\n",
      "Epoch 16/50\n",
      "32/32 [==============================] - 2s 78ms/step - loss: 1.6513 - predictions_loss: 0.7296 - predictions_branch_loss: 0.9217 - predictions_accuracy: 0.6934 - predictions_branch_accuracy: 0.6445 - val_loss: 1.6873 - val_predictions_loss: 0.6550 - val_predictions_branch_loss: 0.8949 - val_predictions_accuracy: 0.7405 - val_predictions_branch_accuracy: 0.6467\n",
      "Epoch 17/50\n",
      "32/32 [==============================] - 2s 77ms/step - loss: 1.5578 - predictions_loss: 0.6876 - predictions_branch_loss: 0.8703 - predictions_accuracy: 0.7207 - predictions_branch_accuracy: 0.6621 - val_loss: 1.6981 - val_predictions_loss: 0.6865 - val_predictions_branch_loss: 0.8986 - val_predictions_accuracy: 0.7265 - val_predictions_branch_accuracy: 0.6467\n",
      "Epoch 18/50\n",
      "32/32 [==============================] - 2s 76ms/step - loss: 1.5653 - predictions_loss: 0.6886 - predictions_branch_loss: 0.8767 - predictions_accuracy: 0.7032 - predictions_branch_accuracy: 0.6641 - val_loss: 1.6842 - val_predictions_loss: 0.5962 - val_predictions_branch_loss: 0.9068 - val_predictions_accuracy: 0.7405 - val_predictions_branch_accuracy: 0.6467\n",
      "Epoch 19/50\n",
      "32/32 [==============================] - 2s 77ms/step - loss: 1.5609 - predictions_loss: 0.6728 - predictions_branch_loss: 0.8882 - predictions_accuracy: 0.7266 - predictions_branch_accuracy: 0.6699 - val_loss: 1.5987 - val_predictions_loss: 0.6104 - val_predictions_branch_loss: 0.9039 - val_predictions_accuracy: 0.7525 - val_predictions_branch_accuracy: 0.6467\n",
      "Epoch 20/50\n",
      "32/32 [==============================] - 2s 77ms/step - loss: 1.5130 - predictions_loss: 0.5933 - predictions_branch_loss: 0.9197 - predictions_accuracy: 0.7676 - predictions_branch_accuracy: 0.6416 - val_loss: 1.1774 - val_predictions_loss: 0.6283 - val_predictions_branch_loss: 0.8903 - val_predictions_accuracy: 0.7405 - val_predictions_branch_accuracy: 0.6467\n",
      "Epoch 21/50\n",
      "32/32 [==============================] - 2s 75ms/step - loss: 1.5371 - predictions_loss: 0.6538 - predictions_branch_loss: 0.8833 - predictions_accuracy: 0.7236 - predictions_branch_accuracy: 0.6660 - val_loss: 1.1003 - val_predictions_loss: 0.6186 - val_predictions_branch_loss: 0.8984 - val_predictions_accuracy: 0.7585 - val_predictions_branch_accuracy: 0.6467\n",
      "Epoch 22/50\n"
     ]
    },
    {
     "name": "stdout",
     "output_type": "stream",
     "text": [
      "32/32 [==============================] - 2s 78ms/step - loss: 1.5408 - predictions_loss: 0.6910 - predictions_branch_loss: 0.8498 - predictions_accuracy: 0.7002 - predictions_branch_accuracy: 0.6855 - val_loss: 1.4060 - val_predictions_loss: 0.6103 - val_predictions_branch_loss: 0.8969 - val_predictions_accuracy: 0.7345 - val_predictions_branch_accuracy: 0.6467\n",
      "Epoch 23/50\n",
      "32/32 [==============================] - 2s 77ms/step - loss: 1.4889 - predictions_loss: 0.6106 - predictions_branch_loss: 0.8783 - predictions_accuracy: 0.7561 - predictions_branch_accuracy: 0.6660 - val_loss: 1.6869 - val_predictions_loss: 0.6872 - val_predictions_branch_loss: 0.9011 - val_predictions_accuracy: 0.7246 - val_predictions_branch_accuracy: 0.6467\n",
      "Epoch 24/50\n",
      "32/32 [==============================] - 2s 76ms/step - loss: 1.5952 - predictions_loss: 0.7032 - predictions_branch_loss: 0.8920 - predictions_accuracy: 0.7090 - predictions_branch_accuracy: 0.6553 - val_loss: 1.2268 - val_predictions_loss: 0.6194 - val_predictions_branch_loss: 0.8953 - val_predictions_accuracy: 0.7405 - val_predictions_branch_accuracy: 0.6467\n",
      "Epoch 25/50\n",
      "32/32 [==============================] - 2s 76ms/step - loss: 1.5326 - predictions_loss: 0.6444 - predictions_branch_loss: 0.8882 - predictions_accuracy: 0.7285 - predictions_branch_accuracy: 0.6592 - val_loss: 1.0930 - val_predictions_loss: 0.5870 - val_predictions_branch_loss: 0.8920 - val_predictions_accuracy: 0.7445 - val_predictions_branch_accuracy: 0.6467\n",
      "Epoch 26/50\n",
      "32/32 [==============================] - 2s 77ms/step - loss: 1.5617 - predictions_loss: 0.6878 - predictions_branch_loss: 0.8739 - predictions_accuracy: 0.7051 - predictions_branch_accuracy: 0.6787 - val_loss: 1.5992 - val_predictions_loss: 0.6482 - val_predictions_branch_loss: 0.9022 - val_predictions_accuracy: 0.7086 - val_predictions_branch_accuracy: 0.6467\n",
      "Epoch 27/50\n",
      "32/32 [==============================] - 2s 77ms/step - loss: 1.5257 - predictions_loss: 0.6596 - predictions_branch_loss: 0.8661 - predictions_accuracy: 0.7434 - predictions_branch_accuracy: 0.6729 - val_loss: 1.6035 - val_predictions_loss: 0.6333 - val_predictions_branch_loss: 0.8934 - val_predictions_accuracy: 0.7485 - val_predictions_branch_accuracy: 0.6467\n",
      "Epoch 28/50\n",
      "32/32 [==============================] - 2s 77ms/step - loss: 1.5626 - predictions_loss: 0.6685 - predictions_branch_loss: 0.8941 - predictions_accuracy: 0.7090 - predictions_branch_accuracy: 0.6631 - val_loss: 1.4284 - val_predictions_loss: 0.5835 - val_predictions_branch_loss: 0.8924 - val_predictions_accuracy: 0.7525 - val_predictions_branch_accuracy: 0.6467\n",
      "Epoch 29/50\n",
      "32/32 [==============================] - 2s 77ms/step - loss: 1.5477 - predictions_loss: 0.6671 - predictions_branch_loss: 0.8807 - predictions_accuracy: 0.7314 - predictions_branch_accuracy: 0.6602 - val_loss: 1.6797 - val_predictions_loss: 0.6247 - val_predictions_branch_loss: 0.8941 - val_predictions_accuracy: 0.7505 - val_predictions_branch_accuracy: 0.6467\n",
      "Epoch 30/50\n",
      "32/32 [==============================] - 2s 77ms/step - loss: 1.6042 - predictions_loss: 0.6760 - predictions_branch_loss: 0.9281 - predictions_accuracy: 0.7236 - predictions_branch_accuracy: 0.6543 - val_loss: 1.4723 - val_predictions_loss: 0.7394 - val_predictions_branch_loss: 0.8988 - val_predictions_accuracy: 0.6826 - val_predictions_branch_accuracy: 0.6467\n",
      "Epoch 31/50\n",
      "32/32 [==============================] - 2s 77ms/step - loss: 1.5222 - predictions_loss: 0.6569 - predictions_branch_loss: 0.8653 - predictions_accuracy: 0.7365 - predictions_branch_accuracy: 0.6807 - val_loss: 1.6699 - val_predictions_loss: 0.5905 - val_predictions_branch_loss: 0.9055 - val_predictions_accuracy: 0.7485 - val_predictions_branch_accuracy: 0.6467\n",
      "Epoch 32/50\n",
      "32/32 [==============================] - 2s 77ms/step - loss: 1.5542 - predictions_loss: 0.6587 - predictions_branch_loss: 0.8955 - predictions_accuracy: 0.7314 - predictions_branch_accuracy: 0.6504 - val_loss: 1.4703 - val_predictions_loss: 0.6157 - val_predictions_branch_loss: 0.8972 - val_predictions_accuracy: 0.7565 - val_predictions_branch_accuracy: 0.6467\n",
      "Epoch 33/50\n",
      "32/32 [==============================] - 3s 79ms/step - loss: 1.5387 - predictions_loss: 0.6569 - predictions_branch_loss: 0.8817 - predictions_accuracy: 0.7197 - predictions_branch_accuracy: 0.6650 - val_loss: 1.6825 - val_predictions_loss: 0.6181 - val_predictions_branch_loss: 0.9009 - val_predictions_accuracy: 0.7505 - val_predictions_branch_accuracy: 0.6467\n",
      "Epoch 34/50\n",
      "32/32 [==============================] - 2s 77ms/step - loss: 1.5682 - predictions_loss: 0.6903 - predictions_branch_loss: 0.8778 - predictions_accuracy: 0.7285 - predictions_branch_accuracy: 0.6738 - val_loss: 1.2579 - val_predictions_loss: 0.6289 - val_predictions_branch_loss: 0.8953 - val_predictions_accuracy: 0.7445 - val_predictions_branch_accuracy: 0.6467\n",
      "Epoch 35/50\n",
      "32/32 [==============================] - 2s 77ms/step - loss: 1.5602 - predictions_loss: 0.6743 - predictions_branch_loss: 0.8859 - predictions_accuracy: 0.7129 - predictions_branch_accuracy: 0.6680 - val_loss: 1.4731 - val_predictions_loss: 0.6110 - val_predictions_branch_loss: 0.8971 - val_predictions_accuracy: 0.7345 - val_predictions_branch_accuracy: 0.6467\n",
      "Epoch 36/50\n",
      "32/32 [==============================] - 2s 77ms/step - loss: 1.6227 - predictions_loss: 0.7516 - predictions_branch_loss: 0.8710 - predictions_accuracy: 0.6699 - predictions_branch_accuracy: 0.6729 - val_loss: 1.6388 - val_predictions_loss: 0.6559 - val_predictions_branch_loss: 0.8997 - val_predictions_accuracy: 0.7425 - val_predictions_branch_accuracy: 0.6467\n",
      "Epoch 37/50\n",
      "32/32 [==============================] - 2s 77ms/step - loss: 1.5231 - predictions_loss: 0.6188 - predictions_branch_loss: 0.9043 - predictions_accuracy: 0.7344 - predictions_branch_accuracy: 0.6553 - val_loss: 1.3285 - val_predictions_loss: 0.6598 - val_predictions_branch_loss: 0.8950 - val_predictions_accuracy: 0.7285 - val_predictions_branch_accuracy: 0.6467\n",
      "Epoch 38/50\n",
      "32/32 [==============================] - 2s 78ms/step - loss: 1.5304 - predictions_loss: 0.6518 - predictions_branch_loss: 0.8785 - predictions_accuracy: 0.7500 - predictions_branch_accuracy: 0.6611 - val_loss: 1.4660 - val_predictions_loss: 0.5953 - val_predictions_branch_loss: 0.9057 - val_predictions_accuracy: 0.7425 - val_predictions_branch_accuracy: 0.6467\n",
      "Epoch 39/50\n",
      "32/32 [==============================] - 2s 77ms/step - loss: 1.4849 - predictions_loss: 0.5861 - predictions_branch_loss: 0.8988 - predictions_accuracy: 0.7637 - predictions_branch_accuracy: 0.6699 - val_loss: 1.4347 - val_predictions_loss: 0.6117 - val_predictions_branch_loss: 0.8926 - val_predictions_accuracy: 0.7405 - val_predictions_branch_accuracy: 0.6467\n",
      "Epoch 40/50\n",
      "32/32 [==============================] - 2s 76ms/step - loss: 1.4676 - predictions_loss: 0.6224 - predictions_branch_loss: 0.8453 - predictions_accuracy: 0.7346 - predictions_branch_accuracy: 0.6866 - val_loss: 1.3907 - val_predictions_loss: 0.6124 - val_predictions_branch_loss: 0.9006 - val_predictions_accuracy: 0.7425 - val_predictions_branch_accuracy: 0.6467\n",
      "Epoch 41/50\n",
      "32/32 [==============================] - 2s 77ms/step - loss: 1.4896 - predictions_loss: 0.5993 - predictions_branch_loss: 0.8904 - predictions_accuracy: 0.7607 - predictions_branch_accuracy: 0.6680 - val_loss: 1.5110 - val_predictions_loss: 0.6008 - val_predictions_branch_loss: 0.8965 - val_predictions_accuracy: 0.7585 - val_predictions_branch_accuracy: 0.6467\n",
      "Epoch 42/50\n",
      "32/32 [==============================] - 2s 77ms/step - loss: 1.5181 - predictions_loss: 0.6432 - predictions_branch_loss: 0.8749 - predictions_accuracy: 0.7285 - predictions_branch_accuracy: 0.6602 - val_loss: 1.4069 - val_predictions_loss: 0.5871 - val_predictions_branch_loss: 0.8936 - val_predictions_accuracy: 0.7605 - val_predictions_branch_accuracy: 0.6467\n",
      "Epoch 43/50\n",
      "32/32 [==============================] - 2s 77ms/step - loss: 1.5647 - predictions_loss: 0.6668 - predictions_branch_loss: 0.8978 - predictions_accuracy: 0.7285 - predictions_branch_accuracy: 0.6631 - val_loss: 1.9282 - val_predictions_loss: 0.8195 - val_predictions_branch_loss: 0.8988 - val_predictions_accuracy: 0.6507 - val_predictions_branch_accuracy: 0.6467\n"
     ]
    },
    {
     "name": "stdout",
     "output_type": "stream",
     "text": [
      "Epoch 44/50\n",
      "32/32 [==============================] - 2s 76ms/step - loss: 1.6315 - predictions_loss: 0.7326 - predictions_branch_loss: 0.8989 - predictions_accuracy: 0.7031 - predictions_branch_accuracy: 0.6533 - val_loss: 1.8271 - val_predictions_loss: 0.6868 - val_predictions_branch_loss: 0.8984 - val_predictions_accuracy: 0.7206 - val_predictions_branch_accuracy: 0.6467\n",
      "Epoch 45/50\n",
      "32/32 [==============================] - 2s 76ms/step - loss: 1.5590 - predictions_loss: 0.6590 - predictions_branch_loss: 0.9000 - predictions_accuracy: 0.7277 - predictions_branch_accuracy: 0.6592 - val_loss: 1.5212 - val_predictions_loss: 0.6195 - val_predictions_branch_loss: 0.8995 - val_predictions_accuracy: 0.7425 - val_predictions_branch_accuracy: 0.6467\n",
      "Epoch 46/50\n",
      "32/32 [==============================] - 2s 77ms/step - loss: 1.5647 - predictions_loss: 0.6680 - predictions_branch_loss: 0.8967 - predictions_accuracy: 0.7275 - predictions_branch_accuracy: 0.6533 - val_loss: 1.4295 - val_predictions_loss: 0.6265 - val_predictions_branch_loss: 0.8959 - val_predictions_accuracy: 0.7345 - val_predictions_branch_accuracy: 0.6467\n",
      "Epoch 47/50\n",
      "32/32 [==============================] - 2s 76ms/step - loss: 1.5240 - predictions_loss: 0.6258 - predictions_branch_loss: 0.8982 - predictions_accuracy: 0.7432 - predictions_branch_accuracy: 0.6592 - val_loss: 1.0415 - val_predictions_loss: 0.5891 - val_predictions_branch_loss: 0.8946 - val_predictions_accuracy: 0.7665 - val_predictions_branch_accuracy: 0.6467\n",
      "Epoch 48/50\n",
      "32/32 [==============================] - 2s 77ms/step - loss: 1.5074 - predictions_loss: 0.6673 - predictions_branch_loss: 0.8401 - predictions_accuracy: 0.7305 - predictions_branch_accuracy: 0.6914 - val_loss: 1.5003 - val_predictions_loss: 0.6430 - val_predictions_branch_loss: 0.8996 - val_predictions_accuracy: 0.7445 - val_predictions_branch_accuracy: 0.6467\n",
      "Epoch 49/50\n",
      "32/32 [==============================] - 2s 77ms/step - loss: 1.5405 - predictions_loss: 0.6831 - predictions_branch_loss: 0.8574 - predictions_accuracy: 0.7160 - predictions_branch_accuracy: 0.6768 - val_loss: 1.5025 - val_predictions_loss: 0.6730 - val_predictions_branch_loss: 0.9006 - val_predictions_accuracy: 0.7086 - val_predictions_branch_accuracy: 0.6467\n",
      "Epoch 50/50\n",
      "32/32 [==============================] - 2s 78ms/step - loss: 1.5569 - predictions_loss: 0.6578 - predictions_branch_loss: 0.8991 - predictions_accuracy: 0.7227 - predictions_branch_accuracy: 0.6553 - val_loss: 1.4468 - val_predictions_loss: 0.6615 - val_predictions_branch_loss: 0.8967 - val_predictions_accuracy: 0.6986 - val_predictions_branch_accuracy: 0.6467\n"
     ]
    }
   ],
   "source": [
    "# Model training\n",
    "history = model.fit_generator(\n",
    "    train_generator,\n",
    "    steps_per_epoch = steps_Per_Epoch,\n",
    "    validation_data = validation_generator, \n",
    "    validation_steps = 16,\n",
    "    epochs = numEpochs,\n",
    "    shuffle = True, \n",
    "    verbose = 1)\n",
    "    #class_weight=class_weight)"
   ]
  },
  {
   "cell_type": "code",
   "execution_count": 16,
   "metadata": {},
   "outputs": [],
   "source": [
    "modelPath = \"VGG19_COVID19-v2.h5\"\n",
    "resultPath = 'VGG19_COVID19-v2.txt'\n",
    "modelsavePath = 'VGG19_COVID19-v2_MODEL'"
   ]
  },
  {
   "cell_type": "code",
   "execution_count": 17,
   "metadata": {},
   "outputs": [
    {
     "name": "stdout",
     "output_type": "stream",
     "text": [
      "Epoch     0 | LossA: 2.34(+0.00%) \u001b[0m\t| LossAB: 1.85(+0.00%) \u001b[0m\t\n",
      "Epoch     1 | LossA: \u001b[32m1.94(-17.09%) ▼\u001b[0m\t| LossAB: \u001b[32m1.68(-9.53%) ▼\u001b[0m\t\n",
      "Epoch     2 | LossA: \u001b[91m1.94(+0.08%) ▲\u001b[0m\t| LossAB: \u001b[91m1.74(+3.78%) ▲\u001b[0m\t\n",
      "Epoch     3 | LossA: \u001b[32m1.77(-9.08%) ▼\u001b[0m\t| LossAB: \u001b[91m1.82(+4.52%) ▲\u001b[0m\t\n",
      "Epoch     4 | LossA: \u001b[32m1.69(-4.46%) ▼\u001b[0m\t| LossAB: \u001b[32m1.46(-19.44%) ▼\u001b[0m\t\n",
      "Epoch     5 | LossA: \u001b[32m1.69(-0.07%) ▼\u001b[0m\t| LossAB: \u001b[91m1.59(+8.78%) ▲\u001b[0m\t\n",
      "Epoch     6 | LossA: \u001b[32m1.63(-3.01%) ▼\u001b[0m\t| LossAB: \u001b[32m1.59(-0.39%) ▼\u001b[0m\t\n",
      "Epoch     7 | LossA: \u001b[32m1.60(-2.33%) ▼\u001b[0m\t| LossAB: \u001b[32m1.58(-0.48%) ▼\u001b[0m\t\n",
      "Epoch     8 | LossA: \u001b[91m1.66(+3.79%) ▲\u001b[0m\t| LossAB: \u001b[32m1.22(-23.01%) ▼\u001b[0m\t\n",
      "Epoch     9 | LossA: \u001b[32m1.61(-2.79%) ▼\u001b[0m\t| LossAB: \u001b[91m1.60(+31.29%) ▲\u001b[0m\t\n",
      "Epoch    10 | LossA: \u001b[32m1.52(-5.37%) ▼\u001b[0m\t| LossAB: \u001b[32m1.16(-27.08%) ▼\u001b[0m\t\n",
      "Epoch    11 | LossA: \u001b[91m1.59(+4.04%) ▲\u001b[0m\t| LossAB: \u001b[91m1.56(+34.09%) ▲\u001b[0m\t\n",
      "Epoch    12 | LossA: \u001b[32m1.57(-0.79%) ▼\u001b[0m\t| LossAB: \u001b[32m1.42(-9.01%) ▼\u001b[0m\t\n",
      "Epoch    13 | LossA: \u001b[91m1.59(+1.00%) ▲\u001b[0m\t| LossAB: \u001b[91m1.63(+14.46%) ▲\u001b[0m\t\n",
      "Epoch    14 | LossA: \u001b[91m1.67(+4.83%) ▲\u001b[0m\t| LossAB: \u001b[91m1.74(+7.30%) ▲\u001b[0m\t\n",
      "Epoch    15 | LossA: \u001b[32m1.65(-0.87%) ▼\u001b[0m\t| LossAB: \u001b[32m1.69(-3.25%) ▼\u001b[0m\t\n",
      "Epoch    16 | LossA: \u001b[32m1.56(-5.66%) ▼\u001b[0m\t| LossAB: \u001b[91m1.70(+0.64%) ▲\u001b[0m\t\n",
      "Epoch    17 | LossA: \u001b[91m1.56(+0.46%) ▲\u001b[0m\t| LossAB: \u001b[32m1.68(-0.82%) ▼\u001b[0m\t\n",
      "Epoch    18 | LossA: \u001b[32m1.56(-0.26%) ▼\u001b[0m\t| LossAB: \u001b[32m1.60(-5.07%) ▼\u001b[0m\t\n",
      "Epoch    19 | LossA: \u001b[32m1.51(-3.07%) ▼\u001b[0m\t| LossAB: \u001b[32m1.18(-26.35%) ▼\u001b[0m\t\n",
      "Epoch    20 | LossA: \u001b[91m1.54(+1.60%) ▲\u001b[0m\t| LossAB: \u001b[32m1.10(-6.55%) ▼\u001b[0m\t\n",
      "Epoch    21 | LossA: \u001b[91m1.54(+0.24%) ▲\u001b[0m\t| LossAB: \u001b[91m1.41(+27.78%) ▲\u001b[0m\t\n",
      "Epoch    22 | LossA: \u001b[32m1.49(-3.41%) ▼\u001b[0m\t| LossAB: \u001b[91m1.69(+19.97%) ▲\u001b[0m\t\n",
      "Epoch    23 | LossA: \u001b[91m1.60(+7.18%) ▲\u001b[0m\t| LossAB: \u001b[32m1.23(-27.28%) ▼\u001b[0m\t\n",
      "Epoch    24 | LossA: \u001b[32m1.53(-3.92%) ▼\u001b[0m\t| LossAB: \u001b[32m1.09(-10.90%) ▼\u001b[0m\t\n",
      "Epoch    25 | LossA: \u001b[91m1.56(+1.90%) ▲\u001b[0m\t| LossAB: \u001b[91m1.60(+46.31%) ▲\u001b[0m\t\n",
      "Epoch    26 | LossA: \u001b[32m1.53(-2.33%) ▼\u001b[0m\t| LossAB: \u001b[91m1.60(+0.27%) ▲\u001b[0m\t\n",
      "Epoch    27 | LossA: \u001b[91m1.56(+2.44%) ▲\u001b[0m\t| LossAB: \u001b[32m1.43(-10.92%) ▼\u001b[0m\t\n",
      "Epoch    28 | LossA: \u001b[32m1.55(-0.95%) ▼\u001b[0m\t| LossAB: \u001b[91m1.68(+17.60%) ▲\u001b[0m\t\n",
      "Epoch    29 | LossA: \u001b[91m1.60(+3.65%) ▲\u001b[0m\t| LossAB: \u001b[32m1.47(-12.35%) ▼\u001b[0m\t\n",
      "Epoch    30 | LossA: \u001b[32m1.52(-5.12%) ▼\u001b[0m\t| LossAB: \u001b[91m1.67(+13.42%) ▲\u001b[0m\t\n",
      "Epoch    31 | LossA: \u001b[91m1.55(+2.11%) ▲\u001b[0m\t| LossAB: \u001b[32m1.47(-11.95%) ▼\u001b[0m\t\n",
      "Epoch    32 | LossA: \u001b[32m1.54(-1.00%) ▼\u001b[0m\t| LossAB: \u001b[91m1.68(+14.43%) ▲\u001b[0m\t\n",
      "Epoch    33 | LossA: \u001b[91m1.57(+1.92%) ▲\u001b[0m\t| LossAB: \u001b[32m1.26(-25.24%) ▼\u001b[0m\t\n",
      "Epoch    34 | LossA: \u001b[32m1.56(-0.51%) ▼\u001b[0m\t| LossAB: \u001b[91m1.47(+17.11%) ▲\u001b[0m\t\n",
      "Epoch    35 | LossA: \u001b[91m1.62(+4.03%) ▲\u001b[0m\t| LossAB: \u001b[91m1.64(+11.24%) ▲\u001b[0m\t\n",
      "Epoch    36 | LossA: \u001b[32m1.52(-6.16%) ▼\u001b[0m\t| LossAB: \u001b[32m1.33(-18.93%) ▼\u001b[0m\t\n",
      "Epoch    37 | LossA: \u001b[91m1.53(+0.48%) ▲\u001b[0m\t| LossAB: \u001b[91m1.47(+10.35%) ▲\u001b[0m\t\n",
      "Epoch    38 | LossA: \u001b[32m1.48(-2.97%) ▼\u001b[0m\t| LossAB: \u001b[32m1.43(-2.14%) ▼\u001b[0m\t\n",
      "Epoch    39 | LossA: \u001b[32m1.47(-1.17%) ▼\u001b[0m\t| LossAB: \u001b[32m1.39(-3.07%) ▼\u001b[0m\t\n",
      "Epoch    40 | LossA: \u001b[91m1.49(+1.51%) ▲\u001b[0m\t| LossAB: \u001b[91m1.51(+8.65%) ▲\u001b[0m\t\n",
      "Epoch    41 | LossA: \u001b[91m1.52(+1.91%) ▲\u001b[0m\t| LossAB: \u001b[32m1.41(-6.89%) ▼\u001b[0m\t\n",
      "Epoch    42 | LossA: \u001b[91m1.56(+3.07%) ▲\u001b[0m\t| LossAB: \u001b[91m1.93(+37.06%) ▲\u001b[0m\t\n",
      "Epoch    43 | LossA: \u001b[91m1.63(+4.27%) ▲\u001b[0m\t| LossAB: \u001b[32m1.83(-5.24%) ▼\u001b[0m\t\n",
      "Epoch    44 | LossA: \u001b[32m1.56(-4.46%) ▼\u001b[0m\t| LossAB: \u001b[32m1.52(-16.74%) ▼\u001b[0m\t\n",
      "Epoch    45 | LossA: \u001b[91m1.56(+0.38%) ▲\u001b[0m\t| LossAB: \u001b[32m1.43(-6.03%) ▼\u001b[0m\t\n",
      "Epoch    46 | LossA: \u001b[32m1.52(-2.60%) ▼\u001b[0m\t| LossAB: \u001b[32m1.04(-27.14%) ▼\u001b[0m\t\n",
      "Epoch    47 | LossA: \u001b[32m1.51(-1.09%) ▼\u001b[0m\t| LossAB: \u001b[91m1.50(+44.05%) ▲\u001b[0m\t\n",
      "Epoch    48 | LossA: \u001b[91m1.54(+2.18%) ▲\u001b[0m\t| LossAB: \u001b[91m1.50(+0.14%) ▲\u001b[0m\t\n"
     ]
    }
   ],
   "source": [
    "y_test_oh = dense_to_one_hot(y_test, num_clases=3)\n",
    "y_test_oh2 = dense_to_one_hot(y_test2, num_clases=5)\n",
    "\n",
    "# visualizing losses and accuracy\n",
    "train_loss = history.history['loss']\n",
    "val_loss = history.history['val_loss']\n",
    "\n",
    "#Observing the losses but can be commented out as it's not mandatory \n",
    "reporter = lossprettifier.LossPrettifier(show_percentage=True)\n",
    "\n",
    "for i in range(numEpochs-1):\n",
    "    reporter(epoch=i, LossA = train_loss[i], LossAB = val_loss[i])"
   ]
  },
  {
   "cell_type": "code",
   "execution_count": 18,
   "metadata": {},
   "outputs": [
    {
     "name": "stdout",
     "output_type": "stream",
     "text": [
      "300/300 [==============================] - 0s 2ms/step\n",
      "Accuracy: 0.7099999785423279\n",
      "Branch Accuracy: 0.6600000262260437\n"
     ]
    }
   ],
   "source": [
    "# Model evaluation \n",
    "loss, main_loss, aux_loss, main_acc, aux_acc = model.evaluate(x_test, [y_test_oh, y_test_oh2], batch_size=batch_Size)\n",
    "print(\"Accuracy:\", main_acc)\n",
    "print(\"Branch Accuracy:\", aux_acc)\n",
    "\n",
    "#if acc>0.675:\n",
    "model.save_weights(modelPath)\n",
    "model.save(modelsavePath)"
   ]
  },
  {
   "cell_type": "code",
   "execution_count": 19,
   "metadata": {
    "scrolled": true
   },
   "outputs": [
    {
     "name": "stdout",
     "output_type": "stream",
     "text": [
      "              precision    recall  f1-score   support\n",
      "\n",
      "           0       0.64      0.81      0.71       100\n",
      "           1       0.76      0.72      0.74       100\n",
      "           2       0.77      0.60      0.67       100\n",
      "\n",
      "    accuracy                           0.71       300\n",
      "   macro avg       0.72      0.71      0.71       300\n",
      "weighted avg       0.72      0.71      0.71       300\n",
      "\n",
      "------------------------------------\n",
      "              precision    recall  f1-score   support\n",
      "\n",
      "           0       0.66      1.00      0.80       198\n",
      "           1       0.00      0.00      0.00        17\n",
      "           2       0.00      0.00      0.00        41\n",
      "           3       0.00      0.00      0.00        33\n",
      "           4       0.00      0.00      0.00        11\n",
      "\n",
      "    accuracy                           0.66       300\n",
      "   macro avg       0.13      0.20      0.16       300\n",
      "weighted avg       0.44      0.66      0.52       300\n",
      "\n"
     ]
    },
    {
     "name": "stderr",
     "output_type": "stream",
     "text": [
      "C:\\Users\\hp\\Anaconda3\\envs\\wbvenv36\\lib\\site-packages\\sklearn\\metrics\\_classification.py:1245: UndefinedMetricWarning: Precision and F-score are ill-defined and being set to 0.0 in labels with no predicted samples. Use `zero_division` parameter to control this behavior.\n",
      "  _warn_prf(average, modifier, msg_start, len(result))\n",
      "C:\\Users\\hp\\Anaconda3\\envs\\wbvenv36\\lib\\site-packages\\sklearn\\metrics\\_classification.py:1245: UndefinedMetricWarning: Precision and F-score are ill-defined and being set to 0.0 in labels with no predicted samples. Use `zero_division` parameter to control this behavior.\n",
      "  _warn_prf(average, modifier, msg_start, len(result))\n",
      "C:\\Users\\hp\\Anaconda3\\envs\\wbvenv36\\lib\\site-packages\\sklearn\\metrics\\_classification.py:1245: UndefinedMetricWarning: Precision and F-score are ill-defined and being set to 0.0 in labels with no predicted samples. Use `zero_division` parameter to control this behavior.\n",
      "  _warn_prf(average, modifier, msg_start, len(result))\n"
     ]
    }
   ],
   "source": [
    "y_pred, y_pred2 = model.predict(x_test)\n",
    "y_pred = y_pred.reshape(len(y_test), 3)\n",
    "y_pred2 = y_pred2.reshape(len(y_test2), 5)\n",
    "y_pred = np.argmax(y_pred, axis=1)\n",
    "y_pred2 = np.argmax(y_pred2, axis=1)\n",
    "\n",
    "#Print class-wise classification metrics\n",
    "print(classification_report(y_test, y_pred))\n",
    "print(\"------------------------------------\")\n",
    "print(classification_report(y_test2, y_pred2))"
   ]
  },
  {
   "cell_type": "code",
   "execution_count": 20,
   "metadata": {},
   "outputs": [
    {
     "name": "stdout",
     "output_type": "stream",
     "text": [
      "oryginalne\n"
     ]
    },
    {
     "data": {
      "image/png": "[encoded data removed]",
      "text/plain": [
       "<Figure size 432x288 with 2 Axes>"
      ]
     },
     "metadata": {
      "needs_background": "light"
     },
     "output_type": "display_data"
    }
   ],
   "source": [
    "from sklearn.metrics import confusion_matrix, ConfusionMatrixDisplay\n",
    "print(\"oryginalne\")\n",
    "cm = confusion_matrix(y_test, y_pred)\n",
    "disp = ConfusionMatrixDisplay(confusion_matrix=cm, display_labels=np.array(['normal', 'COVID19', 'pneumonia']))\n",
    "disp.plot(cmap='Blues') \n",
    "disp.ax_.set_title(\"COVID prediction\")\n",
    "disp.ax_.get_images()[0].set_clim(0, 100)"
   ]
  },
  {
   "cell_type": "code",
   "execution_count": 21,
   "metadata": {},
   "outputs": [
    {
     "name": "stdout",
     "output_type": "stream",
     "text": [
      "predykcja datasetu\n"
     ]
    },
    {
     "data": {
      "text/plain": [
       "<matplotlib.image.AxesImage at 0x22bccfbc2e8>"
      ]
     },
     "execution_count": 21,
     "metadata": {},
     "output_type": "execute_result"
    },
    {
     "data": {
      "image/png": "[encoded data removed]",
      "text/plain": [
       "<Figure size 432x288 with 2 Axes>"
      ]
     },
     "metadata": {
      "needs_background": "light"
     },
     "output_type": "display_data"
    }
   ],
   "source": [
    "print(\"predykcja datasetu\")\n",
    "cm2 = confusion_matrix(y_test2, y_pred2)\n",
    "disp2 = ConfusionMatrixDisplay(confusion_matrix=cm2, display_labels=np.array(['rsna', 'sirm', 'cohen', 'actmed', 'fig1']))\n",
    "disp2.plot(cmap='Purples') \n",
    "disp2.ax_.set_title(\"Dataset prediction\")\n",
    "disp2.ax_.get_images()[0] #.set_clim(0, 100)"
   ]
  }
 ],
 "metadata": {
  "kernelspec": {
   "display_name": "wbvenv36",
   "language": "python",
   "name": "wbvenv36"
  },
  "language_info": {
   "codemirror_mode": {
    "name": "ipython",
    "version": 3
   },
   "file_extension": ".py",
   "mimetype": "text/x-python",
   "name": "python",
   "nbconvert_exporter": "python",
   "pygments_lexer": "ipython3",
   "version": "3.6.12"
  }
 },
 "nbformat": 4,
 "nbformat_minor": 2
}
