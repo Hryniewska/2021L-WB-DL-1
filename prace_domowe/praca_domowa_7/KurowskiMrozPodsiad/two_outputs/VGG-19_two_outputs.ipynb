{
 "cells": [
  {
   "cell_type": "code",
   "execution_count": 1,
   "metadata": {},
   "outputs": [],
   "source": [
    "import cv2\n",
    "import numpy as np\n",
    "import matplotlib.pyplot as plt\n",
    "import os"
   ]
  },
  {
   "cell_type": "code",
   "execution_count": 2,
   "metadata": {},
   "outputs": [],
   "source": [
    "x_train = np.load('data/x_train_undersampled.npy')\n",
    "y_train = np.load('data/y_train_undersampled.npy')\n",
    "x_test = np.load('data/x_test_undersampled.npy')\n",
    "y_test = np.load('data/y_test_undersampled.npy')\n",
    "y_train2 = np.load('data/y_train_undersampled_dataset.npy')\n",
    "y_test2 = np.load('data/y_test_undersampled_dataset.npy')"
   ]
  },
  {
   "cell_type": "code",
   "execution_count": 3,
   "metadata": {
    "scrolled": true
   },
   "outputs": [
    {
     "name": "stdout",
     "output_type": "stream",
     "text": [
      "(5010, 224, 224, 3)\n",
      "(300, 224, 224, 3)\n"
     ]
    }
   ],
   "source": [
    "print(x_train.shape)\n",
    "print(x_test.shape)"
   ]
  },
  {
   "cell_type": "code",
   "execution_count": 4,
   "metadata": {},
   "outputs": [
    {
     "name": "stdout",
     "output_type": "stream",
     "text": [
      "(5010,)\n",
      "(300,)\n"
     ]
    }
   ],
   "source": [
    "print(y_train.shape)\n",
    "print(y_test.shape)"
   ]
  },
  {
   "cell_type": "code",
   "execution_count": 5,
   "metadata": {},
   "outputs": [
    {
     "name": "stdout",
     "output_type": "stream",
     "text": [
      "(5010,)\n",
      "(300,)\n"
     ]
    }
   ],
   "source": [
    "print(y_train2.shape)\n",
    "print(y_test2.shape)"
   ]
  },
  {
   "cell_type": "code",
   "execution_count": 6,
   "metadata": {
    "scrolled": true
   },
   "outputs": [
    {
     "name": "stderr",
     "output_type": "stream",
     "text": [
      "C:\\Users\\hp\\Anaconda3\\envs\\wbvenv36\\lib\\site-packages\\tensorflow\\python\\framework\\dtypes.py:516: FutureWarning: Passing (type, 1) or '1type' as a synonym of type is deprecated; in a future version of numpy, it will be understood as (type, (1,)) / '(1,)type'.\n",
      "  _np_qint8 = np.dtype([(\"qint8\", np.int8, 1)])\n",
      "C:\\Users\\hp\\Anaconda3\\envs\\wbvenv36\\lib\\site-packages\\tensorflow\\python\\framework\\dtypes.py:517: FutureWarning: Passing (type, 1) or '1type' as a synonym of type is deprecated; in a future version of numpy, it will be understood as (type, (1,)) / '(1,)type'.\n",
      "  _np_quint8 = np.dtype([(\"quint8\", np.uint8, 1)])\n",
      "C:\\Users\\hp\\Anaconda3\\envs\\wbvenv36\\lib\\site-packages\\tensorflow\\python\\framework\\dtypes.py:518: FutureWarning: Passing (type, 1) or '1type' as a synonym of type is deprecated; in a future version of numpy, it will be understood as (type, (1,)) / '(1,)type'.\n",
      "  _np_qint16 = np.dtype([(\"qint16\", np.int16, 1)])\n",
      "C:\\Users\\hp\\Anaconda3\\envs\\wbvenv36\\lib\\site-packages\\tensorflow\\python\\framework\\dtypes.py:519: FutureWarning: Passing (type, 1) or '1type' as a synonym of type is deprecated; in a future version of numpy, it will be understood as (type, (1,)) / '(1,)type'.\n",
      "  _np_quint16 = np.dtype([(\"quint16\", np.uint16, 1)])\n",
      "C:\\Users\\hp\\Anaconda3\\envs\\wbvenv36\\lib\\site-packages\\tensorflow\\python\\framework\\dtypes.py:520: FutureWarning: Passing (type, 1) or '1type' as a synonym of type is deprecated; in a future version of numpy, it will be understood as (type, (1,)) / '(1,)type'.\n",
      "  _np_qint32 = np.dtype([(\"qint32\", np.int32, 1)])\n",
      "C:\\Users\\hp\\Anaconda3\\envs\\wbvenv36\\lib\\site-packages\\tensorflow\\python\\framework\\dtypes.py:525: FutureWarning: Passing (type, 1) or '1type' as a synonym of type is deprecated; in a future version of numpy, it will be understood as (type, (1,)) / '(1,)type'.\n",
      "  np_resource = np.dtype([(\"resource\", np.ubyte, 1)])\n",
      "C:\\Users\\hp\\Anaconda3\\envs\\wbvenv36\\lib\\site-packages\\tensorboard\\compat\\tensorflow_stub\\dtypes.py:541: FutureWarning: Passing (type, 1) or '1type' as a synonym of type is deprecated; in a future version of numpy, it will be understood as (type, (1,)) / '(1,)type'.\n",
      "  _np_qint8 = np.dtype([(\"qint8\", np.int8, 1)])\n",
      "C:\\Users\\hp\\Anaconda3\\envs\\wbvenv36\\lib\\site-packages\\tensorboard\\compat\\tensorflow_stub\\dtypes.py:542: FutureWarning: Passing (type, 1) or '1type' as a synonym of type is deprecated; in a future version of numpy, it will be understood as (type, (1,)) / '(1,)type'.\n",
      "  _np_quint8 = np.dtype([(\"quint8\", np.uint8, 1)])\n",
      "C:\\Users\\hp\\Anaconda3\\envs\\wbvenv36\\lib\\site-packages\\tensorboard\\compat\\tensorflow_stub\\dtypes.py:543: FutureWarning: Passing (type, 1) or '1type' as a synonym of type is deprecated; in a future version of numpy, it will be understood as (type, (1,)) / '(1,)type'.\n",
      "  _np_qint16 = np.dtype([(\"qint16\", np.int16, 1)])\n",
      "C:\\Users\\hp\\Anaconda3\\envs\\wbvenv36\\lib\\site-packages\\tensorboard\\compat\\tensorflow_stub\\dtypes.py:544: FutureWarning: Passing (type, 1) or '1type' as a synonym of type is deprecated; in a future version of numpy, it will be understood as (type, (1,)) / '(1,)type'.\n",
      "  _np_quint16 = np.dtype([(\"quint16\", np.uint16, 1)])\n",
      "C:\\Users\\hp\\Anaconda3\\envs\\wbvenv36\\lib\\site-packages\\tensorboard\\compat\\tensorflow_stub\\dtypes.py:545: FutureWarning: Passing (type, 1) or '1type' as a synonym of type is deprecated; in a future version of numpy, it will be understood as (type, (1,)) / '(1,)type'.\n",
      "  _np_qint32 = np.dtype([(\"qint32\", np.int32, 1)])\n",
      "C:\\Users\\hp\\Anaconda3\\envs\\wbvenv36\\lib\\site-packages\\tensorboard\\compat\\tensorflow_stub\\dtypes.py:550: FutureWarning: Passing (type, 1) or '1type' as a synonym of type is deprecated; in a future version of numpy, it will be understood as (type, (1,)) / '(1,)type'.\n",
      "  np_resource = np.dtype([(\"resource\", np.ubyte, 1)])\n",
      "Using TensorFlow backend.\n"
     ]
    }
   ],
   "source": [
    "from __future__ import print_function\n",
    "\n",
    "import numpy as np\n",
    "from random import shuffle\n",
    "import time\n",
    "import csv\n",
    "from PIL import Image\n",
    "import os\n",
    "import tensorflow as tf\n",
    "import keras\n",
    "from keras.callbacks import EarlyStopping, LearningRateScheduler\n",
    "from keras import initializers\n",
    "from keras.optimizers import SGD\n",
    "from keras.preprocessing import sequence\n",
    "from keras.utils import np_utils\n",
    "from keras.models import Sequential,load_model,Model\n",
    "from keras.layers import Dense, Dropout, Activation, Flatten\n",
    "from keras.layers import *\n",
    "from keras.callbacks import CSVLogger\n",
    "from keras import callbacks\n",
    "from keras.preprocessing.image import ImageDataGenerator\n",
    "\n",
    "from sklearn.metrics import classification_report\n",
    "from sklearn.model_selection import train_test_split\n",
    "import sklearn.metrics as sklm\n",
    "import sys\n",
    "sys.path.insert(0,'..')\n",
    "from utils import lossprettifier\n",
    "from Classifier.VGG_two_outputs import *"
   ]
  },
  {
   "cell_type": "code",
   "execution_count": 7,
   "metadata": {},
   "outputs": [],
   "source": [
    "# for reproducibility\n",
    "np.random.seed(3768)\n",
    "\n",
    "# use this environment flag to change which GPU to use \n",
    "os.environ[\"CUDA_DEVICE_ORDER\"]=\"PCI_BUS_ID\"\n",
    "os.environ[\"CUDA_VISIBLE_DEVICES\"]=\"0\"  # specify which GPU(s) to be used\n",
    "\n",
    "#Get TensorFlow session\n",
    "def get_session(): \n",
    "  config = tf.ConfigProto() \n",
    "  config.gpu_options.allow_growth = True \n",
    "  return tf.Session(config=config) \n",
    "  \n",
    "# One hot encoding of labels \n",
    "def dense_to_one_hot(labels_dense,num_clases=3):\n",
    "  return np.eye(num_clases)[labels_dense]"
   ]
  },
  {
   "cell_type": "code",
   "execution_count": 8,
   "metadata": {},
   "outputs": [],
   "source": [
    "# Preparing training and test sets\n",
    "x_train_tmp, x_valid, y_train, y_valid = train_test_split(x_train, y_train, test_size=0.10, random_state=42)\n",
    "x_train2, x_valid2, y_train2, y_valid2 = train_test_split(x_train, y_train2, test_size=0.10, random_state=42)"
   ]
  },
  {
   "cell_type": "code",
   "execution_count": 9,
   "metadata": {},
   "outputs": [],
   "source": [
    "x_train = x_train_tmp"
   ]
  },
  {
   "cell_type": "code",
   "execution_count": 10,
   "metadata": {},
   "outputs": [],
   "source": [
    "y_train = dense_to_one_hot(y_train,num_clases=3)\n",
    "y_valid = dense_to_one_hot(y_valid,num_clases=3)\n",
    "y_train2 = dense_to_one_hot(y_train2,num_clases=5)\n",
    "y_valid2 = dense_to_one_hot(y_valid2,num_clases=5)"
   ]
  },
  {
   "cell_type": "code",
   "execution_count": 11,
   "metadata": {},
   "outputs": [
    {
     "data": {
      "text/plain": [
       "array([[0., 1., 0., 0., 0.],\n",
       "       [1., 0., 0., 0., 0.],\n",
       "       [1., 0., 0., 0., 0.],\n",
       "       ...,\n",
       "       [1., 0., 0., 0., 0.],\n",
       "       [1., 0., 0., 0., 0.],\n",
       "       [0., 1., 0., 0., 0.]])"
      ]
     },
     "execution_count": 11,
     "metadata": {},
     "output_type": "execute_result"
    }
   ],
   "source": [
    "y_train2"
   ]
  },
  {
   "cell_type": "code",
   "execution_count": 12,
   "metadata": {},
   "outputs": [
    {
     "name": "stderr",
     "output_type": "stream",
     "text": [
      "C:\\Users\\hp\\Anaconda3\\envs\\wbvenv36\\lib\\site-packages\\keras_preprocessing\\image\\image_data_generator.py:349: UserWarning: This ImageDataGenerator specifies `featurewise_std_normalization`, which overrides setting of `featurewise_center`.\n",
      "  warnings.warn('This ImageDataGenerator specifies '\n"
     ]
    }
   ],
   "source": [
    "#Image data generation for the training \n",
    "datagen = ImageDataGenerator(\n",
    "               featurewise_center = False, \n",
    "               samplewise_center = False,  # set each sample mean to 0\n",
    "               featurewise_std_normalization = True,  \n",
    "               samplewise_std_normalization = False)  \n",
    "\n",
    "datagen.fit(x_train) \n",
    "for i in range(len(x_test)):\n",
    "      x_test[i] = datagen.standardize(x_test[i])"
   ]
  },
  {
   "cell_type": "code",
   "execution_count": 13,
   "metadata": {
    "scrolled": true
   },
   "outputs": [
    {
     "name": "stdout",
     "output_type": "stream",
     "text": [
      "WARNING:tensorflow:From C:\\Users\\hp\\AppData\\Roaming\\Python\\Python36\\site-packages\\keras\\backend\\tensorflow_backend.py:4070: The name tf.nn.max_pool is deprecated. Please use tf.nn.max_pool2d instead.\n",
      "\n"
     ]
    }
   ],
   "source": [
    "#Defining hyperparameters\n",
    "batch_Size = 32\n",
    "steps_Per_Epoch = 32\n",
    "numEpochs = 50\n",
    "\n",
    "#Instantating VGG19 model\n",
    "model = VGG19((224,224,3),classes=[3, 5]) #VGG19_dense for revised VGG19, VGG19 for VGG19. Please pay attention to VGG16(), chnage the input shape and class number in VGG.py.\n",
    "\n",
    "#Creating an optimizers\n",
    "adaDelta = keras.optimizers.Adadelta(lr=1.0, rho=0.95)\n",
    "sgd = SGD(lr=0.01, decay=1e-6, momentum=0.95, nesterov=True)\n",
    "model.compile(optimizer = sgd , loss = 'categorical_crossentropy', metrics = ['accuracy'])\n",
    "\n",
    "#Creating early stopping \n",
    "earlystop = EarlyStopping(monitor = 'val_accuracy', min_delta = 0, patience = 50, verbose = 1, mode = 'auto', restore_best_weights = True)       "
   ]
  },
  {
   "cell_type": "code",
   "execution_count": 14,
   "metadata": {},
   "outputs": [],
   "source": [
    "def make_multi_output_flow(image_gen, X, y_list, batch_size):\n",
    "    y_item_0 = y_list[0]\n",
    "    y_indices = np.arange(y_item_0.shape[0])\n",
    "    orig_flow = image_gen.flow(X, y=y_indices, batch_size=batch_size)\n",
    "\n",
    "    while True:\n",
    "        (X, y_next_i) = next(orig_flow)\n",
    "        y_next = [ y_item[y_next_i] for y_item in y_list ]\n",
    "        yield X, y_next\n",
    "\n",
    "y_train_gen = [y_train, y_train2]\n",
    "train_generator = make_multi_output_flow(datagen, x_train, y_train_gen, batch_Size)\n",
    "\n",
    "y_valid_gen = [y_valid, y_valid2]\n",
    "validation_generator = make_multi_output_flow(datagen, x_valid, y_valid_gen, batch_Size)\n",
    "        \n",
    "#train_generator = datagen.flow(x_train, y_train, batch_size = batch_Size)\n",
    "#validation_generator = datagen.flow(x_valid, y_valid, batch_size = batch_Size)"
   ]
  },
  {
   "cell_type": "code",
   "execution_count": 15,
   "metadata": {
    "scrolled": true
   },
   "outputs": [
    {
     "name": "stdout",
     "output_type": "stream",
     "text": [
      "WARNING:tensorflow:From C:\\Users\\hp\\AppData\\Roaming\\Python\\Python36\\site-packages\\keras\\backend\\tensorflow_backend.py:422: The name tf.global_variables is deprecated. Please use tf.compat.v1.global_variables instead.\n",
      "\n",
      "Epoch 1/50\n",
      "32/32 [==============================] - 5s 147ms/step - loss: 2.2346 - predictions_loss: 1.1137 - predictions_branch_loss: 1.1209 - predictions_accuracy: 0.3311 - predictions_branch_accuracy: 0.6348 - val_loss: 1.8063 - val_predictions_loss: 1.1041 - val_predictions_branch_loss: 0.9002 - val_predictions_accuracy: 0.3433 - val_predictions_branch_accuracy: 0.6467\n",
      "Epoch 2/50\n",
      "32/32 [==============================] - 1s 46ms/step - loss: 1.9882 - predictions_loss: 1.0994 - predictions_branch_loss: 0.8888 - predictions_accuracy: 0.3477 - predictions_branch_accuracy: 0.6631 - val_loss: 2.0527 - val_predictions_loss: 1.0974 - val_predictions_branch_loss: 0.8986 - val_predictions_accuracy: 0.3433 - val_predictions_branch_accuracy: 0.6467\n",
      "Epoch 3/50\n",
      "32/32 [==============================] - 1s 46ms/step - loss: 1.9977 - predictions_loss: 1.1049 - predictions_branch_loss: 0.8928 - predictions_accuracy: 0.3232 - predictions_branch_accuracy: 0.6602 - val_loss: 1.8796 - val_predictions_loss: 1.0975 - val_predictions_branch_loss: 0.8962 - val_predictions_accuracy: 0.3433 - val_predictions_branch_accuracy: 0.6467\n",
      "Epoch 4/50\n",
      "32/32 [==============================] - 1s 46ms/step - loss: 1.9826 - predictions_loss: 1.1020 - predictions_branch_loss: 0.8805 - predictions_accuracy: 0.3350 - predictions_branch_accuracy: 0.6670 - val_loss: 2.0373 - val_predictions_loss: 1.1035 - val_predictions_branch_loss: 0.9056 - val_predictions_accuracy: 0.3493 - val_predictions_branch_accuracy: 0.6467\n",
      "Epoch 5/50\n",
      "32/32 [==============================] - 2s 54ms/step - loss: 1.9890 - predictions_loss: 1.1007 - predictions_branch_loss: 0.8883 - predictions_accuracy: 0.3330 - predictions_branch_accuracy: 0.6601 - val_loss: 2.0407 - val_predictions_loss: 1.1001 - val_predictions_branch_loss: 0.8985 - val_predictions_accuracy: 0.3074 - val_predictions_branch_accuracy: 0.6467\n",
      "Epoch 6/50\n",
      "32/32 [==============================] - 1s 47ms/step - loss: 1.9752 - predictions_loss: 1.1001 - predictions_branch_loss: 0.8751 - predictions_accuracy: 0.3350 - predictions_branch_accuracy: 0.6787 - val_loss: 1.9065 - val_predictions_loss: 1.0982 - val_predictions_branch_loss: 0.8960 - val_predictions_accuracy: 0.3433 - val_predictions_branch_accuracy: 0.6467\n",
      "Epoch 7/50\n",
      "32/32 [==============================] - 1s 46ms/step - loss: 1.9634 - predictions_loss: 1.0987 - predictions_branch_loss: 0.8647 - predictions_accuracy: 0.3369 - predictions_branch_accuracy: 0.6807 - val_loss: 1.8440 - val_predictions_loss: 1.0993 - val_predictions_branch_loss: 0.8929 - val_predictions_accuracy: 0.3074 - val_predictions_branch_accuracy: 0.6467\n",
      "Epoch 8/50\n",
      "32/32 [==============================] - 1s 46ms/step - loss: 2.0110 - predictions_loss: 1.0986 - predictions_branch_loss: 0.9125 - predictions_accuracy: 0.3379 - predictions_branch_accuracy: 0.6387 - val_loss: 1.8984 - val_predictions_loss: 1.0978 - val_predictions_branch_loss: 0.8934 - val_predictions_accuracy: 0.3493 - val_predictions_branch_accuracy: 0.6467\n",
      "Epoch 9/50\n",
      "32/32 [==============================] - 1s 46ms/step - loss: 2.0017 - predictions_loss: 1.1009 - predictions_branch_loss: 0.9008 - predictions_accuracy: 0.3369 - predictions_branch_accuracy: 0.6601 - val_loss: 2.0391 - val_predictions_loss: 1.1003 - val_predictions_branch_loss: 0.9004 - val_predictions_accuracy: 0.3074 - val_predictions_branch_accuracy: 0.6467\n",
      "Epoch 10/50\n",
      "32/32 [==============================] - 1s 46ms/step - loss: 1.9871 - predictions_loss: 1.0960 - predictions_branch_loss: 0.8911 - predictions_accuracy: 0.3516 - predictions_branch_accuracy: 0.6670 - val_loss: 2.1788 - val_predictions_loss: 1.0921 - val_predictions_branch_loss: 0.8927 - val_predictions_accuracy: 0.3433 - val_predictions_branch_accuracy: 0.6467\n",
      "Epoch 11/50\n",
      "32/32 [==============================] - 1s 46ms/step - loss: 1.8784 - predictions_loss: 1.0714 - predictions_branch_loss: 0.8070 - predictions_accuracy: 0.4141 - predictions_branch_accuracy: 0.6816 - val_loss: 1.5349 - val_predictions_loss: 1.0487 - val_predictions_branch_loss: 0.8419 - val_predictions_accuracy: 0.4591 - val_predictions_branch_accuracy: 0.6467\n",
      "Epoch 12/50\n",
      "32/32 [==============================] - 1s 46ms/step - loss: 1.8438 - predictions_loss: 1.0023 - predictions_branch_loss: 0.8415 - predictions_accuracy: 0.4941 - predictions_branch_accuracy: 0.6709 - val_loss: 1.8229 - val_predictions_loss: 0.9976 - val_predictions_branch_loss: 0.8479 - val_predictions_accuracy: 0.4810 - val_predictions_branch_accuracy: 0.7066\n",
      "Epoch 13/50\n",
      "32/32 [==============================] - 1s 46ms/step - loss: 1.8194 - predictions_loss: 1.0190 - predictions_branch_loss: 0.8003 - predictions_accuracy: 0.4766 - predictions_branch_accuracy: 0.7021 - val_loss: 2.1760 - val_predictions_loss: 0.9521 - val_predictions_branch_loss: 0.7759 - val_predictions_accuracy: 0.5649 - val_predictions_branch_accuracy: 0.7106\n",
      "Epoch 14/50\n",
      "32/32 [==============================] - 1s 46ms/step - loss: 1.6914 - predictions_loss: 0.9431 - predictions_branch_loss: 0.7484 - predictions_accuracy: 0.5573 - predictions_branch_accuracy: 0.7277 - val_loss: 1.8817 - val_predictions_loss: 0.9136 - val_predictions_branch_loss: 0.7348 - val_predictions_accuracy: 0.5768 - val_predictions_branch_accuracy: 0.7126\n",
      "Epoch 15/50\n",
      "32/32 [==============================] - 1s 46ms/step - loss: 1.5832 - predictions_loss: 0.8811 - predictions_branch_loss: 0.7021 - predictions_accuracy: 0.6094 - predictions_branch_accuracy: 0.7441 - val_loss: 1.6119 - val_predictions_loss: 0.9021 - val_predictions_branch_loss: 0.7148 - val_predictions_accuracy: 0.5828 - val_predictions_branch_accuracy: 0.7146\n",
      "Epoch 16/50\n",
      "32/32 [==============================] - 1s 46ms/step - loss: 1.5793 - predictions_loss: 0.8858 - predictions_branch_loss: 0.6934 - predictions_accuracy: 0.5947 - predictions_branch_accuracy: 0.7412 - val_loss: 1.1928 - val_predictions_loss: 0.8278 - val_predictions_branch_loss: 0.6878 - val_predictions_accuracy: 0.5888 - val_predictions_branch_accuracy: 0.7265\n",
      "Epoch 17/50\n",
      "32/32 [==============================] - 1s 46ms/step - loss: 1.5338 - predictions_loss: 0.8659 - predictions_branch_loss: 0.6679 - predictions_accuracy: 0.5986 - predictions_branch_accuracy: 0.7539 - val_loss: 1.1472 - val_predictions_loss: 0.7784 - val_predictions_branch_loss: 0.6307 - val_predictions_accuracy: 0.6347 - val_predictions_branch_accuracy: 0.7405\n",
      "Epoch 18/50\n",
      "32/32 [==============================] - 1s 46ms/step - loss: 1.5094 - predictions_loss: 0.8169 - predictions_branch_loss: 0.6925 - predictions_accuracy: 0.6592 - predictions_branch_accuracy: 0.7414 - val_loss: 1.6671 - val_predictions_loss: 0.7651 - val_predictions_branch_loss: 0.6403 - val_predictions_accuracy: 0.6507 - val_predictions_branch_accuracy: 0.7465\n",
      "Epoch 19/50\n",
      "32/32 [==============================] - 1s 46ms/step - loss: 1.4159 - predictions_loss: 0.7675 - predictions_branch_loss: 0.6485 - predictions_accuracy: 0.6660 - predictions_branch_accuracy: 0.7578 - val_loss: 1.5592 - val_predictions_loss: 0.7106 - val_predictions_branch_loss: 0.6847 - val_predictions_accuracy: 0.7246 - val_predictions_branch_accuracy: 0.7545\n",
      "Epoch 20/50\n",
      "32/32 [==============================] - 1s 46ms/step - loss: 1.4107 - predictions_loss: 0.7653 - predictions_branch_loss: 0.6454 - predictions_accuracy: 0.6768 - predictions_branch_accuracy: 0.7637 - val_loss: 1.4030 - val_predictions_loss: 0.7658 - val_predictions_branch_loss: 0.6409 - val_predictions_accuracy: 0.6946 - val_predictions_branch_accuracy: 0.7505\n",
      "Epoch 21/50\n",
      "32/32 [==============================] - 1s 46ms/step - loss: 1.4042 - predictions_loss: 0.7437 - predictions_branch_loss: 0.6605 - predictions_accuracy: 0.6914 - predictions_branch_accuracy: 0.7549 - val_loss: 1.6546 - val_predictions_loss: 0.6506 - val_predictions_branch_loss: 0.6192 - val_predictions_accuracy: 0.7186 - val_predictions_branch_accuracy: 0.7505\n",
      "Epoch 22/50\n"
     ]
    },
    {
     "name": "stdout",
     "output_type": "stream",
     "text": [
      "32/32 [==============================] - 1s 46ms/step - loss: 1.3570 - predictions_loss: 0.7524 - predictions_branch_loss: 0.6046 - predictions_accuracy: 0.6836 - predictions_branch_accuracy: 0.7900 - val_loss: 1.2931 - val_predictions_loss: 0.7205 - val_predictions_branch_loss: 0.6332 - val_predictions_accuracy: 0.6906 - val_predictions_branch_accuracy: 0.7505\n",
      "Epoch 23/50\n",
      "32/32 [==============================] - 1s 46ms/step - loss: 1.3067 - predictions_loss: 0.7066 - predictions_branch_loss: 0.6001 - predictions_accuracy: 0.6964 - predictions_branch_accuracy: 0.7884 - val_loss: 1.2388 - val_predictions_loss: 0.6598 - val_predictions_branch_loss: 0.5994 - val_predictions_accuracy: 0.7345 - val_predictions_branch_accuracy: 0.7804\n",
      "Epoch 24/50\n",
      "32/32 [==============================] - 1s 46ms/step - loss: 1.3751 - predictions_loss: 0.7470 - predictions_branch_loss: 0.6281 - predictions_accuracy: 0.6943 - predictions_branch_accuracy: 0.7764 - val_loss: 1.5575 - val_predictions_loss: 0.6585 - val_predictions_branch_loss: 0.6040 - val_predictions_accuracy: 0.7605 - val_predictions_branch_accuracy: 0.7685\n",
      "Epoch 25/50\n",
      "32/32 [==============================] - 1s 47ms/step - loss: 1.2756 - predictions_loss: 0.6989 - predictions_branch_loss: 0.5767 - predictions_accuracy: 0.7246 - predictions_branch_accuracy: 0.8066 - val_loss: 1.3875 - val_predictions_loss: 0.6733 - val_predictions_branch_loss: 0.6064 - val_predictions_accuracy: 0.7545 - val_predictions_branch_accuracy: 0.7545\n",
      "Epoch 26/50\n",
      "32/32 [==============================] - 1s 47ms/step - loss: 1.3149 - predictions_loss: 0.7115 - predictions_branch_loss: 0.6035 - predictions_accuracy: 0.6953 - predictions_branch_accuracy: 0.7725 - val_loss: 0.9757 - val_predictions_loss: 0.7031 - val_predictions_branch_loss: 0.5739 - val_predictions_accuracy: 0.6966 - val_predictions_branch_accuracy: 0.7824\n",
      "Epoch 27/50\n",
      "32/32 [==============================] - 1s 47ms/step - loss: 1.2304 - predictions_loss: 0.6568 - predictions_branch_loss: 0.5736 - predictions_accuracy: 0.7258 - predictions_branch_accuracy: 0.7865 - val_loss: 1.4159 - val_predictions_loss: 0.6962 - val_predictions_branch_loss: 0.6169 - val_predictions_accuracy: 0.7166 - val_predictions_branch_accuracy: 0.7625\n",
      "Epoch 28/50\n",
      "32/32 [==============================] - 1s 46ms/step - loss: 1.3094 - predictions_loss: 0.7188 - predictions_branch_loss: 0.5906 - predictions_accuracy: 0.7031 - predictions_branch_accuracy: 0.7959 - val_loss: 1.4344 - val_predictions_loss: 0.6130 - val_predictions_branch_loss: 0.6076 - val_predictions_accuracy: 0.7645 - val_predictions_branch_accuracy: 0.7844\n",
      "Epoch 29/50\n",
      "32/32 [==============================] - 2s 47ms/step - loss: 1.2946 - predictions_loss: 0.6691 - predictions_branch_loss: 0.6255 - predictions_accuracy: 0.7207 - predictions_branch_accuracy: 0.7695 - val_loss: 1.5666 - val_predictions_loss: 0.6721 - val_predictions_branch_loss: 0.5854 - val_predictions_accuracy: 0.7285 - val_predictions_branch_accuracy: 0.7944\n",
      "Epoch 30/50\n",
      "32/32 [==============================] - 2s 47ms/step - loss: 1.2966 - predictions_loss: 0.6891 - predictions_branch_loss: 0.6076 - predictions_accuracy: 0.7178 - predictions_branch_accuracy: 0.7773 - val_loss: 0.8884 - val_predictions_loss: 0.6639 - val_predictions_branch_loss: 0.5530 - val_predictions_accuracy: 0.7186 - val_predictions_branch_accuracy: 0.8044\n",
      "Epoch 31/50\n",
      "32/32 [==============================] - 1s 46ms/step - loss: 1.2968 - predictions_loss: 0.7131 - predictions_branch_loss: 0.5836 - predictions_accuracy: 0.7052 - predictions_branch_accuracy: 0.7914 - val_loss: 0.8708 - val_predictions_loss: 0.5860 - val_predictions_branch_loss: 0.5454 - val_predictions_accuracy: 0.7605 - val_predictions_branch_accuracy: 0.7944\n",
      "Epoch 32/50\n",
      "32/32 [==============================] - 1s 46ms/step - loss: 1.1905 - predictions_loss: 0.6215 - predictions_branch_loss: 0.5690 - predictions_accuracy: 0.7383 - predictions_branch_accuracy: 0.7920 - val_loss: 1.2234 - val_predictions_loss: 0.6104 - val_predictions_branch_loss: 0.5811 - val_predictions_accuracy: 0.7585 - val_predictions_branch_accuracy: 0.7804\n",
      "Epoch 33/50\n",
      "32/32 [==============================] - 1s 46ms/step - loss: 1.2769 - predictions_loss: 0.6788 - predictions_branch_loss: 0.5981 - predictions_accuracy: 0.7256 - predictions_branch_accuracy: 0.7754 - val_loss: 1.5788 - val_predictions_loss: 0.6531 - val_predictions_branch_loss: 0.5852 - val_predictions_accuracy: 0.7485 - val_predictions_branch_accuracy: 0.7804\n",
      "Epoch 34/50\n",
      "32/32 [==============================] - 1s 46ms/step - loss: 1.2817 - predictions_loss: 0.6711 - predictions_branch_loss: 0.6106 - predictions_accuracy: 0.7354 - predictions_branch_accuracy: 0.7900 - val_loss: 1.3651 - val_predictions_loss: 0.6322 - val_predictions_branch_loss: 0.5864 - val_predictions_accuracy: 0.7665 - val_predictions_branch_accuracy: 0.7745\n",
      "Epoch 35/50\n",
      "32/32 [==============================] - 1s 46ms/step - loss: 1.2095 - predictions_loss: 0.6350 - predictions_branch_loss: 0.5745 - predictions_accuracy: 0.7305 - predictions_branch_accuracy: 0.7891 - val_loss: 1.3704 - val_predictions_loss: 0.6158 - val_predictions_branch_loss: 0.5664 - val_predictions_accuracy: 0.7565 - val_predictions_branch_accuracy: 0.7884\n",
      "Epoch 36/50\n",
      "32/32 [==============================] - 1s 46ms/step - loss: 1.1700 - predictions_loss: 0.6361 - predictions_branch_loss: 0.5339 - predictions_accuracy: 0.7434 - predictions_branch_accuracy: 0.8139 - val_loss: 0.8515 - val_predictions_loss: 0.6030 - val_predictions_branch_loss: 0.5653 - val_predictions_accuracy: 0.7305 - val_predictions_branch_accuracy: 0.7804\n",
      "Epoch 37/50\n",
      "32/32 [==============================] - 1s 46ms/step - loss: 1.3802 - predictions_loss: 0.7306 - predictions_branch_loss: 0.6496 - predictions_accuracy: 0.6924 - predictions_branch_accuracy: 0.7754 - val_loss: 1.1244 - val_predictions_loss: 0.6421 - val_predictions_branch_loss: 0.5788 - val_predictions_accuracy: 0.7445 - val_predictions_branch_accuracy: 0.7884\n",
      "Epoch 38/50\n",
      "32/32 [==============================] - 1s 46ms/step - loss: 1.2861 - predictions_loss: 0.7183 - predictions_branch_loss: 0.5678 - predictions_accuracy: 0.6982 - predictions_branch_accuracy: 0.7842 - val_loss: 1.4572 - val_predictions_loss: 0.8066 - val_predictions_branch_loss: 0.6774 - val_predictions_accuracy: 0.6287 - val_predictions_branch_accuracy: 0.7485\n",
      "Epoch 39/50\n",
      "32/32 [==============================] - 1s 46ms/step - loss: 1.5704 - predictions_loss: 0.8507 - predictions_branch_loss: 0.7197 - predictions_accuracy: 0.6299 - predictions_branch_accuracy: 0.7207 - val_loss: 1.6790 - val_predictions_loss: 0.8031 - val_predictions_branch_loss: 0.6796 - val_predictions_accuracy: 0.6527 - val_predictions_branch_accuracy: 0.7665\n",
      "Epoch 40/50\n",
      "32/32 [==============================] - 1s 46ms/step - loss: 1.4567 - predictions_loss: 0.8048 - predictions_branch_loss: 0.6519 - predictions_accuracy: 0.6572 - predictions_branch_accuracy: 0.7835 - val_loss: 1.6975 - val_predictions_loss: 0.7533 - val_predictions_branch_loss: 0.7093 - val_predictions_accuracy: 0.6806 - val_predictions_branch_accuracy: 0.7385\n",
      "Epoch 41/50\n",
      "32/32 [==============================] - 1s 46ms/step - loss: 1.3327 - predictions_loss: 0.7385 - predictions_branch_loss: 0.5942 - predictions_accuracy: 0.6875 - predictions_branch_accuracy: 0.7900 - val_loss: 1.5124 - val_predictions_loss: 0.6970 - val_predictions_branch_loss: 0.6335 - val_predictions_accuracy: 0.7126 - val_predictions_branch_accuracy: 0.7685\n",
      "Epoch 42/50\n",
      "32/32 [==============================] - 1s 46ms/step - loss: 1.3785 - predictions_loss: 0.7544 - predictions_branch_loss: 0.6241 - predictions_accuracy: 0.6924 - predictions_branch_accuracy: 0.7725 - val_loss: 1.5884 - val_predictions_loss: 0.7299 - val_predictions_branch_loss: 0.6455 - val_predictions_accuracy: 0.6886 - val_predictions_branch_accuracy: 0.7605\n",
      "Epoch 43/50\n",
      "32/32 [==============================] - 1s 46ms/step - loss: 1.4537 - predictions_loss: 0.7527 - predictions_branch_loss: 0.7010 - predictions_accuracy: 0.6709 - predictions_branch_accuracy: 0.7480 - val_loss: 1.1680 - val_predictions_loss: 0.6764 - val_predictions_branch_loss: 0.5775 - val_predictions_accuracy: 0.7445 - val_predictions_branch_accuracy: 0.7924\n"
     ]
    },
    {
     "name": "stdout",
     "output_type": "stream",
     "text": [
      "Epoch 44/50\n",
      "32/32 [==============================] - 1s 46ms/step - loss: 1.3941 - predictions_loss: 0.7810 - predictions_branch_loss: 0.6132 - predictions_accuracy: 0.6562 - predictions_branch_accuracy: 0.7861 - val_loss: 1.6547 - val_predictions_loss: 0.7823 - val_predictions_branch_loss: 0.6431 - val_predictions_accuracy: 0.7006 - val_predictions_branch_accuracy: 0.7725\n",
      "Epoch 45/50\n",
      "32/32 [==============================] - 1s 46ms/step - loss: 1.4902 - predictions_loss: 0.8118 - predictions_branch_loss: 0.6784 - predictions_accuracy: 0.6533 - predictions_branch_accuracy: 0.7561 - val_loss: 1.1159 - val_predictions_loss: 0.8513 - val_predictions_branch_loss: 0.7166 - val_predictions_accuracy: 0.6267 - val_predictions_branch_accuracy: 0.7206\n",
      "Epoch 46/50\n",
      "32/32 [==============================] - 1s 46ms/step - loss: 1.6845 - predictions_loss: 0.9348 - predictions_branch_loss: 0.7497 - predictions_accuracy: 0.5674 - predictions_branch_accuracy: 0.7217 - val_loss: 1.7585 - val_predictions_loss: 0.9507 - val_predictions_branch_loss: 0.7677 - val_predictions_accuracy: 0.5289 - val_predictions_branch_accuracy: 0.6906\n",
      "Epoch 47/50\n",
      "32/32 [==============================] - 1s 46ms/step - loss: 1.6401 - predictions_loss: 0.9112 - predictions_branch_loss: 0.7290 - predictions_accuracy: 0.5732 - predictions_branch_accuracy: 0.7129 - val_loss: 1.5409 - val_predictions_loss: 0.8310 - val_predictions_branch_loss: 0.6733 - val_predictions_accuracy: 0.6228 - val_predictions_branch_accuracy: 0.7565\n",
      "Epoch 48/50\n",
      "32/32 [==============================] - 1s 47ms/step - loss: 1.5101 - predictions_loss: 0.8592 - predictions_branch_loss: 0.6508 - predictions_accuracy: 0.6055 - predictions_branch_accuracy: 0.7510 - val_loss: 1.3039 - val_predictions_loss: 0.8542 - val_predictions_branch_loss: 0.7310 - val_predictions_accuracy: 0.6128 - val_predictions_branch_accuracy: 0.6926\n",
      "Epoch 49/50\n",
      "32/32 [==============================] - 1s 46ms/step - loss: 1.4505 - predictions_loss: 0.7838 - predictions_branch_loss: 0.6667 - predictions_accuracy: 0.6562 - predictions_branch_accuracy: 0.7679 - val_loss: 0.9888 - val_predictions_loss: 0.7366 - val_predictions_branch_loss: 0.6579 - val_predictions_accuracy: 0.7026 - val_predictions_branch_accuracy: 0.7525\n",
      "Epoch 50/50\n",
      "32/32 [==============================] - 1s 46ms/step - loss: 1.3872 - predictions_loss: 0.7631 - predictions_branch_loss: 0.6241 - predictions_accuracy: 0.6631 - predictions_branch_accuracy: 0.7773 - val_loss: 1.0656 - val_predictions_loss: 0.7645 - val_predictions_branch_loss: 0.6417 - val_predictions_accuracy: 0.6826 - val_predictions_branch_accuracy: 0.7565\n"
     ]
    }
   ],
   "source": [
    "# Model training\n",
    "history = model.fit_generator(\n",
    "    train_generator,\n",
    "    steps_per_epoch = steps_Per_Epoch,\n",
    "    validation_data = validation_generator, \n",
    "    validation_steps = 16,\n",
    "    epochs = numEpochs,\n",
    "    shuffle = True, \n",
    "    verbose = 1)"
   ]
  },
  {
   "cell_type": "code",
   "execution_count": 16,
   "metadata": {},
   "outputs": [],
   "source": [
    "modelPath = \"VGG19_COVID19-v2.h5\"\n",
    "resultPath = 'VGG19_COVID19-v2.txt'\n",
    "modelsavePath = 'VGG19_COVID19-v2_MODEL'"
   ]
  },
  {
   "cell_type": "code",
   "execution_count": 17,
   "metadata": {},
   "outputs": [
    {
     "name": "stdout",
     "output_type": "stream",
     "text": [
      "Epoch     0 | LossA: 2.23(+0.00%) \u001b[0m\t| LossAB: 1.81(+0.00%) \u001b[0m\t\n",
      "Epoch     1 | LossA: \u001b[32m1.99(-11.03%) ▼\u001b[0m\t| LossAB: \u001b[91m2.05(+13.64%) ▲\u001b[0m\t\n",
      "Epoch     2 | LossA: \u001b[91m2.00(+0.48%) ▲\u001b[0m\t| LossAB: \u001b[32m1.88(-8.43%) ▼\u001b[0m\t\n",
      "Epoch     3 | LossA: \u001b[32m1.98(-0.76%) ▼\u001b[0m\t| LossAB: \u001b[91m2.04(+8.39%) ▲\u001b[0m\t\n",
      "Epoch     4 | LossA: \u001b[91m1.99(+0.36%) ▲\u001b[0m\t| LossAB: \u001b[91m2.04(+0.16%) ▲\u001b[0m\t\n",
      "Epoch     5 | LossA: \u001b[32m1.98(-0.73%) ▼\u001b[0m\t| LossAB: \u001b[32m1.91(-6.58%) ▼\u001b[0m\t\n",
      "Epoch     6 | LossA: \u001b[32m1.96(-0.60%) ▼\u001b[0m\t| LossAB: \u001b[32m1.84(-3.28%) ▼\u001b[0m\t\n",
      "Epoch     7 | LossA: \u001b[91m2.01(+2.42%) ▲\u001b[0m\t| LossAB: \u001b[91m1.90(+2.95%) ▲\u001b[0m\t\n",
      "Epoch     8 | LossA: \u001b[32m2.00(-0.44%) ▼\u001b[0m\t| LossAB: \u001b[91m2.04(+7.41%) ▲\u001b[0m\t\n",
      "Epoch     9 | LossA: \u001b[32m1.99(-0.75%) ▼\u001b[0m\t| LossAB: \u001b[91m2.18(+6.85%) ▲\u001b[0m\t\n",
      "Epoch    10 | LossA: \u001b[32m1.88(-5.47%) ▼\u001b[0m\t| LossAB: \u001b[32m1.53(-29.55%) ▼\u001b[0m\t\n",
      "Epoch    11 | LossA: \u001b[32m1.84(-1.84%) ▼\u001b[0m\t| LossAB: \u001b[91m1.82(+18.76%) ▲\u001b[0m\t\n",
      "Epoch    12 | LossA: \u001b[32m1.82(-1.32%) ▼\u001b[0m\t| LossAB: \u001b[91m2.18(+19.37%) ▲\u001b[0m\t\n",
      "Epoch    13 | LossA: \u001b[32m1.69(-7.06%) ▼\u001b[0m\t| LossAB: \u001b[32m1.88(-13.53%) ▼\u001b[0m\t\n",
      "Epoch    14 | LossA: \u001b[32m1.58(-6.36%) ▼\u001b[0m\t| LossAB: \u001b[32m1.61(-14.34%) ▼\u001b[0m\t\n",
      "Epoch    15 | LossA: \u001b[32m1.58(-0.25%) ▼\u001b[0m\t| LossAB: \u001b[32m1.19(-26.00%) ▼\u001b[0m\t\n",
      "Epoch    16 | LossA: \u001b[32m1.53(-2.88%) ▼\u001b[0m\t| LossAB: \u001b[32m1.15(-3.82%) ▼\u001b[0m\t\n",
      "Epoch    17 | LossA: \u001b[32m1.51(-1.61%) ▼\u001b[0m\t| LossAB: \u001b[91m1.67(+45.32%) ▲\u001b[0m\t\n",
      "Epoch    18 | LossA: \u001b[32m1.42(-6.18%) ▼\u001b[0m\t| LossAB: \u001b[32m1.56(-6.47%) ▼\u001b[0m\t\n",
      "Epoch    19 | LossA: \u001b[32m1.41(-0.37%) ▼\u001b[0m\t| LossAB: \u001b[32m1.40(-10.02%) ▼\u001b[0m\t\n",
      "Epoch    20 | LossA: \u001b[32m1.40(-0.46%) ▼\u001b[0m\t| LossAB: \u001b[91m1.65(+17.93%) ▲\u001b[0m\t\n",
      "Epoch    21 | LossA: \u001b[32m1.36(-3.36%) ▼\u001b[0m\t| LossAB: \u001b[32m1.29(-21.85%) ▼\u001b[0m\t\n",
      "Epoch    22 | LossA: \u001b[32m1.31(-3.73%) ▼\u001b[0m\t| LossAB: \u001b[32m1.24(-4.20%) ▼\u001b[0m\t\n",
      "Epoch    23 | LossA: \u001b[91m1.38(+5.26%) ▲\u001b[0m\t| LossAB: \u001b[91m1.56(+25.72%) ▲\u001b[0m\t\n",
      "Epoch    24 | LossA: \u001b[32m1.28(-7.24%) ▼\u001b[0m\t| LossAB: \u001b[32m1.39(-10.91%) ▼\u001b[0m\t\n",
      "Epoch    25 | LossA: \u001b[91m1.31(+3.08%) ▲\u001b[0m\t| LossAB: \u001b[32m0.98(-29.68%) ▼\u001b[0m\t\n",
      "Epoch    26 | LossA: \u001b[32m1.23(-6.41%) ▼\u001b[0m\t| LossAB: \u001b[91m1.42(+45.11%) ▲\u001b[0m\t\n",
      "Epoch    27 | LossA: \u001b[91m1.31(+6.40%) ▲\u001b[0m\t| LossAB: \u001b[91m1.43(+1.31%) ▲\u001b[0m\t\n",
      "Epoch    28 | LossA: \u001b[32m1.29(-1.13%) ▼\u001b[0m\t| LossAB: \u001b[91m1.57(+9.21%) ▲\u001b[0m\t\n",
      "Epoch    29 | LossA: \u001b[91m1.30(+0.16%) ▲\u001b[0m\t| LossAB: \u001b[32m0.89(-43.29%) ▼\u001b[0m\t\n",
      "Epoch    30 | LossA: \u001b[91m1.30(+0.05%) ▲\u001b[0m\t| LossAB: \u001b[32m0.87(-1.99%) ▼\u001b[0m\t\n",
      "Epoch    31 | LossA: \u001b[32m1.19(-8.23%) ▼\u001b[0m\t| LossAB: \u001b[91m1.22(+40.49%) ▲\u001b[0m\t\n",
      "Epoch    32 | LossA: \u001b[91m1.28(+7.26%) ▲\u001b[0m\t| LossAB: \u001b[91m1.58(+29.05%) ▲\u001b[0m\t\n",
      "Epoch    33 | LossA: \u001b[91m1.28(+0.37%) ▲\u001b[0m\t| LossAB: \u001b[32m1.37(-13.54%) ▼\u001b[0m\t\n",
      "Epoch    34 | LossA: \u001b[32m1.21(-5.63%) ▼\u001b[0m\t| LossAB: \u001b[91m1.37(+0.39%) ▲\u001b[0m\t\n",
      "Epoch    35 | LossA: \u001b[32m1.17(-3.22%) ▼\u001b[0m\t| LossAB: \u001b[32m0.85(-37.86%) ▼\u001b[0m\t\n",
      "Epoch    36 | LossA: \u001b[91m1.38(+17.91%) ▲\u001b[0m\t| LossAB: \u001b[91m1.12(+32.04%) ▲\u001b[0m\t\n",
      "Epoch    37 | LossA: \u001b[32m1.29(-6.81%) ▼\u001b[0m\t| LossAB: \u001b[91m1.46(+29.60%) ▲\u001b[0m\t\n",
      "Epoch    38 | LossA: \u001b[91m1.57(+22.10%) ▲\u001b[0m\t| LossAB: \u001b[91m1.68(+15.22%) ▲\u001b[0m\t\n",
      "Epoch    39 | LossA: \u001b[32m1.46(-7.20%) ▼\u001b[0m\t| LossAB: \u001b[91m1.70(+1.10%) ▲\u001b[0m\t\n",
      "Epoch    40 | LossA: \u001b[32m1.33(-8.56%) ▼\u001b[0m\t| LossAB: \u001b[32m1.51(-10.90%) ▼\u001b[0m\t\n",
      "Epoch    41 | LossA: \u001b[91m1.38(+3.43%) ▲\u001b[0m\t| LossAB: \u001b[91m1.59(+5.03%) ▲\u001b[0m\t\n",
      "Epoch    42 | LossA: \u001b[91m1.45(+5.46%) ▲\u001b[0m\t| LossAB: \u001b[32m1.17(-26.47%) ▼\u001b[0m\t\n",
      "Epoch    43 | LossA: \u001b[32m1.39(-4.10%) ▼\u001b[0m\t| LossAB: \u001b[91m1.65(+41.67%) ▲\u001b[0m\t\n",
      "Epoch    44 | LossA: \u001b[91m1.49(+6.98%) ▲\u001b[0m\t| LossAB: \u001b[32m1.12(-32.57%) ▼\u001b[0m\t\n",
      "Epoch    45 | LossA: \u001b[91m1.68(+12.95%) ▲\u001b[0m\t| LossAB: \u001b[91m1.76(+57.59%) ▲\u001b[0m\t\n",
      "Epoch    46 | LossA: \u001b[32m1.64(-2.64%) ▼\u001b[0m\t| LossAB: \u001b[32m1.54(-12.37%) ▼\u001b[0m\t\n",
      "Epoch    47 | LossA: \u001b[32m1.51(-7.93%) ▼\u001b[0m\t| LossAB: \u001b[32m1.30(-15.38%) ▼\u001b[0m\t\n",
      "Epoch    48 | LossA: \u001b[32m1.45(-3.92%) ▼\u001b[0m\t| LossAB: \u001b[32m0.99(-24.16%) ▼\u001b[0m\t\n"
     ]
    }
   ],
   "source": [
    "y_test_oh = dense_to_one_hot(y_test, num_clases=3)\n",
    "y_test_oh2 = dense_to_one_hot(y_test2, num_clases=5)\n",
    "\n",
    "# visualizing losses and accuracy\n",
    "train_loss = history.history['loss']\n",
    "val_loss = history.history['val_loss']\n",
    "\n",
    "#Observing the losses but can be commented out as it's not mandatory \n",
    "reporter = lossprettifier.LossPrettifier(show_percentage=True)\n",
    "\n",
    "for i in range(numEpochs-1):\n",
    "    reporter(epoch=i, LossA = train_loss[i], LossAB = val_loss[i])"
   ]
  },
  {
   "cell_type": "code",
   "execution_count": 18,
   "metadata": {},
   "outputs": [
    {
     "name": "stdout",
     "output_type": "stream",
     "text": [
      "300/300 [==============================] - 0s 1ms/step\n",
      "Accuracy: 0.6833333373069763\n",
      "Branch Accuracy: 0.6466666460037231\n"
     ]
    }
   ],
   "source": [
    "# Model evaluation \n",
    "loss, main_loss, aux_loss, main_acc, aux_acc = model.evaluate(x_test, [y_test_oh, y_test_oh2], batch_size=batch_Size)\n",
    "print(\"Accuracy:\", main_acc)\n",
    "print(\"Branch Accuracy:\", aux_acc)\n",
    "\n",
    "#if acc>0.675:\n",
    "model.save_weights(modelPath)\n",
    "model.save(modelsavePath)"
   ]
  },
  {
   "cell_type": "code",
   "execution_count": 19,
   "metadata": {
    "scrolled": true
   },
   "outputs": [
    {
     "name": "stdout",
     "output_type": "stream",
     "text": [
      "              precision    recall  f1-score   support\n",
      "\n",
      "           0       0.69      0.73      0.71       100\n",
      "           1       0.72      0.68      0.70       100\n",
      "           2       0.64      0.64      0.64       100\n",
      "\n",
      "    accuracy                           0.68       300\n",
      "   macro avg       0.68      0.68      0.68       300\n",
      "weighted avg       0.68      0.68      0.68       300\n",
      "\n",
      "------------------------------------\n",
      "              precision    recall  f1-score   support\n",
      "\n",
      "           0       0.79      0.93      0.86       198\n",
      "           1       0.14      0.53      0.22        17\n",
      "           2       0.00      0.00      0.00        41\n",
      "           3       0.00      0.00      0.00        33\n",
      "           4       0.00      0.00      0.00        11\n",
      "\n",
      "    accuracy                           0.65       300\n",
      "   macro avg       0.19      0.29      0.21       300\n",
      "weighted avg       0.53      0.65      0.58       300\n",
      "\n"
     ]
    },
    {
     "name": "stderr",
     "output_type": "stream",
     "text": [
      "C:\\Users\\hp\\Anaconda3\\envs\\wbvenv36\\lib\\site-packages\\sklearn\\metrics\\_classification.py:1245: UndefinedMetricWarning: Precision and F-score are ill-defined and being set to 0.0 in labels with no predicted samples. Use `zero_division` parameter to control this behavior.\n",
      "  _warn_prf(average, modifier, msg_start, len(result))\n",
      "C:\\Users\\hp\\Anaconda3\\envs\\wbvenv36\\lib\\site-packages\\sklearn\\metrics\\_classification.py:1245: UndefinedMetricWarning: Precision and F-score are ill-defined and being set to 0.0 in labels with no predicted samples. Use `zero_division` parameter to control this behavior.\n",
      "  _warn_prf(average, modifier, msg_start, len(result))\n",
      "C:\\Users\\hp\\Anaconda3\\envs\\wbvenv36\\lib\\site-packages\\sklearn\\metrics\\_classification.py:1245: UndefinedMetricWarning: Precision and F-score are ill-defined and being set to 0.0 in labels with no predicted samples. Use `zero_division` parameter to control this behavior.\n",
      "  _warn_prf(average, modifier, msg_start, len(result))\n"
     ]
    }
   ],
   "source": [
    "y_pred, y_pred2 = model.predict(x_test)\n",
    "y_pred = y_pred.reshape(len(y_test), 3)\n",
    "y_pred2 = y_pred2.reshape(len(y_test2), 5)\n",
    "y_pred = np.argmax(y_pred, axis=1)\n",
    "y_pred2 = np.argmax(y_pred2, axis=1)\n",
    "\n",
    "#Print class-wise classification metrics\n",
    "print(classification_report(y_test, y_pred))\n",
    "print(\"------------------------------------\")\n",
    "print(classification_report(y_test2, y_pred2))"
   ]
  },
  {
   "cell_type": "code",
   "execution_count": 20,
   "metadata": {},
   "outputs": [
    {
     "name": "stdout",
     "output_type": "stream",
     "text": [
      "oryginalne\n"
     ]
    },
    {
     "data": {
      "image/png": "[encoded data removed]",
      "text/plain": [
       "<Figure size 432x288 with 2 Axes>"
      ]
     },
     "metadata": {
      "needs_background": "light"
     },
     "output_type": "display_data"
    }
   ],
   "source": [
    "from sklearn.metrics import confusion_matrix, ConfusionMatrixDisplay\n",
    "print(\"oryginalne\")\n",
    "cm = confusion_matrix(y_test, y_pred)\n",
    "disp = ConfusionMatrixDisplay(confusion_matrix=cm, display_labels=np.array(['normal', 'COVID19', 'pneumonia']))\n",
    "disp.plot(cmap='Blues') \n",
    "disp.ax_.set_title(\"COVID prediction\")\n",
    "disp.ax_.get_images()[0].set_clim(0, 100)"
   ]
  },
  {
   "cell_type": "code",
   "execution_count": 21,
   "metadata": {},
   "outputs": [
    {
     "name": "stdout",
     "output_type": "stream",
     "text": [
      "predykcja datasetu\n"
     ]
    },
    {
     "data": {
      "text/plain": [
       "<matplotlib.image.AxesImage at 0x22b95484048>"
      ]
     },
     "execution_count": 21,
     "metadata": {},
     "output_type": "execute_result"
    },
    {
     "data": {
      "image/png": "[encoded data removed]",
      "text/plain": [
       "<Figure size 432x288 with 2 Axes>"
      ]
     },
     "metadata": {
      "needs_background": "light"
     },
     "output_type": "display_data"
    }
   ],
   "source": [
    "print(\"predykcja datasetu\")\n",
    "cm2 = confusion_matrix(y_test2, y_pred2)\n",
    "disp2 = ConfusionMatrixDisplay(confusion_matrix=cm2, display_labels=np.array(['rsna', 'sirm', 'cohen', 'actmed', 'fig1']))\n",
    "disp2.plot(cmap='Purples') \n",
    "disp2.ax_.set_title(\"Dataset prediction\")\n",
    "disp2.ax_.get_images()[0] #.set_clim(0, 100)"
   ]
  }
 ],
 "metadata": {
  "kernelspec": {
   "display_name": "wbvenv36",
   "language": "python",
   "name": "wbvenv36"
  },
  "language_info": {
   "codemirror_mode": {
    "name": "ipython",
    "version": 3
   },
   "file_extension": ".py",
   "mimetype": "text/x-python",
   "name": "python",
   "nbconvert_exporter": "python",
   "pygments_lexer": "ipython3",
   "version": "3.6.12"
  }
 },
 "nbformat": 4,
 "nbformat_minor": 2
}
