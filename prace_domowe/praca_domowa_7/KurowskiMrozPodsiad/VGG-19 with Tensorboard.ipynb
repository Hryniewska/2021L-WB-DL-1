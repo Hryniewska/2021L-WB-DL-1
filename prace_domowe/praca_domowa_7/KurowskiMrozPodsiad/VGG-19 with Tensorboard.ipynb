{
 "cells": [
  {
   "cell_type": "code",
   "execution_count": 1,
   "metadata": {},
   "outputs": [],
   "source": [
    "import cv2\n",
    "import numpy as np\n",
    "import matplotlib.pyplot as plt\n",
    "import os"
   ]
  },
  {
   "cell_type": "code",
   "execution_count": 2,
   "metadata": {},
   "outputs": [
    {
     "name": "stderr",
     "output_type": "stream",
     "text": [
      "Using TensorFlow backend.\n"
     ]
    }
   ],
   "source": [
    "from sys import path\n",
    "path.insert(0,'..')\n",
    "from utils import lossprettifier\n",
    "from Classifier.VGG import *"
   ]
  },
  {
   "cell_type": "code",
   "execution_count": 3,
   "metadata": {},
   "outputs": [],
   "source": [
    "#x_train = np.load('data1/x_train.npy')\n",
    "#y_train = np.load('data1/y_train.npy')\n",
    "#x_test = np.load('data1/x_test.npy')\n",
    "#y_test = np.load('data1/y_test.npy')"
   ]
  },
  {
   "cell_type": "code",
   "execution_count": 4,
   "metadata": {},
   "outputs": [],
   "source": [
    "x_train = np.load('preprocessed/x_train_prep.npy')\n",
    "y_train = np.load('preprocessed/y_train_prep.npy')\n",
    "x_test = np.load('preprocessed/x_test_prep.npy')\n",
    "y_test = np.load('preprocessed/y_test_prep.npy')"
   ]
  },
  {
   "cell_type": "code",
   "execution_count": 5,
   "metadata": {},
   "outputs": [],
   "source": [
    "#x_train = np.load('data1/x_train_prep.npy')\n",
    "#y_train = np.load('data1/y_train_prep.npy')\n",
    "#x_test = np.load('data1/x_test_prep.npy')\n",
    "#y_test = np.load('data1/y_test_prep.npy')"
   ]
  },
  {
   "cell_type": "code",
   "execution_count": 6,
   "metadata": {},
   "outputs": [],
   "source": [
    "#print(x_train.shape)\n",
    "#print(x_test.shape)"
   ]
  },
  {
   "cell_type": "code",
   "execution_count": 7,
   "metadata": {},
   "outputs": [],
   "source": [
    "#print(y_train.shape)\n",
    "#print(y_test.shape)"
   ]
  },
  {
   "cell_type": "code",
   "execution_count": 8,
   "metadata": {},
   "outputs": [],
   "source": [
    "#x_train /= 255????"
   ]
  },
  {
   "cell_type": "code",
   "execution_count": 9,
   "metadata": {},
   "outputs": [],
   "source": [
    "from __future__ import print_function\n",
    "\n",
    "import numpy as np\n",
    "from random import shuffle\n",
    "import time\n",
    "import csv\n",
    "from PIL import Image\n",
    "import os\n",
    "import tensorflow as tf\n",
    "import keras\n",
    "from keras.callbacks import EarlyStopping, LearningRateScheduler\n",
    "from keras import initializers\n",
    "from keras.optimizers import SGD\n",
    "from keras.preprocessing import sequence\n",
    "from keras.utils import np_utils\n",
    "from keras.models import Sequential,load_model,Model\n",
    "from keras.layers import Dense, Dropout, Activation, Flatten\n",
    "from keras.layers import *\n",
    "from keras.callbacks import CSVLogger\n",
    "from keras import callbacks\n",
    "from keras.preprocessing.image import ImageDataGenerator\n",
    "\n",
    "from sklearn.metrics import classification_report\n",
    "from sklearn.model_selection import train_test_split\n",
    "import sklearn.metrics as sklm\n",
    "#import lossprettifier\n",
    "#from VGG import *"
   ]
  },
  {
   "cell_type": "code",
   "execution_count": 10,
   "metadata": {},
   "outputs": [
    {
     "name": "stdout",
     "output_type": "stream",
     "text": [
      "2.2.1\n"
     ]
    }
   ],
   "source": [
    "print(tf.__version__)"
   ]
  },
  {
   "cell_type": "code",
   "execution_count": 11,
   "metadata": {},
   "outputs": [],
   "source": [
    "# for reproducibility\n",
    "np.random.seed(3768)\n",
    "\n",
    "# use this environment flag to change which GPU to use \n",
    "os.environ[\"CUDA_DEVICE_ORDER\"]=\"PCI_BUS_ID\"\n",
    "os.environ[\"CUDA_VISIBLE_DEVICES\"]=\"0\"  # specify which GPU(s) to be used\n",
    "\n",
    "#Get TensorFlow session\n",
    "def get_session(): \n",
    "  config = tf.ConfigProto() \n",
    "  config.gpu_options.allow_growth = True \n",
    "  return tf.Session(config=config) \n",
    "  \n",
    "# One hot encoding of labels \n",
    "def dense_to_one_hot(labels_dense,num_clases=3):\n",
    "  return np.eye(num_clases)[labels_dense]"
   ]
  },
  {
   "cell_type": "code",
   "execution_count": 12,
   "metadata": {},
   "outputs": [],
   "source": [
    "# Preparing training and test sets\n",
    "x_train, x_valid, y_train, y_valid = train_test_split(x_train, y_train, test_size=0.10, random_state=42)"
   ]
  },
  {
   "cell_type": "code",
   "execution_count": 13,
   "metadata": {},
   "outputs": [],
   "source": [
    "y_train = dense_to_one_hot(y_train,num_clases=3)\n",
    "y_valid= dense_to_one_hot(y_valid,num_clases=3)"
   ]
  },
  {
   "cell_type": "code",
   "execution_count": 14,
   "metadata": {
    "scrolled": false
   },
   "outputs": [
    {
     "name": "stderr",
     "output_type": "stream",
     "text": [
      "C:\\Users\\Aleksander Podsiad\\.conda\\envs\\WB_env_tf_1_15_2\\lib\\site-packages\\keras_preprocessing\\image\\image_data_generator.py:349: UserWarning: This ImageDataGenerator specifies `featurewise_std_normalization`, which overrides setting of `featurewise_center`.\n",
      "  warnings.warn('This ImageDataGenerator specifies '\n"
     ]
    }
   ],
   "source": [
    "#Image data generation for the training \n",
    "datagen = ImageDataGenerator(\n",
    "               featurewise_center = False, \n",
    "               samplewise_center = False,  # set each sample mean to 0\n",
    "               featurewise_std_normalization = True,  \n",
    "               samplewise_std_normalization = False)  \n",
    "\n",
    "datagen.fit(x_train) \n",
    "for i in range(len(x_test)):\n",
    "      x_test[i] = datagen.standardize(x_test[i])"
   ]
  },
  {
   "cell_type": "code",
   "execution_count": 15,
   "metadata": {},
   "outputs": [],
   "source": [
    "from keras.callbacks import TensorBoard\n",
    "from keras.callbacks.callbacks import ModelCheckpoint"
   ]
  },
  {
   "cell_type": "code",
   "execution_count": 16,
   "metadata": {},
   "outputs": [],
   "source": [
    "# Load the TensorBoard notebook extension\n",
    "%load_ext tensorboard\n",
    "\n",
    "import datetime"
   ]
  },
  {
   "cell_type": "code",
   "execution_count": 17,
   "metadata": {},
   "outputs": [],
   "source": [
    "class CustomLearningRateScheduler(keras.callbacks.Callback):\n",
    "    \"\"\"Learning rate scheduler which sets the learning rate according to schedule.\n",
    "\n",
    "  Arguments:\n",
    "      schedule: a function that takes an epoch index\n",
    "          (integer, indexed from 0) and current learning rate\n",
    "          as inputs and returns a new learning rate as output (float).\n",
    "  \"\"\"\n",
    "\n",
    "    def __init__(self, schedule):\n",
    "        super(CustomLearningRateScheduler, self).__init__()\n",
    "        self.schedule = schedule\n",
    "\n",
    "    def on_epoch_begin(self, epoch, logs=None):\n",
    "        if not hasattr(self.model.optimizer, \"lr\"):\n",
    "            raise ValueError('Optimizer must have a \"lr\" attribute.')\n",
    "        # Get the current learning rate from model's optimizer.\n",
    "        lr = float(tf.keras.backend.get_value(self.model.optimizer.learning_rate))\n",
    "        # Call schedule function to get the scheduled learning rate.\n",
    "        scheduled_lr = self.schedule(epoch, lr)\n",
    "        # Set the value back to the optimizer before this epoch starts\n",
    "        tf.keras.backend.set_value(self.model.optimizer.lr, scheduled_lr)\n",
    "        print(\"\\nEpoch %05d: Learning rate is %6.4f.\" % (epoch, scheduled_lr))\n",
    "\n",
    "\n",
    "LR_SCHEDULE = [\n",
    "    # (epoch to start, learning rate) tuples\n",
    "    (10, 0.005),\n",
    "    (20, 0.001),\n",
    "    (40, 0.0005),\n",
    "    (50, 0.0001),\n",
    "]\n",
    "\n",
    "\n",
    "def lr_schedule(epoch, lr):\n",
    "    \"\"\"Helper function to retrieve the scheduled learning rate based on epoch.\"\"\"\n",
    "    if epoch < LR_SCHEDULE[0][0] or epoch > LR_SCHEDULE[-1][0]:\n",
    "        return lr\n",
    "    for i in range(len(LR_SCHEDULE)):\n",
    "        if epoch == LR_SCHEDULE[i][0]:\n",
    "            return LR_SCHEDULE[i][1]\n",
    "    return lr"
   ]
  },
  {
   "cell_type": "code",
   "execution_count": 18,
   "metadata": {},
   "outputs": [],
   "source": [
    "# Tensorboard setup\n",
    "log_dir = \"logs/fit/\" + datetime.datetime.now().strftime(\"%Y%m%d-%H%M%S\")\n",
    "tensorboard_callback = tf.keras.callbacks.TensorBoard(\n",
    "    log_dir=log_dir, histogram_freq=1, write_graph=True)\n",
    "earlystop = EarlyStopping(monitor = 'val_accuracy', min_delta = 0, patience = 50, \n",
    "                          verbose = 1, mode = 'auto', restore_best_weights = True) \n",
    "lrs = CustomLearningRateScheduler(lr_schedule)\n",
    "\n",
    "\n",
    "my_callbacks = [tensorboard_callback, earlystop, lrs]"
   ]
  },
  {
   "cell_type": "code",
   "execution_count": 19,
   "metadata": {
    "scrolled": false
   },
   "outputs": [
    {
     "name": "stdout",
     "output_type": "stream",
     "text": [
      "Epoch 1/60\n",
      "\n",
      "Epoch 00000: Learning rate is 0.0100.\n"
     ]
    },
    {
     "name": "stderr",
     "output_type": "stream",
     "text": [
      "C:\\Users\\Aleksander Podsiad\\.conda\\envs\\WB_env_tf_1_15_2\\lib\\site-packages\\keras\\callbacks\\callbacks.py:95: RuntimeWarning: Method (on_train_batch_end) is slow compared to the batch update (0.932507). Check your callbacks.\n",
      "  % (hook_name, delta_t_median), RuntimeWarning)\n"
     ]
    },
    {
     "name": "stdout",
     "output_type": "stream",
     "text": [
      " - 19s - loss: 1.0999 - accuracy: 0.3408 - val_loss: 1.0536 - val_accuracy: 0.3516\n",
      "Epoch 2/60\n",
      "\n",
      "Epoch 00001: Learning rate is 0.0100.\n",
      " - 13s - loss: 1.0763 - accuracy: 0.4213 - val_loss: 1.0269 - val_accuracy: 0.4703\n",
      "Epoch 3/60\n",
      "\n",
      "Epoch 00002: Learning rate is 0.0100.\n",
      " - 15s - loss: 0.9791 - accuracy: 0.5371 - val_loss: 0.9162 - val_accuracy: 0.5447\n",
      "Epoch 4/60\n",
      "\n",
      "Epoch 00003: Learning rate is 0.0100.\n",
      " - 15s - loss: 0.8770 - accuracy: 0.6016 - val_loss: 0.7687 - val_accuracy: 0.6314\n",
      "Epoch 5/60\n",
      "\n",
      "Epoch 00004: Learning rate is 0.0100.\n",
      " - 15s - loss: 0.8456 - accuracy: 0.6221 - val_loss: 0.9383 - val_accuracy: 0.6801\n",
      "Epoch 6/60\n",
      "\n",
      "Epoch 00005: Learning rate is 0.0100.\n",
      " - 15s - loss: 0.8447 - accuracy: 0.6484 - val_loss: 0.8501 - val_accuracy: 0.7073\n",
      "Epoch 7/60\n",
      "\n",
      "Epoch 00006: Learning rate is 0.0100.\n",
      " - 14s - loss: 0.7648 - accuracy: 0.6683 - val_loss: 0.8191 - val_accuracy: 0.6907\n",
      "Epoch 8/60\n",
      "\n",
      "Epoch 00007: Learning rate is 0.0100.\n",
      " - 15s - loss: 0.7627 - accuracy: 0.6719 - val_loss: 0.5986 - val_accuracy: 0.6646\n",
      "Epoch 9/60\n",
      "\n",
      "Epoch 00008: Learning rate is 0.0100.\n",
      " - 14s - loss: 0.7480 - accuracy: 0.6793 - val_loss: 0.8879 - val_accuracy: 0.7267\n",
      "Epoch 10/60\n",
      "\n",
      "Epoch 00009: Learning rate is 0.0100.\n",
      " - 15s - loss: 0.7473 - accuracy: 0.6797 - val_loss: 0.6451 - val_accuracy: 0.7373\n",
      "Epoch 11/60\n",
      "\n",
      "Epoch 00010: Learning rate is 0.0050.\n",
      " - 15s - loss: 0.6964 - accuracy: 0.7139 - val_loss: 0.6252 - val_accuracy: 0.6728\n",
      "Epoch 12/60\n",
      "\n",
      "Epoch 00011: Learning rate is 0.0050.\n",
      " - 15s - loss: 0.6961 - accuracy: 0.7051 - val_loss: 0.7720 - val_accuracy: 0.7225\n",
      "Epoch 13/60\n",
      "\n",
      "Epoch 00012: Learning rate is 0.0050.\n",
      " - 15s - loss: 0.6751 - accuracy: 0.7171 - val_loss: 0.6304 - val_accuracy: 0.7581\n",
      "Epoch 14/60\n",
      "\n",
      "Epoch 00013: Learning rate is 0.0050.\n",
      " - 14s - loss: 0.6566 - accuracy: 0.7171 - val_loss: 0.6208 - val_accuracy: 0.7458\n",
      "Epoch 15/60\n",
      "\n",
      "Epoch 00014: Learning rate is 0.0050.\n",
      " - 15s - loss: 0.6324 - accuracy: 0.7314 - val_loss: 0.4737 - val_accuracy: 0.7288\n",
      "Epoch 16/60\n",
      "\n",
      "Epoch 00015: Learning rate is 0.0050.\n",
      " - 15s - loss: 0.6752 - accuracy: 0.7266 - val_loss: 0.7483 - val_accuracy: 0.7297\n",
      "Epoch 17/60\n",
      "\n",
      "Epoch 00016: Learning rate is 0.0050.\n",
      " - 15s - loss: 0.6325 - accuracy: 0.7460 - val_loss: 0.7679 - val_accuracy: 0.7987\n",
      "Epoch 18/60\n",
      "\n",
      "Epoch 00017: Learning rate is 0.0050.\n",
      " - 15s - loss: 0.6026 - accuracy: 0.7588 - val_loss: 0.4586 - val_accuracy: 0.7642\n",
      "Epoch 19/60\n",
      "\n",
      "Epoch 00018: Learning rate is 0.0050.\n",
      " - 15s - loss: 0.5825 - accuracy: 0.7529 - val_loss: 0.4420 - val_accuracy: 0.7903\n",
      "Epoch 20/60\n",
      "\n",
      "Epoch 00019: Learning rate is 0.0050.\n",
      " - 15s - loss: 0.5646 - accuracy: 0.7842 - val_loss: 0.5294 - val_accuracy: 0.7733\n",
      "Epoch 21/60\n",
      "\n",
      "Epoch 00020: Learning rate is 0.0010.\n",
      " - 15s - loss: 0.6253 - accuracy: 0.7450 - val_loss: 0.5786 - val_accuracy: 0.8049\n",
      "Epoch 22/60\n",
      "\n",
      "Epoch 00021: Learning rate is 0.0010.\n",
      " - 15s - loss: 0.5515 - accuracy: 0.7832 - val_loss: 0.6820 - val_accuracy: 0.7987\n",
      "Epoch 23/60\n",
      "\n",
      "Epoch 00022: Learning rate is 0.0010.\n",
      " - 15s - loss: 0.5102 - accuracy: 0.7910 - val_loss: 0.6418 - val_accuracy: 0.8049\n",
      "Epoch 24/60\n",
      "\n",
      "Epoch 00023: Learning rate is 0.0010.\n",
      " - 14s - loss: 0.5414 - accuracy: 0.7839 - val_loss: 0.5506 - val_accuracy: 0.8114\n",
      "Epoch 25/60\n",
      "\n",
      "Epoch 00024: Learning rate is 0.0010.\n",
      " - 15s - loss: 0.4933 - accuracy: 0.8207 - val_loss: 0.6280 - val_accuracy: 0.8008\n",
      "Epoch 26/60\n",
      "\n",
      "Epoch 00025: Learning rate is 0.0010.\n",
      " - 15s - loss: 0.5050 - accuracy: 0.8018 - val_loss: 0.7133 - val_accuracy: 0.8028\n",
      "Epoch 27/60\n",
      "\n",
      "Epoch 00026: Learning rate is 0.0010.\n",
      " - 16s - loss: 0.5140 - accuracy: 0.8008 - val_loss: 0.7271 - val_accuracy: 0.8199\n",
      "Epoch 28/60\n",
      "\n",
      "Epoch 00027: Learning rate is 0.0010.\n",
      " - 15s - loss: 0.4987 - accuracy: 0.8047 - val_loss: 0.7933 - val_accuracy: 0.8211\n",
      "Epoch 29/60\n",
      "\n",
      "Epoch 00028: Learning rate is 0.0010.\n",
      " - 15s - loss: 0.4630 - accuracy: 0.8227 - val_loss: 0.3326 - val_accuracy: 0.7839\n",
      "Epoch 30/60\n",
      "\n",
      "Epoch 00029: Learning rate is 0.0010.\n",
      " - 15s - loss: 0.4772 - accuracy: 0.8066 - val_loss: 1.0062 - val_accuracy: 0.8220\n",
      "Epoch 31/60\n",
      "\n",
      "Epoch 00030: Learning rate is 0.0010.\n",
      " - 15s - loss: 0.4768 - accuracy: 0.8145 - val_loss: 0.6974 - val_accuracy: 0.7988\n",
      "Epoch 32/60\n",
      "\n",
      "Epoch 00031: Learning rate is 0.0010.\n",
      " - 15s - loss: 0.4628 - accuracy: 0.8217 - val_loss: 0.4700 - val_accuracy: 0.8114\n",
      "Epoch 33/60\n",
      "\n",
      "Epoch 00032: Learning rate is 0.0010.\n",
      " - 15s - loss: 0.4579 - accuracy: 0.8145 - val_loss: 0.5169 - val_accuracy: 0.8293\n",
      "Epoch 34/60\n",
      "\n",
      "Epoch 00033: Learning rate is 0.0010.\n",
      " - 15s - loss: 0.4338 - accuracy: 0.8252 - val_loss: 0.5923 - val_accuracy: 0.8030\n",
      "Epoch 35/60\n",
      "\n",
      "Epoch 00034: Learning rate is 0.0010.\n",
      " - 15s - loss: 0.4319 - accuracy: 0.8237 - val_loss: 1.1703 - val_accuracy: 0.8157\n",
      "Epoch 36/60\n",
      "\n",
      "Epoch 00035: Learning rate is 0.0010.\n",
      " - 15s - loss: 0.4275 - accuracy: 0.8330 - val_loss: 0.8541 - val_accuracy: 0.7927\n",
      "Epoch 37/60\n",
      "\n",
      "Epoch 00036: Learning rate is 0.0010.\n",
      " - 15s - loss: 0.4383 - accuracy: 0.8367 - val_loss: 0.5296 - val_accuracy: 0.8136\n",
      "Epoch 38/60\n",
      "\n",
      "Epoch 00037: Learning rate is 0.0010.\n",
      " - 15s - loss: 0.4106 - accuracy: 0.8406 - val_loss: 0.4581 - val_accuracy: 0.8110\n",
      "Epoch 39/60\n",
      "\n",
      "Epoch 00038: Learning rate is 0.0010.\n",
      " - 15s - loss: 0.4173 - accuracy: 0.8438 - val_loss: 0.5502 - val_accuracy: 0.8008\n",
      "Epoch 40/60\n",
      "\n",
      "Epoch 00039: Learning rate is 0.0010.\n",
      " - 15s - loss: 0.4268 - accuracy: 0.8320 - val_loss: 0.1901 - val_accuracy: 0.8008\n",
      "Epoch 41/60\n",
      "\n",
      "Epoch 00040: Learning rate is 0.0005.\n",
      " - 15s - loss: 0.4128 - accuracy: 0.8486 - val_loss: 0.2604 - val_accuracy: 0.8272\n",
      "Epoch 42/60\n",
      "\n",
      "Epoch 00041: Learning rate is 0.0005.\n",
      " - 15s - loss: 0.3928 - accuracy: 0.8555 - val_loss: 0.6208 - val_accuracy: 0.8093\n",
      "Epoch 43/60\n",
      "\n",
      "Epoch 00042: Learning rate is 0.0005.\n",
      " - 15s - loss: 0.3853 - accuracy: 0.8506 - val_loss: 0.3187 - val_accuracy: 0.8008\n",
      "Epoch 44/60\n",
      "\n",
      "Epoch 00043: Learning rate is 0.0005.\n",
      " - 15s - loss: 0.3668 - accuracy: 0.8545 - val_loss: 0.4236 - val_accuracy: 0.8284\n",
      "Epoch 45/60\n",
      "\n",
      "Epoch 00044: Learning rate is 0.0005.\n",
      " - 15s - loss: 0.3664 - accuracy: 0.8655 - val_loss: 0.2686 - val_accuracy: 0.8051\n",
      "Epoch 46/60\n",
      "\n",
      "Epoch 00045: Learning rate is 0.0005.\n",
      " - 15s - loss: 0.3697 - accuracy: 0.8525 - val_loss: 0.3712 - val_accuracy: 0.8252\n",
      "Epoch 47/60\n",
      "\n",
      "Epoch 00046: Learning rate is 0.0005.\n",
      " - 15s - loss: 0.3487 - accuracy: 0.8799 - val_loss: 0.4800 - val_accuracy: 0.7945\n",
      "Epoch 48/60\n",
      "\n",
      "Epoch 00047: Learning rate is 0.0005.\n",
      " - 15s - loss: 0.4034 - accuracy: 0.8357 - val_loss: 0.3922 - val_accuracy: 0.8089\n",
      "Epoch 49/60\n",
      "\n",
      "Epoch 00048: Learning rate is 0.0005.\n",
      " - 15s - loss: 0.3410 - accuracy: 0.8682 - val_loss: 0.5701 - val_accuracy: 0.8220\n",
      "Epoch 50/60\n",
      "\n",
      "Epoch 00049: Learning rate is 0.0005.\n",
      " - 15s - loss: 0.3768 - accuracy: 0.8635 - val_loss: 0.5130 - val_accuracy: 0.8220\n",
      "Epoch 51/60\n",
      "\n",
      "Epoch 00050: Learning rate is 0.0001.\n",
      " - 15s - loss: 0.3146 - accuracy: 0.8916 - val_loss: 0.5364 - val_accuracy: 0.8171\n",
      "Epoch 52/60\n",
      "\n",
      "Epoch 00051: Learning rate is 0.0001.\n",
      " - 15s - loss: 0.3736 - accuracy: 0.8416 - val_loss: 0.6158 - val_accuracy: 0.8326\n",
      "Epoch 53/60\n",
      "\n",
      "Epoch 00052: Learning rate is 0.0001.\n",
      " - 15s - loss: 0.3414 - accuracy: 0.8750 - val_loss: 0.8664 - val_accuracy: 0.8110\n",
      "Epoch 54/60\n",
      "\n",
      "Epoch 00053: Learning rate is 0.0001.\n",
      " - 15s - loss: 0.3100 - accuracy: 0.8755 - val_loss: 0.2379 - val_accuracy: 0.8114\n",
      "Epoch 55/60\n",
      "\n",
      "Epoch 00054: Learning rate is 0.0001.\n",
      " - 15s - loss: 0.3529 - accuracy: 0.8613 - val_loss: 0.6166 - val_accuracy: 0.8199\n",
      "Epoch 56/60\n",
      "\n",
      "Epoch 00055: Learning rate is 0.0001.\n",
      " - 15s - loss: 0.2992 - accuracy: 0.8809 - val_loss: 0.7881 - val_accuracy: 0.8252\n",
      "Epoch 57/60\n",
      "\n",
      "Epoch 00056: Learning rate is 0.0001.\n",
      " - 15s - loss: 0.3601 - accuracy: 0.8765 - val_loss: 0.4935 - val_accuracy: 0.8242\n",
      "Epoch 58/60\n",
      "\n",
      "Epoch 00057: Learning rate is 0.0001.\n",
      " - 16s - loss: 0.3072 - accuracy: 0.8916 - val_loss: 0.5894 - val_accuracy: 0.8008\n",
      "Epoch 59/60\n",
      "\n",
      "Epoch 00058: Learning rate is 0.0001.\n",
      " - 15s - loss: 0.2816 - accuracy: 0.8955 - val_loss: 0.4251 - val_accuracy: 0.8263\n",
      "Epoch 60/60\n",
      "\n",
      "Epoch 00059: Learning rate is 0.0001.\n",
      " - 15s - loss: 0.3265 - accuracy: 0.8795 - val_loss: 0.1764 - val_accuracy: 0.8178\n"
     ]
    }
   ],
   "source": [
    "#Defining hyperparameters\n",
    "batch_Size = 32\n",
    "steps_Per_Epoch = 32\n",
    "numEpochs = 60\n",
    "\n",
    "#Instantating VGG19 model\n",
    "model = VGG19((224,224,3),3) #VGG19_dense for revised VGG19, VGG19 for VGG19. Please pay attention to VGG16(), chnage the input shape and class number in VGG.py.\n",
    "\n",
    "model.run_eagerly=True\n",
    "\n",
    "#Creating an optimizers\n",
    "adaDelta = keras.optimizers.Adadelta(lr=1.0, rho=0.95)\n",
    "sgd = SGD(lr=0.01, decay=1e-6, momentum=0.95, nesterov=True)\n",
    "model.compile(optimizer = sgd , loss = 'categorical_crossentropy', metrics = ['accuracy'])      \n",
    "\n",
    "train_generator = datagen.flow(x_train, y_train, batch_size = batch_Size)\n",
    "validation_generator = datagen.flow(x_valid, y_valid, batch_size = batch_Size)\n",
    "\n",
    "# Model training\n",
    "history = model.fit(\n",
    "    train_generator,\n",
    "    steps_per_epoch = steps_Per_Epoch,\n",
    "    validation_data = validation_generator, \n",
    "    validation_steps = 16,\n",
    "    epochs = numEpochs,\n",
    "    shuffle = True, \n",
    "    verbose = 2, \n",
    "    callbacks = my_callbacks)"
   ]
  },
  {
   "cell_type": "code",
   "execution_count": 20,
   "metadata": {},
   "outputs": [],
   "source": [
    "modelPath = \"VGG19_COVID19_tboard.h5\"\n",
    "resultPath = 'VGG19_COVID19_tboard.txt'"
   ]
  },
  {
   "cell_type": "code",
   "execution_count": 21,
   "metadata": {},
   "outputs": [],
   "source": [
    "del x_train # clear memory"
   ]
  },
  {
   "cell_type": "code",
   "execution_count": 22,
   "metadata": {
    "scrolled": true
   },
   "outputs": [
    {
     "name": "stdout",
     "output_type": "stream",
     "text": [
      "Epoch     0 | LossA: 1.10(+0.00%) \u001b[0m\t| LossAB: 1.05(+0.00%) \u001b[0m\t\n",
      "Epoch     1 | LossA: \u001b[32m1.08(-1.99%) ▼\u001b[0m\t| LossAB: \u001b[32m1.03(-2.54%) ▼\u001b[0m\t\n",
      "Epoch     2 | LossA: \u001b[32m0.98(-9.18%) ▼\u001b[0m\t| LossAB: \u001b[32m0.92(-10.78%) ▼\u001b[0m\t\n",
      "Epoch     3 | LossA: \u001b[32m0.88(-10.58%) ▼\u001b[0m\t| LossAB: \u001b[32m0.77(-16.10%) ▼\u001b[0m\t\n",
      "Epoch     4 | LossA: \u001b[32m0.85(-3.42%) ▼\u001b[0m\t| LossAB: \u001b[91m0.94(+22.06%) ▲\u001b[0m\t\n",
      "Epoch     5 | LossA: \u001b[32m0.84(-0.10%) ▼\u001b[0m\t| LossAB: \u001b[32m0.85(-9.40%) ▼\u001b[0m\t\n",
      "Epoch     6 | LossA: \u001b[32m0.77(-8.93%) ▼\u001b[0m\t| LossAB: \u001b[32m0.82(-3.65%) ▼\u001b[0m\t\n",
      "Epoch     7 | LossA: \u001b[32m0.76(-0.86%) ▼\u001b[0m\t| LossAB: \u001b[32m0.60(-26.92%) ▼\u001b[0m\t\n",
      "Epoch     8 | LossA: \u001b[32m0.74(-2.74%) ▼\u001b[0m\t| LossAB: \u001b[91m0.89(+48.32%) ▲\u001b[0m\t\n",
      "Epoch     9 | LossA: \u001b[91m0.75(+0.74%) ▲\u001b[0m\t| LossAB: \u001b[32m0.65(-27.34%) ▼\u001b[0m\t\n",
      "Epoch    10 | LossA: \u001b[32m0.70(-6.81%) ▼\u001b[0m\t| LossAB: \u001b[32m0.63(-3.09%) ▼\u001b[0m\t\n",
      "Epoch    11 | LossA: \u001b[32m0.70(-0.03%) ▼\u001b[0m\t| LossAB: \u001b[91m0.77(+23.48%) ▲\u001b[0m\t\n",
      "Epoch    12 | LossA: \u001b[32m0.68(-2.72%) ▼\u001b[0m\t| LossAB: \u001b[32m0.63(-18.34%) ▼\u001b[0m\t\n",
      "Epoch    13 | LossA: \u001b[32m0.66(-3.13%) ▼\u001b[0m\t| LossAB: \u001b[32m0.62(-1.53%) ▼\u001b[0m\t\n",
      "Epoch    14 | LossA: \u001b[32m0.63(-3.59%) ▼\u001b[0m\t| LossAB: \u001b[32m0.47(-23.68%) ▼\u001b[0m\t\n",
      "Epoch    15 | LossA: \u001b[91m0.68(+6.77%) ▲\u001b[0m\t| LossAB: \u001b[91m0.75(+57.96%) ▲\u001b[0m\t\n",
      "Epoch    16 | LossA: \u001b[32m0.64(-5.78%) ▼\u001b[0m\t| LossAB: \u001b[91m0.77(+2.62%) ▲\u001b[0m\t\n",
      "Epoch    17 | LossA: \u001b[32m0.60(-5.28%) ▼\u001b[0m\t| LossAB: \u001b[32m0.46(-40.28%) ▼\u001b[0m\t\n",
      "Epoch    18 | LossA: \u001b[32m0.58(-3.34%) ▼\u001b[0m\t| LossAB: \u001b[32m0.44(-3.61%) ▼\u001b[0m\t\n",
      "Epoch    19 | LossA: \u001b[32m0.56(-3.08%) ▼\u001b[0m\t| LossAB: \u001b[91m0.53(+19.76%) ▲\u001b[0m\t\n",
      "Epoch    20 | LossA: \u001b[91m0.63(+11.11%) ▲\u001b[0m\t| LossAB: \u001b[91m0.58(+9.29%) ▲\u001b[0m\t\n",
      "Epoch    21 | LossA: \u001b[32m0.55(-12.08%) ▼\u001b[0m\t| LossAB: \u001b[91m0.68(+17.88%) ▲\u001b[0m\t\n",
      "Epoch    22 | LossA: \u001b[32m0.51(-7.49%) ▼\u001b[0m\t| LossAB: \u001b[32m0.64(-5.89%) ▼\u001b[0m\t\n",
      "Epoch    23 | LossA: \u001b[91m0.55(+7.13%) ▲\u001b[0m\t| LossAB: \u001b[32m0.55(-14.22%) ▼\u001b[0m\t\n",
      "Epoch    24 | LossA: \u001b[32m0.49(-10.60%) ▼\u001b[0m\t| LossAB: \u001b[91m0.63(+14.06%) ▲\u001b[0m\t\n",
      "Epoch    25 | LossA: \u001b[91m0.51(+3.36%) ▲\u001b[0m\t| LossAB: \u001b[91m0.71(+13.57%) ▲\u001b[0m\t\n",
      "Epoch    26 | LossA: \u001b[91m0.51(+1.77%) ▲\u001b[0m\t| LossAB: \u001b[91m0.73(+1.94%) ▲\u001b[0m\t\n",
      "Epoch    27 | LossA: \u001b[32m0.50(-2.97%) ▼\u001b[0m\t| LossAB: \u001b[91m0.79(+9.11%) ▲\u001b[0m\t\n",
      "Epoch    28 | LossA: \u001b[32m0.47(-6.23%) ▼\u001b[0m\t| LossAB: \u001b[32m0.33(-58.08%) ▼\u001b[0m\t\n",
      "Epoch    29 | LossA: \u001b[91m0.48(+2.05%) ▲\u001b[0m\t| LossAB: \u001b[91m1.01(+202.56%) ▲\u001b[0m\t\n",
      "Epoch    30 | LossA: \u001b[32m0.48(-0.08%) ▼\u001b[0m\t| LossAB: \u001b[32m0.70(-30.69%) ▼\u001b[0m\t\n",
      "Epoch    31 | LossA: \u001b[32m0.46(-2.74%) ▼\u001b[0m\t| LossAB: \u001b[32m0.47(-32.61%) ▼\u001b[0m\t\n",
      "Epoch    32 | LossA: \u001b[32m0.46(-1.27%) ▼\u001b[0m\t| LossAB: \u001b[91m0.52(+9.98%) ▲\u001b[0m\t\n",
      "Epoch    33 | LossA: \u001b[32m0.43(-5.25%) ▼\u001b[0m\t| LossAB: \u001b[91m0.59(+14.59%) ▲\u001b[0m\t\n",
      "Epoch    34 | LossA: \u001b[32m0.43(-0.88%) ▼\u001b[0m\t| LossAB: \u001b[91m1.17(+97.59%) ▲\u001b[0m\t\n",
      "Epoch    35 | LossA: \u001b[32m0.43(-0.58%) ▼\u001b[0m\t| LossAB: \u001b[32m0.85(-27.02%) ▼\u001b[0m\t\n",
      "Epoch    36 | LossA: \u001b[91m0.44(+2.55%) ▲\u001b[0m\t| LossAB: \u001b[32m0.53(-38.00%) ▼\u001b[0m\t\n",
      "Epoch    37 | LossA: \u001b[32m0.41(-6.86%) ▼\u001b[0m\t| LossAB: \u001b[32m0.46(-13.49%) ▼\u001b[0m\t\n",
      "Epoch    38 | LossA: \u001b[91m0.42(+2.20%) ▲\u001b[0m\t| LossAB: \u001b[91m0.55(+20.10%) ▲\u001b[0m\t\n",
      "Epoch    39 | LossA: \u001b[91m0.43(+2.27%) ▲\u001b[0m\t| LossAB: \u001b[32m0.19(-65.44%) ▼\u001b[0m\t\n",
      "Epoch    40 | LossA: \u001b[32m0.41(-3.28%) ▼\u001b[0m\t| LossAB: \u001b[91m0.26(+36.93%) ▲\u001b[0m\t\n",
      "Epoch    41 | LossA: \u001b[32m0.39(-4.85%) ▼\u001b[0m\t| LossAB: \u001b[91m0.62(+138.46%) ▲\u001b[0m\t\n",
      "Epoch    42 | LossA: \u001b[32m0.39(-1.25%) ▼\u001b[0m\t| LossAB: \u001b[32m0.32(-48.66%) ▼\u001b[0m\t\n",
      "Epoch    43 | LossA: \u001b[32m0.37(-5.42%) ▼\u001b[0m\t| LossAB: \u001b[91m0.42(+32.91%) ▲\u001b[0m\t\n",
      "Epoch    44 | LossA: \u001b[91m0.37(+0.13%) ▲\u001b[0m\t| LossAB: \u001b[32m0.27(-36.60%) ▼\u001b[0m\t\n",
      "Epoch    45 | LossA: \u001b[91m0.37(+0.64%) ▲\u001b[0m\t| LossAB: \u001b[91m0.37(+38.23%) ▲\u001b[0m\t\n",
      "Epoch    46 | LossA: \u001b[32m0.35(-5.68%) ▼\u001b[0m\t| LossAB: \u001b[91m0.48(+29.30%) ▲\u001b[0m\t\n",
      "Epoch    47 | LossA: \u001b[91m0.39(+13.13%) ▲\u001b[0m\t| LossAB: \u001b[32m0.39(-18.30%) ▼\u001b[0m\t\n",
      "Epoch    48 | LossA: \u001b[32m0.34(-13.55%) ▼\u001b[0m\t| LossAB: \u001b[91m0.57(+45.37%) ▲\u001b[0m\t\n",
      "Epoch    49 | LossA: \u001b[91m0.37(+9.77%) ▲\u001b[0m\t| LossAB: \u001b[32m0.51(-10.01%) ▼\u001b[0m\t\n",
      "Epoch    50 | LossA: \u001b[32m0.31(-15.95%) ▼\u001b[0m\t| LossAB: \u001b[91m0.54(+4.56%) ▲\u001b[0m\t\n",
      "Epoch    51 | LossA: \u001b[91m0.37(+17.99%) ▲\u001b[0m\t| LossAB: \u001b[91m0.62(+14.81%) ▲\u001b[0m\t\n",
      "Epoch    52 | LossA: \u001b[32m0.34(-8.01%) ▼\u001b[0m\t| LossAB: \u001b[91m0.87(+40.70%) ▲\u001b[0m\t\n",
      "Epoch    53 | LossA: \u001b[32m0.31(-9.34%) ▼\u001b[0m\t| LossAB: \u001b[32m0.24(-72.55%) ▼\u001b[0m\t\n",
      "Epoch    54 | LossA: \u001b[91m0.35(+14.00%) ▲\u001b[0m\t| LossAB: \u001b[91m0.62(+159.23%) ▲\u001b[0m\t\n",
      "Epoch    55 | LossA: \u001b[32m0.30(-15.21%) ▼\u001b[0m\t| LossAB: \u001b[91m0.79(+27.81%) ▲\u001b[0m\t\n",
      "Epoch    56 | LossA: \u001b[91m0.34(+14.32%) ▲\u001b[0m\t| LossAB: \u001b[32m0.49(-37.38%) ▼\u001b[0m\t\n",
      "Epoch    57 | LossA: \u001b[32m0.31(-10.18%) ▼\u001b[0m\t| LossAB: \u001b[91m0.59(+19.42%) ▲\u001b[0m\t\n",
      "Epoch    58 | LossA: \u001b[32m0.28(-8.36%) ▼\u001b[0m\t| LossAB: \u001b[32m0.43(-27.88%) ▼\u001b[0m\t\n",
      "300/300 [==============================] - 1s 4ms/step\n",
      "Accuracy: 0.7733333110809326\n"
     ]
    }
   ],
   "source": [
    "y_test_oh = dense_to_one_hot(y_test, num_clases=3)\n",
    "\n",
    "# visualizing losses and accuracy\n",
    "train_loss = history.history['loss']\n",
    "val_loss = history.history['val_loss']\n",
    "\n",
    "#Observing the losses but can be commented out as it's not mandatory \n",
    "reporter = lossprettifier.LossPrettifier(show_percentage=True)\n",
    "\n",
    "for i in range(numEpochs-1):\n",
    "    reporter(epoch=i, LossA = train_loss[i], LossAB = val_loss[i])\n",
    "\n",
    "# Model evaluation \n",
    "score, acc = model.evaluate(x_test, y_test_oh, batch_size=batch_Size)\n",
    "print(\"Accuracy:\", acc)\n",
    "\n",
    "#if acc>0.675:\n",
    "model.save_weights(modelPath)"
   ]
  },
  {
   "cell_type": "code",
   "execution_count": 23,
   "metadata": {},
   "outputs": [
    {
     "name": "stdout",
     "output_type": "stream",
     "text": [
      "              precision    recall  f1-score   support\n",
      "\n",
      "           0       0.76      0.78      0.77       100\n",
      "           1       0.83      0.85      0.84       100\n",
      "           2       0.73      0.69      0.71       100\n",
      "\n",
      "    accuracy                           0.77       300\n",
      "   macro avg       0.77      0.77      0.77       300\n",
      "weighted avg       0.77      0.77      0.77       300\n",
      "\n"
     ]
    }
   ],
   "source": [
    "y_pred = model.predict(x_test)\n",
    "y_pred = y_pred.reshape(len(y_test), 3)\n",
    "y_pred = np.argmax(y_pred, axis=1)\n",
    "\n",
    "# Writing results on file\n",
    "#f = open(resultPath,'a') #create classification report\n",
    "#f.write(classification_report(y_test, y_pred))\n",
    "#f.write(str(sklm.cohen_kappa_score(y_test, y_pred))+\",\"+str(acc)+\",\"+str(score)+\"\\n\")\n",
    "\n",
    "#f.close()\n",
    "#Print class-wise classification metrics\n",
    "print(classification_report(y_test, y_pred))"
   ]
  },
  {
   "cell_type": "code",
   "execution_count": 24,
   "metadata": {
    "scrolled": true
   },
   "outputs": [
    {
     "data": {
      "image/png": "[encoded data removed]",
      "text/plain": [
       "<Figure size 432x288 with 2 Axes>"
      ]
     },
     "metadata": {
      "needs_background": "light"
     },
     "output_type": "display_data"
    }
   ],
   "source": [
    "from sklearn.metrics import confusion_matrix, ConfusionMatrixDisplay\n",
    "cm = confusion_matrix(y_test, y_pred)\n",
    "disp = ConfusionMatrixDisplay(confusion_matrix=cm, display_labels=np.array(['normal', 'COVID19', 'pneumonia']))\n",
    "disp.plot(cmap='Blues') \n",
    "disp.ax_.get_images()[0].set_clim(0, 100)"
   ]
  },
  {
   "cell_type": "code",
   "execution_count": 25,
   "metadata": {},
   "outputs": [
    {
     "name": "stdout",
     "output_type": "stream",
     "text": [
      "              precision    recall  f1-score   support\n",
      "\n",
      "           0       0.76      0.78      0.77       100\n",
      "           1       0.83      0.85      0.84       100\n",
      "           2       0.73      0.69      0.71       100\n",
      "\n",
      "    accuracy                           0.77       300\n",
      "   macro avg       0.77      0.77      0.77       300\n",
      "weighted avg       0.77      0.77      0.77       300\n",
      "\n"
     ]
    }
   ],
   "source": [
    "vggModel = VGG19((224,224,3),3, False) #set up model architecture\n",
    "\n",
    "#vggModel.summary()\n",
    "vggModel.load_weights(modelPath) #load weights\n",
    "\n",
    "y_pred = vggModel.predict(x_test)\n",
    "y_pred = y_pred.reshape(len(y_test), 3)\n",
    "y_pred = np.argmax(y_pred, axis=1)\n",
    "\n",
    "print(classification_report(y_test, y_pred))"
   ]
  },
  {
   "cell_type": "code",
   "execution_count": 26,
   "metadata": {
    "scrolled": false
   },
   "outputs": [
    {
     "data": {
      "text/plain": [
       "Reusing TensorBoard on port 6006 (pid 19524), started 16:28:26 ago. (Use '!kill 19524' to kill it.)"
      ]
     },
     "metadata": {},
     "output_type": "display_data"
    },
    {
     "data": {
      "text/html": [
       "\n",
       "      <iframe id=\"tensorboard-frame-77b169de5032350f\" width=\"100%\" height=\"800\" frameborder=\"0\">\n",
       "      </iframe>\n",
       "      <script>\n",
       "        (function() {\n",
       "          const frame = document.getElementById(\"tensorboard-frame-77b169de5032350f\");\n",
       "          const url = new URL(\"/\", window.location);\n",
       "          url.port = 6006;\n",
       "          frame.src = url;\n",
       "        })();\n",
       "      </script>\n",
       "  "
      ],
      "text/plain": [
       "<IPython.core.display.HTML object>"
      ]
     },
     "metadata": {},
     "output_type": "display_data"
    }
   ],
   "source": [
    "%tensorboard --logdir logs/fit"
   ]
  }
 ],
 "metadata": {
  "kernelspec": {
   "display_name": "Python 3",
   "language": "python",
   "name": "python3"
  },
  "language_info": {
   "codemirror_mode": {
    "name": "ipython",
    "version": 3
   },
   "file_extension": ".py",
   "mimetype": "text/x-python",
   "name": "python",
   "nbconvert_exporter": "python",
   "pygments_lexer": "ipython3",
   "version": "3.6.12"
  }
 },
 "nbformat": 4,
 "nbformat_minor": 2
}
