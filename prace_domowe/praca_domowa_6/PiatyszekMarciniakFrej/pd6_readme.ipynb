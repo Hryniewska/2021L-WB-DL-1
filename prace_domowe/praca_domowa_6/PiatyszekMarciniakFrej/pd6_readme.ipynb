{
 "cells": [
  {
   "cell_type": "markdown",
   "metadata": {},
   "source": [
    "### PD6\n",
    "#### Piotr Piątyszek, Piotr Marciniak, Adam Frej"
   ]
  },
  {
   "cell_type": "markdown",
   "metadata": {},
   "source": [
    "### Znalezione frameworki"
   ]
  },
  {
   "cell_type": "markdown",
   "metadata": {},
   "source": [
    "#### Innvestigate"
   ]
  },
  {
   "cell_type": "markdown",
   "metadata": {},
   "source": [
    "Udało nam się uruchomić wersję z gałęzi `develop_v2.0`. Biblioteka wymagała od nas zmian w architekturze sieci.\n",
    "Jednak można uznać, że zadziałała."
   ]
  },
  {
   "cell_type": "markdown",
   "metadata": {},
   "source": [
    "#### explAIner\n",
    "Ten projekt ma bardzo ładny artykuł i stronę, ale repozytorium wygląda raczej jak appendix do artykułu, niż biblioteka którą ktoś miał plan maintainować.\n",
    "Rezozytorium ma tylko dwa commity i absolutny brak dokumentacji jak to uruchomić. Demo wygląda na zahardkodowane w kontenerach.  \n",
    "Z uwagi na ilość czasu, jaką ten projekt potrzebuje i małe szanse, że to zadziała zdecydowaliśmy się odrzucić ten framework."
   ]
  },
  {
   "cell_type": "markdown",
   "metadata": {},
   "source": [
    "#### explain-tf\n",
    "Udało nam się uruchomić jedno działające wyjaśnienie z tej paczki oraz wizualizację warstw."
   ]
  },
  {
   "cell_type": "markdown",
   "metadata": {},
   "source": [
    "#### ExplainX\n",
    "Wygląda na już martwy i w issue autorzy twierdzą, że nie działa dla segmentacji jeszcze."
   ]
  },
  {
   "cell_type": "markdown",
   "metadata": {},
   "source": [
    "### Podsumowanie"
   ]
  },
  {
   "cell_type": "markdown",
   "metadata": {},
   "source": [
    "Nie udało nam się znaleźć 3 działająch frameworków, jednak poświęciliśmy dużo pracy na debugowanie i uruchomienie innvestigate i eplain-tf. Konieczne były zmiany w architekturze sieci i ponowne trenowanie.  \n",
    "Mimo, że wyjasnialność na obrazkach jest już czymś oczywistym, to brakuje stabilnych i dobrze udokumentowanych narzędzi do niej."
   ]
  }
 ],
 "metadata": {
  "kernelspec": {
   "display_name": "Python 3",
   "language": "python",
   "name": "python3"
  },
  "language_info": {
   "codemirror_mode": {
    "name": "ipython",
    "version": 3
   },
   "file_extension": ".py",
   "mimetype": "text/x-python",
   "name": "python",
   "nbconvert_exporter": "python",
   "pygments_lexer": "ipython3",
   "version": "3.8.5"
  }
 },
 "nbformat": 4,
 "nbformat_minor": 4
}
