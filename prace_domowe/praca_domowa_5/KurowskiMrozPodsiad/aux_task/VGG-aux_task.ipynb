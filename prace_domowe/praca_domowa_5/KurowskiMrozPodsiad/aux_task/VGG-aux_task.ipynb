{
 "cells": [
  {
   "cell_type": "code",
   "execution_count": 1,
   "metadata": {},
   "outputs": [
    {
     "name": "stdout",
     "output_type": "stream",
     "text": [
      "/home/kurowskik/data_wb_iad/projekt/DeepCOVIDExplainer/noteboks\n"
     ]
    }
   ],
   "source": [
    "#pip install matplotlib\n",
    "import os\n",
    "\n",
    "# Get the current working directory\n",
    "cwd = os.getcwd()\n",
    "print(cwd)\n",
    "os.chdir(\"/home/kurowskik/data_wb_iad/projekt/DeepCOVIDExplainer\")"
   ]
  },
  {
   "cell_type": "code",
   "execution_count": 2,
   "metadata": {},
   "outputs": [],
   "source": [
    "import cv2\n",
    "import numpy as np\n",
    "import matplotlib.pyplot as plt\n",
    "import os"
   ]
  },
  {
   "cell_type": "code",
   "execution_count": 3,
   "metadata": {},
   "outputs": [],
   "source": [
    "x_train = np.load('../../data/x_train_undersampled_sh.npy')\n",
    "y_train = np.load('../../data/y_train_undersampled_sh.npy')\n",
    "x_test = np.load('../../data/x_test_undersampled_sh.npy')\n",
    "y_test = np.load('../../data/y_test_undersampled_sh.npy')"
   ]
  },
  {
   "cell_type": "code",
   "execution_count": 4,
   "metadata": {},
   "outputs": [
    {
     "name": "stdout",
     "output_type": "stream",
     "text": [
      "(5010, 224, 224, 3)\n",
      "(300, 224, 224, 3)\n"
     ]
    }
   ],
   "source": [
    "print(x_train.shape)\n",
    "print(x_test.shape)"
   ]
  },
  {
   "cell_type": "code",
   "execution_count": 5,
   "metadata": {},
   "outputs": [
    {
     "name": "stdout",
     "output_type": "stream",
     "text": [
      "(5010,)\n",
      "(300,)\n"
     ]
    }
   ],
   "source": [
    "print(y_train.shape)\n",
    "print(y_test.shape)"
   ]
  },
  {
   "cell_type": "code",
   "execution_count": 22,
   "metadata": {},
   "outputs": [],
   "source": [
    "# for reproducibility\n",
    "np.random.seed(3768)\n",
    "\n",
    "# use this environment flag to change which GPU to use \n",
    "os.environ[\"CUDA_DEVICE_ORDER\"]=\"PCI_BUS_ID\"\n",
    "os.environ[\"CUDA_VISIBLE_DEVICES\"]=\"0\"  # specify which GPU(s) to be used\n",
    "\n",
    "#Get TensorFlow session\n",
    "def get_session(): \n",
    "    config = tf.ConfigProto() \n",
    "    config.gpu_options.allow_growth = True\n",
    "    return tf.Session(config=config) \n",
    "  \n",
    "# One hot encoding of labels \n",
    "def dense_to_one_hot(labels_dense,num_clases=4):\n",
    "    return np.eye(num_clases)[labels_dense]"
   ]
  },
  {
   "cell_type": "code",
   "execution_count": 7,
   "metadata": {},
   "outputs": [
    {
     "name": "stdout",
     "output_type": "stream",
     "text": [
      "/home/kurowskik/data_wb_iad/projekt/DeepCOVIDExplainer\n"
     ]
    }
   ],
   "source": [
    "#x_train /= 255????\n",
    "import os\n",
    "\n",
    "# Get the current working directory\n",
    "print( os.getcwd())"
   ]
  },
  {
   "cell_type": "code",
   "execution_count": 8,
   "metadata": {},
   "outputs": [],
   "source": [
    "os.chdir('/home/kurowskik/data_wb_iad/projekt/DeepCOVIDExplainer')"
   ]
  },
  {
   "cell_type": "code",
   "execution_count": 9,
   "metadata": {},
   "outputs": [
    {
     "name": "stderr",
     "output_type": "stream",
     "text": [
      "/home/kurowskik/wbiad3.6/lib/python3.6/site-packages/tensorflow/python/framework/dtypes.py:516: FutureWarning: Passing (type, 1) or '1type' as a synonym of type is deprecated; in a future version of numpy, it will be understood as (type, (1,)) / '(1,)type'.\n",
      "  _np_qint8 = np.dtype([(\"qint8\", np.int8, 1)])\n",
      "/home/kurowskik/wbiad3.6/lib/python3.6/site-packages/tensorflow/python/framework/dtypes.py:517: FutureWarning: Passing (type, 1) or '1type' as a synonym of type is deprecated; in a future version of numpy, it will be understood as (type, (1,)) / '(1,)type'.\n",
      "  _np_quint8 = np.dtype([(\"quint8\", np.uint8, 1)])\n",
      "/home/kurowskik/wbiad3.6/lib/python3.6/site-packages/tensorflow/python/framework/dtypes.py:518: FutureWarning: Passing (type, 1) or '1type' as a synonym of type is deprecated; in a future version of numpy, it will be understood as (type, (1,)) / '(1,)type'.\n",
      "  _np_qint16 = np.dtype([(\"qint16\", np.int16, 1)])\n",
      "/home/kurowskik/wbiad3.6/lib/python3.6/site-packages/tensorflow/python/framework/dtypes.py:519: FutureWarning: Passing (type, 1) or '1type' as a synonym of type is deprecated; in a future version of numpy, it will be understood as (type, (1,)) / '(1,)type'.\n",
      "  _np_quint16 = np.dtype([(\"quint16\", np.uint16, 1)])\n",
      "/home/kurowskik/wbiad3.6/lib/python3.6/site-packages/tensorflow/python/framework/dtypes.py:520: FutureWarning: Passing (type, 1) or '1type' as a synonym of type is deprecated; in a future version of numpy, it will be understood as (type, (1,)) / '(1,)type'.\n",
      "  _np_qint32 = np.dtype([(\"qint32\", np.int32, 1)])\n",
      "/home/kurowskik/wbiad3.6/lib/python3.6/site-packages/tensorflow/python/framework/dtypes.py:525: FutureWarning: Passing (type, 1) or '1type' as a synonym of type is deprecated; in a future version of numpy, it will be understood as (type, (1,)) / '(1,)type'.\n",
      "  np_resource = np.dtype([(\"resource\", np.ubyte, 1)])\n",
      "/home/kurowskik/wbiad3.6/lib/python3.6/site-packages/tensorboard/compat/tensorflow_stub/dtypes.py:541: FutureWarning: Passing (type, 1) or '1type' as a synonym of type is deprecated; in a future version of numpy, it will be understood as (type, (1,)) / '(1,)type'.\n",
      "  _np_qint8 = np.dtype([(\"qint8\", np.int8, 1)])\n",
      "/home/kurowskik/wbiad3.6/lib/python3.6/site-packages/tensorboard/compat/tensorflow_stub/dtypes.py:542: FutureWarning: Passing (type, 1) or '1type' as a synonym of type is deprecated; in a future version of numpy, it will be understood as (type, (1,)) / '(1,)type'.\n",
      "  _np_quint8 = np.dtype([(\"quint8\", np.uint8, 1)])\n",
      "/home/kurowskik/wbiad3.6/lib/python3.6/site-packages/tensorboard/compat/tensorflow_stub/dtypes.py:543: FutureWarning: Passing (type, 1) or '1type' as a synonym of type is deprecated; in a future version of numpy, it will be understood as (type, (1,)) / '(1,)type'.\n",
      "  _np_qint16 = np.dtype([(\"qint16\", np.int16, 1)])\n",
      "/home/kurowskik/wbiad3.6/lib/python3.6/site-packages/tensorboard/compat/tensorflow_stub/dtypes.py:544: FutureWarning: Passing (type, 1) or '1type' as a synonym of type is deprecated; in a future version of numpy, it will be understood as (type, (1,)) / '(1,)type'.\n",
      "  _np_quint16 = np.dtype([(\"quint16\", np.uint16, 1)])\n",
      "/home/kurowskik/wbiad3.6/lib/python3.6/site-packages/tensorboard/compat/tensorflow_stub/dtypes.py:545: FutureWarning: Passing (type, 1) or '1type' as a synonym of type is deprecated; in a future version of numpy, it will be understood as (type, (1,)) / '(1,)type'.\n",
      "  _np_qint32 = np.dtype([(\"qint32\", np.int32, 1)])\n",
      "/home/kurowskik/wbiad3.6/lib/python3.6/site-packages/tensorboard/compat/tensorflow_stub/dtypes.py:550: FutureWarning: Passing (type, 1) or '1type' as a synonym of type is deprecated; in a future version of numpy, it will be understood as (type, (1,)) / '(1,)type'.\n",
      "  np_resource = np.dtype([(\"resource\", np.ubyte, 1)])\n",
      "Using TensorFlow backend.\n"
     ]
    }
   ],
   "source": [
    "from __future__ import print_function\n",
    "\n",
    "import numpy as np\n",
    "from random import shuffle\n",
    "import time\n",
    "import csv\n",
    "from PIL import Image\n",
    "import os\n",
    "import tensorflow as tf\n",
    "import keras\n",
    "from keras.callbacks import EarlyStopping, LearningRateScheduler\n",
    "from keras import initializers\n",
    "from keras.optimizers import SGD\n",
    "from keras.preprocessing import sequence\n",
    "from keras.utils import np_utils\n",
    "from keras.models import Sequential,load_model,Model\n",
    "from keras.layers import Dense, Dropout, Activation, Flatten\n",
    "from keras.layers import *\n",
    "from keras.callbacks import CSVLogger\n",
    "from keras import callbacks\n",
    "from keras.preprocessing.image import ImageDataGenerator\n",
    "\n",
    "from sklearn.metrics import classification_report\n",
    "from sklearn.model_selection import train_test_split\n",
    "import sklearn.metrics as sklm\n",
    "from utils import lossprettifier\n",
    "from Classifier import VGG\n",
    "from Classifier.VGG import *"
   ]
  },
  {
   "cell_type": "code",
   "execution_count": 23,
   "metadata": {},
   "outputs": [],
   "source": [
    "# for reproducibility\n",
    "np.random.seed(3768)\n",
    "\n",
    "# use this environment flag to change which GPU to use \n",
    "os.environ[\"CUDA_DEVICE_ORDER\"]=\"PCI_BUS_ID\"\n",
    "os.environ[\"CUDA_VISIBLE_DEVICES\"]=\"0\"  # specify which GPU(s) to be used\n",
    "\n",
    "#Get TensorFlow session\n",
    "def get_session(): \n",
    "    config = tf.ConfigProto() \n",
    "    config.gpu_options.allow_growth = True\n",
    "    return tf.Session(config=config) \n",
    "  \n",
    "# One hot encoding of labels \n",
    "def dense_to_one_hot(labels_dense,num_clases=4):\n",
    "    return np.eye(num_clases)[labels_dense]"
   ]
  },
  {
   "cell_type": "code",
   "execution_count": 10,
   "metadata": {},
   "outputs": [],
   "source": [
    "# Preparing training and test sets\n",
    "x_train, x_valid, y_train, y_valid = train_test_split(x_train, y_train, test_size=0.10, random_state=42)"
   ]
  },
  {
   "cell_type": "code",
   "execution_count": 24,
   "metadata": {},
   "outputs": [],
   "source": [
    "y_train = dense_to_one_hot(y_train,num_clases=4)\n",
    "y_valid= dense_to_one_hot(y_valid,num_clases=4)"
   ]
  },
  {
   "cell_type": "code",
   "execution_count": 20,
   "metadata": {},
   "outputs": [
    {
     "name": "stderr",
     "output_type": "stream",
     "text": [
      "/home/kurowskik/wbiad3.6/lib/python3.6/site-packages/keras/preprocessing/image.py:657: UserWarning: This ImageDataGenerator specifies `featurewise_std_normalization`, which overrides setting of `featurewise_center`.\n",
      "  warnings.warn('This ImageDataGenerator specifies '\n"
     ]
    }
   ],
   "source": [
    "#Image data generation for the training \n",
    "datagen = ImageDataGenerator(\n",
    "               featurewise_center = False, \n",
    "               samplewise_center = False,  # set each sample mean to 0\n",
    "               featurewise_std_normalization = True,  \n",
    "               samplewise_std_normalization = False)  \n",
    "\n",
    "datagen.fit(x_train) \n",
    "for i in range(len(x_test)):\n",
    "      x_test[i] = datagen.standardize(x_test[i])"
   ]
  },
  {
   "cell_type": "code",
   "execution_count": null,
   "metadata": {},
   "outputs": [],
   "source": []
  },
  {
   "cell_type": "code",
   "execution_count": 15,
   "metadata": {},
   "outputs": [],
   "source": [
    "def createOrRestoreModel(): \n",
    "    vggModel = VGG.VGG19((224,224,3),4, False) #set up model architecture\n",
    "\n",
    "    vggModel.summary()\n",
    "    vggModel.load_weights(\"VGG19_transfer2.h5\") #load weights\n",
    "\n",
    "    model = vggModel\n",
    "\n",
    "    return model "
   ]
  },
  {
   "cell_type": "code",
   "execution_count": 18,
   "metadata": {},
   "outputs": [
    {
     "name": "stdout",
     "output_type": "stream",
     "text": [
      "_________________________________________________________________\n",
      "Layer (type)                 Output Shape              Param #   \n",
      "=================================================================\n",
      "input_4 (InputLayer)         (None, 224, 224, 3)       0         \n",
      "_________________________________________________________________\n",
      "block1_conv1 (Conv2D)        (None, 224, 224, 2)       56        \n",
      "_________________________________________________________________\n",
      "block1_conv2 (Conv2D)        (None, 224, 224, 2)       38        \n",
      "_________________________________________________________________\n",
      "block1_pool (MaxPooling2D)   (None, 112, 112, 2)       0         \n",
      "_________________________________________________________________\n",
      "block2_conv1 (Conv2D)        (None, 112, 112, 4)       76        \n",
      "_________________________________________________________________\n",
      "block2_conv2 (Conv2D)        (None, 112, 112, 4)       148       \n",
      "_________________________________________________________________\n",
      "block2_pool (MaxPooling2D)   (None, 56, 56, 4)         0         \n",
      "_________________________________________________________________\n",
      "block3_conv1 (Conv2D)        (None, 56, 56, 8)         296       \n",
      "_________________________________________________________________\n",
      "block3_conv2 (Conv2D)        (None, 56, 56, 8)         584       \n",
      "_________________________________________________________________\n",
      "block3_conv3 (Conv2D)        (None, 56, 56, 8)         584       \n",
      "_________________________________________________________________\n",
      "block3_conv4 (Conv2D)        (None, 56, 56, 8)         584       \n",
      "_________________________________________________________________\n",
      "block3_pool (MaxPooling2D)   (None, 28, 28, 8)         0         \n",
      "_________________________________________________________________\n",
      "block4_conv1 (Conv2D)        (None, 28, 28, 16)        1168      \n",
      "_________________________________________________________________\n",
      "block4_conv2 (Conv2D)        (None, 28, 28, 16)        2320      \n",
      "_________________________________________________________________\n",
      "block4_conv3 (Conv2D)        (None, 28, 28, 16)        2320      \n",
      "_________________________________________________________________\n",
      "block4_conv4 (Conv2D)        (None, 28, 28, 16)        2320      \n",
      "_________________________________________________________________\n",
      "block4_pool (MaxPooling2D)   (None, 14, 14, 16)        0         \n",
      "_________________________________________________________________\n",
      "block5_conv1 (Conv2D)        (None, 14, 14, 16)        2320      \n",
      "_________________________________________________________________\n",
      "block5_conv2 (Conv2D)        (None, 14, 14, 16)        2320      \n",
      "_________________________________________________________________\n",
      "block5_conv3 (Conv2D)        (None, 14, 14, 16)        2320      \n",
      "_________________________________________________________________\n",
      "block5_conv4 (Conv2D)        (None, 14, 14, 16)        2320      \n",
      "_________________________________________________________________\n",
      "block5_pool (MaxPooling2D)   (None, 7, 7, 16)          0         \n",
      "_________________________________________________________________\n",
      "flatten (Flatten)            (None, 784)               0         \n",
      "_________________________________________________________________\n",
      "fc1 (Dense)                  (None, 512)               401920    \n",
      "_________________________________________________________________\n",
      "dropout_4 (Dropout)          (None, 512)               0         \n",
      "_________________________________________________________________\n",
      "fc2 (Dense)                  (None, 128)               65664     \n",
      "_________________________________________________________________\n",
      "Z_4 (Dense)                  (None, 4)                 516       \n",
      "=================================================================\n",
      "Total params: 487,874\n",
      "Trainable params: 487,874\n",
      "Non-trainable params: 0\n",
      "_________________________________________________________________\n"
     ]
    }
   ],
   "source": [
    "model = createOrRestoreModel() "
   ]
  },
  {
   "cell_type": "code",
   "execution_count": null,
   "metadata": {},
   "outputs": [],
   "source": []
  },
  {
   "cell_type": "code",
   "execution_count": 25,
   "metadata": {},
   "outputs": [
    {
     "name": "stdout",
     "output_type": "stream",
     "text": [
      "Epoch 1/50\n",
      "32/32 [==============================] - 18s 551ms/step - loss: 7.5869 - acc: 0.2578 - val_loss: 8.2038 - val_acc: 0.2255\n",
      "Epoch 2/50\n",
      "32/32 [==============================] - 15s 459ms/step - loss: 7.2091 - acc: 0.2676 - val_loss: 8.3003 - val_acc: 0.2275\n",
      "Epoch 3/50\n",
      "32/32 [==============================] - 16s 487ms/step - loss: 7.5868 - acc: 0.2510 - val_loss: 8.3325 - val_acc: 0.2275\n",
      "Epoch 4/50\n",
      "32/32 [==============================] - 15s 483ms/step - loss: 7.7922 - acc: 0.2353 - val_loss: 8.3325 - val_acc: 0.2275\n",
      "Epoch 5/50\n",
      "32/32 [==============================] - 13s 422ms/step - loss: 7.4255 - acc: 0.2308 - val_loss: 8.3325 - val_acc: 0.2275\n",
      "Epoch 6/50\n",
      "32/32 [==============================] - 17s 525ms/step - loss: 7.6498 - acc: 0.2305 - val_loss: 8.3325 - val_acc: 0.2275\n",
      "Epoch 7/50\n",
      "32/32 [==============================] - 14s 426ms/step - loss: 7.3980 - acc: 0.2451 - val_loss: 8.5577 - val_acc: 0.2315\n",
      "Epoch 8/50\n",
      "32/32 [==============================] - 13s 391ms/step - loss: 7.4767 - acc: 0.2764 - val_loss: 8.5577 - val_acc: 0.2315\n",
      "Epoch 9/50\n",
      "32/32 [==============================] - 12s 382ms/step - loss: 7.5554 - acc: 0.2588 - val_loss: 8.5577 - val_acc: 0.2315\n",
      "Epoch 10/50\n",
      "32/32 [==============================] - 12s 379ms/step - loss: 7.6655 - acc: 0.2559 - val_loss: 8.5577 - val_acc: 0.2315\n",
      "Epoch 11/50\n",
      "32/32 [==============================] - 13s 407ms/step - loss: 7.7844 - acc: 0.2343 - val_loss: 8.5577 - val_acc: 0.2315\n",
      "Epoch 12/50\n",
      "32/32 [==============================] - 14s 449ms/step - loss: 7.6498 - acc: 0.2510 - val_loss: 8.5577 - val_acc: 0.2315\n",
      "Epoch 13/50\n",
      "32/32 [==============================] - 14s 430ms/step - loss: 7.3665 - acc: 0.2500 - val_loss: 8.5577 - val_acc: 0.2315\n",
      "Epoch 14/50\n",
      "32/32 [==============================] - 16s 487ms/step - loss: 7.5711 - acc: 0.2676 - val_loss: 8.5577 - val_acc: 0.2315\n",
      "Epoch 15/50\n",
      "32/32 [==============================] - 12s 368ms/step - loss: 7.9489 - acc: 0.2471 - val_loss: 8.5577 - val_acc: 0.2315\n",
      "Epoch 16/50\n",
      "32/32 [==============================] - 12s 364ms/step - loss: 7.3137 - acc: 0.2639 - val_loss: 8.5577 - val_acc: 0.2315\n",
      "Epoch 17/50\n",
      "32/32 [==============================] - 13s 412ms/step - loss: 7.9331 - acc: 0.2539 - val_loss: 8.5577 - val_acc: 0.2315\n",
      "Epoch 18/50\n",
      "32/32 [==============================] - 13s 394ms/step - loss: 7.5081 - acc: 0.2344 - val_loss: 8.5577 - val_acc: 0.2315\n",
      "Epoch 19/50\n",
      "32/32 [==============================] - 13s 399ms/step - loss: 7.4452 - acc: 0.2686 - val_loss: 8.5577 - val_acc: 0.2315\n",
      "Epoch 20/50\n",
      "32/32 [==============================] - 12s 369ms/step - loss: 7.9961 - acc: 0.2246 - val_loss: 8.5577 - val_acc: 0.2315\n",
      "Epoch 21/50\n",
      "32/32 [==============================] - 12s 381ms/step - loss: 7.4609 - acc: 0.2500 - val_loss: 8.5577 - val_acc: 0.2315\n",
      "Epoch 22/50\n",
      "32/32 [==============================] - 13s 409ms/step - loss: 7.5120 - acc: 0.2557 - val_loss: 8.5577 - val_acc: 0.2315\n",
      "Epoch 23/50\n",
      "32/32 [==============================] - 12s 382ms/step - loss: 7.9489 - acc: 0.2598 - val_loss: 8.5577 - val_acc: 0.2315\n",
      "Epoch 24/50\n",
      "32/32 [==============================] - 12s 379ms/step - loss: 7.5891 - acc: 0.2390 - val_loss: 8.5577 - val_acc: 0.2315\n",
      "Epoch 25/50\n",
      "32/32 [==============================] - 13s 405ms/step - loss: 7.5081 - acc: 0.2588 - val_loss: 8.5577 - val_acc: 0.2315\n",
      "Epoch 26/50\n",
      "32/32 [==============================] - 13s 393ms/step - loss: 7.8859 - acc: 0.2500 - val_loss: 8.5577 - val_acc: 0.2315\n",
      "Epoch 27/50\n",
      "32/32 [==============================] - 13s 409ms/step - loss: 7.6970 - acc: 0.2373 - val_loss: 8.5577 - val_acc: 0.2315\n",
      "Epoch 28/50\n",
      "32/32 [==============================] - 12s 376ms/step - loss: 7.4294 - acc: 0.2480 - val_loss: 8.5577 - val_acc: 0.2315\n",
      "Epoch 29/50\n",
      "32/32 [==============================] - 12s 383ms/step - loss: 8.0118 - acc: 0.2549 - val_loss: 8.5577 - val_acc: 0.2315\n",
      "Epoch 30/50\n",
      "32/32 [==============================] - 12s 360ms/step - loss: 7.6553 - acc: 0.2427 - val_loss: 8.5577 - val_acc: 0.2315\n",
      "Epoch 31/50\n",
      "32/32 [==============================] - 12s 361ms/step - loss: 7.3980 - acc: 0.2656 - val_loss: 8.5577 - val_acc: 0.2315\n",
      "Epoch 32/50\n",
      "32/32 [==============================] - 11s 358ms/step - loss: 7.3507 - acc: 0.2383 - val_loss: 8.5577 - val_acc: 0.2315\n",
      "Epoch 33/50\n",
      "32/32 [==============================] - 11s 359ms/step - loss: 7.6970 - acc: 0.2422 - val_loss: 8.5577 - val_acc: 0.2315\n",
      "Epoch 34/50\n",
      "32/32 [==============================] - 13s 394ms/step - loss: 7.6254 - acc: 0.2671 - val_loss: 8.5577 - val_acc: 0.2315\n",
      "Epoch 35/50\n",
      "32/32 [==============================] - 14s 448ms/step - loss: 7.3822 - acc: 0.2500 - val_loss: 8.5577 - val_acc: 0.2315\n",
      "Epoch 36/50\n",
      "32/32 [==============================] - 14s 436ms/step - loss: 7.5718 - acc: 0.2566 - val_loss: 8.5577 - val_acc: 0.2315\n",
      "Epoch 37/50\n",
      "32/32 [==============================] - 14s 450ms/step - loss: 7.8230 - acc: 0.2432 - val_loss: 8.5255 - val_acc: 0.2295\n",
      "Epoch 38/50\n",
      "32/32 [==============================] - 13s 411ms/step - loss: 8.1850 - acc: 0.2627 - val_loss: 8.5899 - val_acc: 0.2295\n",
      "Epoch 39/50\n",
      "32/32 [==============================] - 15s 457ms/step - loss: 7.6970 - acc: 0.2529 - val_loss: 8.5899 - val_acc: 0.2295\n",
      "Epoch 40/50\n",
      "32/32 [==============================] - 17s 520ms/step - loss: 7.7285 - acc: 0.2344 - val_loss: 8.5899 - val_acc: 0.2295\n",
      "Epoch 41/50\n",
      "32/32 [==============================] - 14s 452ms/step - loss: 7.9489 - acc: 0.2510 - val_loss: 8.5899 - val_acc: 0.2295\n",
      "Epoch 42/50\n",
      "32/32 [==============================] - 13s 411ms/step - loss: 7.6655 - acc: 0.2520 - val_loss: 8.5899 - val_acc: 0.2295\n",
      "Epoch 43/50\n",
      "32/32 [==============================] - 14s 451ms/step - loss: 7.6931 - acc: 0.2470 - val_loss: 8.5899 - val_acc: 0.2295\n",
      "Epoch 44/50\n",
      "32/32 [==============================] - 14s 430ms/step - loss: 7.8229 - acc: 0.2705 - val_loss: 8.5899 - val_acc: 0.2295\n",
      "Epoch 45/50\n",
      "32/32 [==============================] - 14s 444ms/step - loss: 7.1618 - acc: 0.2500 - val_loss: 8.5899 - val_acc: 0.2295\n",
      "Epoch 46/50\n",
      "32/32 [==============================] - 13s 394ms/step - loss: 7.7915 - acc: 0.2471 - val_loss: 8.5899 - val_acc: 0.2295\n",
      "Epoch 47/50\n",
      "32/32 [==============================] - 13s 395ms/step - loss: 7.7796 - acc: 0.2461 - val_loss: 8.5899 - val_acc: 0.2295\n",
      "Epoch 48/50\n",
      "32/32 [==============================] - 12s 372ms/step - loss: 7.6970 - acc: 0.2686 - val_loss: 8.5899 - val_acc: 0.2295\n",
      "Epoch 49/50\n",
      "32/32 [==============================] - 12s 380ms/step - loss: 8.0433 - acc: 0.2314 - val_loss: 8.5899 - val_acc: 0.2295\n",
      "Epoch 50/50\n",
      "32/32 [==============================] - 16s 492ms/step - loss: 7.4924 - acc: 0.2393 - val_loss: 8.5899 - val_acc: 0.2295\n"
     ]
    }
   ],
   "source": [
    "#Defining hyperparameters\n",
    "batch_Size = 32\n",
    "steps_Per_Epoch = 32\n",
    "numEpochs = 50\n",
    "\n",
    "#Instantating VGG19 model\n",
    "#model = VGG19((224,224,3),4) #VGG19_dense for revised VGG19, VGG19 for VGG19. Please pay attention to VGG16(), chnage the input shape and class number in VGG.py.\n",
    "\n",
    "#Creating an optimizers\n",
    "adaDelta = keras.optimizers.Adadelta(lr=1.0, rho=0.95)\n",
    "sgd = SGD(lr=0.01, decay=1e-6, momentum=0.95, nesterov=True)\n",
    "model.compile(optimizer = sgd , loss = 'categorical_crossentropy', metrics = ['accuracy'])\n",
    "\n",
    "#Creating early stopping \n",
    "earlystop = EarlyStopping(monitor = 'val_accuracy', min_delta = 0, patience = 50, verbose = 1, mode = 'auto')#, restore_best_weights = True)       \n",
    "\n",
    "train_generator = datagen.flow(x_train, y_train, batch_size = batch_Size)\n",
    "validation_generator = datagen.flow(x_valid, y_valid, batch_size = batch_Size)\n",
    "\n",
    "# Model training\n",
    "history = model.fit_generator(\n",
    "    train_generator,\n",
    "    steps_per_epoch = steps_Per_Epoch,\n",
    "    validation_data = validation_generator, \n",
    "    validation_steps = 16,\n",
    "    epochs = numEpochs,\n",
    "    shuffle = True, \n",
    "    verbose = 1)"
   ]
  },
  {
   "cell_type": "code",
   "execution_count": 27,
   "metadata": {},
   "outputs": [],
   "source": [
    "modelPath = \"VGG19_transfer_done.h5\"\n",
    "resultPath = 'VGG19_transfer_done.txt'"
   ]
  },
  {
   "cell_type": "code",
   "execution_count": 28,
   "metadata": {},
   "outputs": [
    {
     "name": "stdout",
     "output_type": "stream",
     "text": [
      "Epoch     0 | LossA: 7.59(+0.00%) \u001b[0m\t| LossAB: 8.20(+0.00%) \u001b[0m\t\n",
      "Epoch     1 | LossA: \u001b[32m7.21(-4.98%) ▼\u001b[0m\t| LossAB: \u001b[91m8.30(+1.18%) ▲\u001b[0m\t\n",
      "Epoch     2 | LossA: \u001b[91m7.59(+5.24%) ▲\u001b[0m\t| LossAB: \u001b[91m8.33(+0.39%) ▲\u001b[0m\t\n",
      "Epoch     3 | LossA: \u001b[91m7.80(+2.79%) ▲\u001b[0m\t| LossAB: \u001b[91m8.33(+0.00%) ▲\u001b[0m\t\n",
      "Epoch     4 | LossA: \u001b[32m7.42(-4.86%) ▼\u001b[0m\t| LossAB: 8.33(+0.00%) \u001b[0m\t\n",
      "Epoch     5 | LossA: \u001b[91m7.65(+3.10%) ▲\u001b[0m\t| LossAB: \u001b[91m8.33(+0.00%) ▲\u001b[0m\t\n",
      "Epoch     6 | LossA: \u001b[32m7.40(-3.29%) ▼\u001b[0m\t| LossAB: \u001b[91m8.56(+2.70%) ▲\u001b[0m\t\n",
      "Epoch     7 | LossA: \u001b[91m7.48(+1.06%) ▲\u001b[0m\t| LossAB: \u001b[32m8.56(-0.00%) ▼\u001b[0m\t\n",
      "Epoch     8 | LossA: \u001b[91m7.56(+1.05%) ▲\u001b[0m\t| LossAB: \u001b[32m8.56(-0.00%) ▼\u001b[0m\t\n",
      "Epoch     9 | LossA: \u001b[91m7.67(+1.46%) ▲\u001b[0m\t| LossAB: 8.56(+0.00%) \u001b[0m\t\n",
      "Epoch    10 | LossA: \u001b[91m7.78(+1.53%) ▲\u001b[0m\t| LossAB: \u001b[91m8.56(+0.00%) ▲\u001b[0m\t\n",
      "Epoch    11 | LossA: \u001b[32m7.65(-1.71%) ▼\u001b[0m\t| LossAB: \u001b[91m8.56(+0.00%) ▲\u001b[0m\t\n",
      "Epoch    12 | LossA: \u001b[32m7.37(-3.70%) ▼\u001b[0m\t| LossAB: \u001b[32m8.56(-0.00%) ▼\u001b[0m\t\n",
      "Epoch    13 | LossA: \u001b[91m7.57(+2.78%) ▲\u001b[0m\t| LossAB: \u001b[32m8.56(-0.00%) ▼\u001b[0m\t\n",
      "Epoch    14 | LossA: \u001b[91m7.95(+4.99%) ▲\u001b[0m\t| LossAB: \u001b[91m8.56(+0.00%) ▲\u001b[0m\t\n",
      "Epoch    15 | LossA: \u001b[32m7.31(-8.05%) ▼\u001b[0m\t| LossAB: \u001b[32m8.56(-0.00%) ▼\u001b[0m\t\n",
      "Epoch    16 | LossA: \u001b[91m7.93(+8.54%) ▲\u001b[0m\t| LossAB: \u001b[91m8.56(+0.00%) ▲\u001b[0m\t\n",
      "Epoch    17 | LossA: \u001b[32m7.51(-5.36%) ▼\u001b[0m\t| LossAB: \u001b[91m8.56(+0.00%) ▲\u001b[0m\t\n",
      "Epoch    18 | LossA: \u001b[32m7.45(-0.84%) ▼\u001b[0m\t| LossAB: \u001b[32m8.56(-0.00%) ▼\u001b[0m\t\n",
      "Epoch    19 | LossA: \u001b[91m8.00(+7.40%) ▲\u001b[0m\t| LossAB: \u001b[32m8.56(-0.00%) ▼\u001b[0m\t\n",
      "Epoch    20 | LossA: \u001b[32m7.46(-6.69%) ▼\u001b[0m\t| LossAB: \u001b[91m8.56(+0.00%) ▲\u001b[0m\t\n",
      "Epoch    21 | LossA: \u001b[91m7.51(+0.72%) ▲\u001b[0m\t| LossAB: 8.56(+0.00%) \u001b[0m\t\n",
      "Epoch    22 | LossA: \u001b[91m7.95(+5.78%) ▲\u001b[0m\t| LossAB: 8.56(+0.00%) \u001b[0m\t\n",
      "Epoch    23 | LossA: \u001b[32m7.59(-4.47%) ▼\u001b[0m\t| LossAB: \u001b[91m8.56(+0.00%) ▲\u001b[0m\t\n",
      "Epoch    24 | LossA: \u001b[32m7.51(-1.12%) ▼\u001b[0m\t| LossAB: \u001b[91m8.56(+0.00%) ▲\u001b[0m\t\n",
      "Epoch    25 | LossA: \u001b[91m7.89(+5.03%) ▲\u001b[0m\t| LossAB: \u001b[32m8.56(-0.00%) ▼\u001b[0m\t\n",
      "Epoch    26 | LossA: \u001b[32m7.70(-2.40%) ▼\u001b[0m\t| LossAB: \u001b[32m8.56(-0.00%) ▼\u001b[0m\t\n",
      "Epoch    27 | LossA: \u001b[32m7.43(-3.48%) ▼\u001b[0m\t| LossAB: \u001b[91m8.56(+0.00%) ▲\u001b[0m\t\n",
      "Epoch    28 | LossA: \u001b[91m8.01(+7.84%) ▲\u001b[0m\t| LossAB: \u001b[32m8.56(-0.00%) ▼\u001b[0m\t\n",
      "Epoch    29 | LossA: \u001b[32m7.66(-4.44%) ▼\u001b[0m\t| LossAB: \u001b[32m8.56(-0.00%) ▼\u001b[0m\t\n",
      "Epoch    30 | LossA: \u001b[32m7.40(-3.38%) ▼\u001b[0m\t| LossAB: \u001b[91m8.56(+0.00%) ▲\u001b[0m\t\n",
      "Epoch    31 | LossA: \u001b[32m7.35(-0.64%) ▼\u001b[0m\t| LossAB: 8.56(+0.00%) \u001b[0m\t\n",
      "Epoch    32 | LossA: \u001b[91m7.70(+4.71%) ▲\u001b[0m\t| LossAB: \u001b[91m8.56(+0.00%) ▲\u001b[0m\t\n",
      "Epoch    33 | LossA: \u001b[32m7.62(-0.94%) ▼\u001b[0m\t| LossAB: \u001b[32m8.56(-0.00%) ▼\u001b[0m\t\n",
      "Epoch    34 | LossA: \u001b[32m7.38(-3.18%) ▼\u001b[0m\t| LossAB: \u001b[91m8.56(+0.00%) ▲\u001b[0m\t\n",
      "Epoch    35 | LossA: \u001b[91m7.58(+2.65%) ▲\u001b[0m\t| LossAB: \u001b[32m8.56(-0.00%) ▼\u001b[0m\t\n",
      "Epoch    36 | LossA: \u001b[91m7.82(+3.24%) ▲\u001b[0m\t| LossAB: \u001b[32m8.53(-0.38%) ▼\u001b[0m\t\n",
      "Epoch    37 | LossA: \u001b[91m8.18(+4.63%) ▲\u001b[0m\t| LossAB: \u001b[91m8.59(+0.75%) ▲\u001b[0m\t\n",
      "Epoch    38 | LossA: \u001b[32m7.70(-5.96%) ▼\u001b[0m\t| LossAB: \u001b[91m8.59(+0.00%) ▲\u001b[0m\t\n",
      "Epoch    39 | LossA: \u001b[91m7.73(+0.41%) ▲\u001b[0m\t| LossAB: 8.59(+0.00%) \u001b[0m\t\n",
      "Epoch    40 | LossA: \u001b[91m7.95(+2.85%) ▲\u001b[0m\t| LossAB: \u001b[32m8.59(-0.00%) ▼\u001b[0m\t\n",
      "Epoch    41 | LossA: \u001b[32m7.67(-3.56%) ▼\u001b[0m\t| LossAB: \u001b[91m8.59(+0.00%) ▲\u001b[0m\t\n",
      "Epoch    42 | LossA: \u001b[91m7.69(+0.29%) ▲\u001b[0m\t| LossAB: \u001b[91m8.59(+0.00%) ▲\u001b[0m\t\n",
      "Epoch    43 | LossA: \u001b[91m7.82(+1.75%) ▲\u001b[0m\t| LossAB: \u001b[91m8.59(+0.00%) ▲\u001b[0m\t\n",
      "Epoch    44 | LossA: \u001b[32m7.16(-8.45%) ▼\u001b[0m\t| LossAB: \u001b[32m8.59(-0.00%) ▼\u001b[0m\t\n",
      "Epoch    45 | LossA: \u001b[91m7.79(+8.79%) ▲\u001b[0m\t| LossAB: \u001b[91m8.59(+0.00%) ▲\u001b[0m\t\n",
      "Epoch    46 | LossA: \u001b[32m7.78(-0.11%) ▼\u001b[0m\t| LossAB: 8.59(+0.00%) \u001b[0m\t\n",
      "Epoch    47 | LossA: \u001b[32m7.70(-1.10%) ▼\u001b[0m\t| LossAB: \u001b[91m8.59(+0.00%) ▲\u001b[0m\t\n",
      "Epoch    48 | LossA: \u001b[91m8.04(+4.50%) ▲\u001b[0m\t| LossAB: \u001b[32m8.59(-0.00%) ▼\u001b[0m\t\n",
      "300/300 [==============================] - 1s 4ms/step\n",
      "Accuracy: 0.24666666666666667\n"
     ]
    }
   ],
   "source": [
    "y_test_oh = dense_to_one_hot(y_test, num_clases=4)\n",
    "\n",
    "# visualizing losses and accuracy\n",
    "train_loss = history.history['loss']\n",
    "val_loss = history.history['val_loss']\n",
    "\n",
    "#Observing the losses but can be commented out as it's not mandatory \n",
    "reporter = lossprettifier.LossPrettifier(show_percentage=True)\n",
    "\n",
    "for i in range(numEpochs-1):\n",
    "    reporter(epoch=i, LossA = train_loss[i], LossAB = val_loss[i])\n",
    "\n",
    "# Model evaluation \n",
    "#score, acc = model.evaluate(x_test, y_test_oh, batch_size=batch_Size)\n",
    "score, acc = model.evaluate(x_test, y_test_oh, batch_size=batch_Size)\n",
    "print(\"Accuracy:\", acc)\n",
    "\n",
    "#if acc>0.675:\n",
    "model.save_weights(modelPath)"
   ]
  },
  {
   "cell_type": "code",
   "execution_count": 29,
   "metadata": {},
   "outputs": [
    {
     "name": "stdout",
     "output_type": "stream",
     "text": [
      "              precision    recall  f1-score   support\n",
      "\n",
      "           0       0.28      0.64      0.39       100\n",
      "           1       0.14      0.10      0.12       100\n",
      "           2       0.00      0.00      0.00       100\n",
      "\n",
      "    accuracy                           0.25       300\n",
      "   macro avg       0.14      0.25      0.17       300\n",
      "weighted avg       0.14      0.25      0.17       300\n",
      "\n"
     ]
    },
    {
     "name": "stderr",
     "output_type": "stream",
     "text": [
      "/home/kurowskik/wbiad3.6/lib/python3.6/site-packages/sklearn/metrics/_classification.py:1272: UndefinedMetricWarning: Precision and F-score are ill-defined and being set to 0.0 in labels with no predicted samples. Use `zero_division` parameter to control this behavior.\n",
      "  _warn_prf(average, modifier, msg_start, len(result))\n"
     ]
    }
   ],
   "source": [
    "y_pred = model.predict(x_test)\n",
    "y_pred = y_pred.reshape(len(y_test), 4)\n",
    "y_pred = np.argmax(y_pred, axis=1)\n",
    "\n",
    "# Writing results on file\n",
    "f = open(resultPath,'a') #create classification report\n",
    "f.write(classification_report(y_test, y_pred))\n",
    "f.write(str(sklm.cohen_kappa_score(y_test, y_pred))+\",\"+str(acc)+\",\"+str(score)+\"\\n\")\n",
    "\n",
    "#Print class-wise classification metrics\n",
    "print(classification_report(y_test, y_pred))"
   ]
  },
  {
   "cell_type": "code",
   "execution_count": 21,
   "metadata": {},
   "outputs": [
    {
     "name": "stdout",
     "output_type": "stream",
     "text": [
      "_________________________________________________________________\n",
      "Layer (type)                 Output Shape              Param #   \n",
      "=================================================================\n",
      "input_1 (InputLayer)         (None, 224, 224, 3)       0         \n",
      "_________________________________________________________________\n",
      "block1_conv1 (Conv2D)        (None, 224, 224, 2)       56        \n",
      "_________________________________________________________________\n",
      "block1_conv2 (Conv2D)        (None, 224, 224, 2)       38        \n",
      "_________________________________________________________________\n",
      "block1_pool (MaxPooling2D)   (None, 112, 112, 2)       0         \n",
      "_________________________________________________________________\n",
      "block2_conv1 (Conv2D)        (None, 112, 112, 4)       76        \n",
      "_________________________________________________________________\n",
      "block2_conv2 (Conv2D)        (None, 112, 112, 4)       148       \n",
      "_________________________________________________________________\n",
      "block2_pool (MaxPooling2D)   (None, 56, 56, 4)         0         \n",
      "_________________________________________________________________\n",
      "block3_conv1 (Conv2D)        (None, 56, 56, 8)         296       \n",
      "_________________________________________________________________\n",
      "block3_conv2 (Conv2D)        (None, 56, 56, 8)         584       \n",
      "_________________________________________________________________\n",
      "block3_conv3 (Conv2D)        (None, 56, 56, 8)         584       \n",
      "_________________________________________________________________\n",
      "block3_conv4 (Conv2D)        (None, 56, 56, 8)         584       \n",
      "_________________________________________________________________\n",
      "block3_pool (MaxPooling2D)   (None, 28, 28, 8)         0         \n",
      "_________________________________________________________________\n",
      "block4_conv1 (Conv2D)        (None, 28, 28, 16)        1168      \n",
      "_________________________________________________________________\n",
      "block4_conv2 (Conv2D)        (None, 28, 28, 16)        2320      \n",
      "_________________________________________________________________\n",
      "block4_conv3 (Conv2D)        (None, 28, 28, 16)        2320      \n",
      "_________________________________________________________________\n",
      "block4_conv4 (Conv2D)        (None, 28, 28, 16)        2320      \n",
      "_________________________________________________________________\n",
      "block4_pool (MaxPooling2D)   (None, 14, 14, 16)        0         \n",
      "_________________________________________________________________\n",
      "block5_conv1 (Conv2D)        (None, 14, 14, 16)        2320      \n",
      "_________________________________________________________________\n",
      "block5_conv2 (Conv2D)        (None, 14, 14, 16)        2320      \n",
      "_________________________________________________________________\n",
      "block5_conv3 (Conv2D)        (None, 14, 14, 16)        2320      \n",
      "_________________________________________________________________\n",
      "block5_conv4 (Conv2D)        (None, 14, 14, 16)        2320      \n",
      "_________________________________________________________________\n",
      "block5_pool (MaxPooling2D)   (None, 7, 7, 16)          0         \n",
      "_________________________________________________________________\n",
      "flatten (Flatten)            (None, 784)               0         \n",
      "_________________________________________________________________\n",
      "fc1 (Dense)                  (None, 512)               401920    \n",
      "_________________________________________________________________\n",
      "dropout_1 (Dropout)          (None, 512)               0         \n",
      "_________________________________________________________________\n",
      "fc2 (Dense)                  (None, 128)               65664     \n",
      "_________________________________________________________________\n",
      "predictions (Dense)          (None, 4)                 516       \n",
      "=================================================================\n",
      "Total params: 487,874\n",
      "Trainable params: 487,874\n",
      "Non-trainable params: 0\n",
      "_________________________________________________________________\n"
     ]
    }
   ],
   "source": [
    "model.summary()"
   ]
  },
  {
   "cell_type": "code",
   "execution_count": 30,
   "metadata": {},
   "outputs": [
    {
     "data": {
      "image/png": "[encoded data removed]",
      "text/plain": [
       "<Figure size 432x288 with 2 Axes>"
      ]
     },
     "metadata": {
      "needs_background": "light"
     },
     "output_type": "display_data"
    }
   ],
   "source": [
    "from sklearn.metrics import confusion_matrix, ConfusionMatrixDisplay\n",
    "cm = confusion_matrix(y_test, y_pred)\n",
    "disp = ConfusionMatrixDisplay(confusion_matrix=cm, display_labels=np.array(['normal', 'COVID19', 'pneumonia']))\n",
    "disp.plot(cmap='Blues') \n",
    "disp.ax_.get_images()[0].set_clim(0, 100)"
   ]
  }
 ],
 "metadata": {
  "kernelspec": {
   "display_name": "wbiad3.6",
   "language": "python",
   "name": "wbiad3.6"
  },
  "language_info": {
   "codemirror_mode": {
    "name": "ipython",
    "version": 3
   },
   "file_extension": ".py",
   "mimetype": "text/x-python",
   "name": "python",
   "nbconvert_exporter": "python",
   "pygments_lexer": "ipython3",
   "version": "3.6.13"
  }
 },
 "nbformat": 4,
 "nbformat_minor": 4
}
