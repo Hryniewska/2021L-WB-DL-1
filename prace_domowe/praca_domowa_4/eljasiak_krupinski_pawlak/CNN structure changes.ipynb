{
 "cells": [
  {
   "cell_type": "markdown",
   "metadata": {
    "id": "2Bms6AhA4d-i"
   },
   "source": [
    "# COVID-19 myDense CNN training\n",
    "This notebook is a direct copy of the one used in google colab and should not be run localy. "
   ]
  },
  {
   "cell_type": "code",
   "execution_count": 2,
   "metadata": {
    "colab": {
     "base_uri": "https://localhost:8080/"
    },
    "id": "Mf4pBRovjQUX",
    "outputId": "6306084e-b689-4490-c041-9417fe8b04d3"
   },
   "outputs": [
    {
     "name": "stdout",
     "output_type": "stream",
     "text": [
      "Drive already mounted at /content/drive; to attempt to forcibly remount, call drive.mount(\"/content/drive\", force_remount=True).\n"
     ]
    }
   ],
   "source": [
    "from google.colab import drive\n",
    "drive.mount('/content/drive')"
   ]
  },
  {
   "cell_type": "code",
   "execution_count": 3,
   "metadata": {
    "id": "BWkoTLd7o-1Q"
   },
   "outputs": [],
   "source": [
    "import sys\n",
    "sys.path.append('/content/drive/MyDrive/ERSCOVIDTest/COVID-19/')"
   ]
  },
  {
   "cell_type": "code",
   "execution_count": 4,
   "metadata": {
    "id": "ZAzIHL7JnGJp"
   },
   "outputs": [],
   "source": [
    "from myDense import myDenseNetv2Edited\n",
    "from myDense import myDenseNetv2\n",
    "from myDense import myDenseNetv2Dropout\n",
    "import pandas as pd\n",
    "import scipy.io\n",
    "import numpy as np\n",
    "import csv\n",
    "from sklearn.metrics import roc_auc_score, accuracy_score, f1_score\n",
    "from tensorflow.keras.metrics import AUC,Accuracy,Precision,Recall,SensitivityAtSpecificity\n",
    "\n",
    "def import_data(t):\n",
    "        t = '/content/drive/My Drive/COVID-19 CT dataset/' + t\n",
    "        files = []\n",
    "        positive = []\n",
    "        with open(t + '.csv', newline='') as csvfile:\n",
    "            spamreader = csv.reader(csvfile, delimiter=',', quotechar='|')\n",
    "            for row in spamreader:\n",
    "                positive.append(row[0][-24])\n",
    "                row = t + '/' + row[0]\n",
    "                files.append(row)\n",
    "        return files, positive\n",
    "\n",
    "\n",
    "def load_data(dataset):\n",
    "\n",
    "    print(f\"Loading {dataset} data\")\n",
    "    train, Y_train = import_data(dataset)\n",
    "    print(f\"Data loaded. {len(Y_train)} samples\")\n",
    "\n",
    "    Y_train = np.array(Y_train)\n",
    "    Y_train = np.where(Y_train == '+', 1, Y_train)\n",
    "    Y_train = np.where(Y_train == '-', 0, Y_train)\n",
    "    Y_train = Y_train.astype(np.float)\n",
    "\n",
    "    X_train = []\n",
    "    for fileName in train:\n",
    "        mat = scipy.io.loadmat(fileName)\n",
    "        X_train.append(mat['only_lung_zoomed_3std'])\n",
    "    X_train = np.array(X_train)\n",
    "    X_train = X_train[..., np.newaxis]\n",
    "    X_train = np.swapaxes(X_train, 1, 3)\n",
    "    X_train = np.swapaxes(X_train, 2, 3)\n",
    "    return X_train,Y_train"
   ]
  },
  {
   "cell_type": "code",
   "execution_count": 7,
   "metadata": {
    "colab": {
     "base_uri": "https://localhost:8080/"
    },
    "id": "ig3Yk0crf1p2",
    "outputId": "57e81bcb-801c-4e91-b5a5-235051bd39a2"
   },
   "outputs": [
    {
     "name": "stdout",
     "output_type": "stream",
     "text": [
      "Loading training data\n",
      "Data loaded. 86 samples\n"
     ]
    }
   ],
   "source": [
    "X_train,Y_train = load_data('training')"
   ]
  },
  {
   "cell_type": "code",
   "execution_count": 8,
   "metadata": {
    "colab": {
     "base_uri": "https://localhost:8080/"
    },
    "id": "pGscACETmkT-",
    "outputId": "429294b3-4eac-4e0d-808f-3ff37028e9be"
   },
   "outputs": [
    {
     "name": "stdout",
     "output_type": "stream",
     "text": [
      "Loading test data\n",
      "Data loaded. 24 samples\n"
     ]
    }
   ],
   "source": [
    "X_test,Y_test = load_data('test')"
   ]
  },
  {
   "cell_type": "code",
   "execution_count": 9,
   "metadata": {
    "colab": {
     "base_uri": "https://localhost:8080/"
    },
    "id": "-YWIpGAkmg5d",
    "outputId": "4267c891-d07b-46a2-de57-795abcd651b8"
   },
   "outputs": [
    {
     "name": "stdout",
     "output_type": "stream",
     "text": [
      "Loading validation data\n",
      "Data loaded. 12 samples\n"
     ]
    }
   ],
   "source": [
    "X_validate,Y_validate = load_data('validation')"
   ]
  },
  {
   "cell_type": "markdown",
   "metadata": {
    "id": "lAD46GDvgQBi"
   },
   "source": [
    "## Defult mode"
   ]
  },
  {
   "cell_type": "code",
   "execution_count": 10,
   "metadata": {
    "colab": {
     "base_uri": "https://localhost:8080/"
    },
    "id": "pmtjlUrPgMhU",
    "outputId": "aa52f10f-adf6-4cfa-99c9-d3f8cec5e152"
   },
   "outputs": [
    {
     "name": "stdout",
     "output_type": "stream",
     "text": [
      "Epoch 1/10\n",
      "86/86 [==============================] - 92s 608ms/step - loss: 0.8156 - accuracy: 0.4894 - auc: 0.3485 - precision: 0.5694 - recall: 0.6764 - val_loss: 35.2613 - val_accuracy: 0.5833 - val_auc: 0.5000 - val_precision: 0.5833 - val_recall: 1.0000\n",
      "Epoch 2/10\n",
      "86/86 [==============================] - 54s 627ms/step - loss: 0.7037 - accuracy: 0.5462 - auc: 0.5264 - precision: 0.5579 - recall: 0.7662 - val_loss: 0.6982 - val_accuracy: 0.5000 - val_auc: 0.5571 - val_precision: 0.6000 - val_recall: 0.4286\n",
      "Epoch 3/10\n",
      "86/86 [==============================] - 55s 634ms/step - loss: 0.6642 - accuracy: 0.6405 - auc: 0.6335 - precision: 0.5461 - recall: 0.4943 - val_loss: 1.7346 - val_accuracy: 0.4167 - val_auc: 0.4857 - val_precision: 0.0000e+00 - val_recall: 0.0000e+00\n",
      "Epoch 4/10\n",
      "86/86 [==============================] - 54s 634ms/step - loss: 0.7015 - accuracy: 0.5141 - auc: 0.5687 - precision: 0.5156 - recall: 0.6564 - val_loss: 1.2700 - val_accuracy: 0.5833 - val_auc: 0.1857 - val_precision: 0.5833 - val_recall: 1.0000\n",
      "Epoch 5/10\n",
      "86/86 [==============================] - 54s 630ms/step - loss: 0.6112 - accuracy: 0.7255 - auc: 0.7093 - precision: 0.6850 - recall: 0.7737 - val_loss: 0.7693 - val_accuracy: 0.5833 - val_auc: 0.3429 - val_precision: 0.5833 - val_recall: 1.0000\n",
      "Epoch 6/10\n",
      "86/86 [==============================] - 54s 633ms/step - loss: 0.6662 - accuracy: 0.6086 - auc: 0.6094 - precision: 0.6142 - recall: 0.4609 - val_loss: 1.4548 - val_accuracy: 0.5833 - val_auc: 0.3429 - val_precision: 0.5833 - val_recall: 1.0000\n",
      "Epoch 7/10\n",
      "86/86 [==============================] - 54s 632ms/step - loss: 0.5146 - accuracy: 0.7567 - auc: 0.8353 - precision: 0.7549 - recall: 0.7682 - val_loss: 0.8747 - val_accuracy: 0.5833 - val_auc: 0.2857 - val_precision: 0.5833 - val_recall: 1.0000\n",
      "Epoch 8/10\n",
      "86/86 [==============================] - 54s 632ms/step - loss: 0.6325 - accuracy: 0.7582 - auc: 0.7302 - precision: 0.7606 - recall: 0.8919 - val_loss: 0.8933 - val_accuracy: 0.5000 - val_auc: 0.1714 - val_precision: 0.5455 - val_recall: 0.8571\n",
      "Epoch 9/10\n",
      "86/86 [==============================] - 55s 634ms/step - loss: 0.4498 - accuracy: 0.7704 - auc: 0.8342 - precision: 0.8050 - recall: 0.7661 - val_loss: 0.8894 - val_accuracy: 0.3333 - val_auc: 0.2571 - val_precision: 0.0000e+00 - val_recall: 0.0000e+00\n",
      "Epoch 10/10\n",
      "86/86 [==============================] - 54s 631ms/step - loss: 0.5753 - accuracy: 0.7623 - auc: 0.7642 - precision: 0.8696 - recall: 0.6758 - val_loss: 8.0895 - val_accuracy: 0.5833 - val_auc: 0.5000 - val_precision: 0.5833 - val_recall: 1.0000\n"
     ]
    },
    {
     "data": {
      "text/plain": [
       "<tensorflow.python.keras.callbacks.History at 0x7fa9203ddcd0>"
      ]
     },
     "execution_count": 10,
     "metadata": {
      "tags": []
     },
     "output_type": "execute_result"
    }
   ],
   "source": [
    "model_normal = myDenseNetv2((48, 240, 360, 1))\n",
    "model_normal.compile(optimizer='adam',\n",
    "              loss='binary_crossentropy',\n",
    "              metrics=['accuracy',AUC(),Precision(),Recall()])\n",
    "\n",
    "model_normal.fit(X_train,Y_train, validation_data=(X_validate,Y_validate),epochs=10,verbose=1,batch_size=1)"
   ]
  },
  {
   "cell_type": "code",
   "execution_count": null,
   "metadata": {
    "colab": {
     "base_uri": "https://localhost:8080/"
    },
    "id": "BnTql9VjpyOR",
    "outputId": "72f4b003-f0c5-4cfc-c1a9-86d7c5ac6554"
   },
   "outputs": [
    {
     "name": "stdout",
     "output_type": "stream",
     "text": [
      "24/24 [==============================] - 3s 117ms/step\n"
     ]
    }
   ],
   "source": [
    "y_pred = model_normal.predict(X_test, batch_size=1,verbose=1)"
   ]
  },
  {
   "cell_type": "markdown",
   "metadata": {
    "id": "JvhCDvtgiWdY"
   },
   "source": [
    "## Added L1 regularization\n",
    "With $\\lambda$ = 0.01"
   ]
  },
  {
   "cell_type": "code",
   "execution_count": 11,
   "metadata": {
    "colab": {
     "base_uri": "https://localhost:8080/"
    },
    "id": "yqzPnCRXruhB",
    "outputId": "a2e6783c-809c-4676-e518-42fd626dc074"
   },
   "outputs": [
    {
     "name": "stdout",
     "output_type": "stream",
     "text": [
      "Epoch 1/10\n",
      "86/86 [==============================] - 62s 655ms/step - loss: 117.8140 - accuracy: 0.4967 - auc_1: 0.4052 - precision_1: 0.4620 - recall_1: 0.4577 - val_loss: 15.0277 - val_accuracy: 0.4167 - val_auc_1: 0.5000 - val_precision_1: 0.0000e+00 - val_recall_1: 0.0000e+00\n",
      "Epoch 2/10\n",
      "86/86 [==============================] - 54s 629ms/step - loss: 12.4182 - accuracy: 0.5514 - auc_1: 0.3941 - precision_1: 0.5701 - recall_1: 0.7957 - val_loss: 8.5617 - val_accuracy: 0.4167 - val_auc_1: 0.5000 - val_precision_1: 0.0000e+00 - val_recall_1: 0.0000e+00\n",
      "Epoch 3/10\n",
      "86/86 [==============================] - 54s 634ms/step - loss: 7.4111 - accuracy: 0.5498 - auc_1: 0.3402 - precision_1: 0.5826 - recall_1: 0.8351 - val_loss: 6.0836 - val_accuracy: 0.4167 - val_auc_1: 0.5000 - val_precision_1: 0.0000e+00 - val_recall_1: 0.0000e+00\n",
      "Epoch 4/10\n",
      "86/86 [==============================] - 54s 634ms/step - loss: 5.4516 - accuracy: 0.4578 - auc_1: 0.3479 - precision_1: 0.4304 - recall_1: 0.4843 - val_loss: 5.4762 - val_accuracy: 0.4167 - val_auc_1: 0.5000 - val_precision_1: 0.0000e+00 - val_recall_1: 0.0000e+00\n",
      "Epoch 5/10\n",
      "86/86 [==============================] - 54s 633ms/step - loss: 4.6029 - accuracy: 0.6559 - auc_1: 0.3641 - precision_1: 0.6673 - recall_1: 0.9165 - val_loss: 5.0439 - val_accuracy: 0.4167 - val_auc_1: 0.5000 - val_precision_1: 0.0000e+00 - val_recall_1: 0.0000e+00\n",
      "Epoch 6/10\n",
      "86/86 [==============================] - 54s 633ms/step - loss: 4.4119 - accuracy: 0.6280 - auc_1: 0.3942 - precision_1: 0.6535 - recall_1: 0.8930 - val_loss: 4.6289 - val_accuracy: 0.4167 - val_auc_1: 0.5000 - val_precision_1: 0.0000e+00 - val_recall_1: 0.0000e+00\n",
      "Epoch 7/10\n",
      "86/86 [==============================] - 55s 634ms/step - loss: 3.4586 - accuracy: 0.4917 - auc_1: 0.3472 - precision_1: 0.5377 - recall_1: 0.6840 - val_loss: 2.3701 - val_accuracy: 0.5833 - val_auc_1: 0.5000 - val_precision_1: 0.5833 - val_recall_1: 1.0000\n",
      "Epoch 8/10\n",
      "86/86 [==============================] - 54s 633ms/step - loss: 2.4896 - accuracy: 0.4147 - auc_1: 0.3649 - precision_1: 0.4246 - recall_1: 0.4873 - val_loss: 2.0321 - val_accuracy: 0.5833 - val_auc_1: 0.5000 - val_precision_1: 0.5833 - val_recall_1: 1.0000\n",
      "Epoch 9/10\n",
      "86/86 [==============================] - 54s 633ms/step - loss: 1.9281 - accuracy: 0.5063 - auc_1: 0.3764 - precision_1: 0.5329 - recall_1: 0.8054 - val_loss: 2.5367 - val_accuracy: 0.5833 - val_auc_1: 0.5000 - val_precision_1: 0.5833 - val_recall_1: 1.0000\n",
      "Epoch 10/10\n",
      "86/86 [==============================] - 55s 635ms/step - loss: 2.3995 - accuracy: 0.4556 - auc_1: 0.4398 - precision_1: 0.4522 - recall_1: 0.5535 - val_loss: 2.4344 - val_accuracy: 0.5833 - val_auc_1: 0.5000 - val_precision_1: 0.5833 - val_recall_1: 1.0000\n"
     ]
    },
    {
     "data": {
      "text/plain": [
       "<tensorflow.python.keras.callbacks.History at 0x7fa8e4b9e350>"
      ]
     },
     "execution_count": 11,
     "metadata": {
      "tags": []
     },
     "output_type": "execute_result"
    }
   ],
   "source": [
    "model_l1 = myDenseNetv2Edited((48, 240, 360, 1), \"l1\",0.01)\n",
    "model_l1.compile(optimizer='adam',\n",
    "              loss='binary_crossentropy',\n",
    "              metrics=['accuracy',AUC(),Precision(),Recall()])\n",
    "\n",
    "model_l1.fit(X_train,Y_train, validation_data=(X_validate,Y_validate),epochs=10,verbose=1,batch_size=1)"
   ]
  },
  {
   "cell_type": "markdown",
   "metadata": {
    "id": "xaGcB4juizPc"
   },
   "source": []
  },
  {
   "cell_type": "markdown",
   "metadata": {
    "id": "US7wSSIji47x"
   },
   "source": [
    "## Added L2 regularization\n",
    "With $\\lambda$ = 0.01"
   ]
  },
  {
   "cell_type": "code",
   "execution_count": 12,
   "metadata": {
    "colab": {
     "base_uri": "https://localhost:8080/"
    },
    "id": "zK9vvCdji6Zb",
    "outputId": "5c56d3ef-64d6-4c75-d49e-cb4e53265516"
   },
   "outputs": [
    {
     "name": "stdout",
     "output_type": "stream",
     "text": [
      "Epoch 1/10\n",
      "86/86 [==============================] - 62s 654ms/step - loss: 7.0530 - accuracy: 0.5713 - auc_2: 0.4367 - precision_2: 0.5862 - recall_2: 0.7582 - val_loss: 2.9469 - val_accuracy: 0.5833 - val_auc_2: 0.4000 - val_precision_2: 0.5833 - val_recall_2: 1.0000\n",
      "Epoch 2/10\n",
      "86/86 [==============================] - 54s 631ms/step - loss: 2.5884 - accuracy: 0.5213 - auc_2: 0.5732 - precision_2: 0.5346 - recall_2: 0.5941 - val_loss: 1.9371 - val_accuracy: 0.3333 - val_auc_2: 0.1429 - val_precision_2: 0.3333 - val_recall_2: 0.1429\n",
      "Epoch 3/10\n",
      "86/86 [==============================] - 54s 632ms/step - loss: 1.8614 - accuracy: 0.4792 - auc_2: 0.4297 - precision_2: 0.4921 - recall_2: 0.4127 - val_loss: 8.5449 - val_accuracy: 0.5833 - val_auc_2: 0.5000 - val_precision_2: 0.5833 - val_recall_2: 1.0000\n",
      "Epoch 4/10\n",
      "86/86 [==============================] - 54s 632ms/step - loss: 1.5280 - accuracy: 0.6212 - auc_2: 0.4583 - precision_2: 0.6300 - recall_2: 0.8640 - val_loss: 13.9710 - val_accuracy: 0.5833 - val_auc_2: 0.5000 - val_precision_2: 0.5833 - val_recall_2: 1.0000\n",
      "Epoch 5/10\n",
      "86/86 [==============================] - 54s 632ms/step - loss: 1.5261 - accuracy: 0.5143 - auc_2: 0.4321 - precision_2: 0.5615 - recall_2: 0.6022 - val_loss: 1.2809 - val_accuracy: 0.4167 - val_auc_2: 0.4286 - val_precision_2: 0.0000e+00 - val_recall_2: 0.0000e+00\n",
      "Epoch 6/10\n",
      "86/86 [==============================] - 54s 631ms/step - loss: 1.2836 - accuracy: 0.4603 - auc_2: 0.4009 - precision_2: 0.4333 - recall_2: 0.3814 - val_loss: 1.1747 - val_accuracy: 0.4167 - val_auc_2: 0.3857 - val_precision_2: 0.0000e+00 - val_recall_2: 0.0000e+00\n",
      "Epoch 7/10\n",
      "86/86 [==============================] - 54s 631ms/step - loss: 1.1569 - accuracy: 0.6778 - auc_2: 0.3599 - precision_2: 0.6900 - recall_2: 0.8859 - val_loss: 1.1364 - val_accuracy: 0.4167 - val_auc_2: 0.2857 - val_precision_2: 0.0000e+00 - val_recall_2: 0.0000e+00\n",
      "Epoch 8/10\n",
      "86/86 [==============================] - 54s 634ms/step - loss: 1.0907 - accuracy: 0.4507 - auc_2: 0.4146 - precision_2: 0.5566 - recall_2: 0.6090 - val_loss: 1.0233 - val_accuracy: 0.5833 - val_auc_2: 0.5000 - val_precision_2: 0.5833 - val_recall_2: 1.0000\n",
      "Epoch 9/10\n",
      "86/86 [==============================] - 54s 632ms/step - loss: 1.0181 - accuracy: 0.6766 - auc_2: 0.3443 - precision_2: 0.6913 - recall_2: 0.9272 - val_loss: 3.1248 - val_accuracy: 0.5833 - val_auc_2: 0.5000 - val_precision_2: 0.5833 - val_recall_2: 1.0000\n",
      "Epoch 10/10\n",
      "86/86 [==============================] - 54s 632ms/step - loss: 1.0326 - accuracy: 0.4977 - auc_2: 0.3682 - precision_2: 0.4380 - recall_2: 0.4037 - val_loss: 0.9563 - val_accuracy: 0.4167 - val_auc_2: 0.5000 - val_precision_2: 0.0000e+00 - val_recall_2: 0.0000e+00\n"
     ]
    },
    {
     "data": {
      "text/plain": [
       "<tensorflow.python.keras.callbacks.History at 0x7fa8e2830ad0>"
      ]
     },
     "execution_count": 12,
     "metadata": {
      "tags": []
     },
     "output_type": "execute_result"
    }
   ],
   "source": [
    "model_l2 = myDenseNetv2Edited((48, 240, 360, 1), \"l2\",0.01)\n",
    "model_l2.compile(optimizer='adam',\n",
    "              loss='binary_crossentropy',\n",
    "              metrics=['accuracy',AUC(),Precision(),Recall()])\n",
    "\n",
    "model_l2.fit(X_train,Y_train, validation_data=(X_validate,Y_validate),epochs=10,verbose=1,batch_size=1)"
   ]
  },
  {
   "cell_type": "code",
   "execution_count": null,
   "metadata": {
    "id": "RwOoSnjkjB6l"
   },
   "outputs": [],
   "source": []
  },
  {
   "cell_type": "markdown",
   "metadata": {
    "id": "vsCoC3ocjCo1"
   },
   "source": [
    "## Adding Dropout\n"
   ]
  },
  {
   "cell_type": "code",
   "execution_count": 13,
   "metadata": {
    "colab": {
     "base_uri": "https://localhost:8080/"
    },
    "id": "CV_k8NEHjHEn",
    "outputId": "7d32c2cf-2433-4614-efec-e1ceb1985696"
   },
   "outputs": [
    {
     "name": "stdout",
     "output_type": "stream",
     "text": [
      "Epoch 1/10\n",
      "86/86 [==============================] - 61s 651ms/step - loss: 0.7264 - accuracy: 0.5164 - auc_3: 0.4702 - precision_3: 0.5445 - recall_3: 0.5867 - val_loss: 0.7091 - val_accuracy: 0.4167 - val_auc_3: 0.5571 - val_precision_3: 0.0000e+00 - val_recall_3: 0.0000e+00\n",
      "Epoch 2/10\n",
      "86/86 [==============================] - 54s 633ms/step - loss: 0.7173 - accuracy: 0.4789 - auc_3: 0.3965 - precision_3: 0.5339 - recall_3: 0.7074 - val_loss: 24.9618 - val_accuracy: 0.5833 - val_auc_3: 0.5000 - val_precision_3: 0.5833 - val_recall_3: 1.0000\n",
      "Epoch 3/10\n",
      "86/86 [==============================] - 54s 633ms/step - loss: 0.6610 - accuracy: 0.6563 - auc_3: 0.5427 - precision_3: 0.6568 - recall_3: 0.9484 - val_loss: 11.9775 - val_accuracy: 0.4167 - val_auc_3: 0.5000 - val_precision_3: 0.0000e+00 - val_recall_3: 0.0000e+00\n",
      "Epoch 4/10\n",
      "86/86 [==============================] - 54s 632ms/step - loss: 0.6635 - accuracy: 0.6340 - auc_3: 0.6081 - precision_3: 0.7866 - recall_3: 0.3979 - val_loss: 4.5360 - val_accuracy: 0.4167 - val_auc_3: 0.5714 - val_precision_3: 0.0000e+00 - val_recall_3: 0.0000e+00\n",
      "Epoch 5/10\n",
      "86/86 [==============================] - 55s 634ms/step - loss: 0.6584 - accuracy: 0.5732 - auc_3: 0.6730 - precision_3: 0.5770 - recall_3: 0.8909 - val_loss: 0.9130 - val_accuracy: 0.5833 - val_auc_3: 0.4714 - val_precision_3: 0.5833 - val_recall_3: 1.0000\n",
      "Epoch 6/10\n",
      "86/86 [==============================] - 55s 635ms/step - loss: 0.6370 - accuracy: 0.5911 - auc_3: 0.6425 - precision_3: 0.6020 - recall_3: 0.8173 - val_loss: 12.3882 - val_accuracy: 0.5833 - val_auc_3: 0.5000 - val_precision_3: 0.5833 - val_recall_3: 1.0000\n",
      "Epoch 7/10\n",
      "86/86 [==============================] - 54s 633ms/step - loss: 0.6329 - accuracy: 0.7379 - auc_3: 0.6911 - precision_3: 0.7152 - recall_3: 0.8632 - val_loss: 2.6277 - val_accuracy: 0.5833 - val_auc_3: 0.4571 - val_precision_3: 0.5833 - val_recall_3: 1.0000\n",
      "Epoch 8/10\n",
      "86/86 [==============================] - 55s 634ms/step - loss: 0.6600 - accuracy: 0.5803 - auc_3: 0.6338 - precision_3: 0.6072 - recall_3: 0.6744 - val_loss: 37.9746 - val_accuracy: 0.5833 - val_auc_3: 0.5000 - val_precision_3: 0.5833 - val_recall_3: 1.0000\n",
      "Epoch 9/10\n",
      "86/86 [==============================] - 54s 633ms/step - loss: 0.6060 - accuracy: 0.6488 - auc_3: 0.7644 - precision_3: 0.6494 - recall_3: 0.8241 - val_loss: 1.8296 - val_accuracy: 0.5000 - val_auc_3: 0.5286 - val_precision_3: 0.6667 - val_recall_3: 0.2857\n",
      "Epoch 10/10\n",
      "86/86 [==============================] - 54s 632ms/step - loss: 0.5923 - accuracy: 0.7217 - auc_3: 0.7246 - precision_3: 0.7026 - recall_3: 0.8339 - val_loss: 1.6568 - val_accuracy: 0.5833 - val_auc_3: 0.3857 - val_precision_3: 0.5833 - val_recall_3: 1.0000\n"
     ]
    },
    {
     "data": {
      "text/plain": [
       "<tensorflow.python.keras.callbacks.History at 0x7fa89c3a0710>"
      ]
     },
     "execution_count": 13,
     "metadata": {
      "tags": []
     },
     "output_type": "execute_result"
    }
   ],
   "source": [
    "model_dropout = myDenseNetv2Dropout((48, 240, 360, 1), 0.3)\n",
    "model_dropout.compile(optimizer='adam',\n",
    "              loss='binary_crossentropy',\n",
    "              metrics=['accuracy',AUC(),Precision(),Recall()])\n",
    "\n",
    "model_dropout.fit(X_train,Y_train, validation_data=(X_validate,Y_validate),epochs=10,verbose=1,batch_size=1)"
   ]
  },
  {
   "cell_type": "code",
   "execution_count": 5,
   "metadata": {
    "id": "5XOcrzlCpxVu"
   },
   "outputs": [],
   "source": [
    "def score_models(X_test,Y_test, models = []):\n",
    "    for model in models:\n",
    "        # score every model iwth every metric\n",
    "        results = model.evaluate(X_test, Y_test, batch_size=1)"
   ]
  },
  {
   "cell_type": "code",
   "execution_count": 14,
   "metadata": {
    "colab": {
     "base_uri": "https://localhost:8080/"
    },
    "id": "LFbfsrLXDPIU",
    "outputId": "523e2420-1547-44cf-b593-540f57ed32be"
   },
   "outputs": [
    {
     "name": "stdout",
     "output_type": "stream",
     "text": [
      "24/24 [==============================] - 3s 125ms/step - loss: 7.2272 - accuracy: 0.5833 - auc: 0.4286 - precision: 0.5833 - recall: 1.0000\n",
      "24/24 [==============================] - 3s 126ms/step - loss: 2.4346 - accuracy: 0.5833 - auc_1: 0.5000 - precision_1: 0.5833 - recall_1: 1.0000\n",
      "24/24 [==============================] - 3s 125ms/step - loss: 0.9562 - accuracy: 0.4167 - auc_2: 0.5000 - precision_2: 0.0000e+00 - recall_2: 0.0000e+00\n",
      "24/24 [==============================] - 3s 126ms/step - loss: 1.5713 - accuracy: 0.5000 - auc_3: 0.4536 - precision_3: 0.5455 - recall_3: 0.8571\n"
     ]
    }
   ],
   "source": [
    "score_models(X_test,Y_test, models=[model_normal, model_l1,model_l2,model_dropout])"
   ]
  },
  {
   "cell_type": "markdown",
   "metadata": {},
   "source": [
    "## Summary\n",
    "No real improvement was observed, this is most likely due to the fact, that our dataset is to small 2% of oryginal dataset (about 40% of maximum we found), and our model is uderfitted not overfitted. "
   ]
  }
 ],
 "metadata": {
  "accelerator": "GPU",
  "colab": {
   "name": "COVID-19 CT .ipynb",
   "provenance": []
  },
  "kernelspec": {
   "display_name": "Python 3",
   "language": "python",
   "name": "python3"
  },
  "language_info": {
   "codemirror_mode": {
    "name": "ipython",
    "version": 3
   },
   "file_extension": ".py",
   "mimetype": "text/x-python",
   "name": "python",
   "nbconvert_exporter": "python",
   "pygments_lexer": "ipython3",
   "version": "3.8.8"
  }
 },
 "nbformat": 4,
 "nbformat_minor": 1
}