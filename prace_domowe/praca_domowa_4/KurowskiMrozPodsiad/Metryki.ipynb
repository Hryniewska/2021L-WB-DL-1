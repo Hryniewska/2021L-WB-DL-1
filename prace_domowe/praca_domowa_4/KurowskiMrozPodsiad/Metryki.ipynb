{
 "cells": [
  {
   "cell_type": "code",
   "execution_count": 1,
   "metadata": {},
   "outputs": [],
   "source": [
    "import cv2\n",
    "import numpy as np\n",
    "import matplotlib.pyplot as plt\n",
    "import os"
   ]
  },
  {
   "cell_type": "code",
   "execution_count": 2,
   "metadata": {},
   "outputs": [],
   "source": [
    "x_train = np.load('data/x_train_undersampled.npy')\n",
    "y_train = np.load('data/y_train_undersampled.npy')\n",
    "x_test = np.load('data/x_test_undersampled.npy')\n",
    "y_test = np.load('data/y_test_undersampled.npy')"
   ]
  },
  {
   "cell_type": "code",
   "execution_count": 3,
   "metadata": {},
   "outputs": [
    {
     "name": "stderr",
     "output_type": "stream",
     "text": [
      "C:\\Users\\hp\\Anaconda3\\envs\\wbvenv36\\lib\\site-packages\\tensorflow\\python\\framework\\dtypes.py:516: FutureWarning: Passing (type, 1) or '1type' as a synonym of type is deprecated; in a future version of numpy, it will be understood as (type, (1,)) / '(1,)type'.\n",
      "  _np_qint8 = np.dtype([(\"qint8\", np.int8, 1)])\n",
      "C:\\Users\\hp\\Anaconda3\\envs\\wbvenv36\\lib\\site-packages\\tensorflow\\python\\framework\\dtypes.py:517: FutureWarning: Passing (type, 1) or '1type' as a synonym of type is deprecated; in a future version of numpy, it will be understood as (type, (1,)) / '(1,)type'.\n",
      "  _np_quint8 = np.dtype([(\"quint8\", np.uint8, 1)])\n",
      "C:\\Users\\hp\\Anaconda3\\envs\\wbvenv36\\lib\\site-packages\\tensorflow\\python\\framework\\dtypes.py:518: FutureWarning: Passing (type, 1) or '1type' as a synonym of type is deprecated; in a future version of numpy, it will be understood as (type, (1,)) / '(1,)type'.\n",
      "  _np_qint16 = np.dtype([(\"qint16\", np.int16, 1)])\n",
      "C:\\Users\\hp\\Anaconda3\\envs\\wbvenv36\\lib\\site-packages\\tensorflow\\python\\framework\\dtypes.py:519: FutureWarning: Passing (type, 1) or '1type' as a synonym of type is deprecated; in a future version of numpy, it will be understood as (type, (1,)) / '(1,)type'.\n",
      "  _np_quint16 = np.dtype([(\"quint16\", np.uint16, 1)])\n",
      "C:\\Users\\hp\\Anaconda3\\envs\\wbvenv36\\lib\\site-packages\\tensorflow\\python\\framework\\dtypes.py:520: FutureWarning: Passing (type, 1) or '1type' as a synonym of type is deprecated; in a future version of numpy, it will be understood as (type, (1,)) / '(1,)type'.\n",
      "  _np_qint32 = np.dtype([(\"qint32\", np.int32, 1)])\n",
      "C:\\Users\\hp\\Anaconda3\\envs\\wbvenv36\\lib\\site-packages\\tensorflow\\python\\framework\\dtypes.py:525: FutureWarning: Passing (type, 1) or '1type' as a synonym of type is deprecated; in a future version of numpy, it will be understood as (type, (1,)) / '(1,)type'.\n",
      "  np_resource = np.dtype([(\"resource\", np.ubyte, 1)])\n",
      "C:\\Users\\hp\\Anaconda3\\envs\\wbvenv36\\lib\\site-packages\\tensorboard\\compat\\tensorflow_stub\\dtypes.py:541: FutureWarning: Passing (type, 1) or '1type' as a synonym of type is deprecated; in a future version of numpy, it will be understood as (type, (1,)) / '(1,)type'.\n",
      "  _np_qint8 = np.dtype([(\"qint8\", np.int8, 1)])\n",
      "C:\\Users\\hp\\Anaconda3\\envs\\wbvenv36\\lib\\site-packages\\tensorboard\\compat\\tensorflow_stub\\dtypes.py:542: FutureWarning: Passing (type, 1) or '1type' as a synonym of type is deprecated; in a future version of numpy, it will be understood as (type, (1,)) / '(1,)type'.\n",
      "  _np_quint8 = np.dtype([(\"quint8\", np.uint8, 1)])\n",
      "C:\\Users\\hp\\Anaconda3\\envs\\wbvenv36\\lib\\site-packages\\tensorboard\\compat\\tensorflow_stub\\dtypes.py:543: FutureWarning: Passing (type, 1) or '1type' as a synonym of type is deprecated; in a future version of numpy, it will be understood as (type, (1,)) / '(1,)type'.\n",
      "  _np_qint16 = np.dtype([(\"qint16\", np.int16, 1)])\n",
      "C:\\Users\\hp\\Anaconda3\\envs\\wbvenv36\\lib\\site-packages\\tensorboard\\compat\\tensorflow_stub\\dtypes.py:544: FutureWarning: Passing (type, 1) or '1type' as a synonym of type is deprecated; in a future version of numpy, it will be understood as (type, (1,)) / '(1,)type'.\n",
      "  _np_quint16 = np.dtype([(\"quint16\", np.uint16, 1)])\n",
      "C:\\Users\\hp\\Anaconda3\\envs\\wbvenv36\\lib\\site-packages\\tensorboard\\compat\\tensorflow_stub\\dtypes.py:545: FutureWarning: Passing (type, 1) or '1type' as a synonym of type is deprecated; in a future version of numpy, it will be understood as (type, (1,)) / '(1,)type'.\n",
      "  _np_qint32 = np.dtype([(\"qint32\", np.int32, 1)])\n",
      "C:\\Users\\hp\\Anaconda3\\envs\\wbvenv36\\lib\\site-packages\\tensorboard\\compat\\tensorflow_stub\\dtypes.py:550: FutureWarning: Passing (type, 1) or '1type' as a synonym of type is deprecated; in a future version of numpy, it will be understood as (type, (1,)) / '(1,)type'.\n",
      "  np_resource = np.dtype([(\"resource\", np.ubyte, 1)])\n",
      "Using TensorFlow backend.\n"
     ]
    }
   ],
   "source": [
    "from __future__ import print_function\n",
    "\n",
    "import numpy as np\n",
    "from random import shuffle\n",
    "import time\n",
    "import csv\n",
    "from PIL import Image\n",
    "import os\n",
    "import tensorflow as tf\n",
    "import keras\n",
    "from keras.callbacks import EarlyStopping, LearningRateScheduler\n",
    "from keras import initializers\n",
    "from keras.optimizers import SGD\n",
    "from keras.preprocessing import sequence\n",
    "from keras.utils import np_utils\n",
    "from keras.models import Sequential,load_model,Model\n",
    "from keras.layers import Dense, Dropout, Activation, Flatten\n",
    "from keras.layers import *\n",
    "from keras.callbacks import CSVLogger\n",
    "from keras import callbacks\n",
    "from keras.preprocessing.image import ImageDataGenerator\n",
    "\n",
    "from sklearn.metrics import classification_report\n",
    "from sklearn.model_selection import train_test_split\n",
    "import sklearn.metrics as sklm\n",
    "import sys\n",
    "sys.path.insert(0,'..')\n",
    "from utils import lossprettifier\n",
    "from Classifier.VGG import *"
   ]
  },
  {
   "cell_type": "code",
   "execution_count": 4,
   "metadata": {},
   "outputs": [],
   "source": [
    "# for reproducibility\n",
    "np.random.seed(3768)\n",
    "\n",
    "# use this environment flag to change which GPU to use \n",
    "os.environ[\"CUDA_DEVICE_ORDER\"]=\"PCI_BUS_ID\"\n",
    "os.environ[\"CUDA_VISIBLE_DEVICES\"]=\"0\"  # specify which GPU(s) to be used\n",
    "\n",
    "#Get TensorFlow session\n",
    "def get_session(): \n",
    "  config = tf.ConfigProto() \n",
    "  config.gpu_options.allow_growth = True \n",
    "  return tf.Session(config=config) \n",
    "  \n",
    "# One hot encoding of labels \n",
    "def dense_to_one_hot(labels_dense,num_clases=4):\n",
    "  return np.eye(num_clases)[labels_dense]"
   ]
  },
  {
   "cell_type": "code",
   "execution_count": 5,
   "metadata": {},
   "outputs": [],
   "source": [
    "# Preparing training and test sets\n",
    "x_train, x_valid, y_train, y_valid = train_test_split(x_train, y_train, test_size=0.10, random_state=42)"
   ]
  },
  {
   "cell_type": "code",
   "execution_count": 6,
   "metadata": {},
   "outputs": [],
   "source": [
    "y_train = dense_to_one_hot(y_train,num_clases=3)\n",
    "y_valid= dense_to_one_hot(y_valid,num_clases=3)"
   ]
  },
  {
   "cell_type": "code",
   "execution_count": 7,
   "metadata": {},
   "outputs": [
    {
     "name": "stderr",
     "output_type": "stream",
     "text": [
      "C:\\Users\\hp\\Anaconda3\\envs\\wbvenv36\\lib\\site-packages\\keras_preprocessing\\image\\image_data_generator.py:349: UserWarning: This ImageDataGenerator specifies `featurewise_std_normalization`, which overrides setting of `featurewise_center`.\n",
      "  warnings.warn('This ImageDataGenerator specifies '\n"
     ]
    }
   ],
   "source": [
    "#Image data generation for the training \n",
    "datagen = ImageDataGenerator(\n",
    "               featurewise_center = False, \n",
    "               samplewise_center = False,  # set each sample mean to 0\n",
    "               featurewise_std_normalization = True,  \n",
    "               samplewise_std_normalization = False)  \n",
    "\n",
    "datagen.fit(x_train) \n",
    "for i in range(len(x_test)):\n",
    "      x_test[i] = datagen.standardize(x_test[i])"
   ]
  },
  {
   "cell_type": "code",
   "execution_count": 8,
   "metadata": {
    "scrolled": true
   },
   "outputs": [
    {
     "name": "stdout",
     "output_type": "stream",
     "text": [
      "WARNING:tensorflow:From C:\\Users\\hp\\AppData\\Roaming\\Python\\Python36\\site-packages\\keras\\backend\\tensorflow_backend.py:4070: The name tf.nn.max_pool is deprecated. Please use tf.nn.max_pool2d instead.\n",
      "\n",
      "WARNING:tensorflow:From C:\\Users\\hp\\AppData\\Roaming\\Python\\Python36\\site-packages\\keras\\backend\\tensorflow_backend.py:422: The name tf.global_variables is deprecated. Please use tf.compat.v1.global_variables instead.\n",
      "\n",
      "Epoch 1/50\n",
      "32/32 [==============================] - 5s 150ms/step - loss: 1.0877 - accuracy: 0.3936 - val_loss: 1.0791 - val_accuracy: 0.3992\n",
      "Epoch 2/50\n",
      "32/32 [==============================] - 2s 71ms/step - loss: 0.9877 - accuracy: 0.5459 - val_loss: 1.1144 - val_accuracy: 0.5988\n",
      "Epoch 3/50\n",
      "32/32 [==============================] - 3s 87ms/step - loss: 0.9590 - accuracy: 0.5446 - val_loss: 0.7243 - val_accuracy: 0.6048\n",
      "Epoch 4/50\n",
      "32/32 [==============================] - 2s 69ms/step - loss: 0.8763 - accuracy: 0.6182 - val_loss: 0.8785 - val_accuracy: 0.6587\n",
      "Epoch 5/50\n",
      "32/32 [==============================] - 2s 71ms/step - loss: 0.8549 - accuracy: 0.6240 - val_loss: 0.7456 - val_accuracy: 0.6607\n",
      "Epoch 6/50\n",
      "32/32 [==============================] - 3s 83ms/step - loss: 0.8284 - accuracy: 0.6690 - val_loss: 0.7598 - val_accuracy: 0.6766\n",
      "Epoch 7/50\n",
      "32/32 [==============================] - 2s 69ms/step - loss: 0.7783 - accuracy: 0.6621 - val_loss: 1.5614 - val_accuracy: 0.6607\n",
      "Epoch 8/50\n",
      "32/32 [==============================] - 2s 69ms/step - loss: 0.8565 - accuracy: 0.6143 - val_loss: 0.8287 - val_accuracy: 0.6886\n",
      "Epoch 9/50\n",
      "32/32 [==============================] - 2s 70ms/step - loss: 0.7966 - accuracy: 0.6650 - val_loss: 0.5703 - val_accuracy: 0.6786\n",
      "Epoch 10/50\n",
      "32/32 [==============================] - 2s 58ms/step - loss: 0.7814 - accuracy: 0.6758 - val_loss: 0.6905 - val_accuracy: 0.7265\n",
      "Epoch 11/50\n",
      "32/32 [==============================] - 2s 58ms/step - loss: 0.6915 - accuracy: 0.7148 - val_loss: 0.6105 - val_accuracy: 0.6886\n",
      "Epoch 12/50\n",
      "32/32 [==============================] - 2s 58ms/step - loss: 0.7188 - accuracy: 0.7148 - val_loss: 0.7225 - val_accuracy: 0.7405\n",
      "Epoch 13/50\n",
      "32/32 [==============================] - 2s 60ms/step - loss: 0.6865 - accuracy: 0.7168 - val_loss: 0.6126 - val_accuracy: 0.7305\n",
      "Epoch 14/50\n",
      "32/32 [==============================] - 2s 66ms/step - loss: 0.6661 - accuracy: 0.7432 - val_loss: 0.6483 - val_accuracy: 0.7525\n",
      "Epoch 15/50\n",
      "32/32 [==============================] - 2s 61ms/step - loss: 0.7101 - accuracy: 0.7101 - val_loss: 0.9005 - val_accuracy: 0.6806\n",
      "Epoch 16/50\n",
      "32/32 [==============================] - 2s 61ms/step - loss: 0.7654 - accuracy: 0.6670 - val_loss: 0.7101 - val_accuracy: 0.6627\n",
      "Epoch 17/50\n",
      "32/32 [==============================] - 2s 62ms/step - loss: 0.8295 - accuracy: 0.6475 - val_loss: 0.7826 - val_accuracy: 0.7325\n",
      "Epoch 18/50\n",
      "32/32 [==============================] - 2s 68ms/step - loss: 0.7692 - accuracy: 0.6768 - val_loss: 0.7723 - val_accuracy: 0.6846\n",
      "Epoch 19/50\n",
      "32/32 [==============================] - 2s 64ms/step - loss: 1.1589 - accuracy: 0.4814 - val_loss: 1.0451 - val_accuracy: 0.4571\n",
      "Epoch 20/50\n",
      "32/32 [==============================] - 2s 62ms/step - loss: 1.0162 - accuracy: 0.5156 - val_loss: 1.0266 - val_accuracy: 0.5549\n",
      "Epoch 21/50\n",
      "32/32 [==============================] - 2s 61ms/step - loss: 0.9358 - accuracy: 0.5791 - val_loss: 0.8946 - val_accuracy: 0.5349\n",
      "Epoch 22/50\n",
      "32/32 [==============================] - 2s 62ms/step - loss: 0.8983 - accuracy: 0.5955 - val_loss: 0.9034 - val_accuracy: 0.6088\n",
      "Epoch 23/50\n",
      "32/32 [==============================] - 2s 64ms/step - loss: 0.8981 - accuracy: 0.5986 - val_loss: 0.9606 - val_accuracy: 0.6427\n",
      "Epoch 24/50\n",
      "32/32 [==============================] - 2s 61ms/step - loss: 0.8053 - accuracy: 0.6738 - val_loss: 0.7157 - val_accuracy: 0.6447\n",
      "Epoch 25/50\n",
      "32/32 [==============================] - 2s 60ms/step - loss: 0.8177 - accuracy: 0.6435 - val_loss: 0.8255 - val_accuracy: 0.6048\n",
      "Epoch 26/50\n",
      "32/32 [==============================] - 2s 64ms/step - loss: 0.8182 - accuracy: 0.6377 - val_loss: 0.6991 - val_accuracy: 0.6926\n",
      "Epoch 27/50\n",
      "32/32 [==============================] - 2s 62ms/step - loss: 0.7483 - accuracy: 0.6875 - val_loss: 0.8521 - val_accuracy: 0.6966\n",
      "Epoch 28/50\n",
      "32/32 [==============================] - 2s 64ms/step - loss: 0.7587 - accuracy: 0.6953 - val_loss: 0.7370 - val_accuracy: 0.7425\n",
      "Epoch 29/50\n",
      "32/32 [==============================] - 2s 62ms/step - loss: 0.7715 - accuracy: 0.6699 - val_loss: 0.5808 - val_accuracy: 0.6806\n",
      "Epoch 30/50\n",
      "32/32 [==============================] - 2s 64ms/step - loss: 0.7647 - accuracy: 0.6816 - val_loss: 0.6184 - val_accuracy: 0.7166\n",
      "Epoch 31/50\n",
      "32/32 [==============================] - 2s 67ms/step - loss: 0.6615 - accuracy: 0.7512 - val_loss: 0.3470 - val_accuracy: 0.7026\n",
      "Epoch 32/50\n",
      "32/32 [==============================] - 2s 63ms/step - loss: 0.7380 - accuracy: 0.7031 - val_loss: 0.5635 - val_accuracy: 0.7445\n",
      "Epoch 33/50\n",
      "32/32 [==============================] - 2s 63ms/step - loss: 0.6893 - accuracy: 0.7218 - val_loss: 0.8715 - val_accuracy: 0.7046\n",
      "Epoch 34/50\n",
      "32/32 [==============================] - 2s 65ms/step - loss: 0.6864 - accuracy: 0.7275 - val_loss: 0.6023 - val_accuracy: 0.7285\n",
      "Epoch 35/50\n",
      "32/32 [==============================] - 2s 67ms/step - loss: 0.6855 - accuracy: 0.7129 - val_loss: 0.7149 - val_accuracy: 0.7265\n",
      "Epoch 36/50\n",
      "32/32 [==============================] - 2s 70ms/step - loss: 0.7632 - accuracy: 0.6758 - val_loss: 0.8035 - val_accuracy: 0.7146\n",
      "Epoch 37/50\n",
      "32/32 [==============================] - 2s 61ms/step - loss: 0.6948 - accuracy: 0.7178 - val_loss: 0.7740 - val_accuracy: 0.7385\n",
      "Epoch 38/50\n",
      "32/32 [==============================] - 2s 66ms/step - loss: 0.6996 - accuracy: 0.6992 - val_loss: 0.4654 - val_accuracy: 0.6747\n",
      "Epoch 39/50\n",
      "32/32 [==============================] - 2s 63ms/step - loss: 0.7040 - accuracy: 0.6964 - val_loss: 0.5933 - val_accuracy: 0.7345\n",
      "Epoch 40/50\n",
      "32/32 [==============================] - 2s 62ms/step - loss: 0.7211 - accuracy: 0.6729 - val_loss: 0.4633 - val_accuracy: 0.7365\n",
      "Epoch 41/50\n",
      "32/32 [==============================] - 2s 68ms/step - loss: 0.6840 - accuracy: 0.7100 - val_loss: 0.6392 - val_accuracy: 0.7685\n",
      "Epoch 42/50\n",
      "32/32 [==============================] - 2s 61ms/step - loss: 0.6642 - accuracy: 0.7246 - val_loss: 0.5341 - val_accuracy: 0.7345\n",
      "Epoch 43/50\n",
      "32/32 [==============================] - 2s 62ms/step - loss: 0.7110 - accuracy: 0.7188 - val_loss: 0.9592 - val_accuracy: 0.7226\n",
      "Epoch 44/50\n",
      "32/32 [==============================] - 2s 63ms/step - loss: 0.7439 - accuracy: 0.6866 - val_loss: 0.6939 - val_accuracy: 0.7405\n",
      "Epoch 45/50\n",
      "32/32 [==============================] - 2s 68ms/step - loss: 0.6943 - accuracy: 0.7090 - val_loss: 0.6434 - val_accuracy: 0.7285\n",
      "Epoch 46/50\n",
      "32/32 [==============================] - 2s 62ms/step - loss: 0.7288 - accuracy: 0.6954 - val_loss: 0.6113 - val_accuracy: 0.6866\n",
      "Epoch 47/50\n",
      "32/32 [==============================] - 2s 60ms/step - loss: 0.6479 - accuracy: 0.7275 - val_loss: 0.7073 - val_accuracy: 0.7405\n",
      "Epoch 48/50\n",
      "32/32 [==============================] - 2s 64ms/step - loss: 0.7182 - accuracy: 0.7090 - val_loss: 0.7536 - val_accuracy: 0.7505\n",
      "Epoch 49/50\n",
      "32/32 [==============================] - 2s 63ms/step - loss: 0.6918 - accuracy: 0.7227 - val_loss: 0.5453 - val_accuracy: 0.7345\n",
      "Epoch 50/50\n",
      "32/32 [==============================] - 2s 67ms/step - loss: 0.7207 - accuracy: 0.6826 - val_loss: 0.9598 - val_accuracy: 0.6946\n"
     ]
    }
   ],
   "source": [
    "#Defining hyperparameters\n",
    "batch_Size = 32\n",
    "steps_Per_Epoch = 32\n",
    "numEpochs = 50\n",
    "\n",
    "#Instantating VGG19 model\n",
    "model = VGG19((224,224,3),classes=3) #VGG19_dense for revised VGG19, VGG19 for VGG19. Please pay attention to VGG16(), chnage the input shape and class number in VGG.py.\n",
    "\n",
    "#Creating an optimizers\n",
    "adaDelta = keras.optimizers.Adadelta(lr=1.0, rho=0.95)\n",
    "sgd = SGD(lr=0.01, decay=1e-6, momentum=0.95, nesterov=True)\n",
    "model.compile(optimizer = sgd , loss = 'categorical_crossentropy', metrics = ['accuracy'])\n",
    "\n",
    "#Creating early stopping \n",
    "earlystop = EarlyStopping(monitor = 'val_accuracy', min_delta = 0, patience = 50, verbose = 1, mode = 'auto', restore_best_weights = True)       \n",
    "\n",
    "train_generator = datagen.flow(x_train, y_train, batch_size = batch_Size)\n",
    "validation_generator = datagen.flow(x_valid, y_valid, batch_size = batch_Size)\n",
    "\n",
    "# Model training\n",
    "history = model.fit_generator(\n",
    "    train_generator,\n",
    "    steps_per_epoch = steps_Per_Epoch,\n",
    "    validation_data = validation_generator, \n",
    "    validation_steps = 16,\n",
    "    epochs = numEpochs,\n",
    "    shuffle = True, \n",
    "    verbose = 1)"
   ]
  },
  {
   "cell_type": "code",
   "execution_count": 9,
   "metadata": {},
   "outputs": [],
   "source": [
    "modelPath = \"VGG19_COVID19-v2.h5\"\n",
    "resultPath = 'VGG19_COVID19-v2.txt'\n",
    "modelPath = 'tmp_model'"
   ]
  },
  {
   "cell_type": "code",
   "execution_count": 10,
   "metadata": {},
   "outputs": [
    {
     "name": "stdout",
     "output_type": "stream",
     "text": [
      "Epoch     0 | LossA: 1.09(+0.00%) \u001b[0m\t| LossAB: 1.08(+0.00%) \u001b[0m\t\n",
      "Epoch     1 | LossA: \u001b[32m0.99(-9.19%) ▼\u001b[0m\t| LossAB: \u001b[91m1.11(+3.27%) ▲\u001b[0m\t\n",
      "Epoch     2 | LossA: \u001b[32m0.96(-2.92%) ▼\u001b[0m\t| LossAB: \u001b[32m0.72(-35.01%) ▼\u001b[0m\t\n",
      "Epoch     3 | LossA: \u001b[32m0.88(-8.61%) ▼\u001b[0m\t| LossAB: \u001b[91m0.88(+21.29%) ▲\u001b[0m\t\n",
      "Epoch     4 | LossA: \u001b[32m0.85(-2.44%) ▼\u001b[0m\t| LossAB: \u001b[32m0.75(-15.12%) ▼\u001b[0m\t\n",
      "Epoch     5 | LossA: \u001b[32m0.83(-3.11%) ▼\u001b[0m\t| LossAB: \u001b[91m0.76(+1.90%) ▲\u001b[0m\t\n",
      "Epoch     6 | LossA: \u001b[32m0.78(-6.05%) ▼\u001b[0m\t| LossAB: \u001b[91m1.56(+105.50%) ▲\u001b[0m\t\n",
      "Epoch     7 | LossA: \u001b[91m0.86(+10.05%) ▲\u001b[0m\t| LossAB: \u001b[32m0.83(-46.93%) ▼\u001b[0m\t\n",
      "Epoch     8 | LossA: \u001b[32m0.80(-7.00%) ▼\u001b[0m\t| LossAB: \u001b[32m0.57(-31.19%) ▼\u001b[0m\t\n",
      "Epoch     9 | LossA: \u001b[32m0.78(-1.88%) ▼\u001b[0m\t| LossAB: \u001b[91m0.69(+21.09%) ▲\u001b[0m\t\n",
      "Epoch    10 | LossA: \u001b[32m0.69(-11.53%) ▼\u001b[0m\t| LossAB: \u001b[32m0.61(-11.58%) ▼\u001b[0m\t\n",
      "Epoch    11 | LossA: \u001b[91m0.72(+3.94%) ▲\u001b[0m\t| LossAB: \u001b[91m0.72(+18.34%) ▲\u001b[0m\t\n",
      "Epoch    12 | LossA: \u001b[32m0.69(-4.49%) ▼\u001b[0m\t| LossAB: \u001b[32m0.61(-15.21%) ▼\u001b[0m\t\n",
      "Epoch    13 | LossA: \u001b[32m0.67(-2.98%) ▼\u001b[0m\t| LossAB: \u001b[91m0.65(+5.81%) ▲\u001b[0m\t\n",
      "Epoch    14 | LossA: \u001b[91m0.71(+6.68%) ▲\u001b[0m\t| LossAB: \u001b[91m0.90(+38.91%) ▲\u001b[0m\t\n",
      "Epoch    15 | LossA: \u001b[91m0.77(+7.72%) ▲\u001b[0m\t| LossAB: \u001b[32m0.71(-21.14%) ▼\u001b[0m\t\n",
      "Epoch    16 | LossA: \u001b[91m0.83(+8.37%) ▲\u001b[0m\t| LossAB: \u001b[91m0.78(+10.21%) ▲\u001b[0m\t\n",
      "Epoch    17 | LossA: \u001b[32m0.77(-7.27%) ▼\u001b[0m\t| LossAB: \u001b[32m0.77(-1.32%) ▼\u001b[0m\t\n",
      "Epoch    18 | LossA: \u001b[91m1.16(+50.65%) ▲\u001b[0m\t| LossAB: \u001b[91m1.05(+35.32%) ▲\u001b[0m\t\n",
      "Epoch    19 | LossA: \u001b[32m1.02(-12.31%) ▼\u001b[0m\t| LossAB: \u001b[32m1.03(-1.77%) ▼\u001b[0m\t\n",
      "Epoch    20 | LossA: \u001b[32m0.94(-7.92%) ▼\u001b[0m\t| LossAB: \u001b[32m0.89(-12.86%) ▼\u001b[0m\t\n",
      "Epoch    21 | LossA: \u001b[32m0.90(-4.02%) ▼\u001b[0m\t| LossAB: \u001b[91m0.90(+0.98%) ▲\u001b[0m\t\n",
      "Epoch    22 | LossA: \u001b[32m0.90(-0.01%) ▼\u001b[0m\t| LossAB: \u001b[91m0.96(+6.33%) ▲\u001b[0m\t\n",
      "Epoch    23 | LossA: \u001b[32m0.81(-10.33%) ▼\u001b[0m\t| LossAB: \u001b[32m0.72(-25.49%) ▼\u001b[0m\t\n",
      "Epoch    24 | LossA: \u001b[91m0.82(+1.51%) ▲\u001b[0m\t| LossAB: \u001b[91m0.83(+15.34%) ▲\u001b[0m\t\n",
      "Epoch    25 | LossA: \u001b[91m0.82(+0.09%) ▲\u001b[0m\t| LossAB: \u001b[32m0.70(-15.32%) ▼\u001b[0m\t\n",
      "Epoch    26 | LossA: \u001b[32m0.75(-8.54%) ▼\u001b[0m\t| LossAB: \u001b[91m0.85(+21.88%) ▲\u001b[0m\t\n",
      "Epoch    27 | LossA: \u001b[91m0.76(+1.39%) ▲\u001b[0m\t| LossAB: \u001b[32m0.74(-13.50%) ▼\u001b[0m\t\n",
      "Epoch    28 | LossA: \u001b[91m0.77(+1.68%) ▲\u001b[0m\t| LossAB: \u001b[32m0.58(-21.20%) ▼\u001b[0m\t\n",
      "Epoch    29 | LossA: \u001b[32m0.76(-0.87%) ▼\u001b[0m\t| LossAB: \u001b[91m0.62(+6.47%) ▲\u001b[0m\t\n",
      "Epoch    30 | LossA: \u001b[32m0.66(-13.53%) ▼\u001b[0m\t| LossAB: \u001b[32m0.35(-43.89%) ▼\u001b[0m\t\n",
      "Epoch    31 | LossA: \u001b[91m0.74(+11.61%) ▲\u001b[0m\t| LossAB: \u001b[91m0.56(+62.42%) ▲\u001b[0m\t\n",
      "Epoch    32 | LossA: \u001b[32m0.69(-6.68%) ▼\u001b[0m\t| LossAB: \u001b[91m0.87(+54.64%) ▲\u001b[0m\t\n",
      "Epoch    33 | LossA: \u001b[32m0.69(-0.32%) ▼\u001b[0m\t| LossAB: \u001b[32m0.60(-30.89%) ▼\u001b[0m\t\n",
      "Epoch    34 | LossA: \u001b[32m0.69(-0.14%) ▼\u001b[0m\t| LossAB: \u001b[91m0.71(+18.70%) ▲\u001b[0m\t\n",
      "Epoch    35 | LossA: \u001b[91m0.76(+11.34%) ▲\u001b[0m\t| LossAB: \u001b[91m0.80(+12.39%) ▲\u001b[0m\t\n",
      "Epoch    36 | LossA: \u001b[32m0.69(-8.97%) ▼\u001b[0m\t| LossAB: \u001b[32m0.77(-3.68%) ▼\u001b[0m\t\n",
      "Epoch    37 | LossA: \u001b[91m0.70(+0.70%) ▲\u001b[0m\t| LossAB: \u001b[32m0.47(-39.87%) ▼\u001b[0m\t\n",
      "Epoch    38 | LossA: \u001b[91m0.70(+0.59%) ▲\u001b[0m\t| LossAB: \u001b[91m0.59(+27.49%) ▲\u001b[0m\t\n",
      "Epoch    39 | LossA: \u001b[91m0.72(+2.47%) ▲\u001b[0m\t| LossAB: \u001b[32m0.46(-21.92%) ▼\u001b[0m\t\n",
      "Epoch    40 | LossA: \u001b[32m0.68(-5.14%) ▼\u001b[0m\t| LossAB: \u001b[91m0.64(+37.97%) ▲\u001b[0m\t\n",
      "Epoch    41 | LossA: \u001b[32m0.66(-2.90%) ▼\u001b[0m\t| LossAB: \u001b[32m0.53(-16.44%) ▼\u001b[0m\t\n",
      "Epoch    42 | LossA: \u001b[91m0.71(+7.05%) ▲\u001b[0m\t| LossAB: \u001b[91m0.96(+79.58%) ▲\u001b[0m\t\n",
      "Epoch    43 | LossA: \u001b[91m0.74(+4.63%) ▲\u001b[0m\t| LossAB: \u001b[32m0.69(-27.66%) ▼\u001b[0m\t\n",
      "Epoch    44 | LossA: \u001b[32m0.69(-6.68%) ▼\u001b[0m\t| LossAB: \u001b[32m0.64(-7.27%) ▼\u001b[0m\t\n",
      "Epoch    45 | LossA: \u001b[91m0.73(+4.97%) ▲\u001b[0m\t| LossAB: \u001b[32m0.61(-4.99%) ▼\u001b[0m\t\n",
      "Epoch    46 | LossA: \u001b[32m0.65(-11.09%) ▼\u001b[0m\t| LossAB: \u001b[91m0.71(+15.71%) ▲\u001b[0m\t\n",
      "Epoch    47 | LossA: \u001b[91m0.72(+10.85%) ▲\u001b[0m\t| LossAB: \u001b[91m0.75(+6.55%) ▲\u001b[0m\t\n",
      "Epoch    48 | LossA: \u001b[32m0.69(-3.68%) ▼\u001b[0m\t| LossAB: \u001b[32m0.55(-27.65%) ▼\u001b[0m\t\n",
      "300/300 [==============================] - 0s 2ms/step\n",
      "Accuracy: 0.7433333396911621\n"
     ]
    }
   ],
   "source": [
    "y_test_oh = dense_to_one_hot(y_test, num_clases=3)\n",
    "\n",
    "# visualizing losses and accuracy\n",
    "train_loss = history.history['loss']\n",
    "val_loss = history.history['val_loss']\n",
    "\n",
    "#Observing the losses but can be commented out as it's not mandatory \n",
    "reporter = lossprettifier.LossPrettifier(show_percentage=True)\n",
    "\n",
    "for i in range(numEpochs-1):\n",
    "    reporter(epoch=i, LossA = train_loss[i], LossAB = val_loss[i])\n",
    "\n",
    "# Model evaluation \n",
    "score, acc = model.evaluate(x_test, y_test_oh, batch_size=batch_Size)\n",
    "print(\"Accuracy:\", acc)\n",
    "\n",
    "#if acc>0.675:\n",
    "model.save_weights(modelPath)\n",
    "model.save(modelPath)"
   ]
  },
  {
   "cell_type": "code",
   "execution_count": 11,
   "metadata": {},
   "outputs": [],
   "source": [
    "y_pred = model.predict(x_test)\n",
    "y_pred = y_pred.reshape(len(y_test), 3)\n",
    "y_pred = np.argmax(y_pred, axis=1)"
   ]
  },
  {
   "cell_type": "markdown",
   "metadata": {},
   "source": [
    "## Confusion matrix"
   ]
  },
  {
   "cell_type": "code",
   "execution_count": 12,
   "metadata": {
    "scrolled": true
   },
   "outputs": [
    {
     "data": {
      "image/png": "[encoded data removed]",
      "text/plain": [
       "<Figure size 432x288 with 2 Axes>"
      ]
     },
     "metadata": {
      "needs_background": "light"
     },
     "output_type": "display_data"
    }
   ],
   "source": [
    "from sklearn.metrics import confusion_matrix, ConfusionMatrixDisplay\n",
    "cm = confusion_matrix(y_test, y_pred)\n",
    "disp = ConfusionMatrixDisplay(confusion_matrix=cm, display_labels=np.array(['normal', 'COVID19', 'pneumonia']))\n",
    "disp.plot(cmap='Blues') \n",
    "disp.ax_.get_images()[0].set_clim(0, 100)"
   ]
  },
  {
   "cell_type": "markdown",
   "metadata": {},
   "source": [
    "## Precyzja, czułość, F1, dokładność"
   ]
  },
  {
   "cell_type": "code",
   "execution_count": 13,
   "metadata": {
    "scrolled": true
   },
   "outputs": [
    {
     "name": "stdout",
     "output_type": "stream",
     "text": [
      "              precision    recall  f1-score   support\n",
      "\n",
      "           0       0.84      0.65      0.73       100\n",
      "           1       0.77      0.72      0.75       100\n",
      "           2       0.66      0.86      0.75       100\n",
      "\n",
      "    accuracy                           0.74       300\n",
      "   macro avg       0.76      0.74      0.74       300\n",
      "weighted avg       0.76      0.74      0.74       300\n",
      "\n"
     ]
    }
   ],
   "source": [
    "from sklearn.metrics import classification_report\n",
    "print(classification_report(y_test, y_pred))"
   ]
  },
  {
   "cell_type": "markdown",
   "metadata": {},
   "source": [
    "## Swoistość"
   ]
  },
  {
   "cell_type": "markdown",
   "metadata": {},
   "source": [
    "Wyliczenie wszystkich podstawowych metryk z confusion matrix (w tym swoistość, czyli TNR)."
   ]
  },
  {
   "cell_type": "code",
   "execution_count": 14,
   "metadata": {},
   "outputs": [],
   "source": [
    "FP = cm.sum(axis=0) - np.diag(cm)  \n",
    "FN = cm.sum(axis=1) - np.diag(cm)\n",
    "TP = np.diag(cm)\n",
    "TN = cm.sum() - (FP + FN + TP)\n",
    "\n",
    "# Sensitivity, hit rate, recall, or true positive rate\n",
    "TPR = TP/(TP+FN)\n",
    "# Specificity or true negative rate\n",
    "TNR = TN/(TN+FP) \n",
    "# Precision or positive predictive value\n",
    "PPV = TP/(TP+FP)\n",
    "# Negative predictive value\n",
    "NPV = TN/(TN+FN)\n",
    "# Fall out or false positive rate\n",
    "FPR = FP/(FP+TN)\n",
    "# False negative rate\n",
    "FNR = FN/(TP+FN)\n",
    "# False discovery rate\n",
    "FDR = FP/(TP+FP)\n",
    "\n",
    "# Overall accuracy\n",
    "ACC = (TP+TN)/(TP+FP+FN+TN)"
   ]
  },
  {
   "cell_type": "code",
   "execution_count": 15,
   "metadata": {},
   "outputs": [
    {
     "data": {
      "text/plain": [
       "array([0.84333333, 0.83666667, 0.80666667])"
      ]
     },
     "execution_count": 15,
     "metadata": {},
     "output_type": "execute_result"
    }
   ],
   "source": [
    "ACC"
   ]
  },
  {
   "cell_type": "code",
   "execution_count": 16,
   "metadata": {},
   "outputs": [
    {
     "name": "stdout",
     "output_type": "stream",
     "text": [
      "[0.94  0.895 0.78 ]\n"
     ]
    }
   ],
   "source": [
    "print(TNR)"
   ]
  },
  {
   "cell_type": "markdown",
   "metadata": {},
   "source": [
    "## ROC i AUC"
   ]
  },
  {
   "cell_type": "code",
   "execution_count": 17,
   "metadata": {},
   "outputs": [],
   "source": [
    "def dense_to_one_hot(labels_dense,num_clases=3):\n",
    "  return np.eye(num_clases)[labels_dense]"
   ]
  },
  {
   "cell_type": "code",
   "execution_count": 18,
   "metadata": {},
   "outputs": [],
   "source": [
    "y_test1 = dense_to_one_hot(y_test)\n",
    "y_pred1 = dense_to_one_hot(y_pred)"
   ]
  },
  {
   "cell_type": "code",
   "execution_count": 19,
   "metadata": {},
   "outputs": [],
   "source": [
    "from sklearn.metrics import roc_curve, auc\n",
    "\n",
    "n_classes = 3\n",
    "fpr = dict()\n",
    "tpr = dict()\n",
    "roc_auc = dict()\n",
    "for i in range(n_classes):\n",
    "    fpr[i], tpr[i], _ = roc_curve(y_test1[:, i], y_pred1[:, i])\n",
    "    roc_auc[i] = auc(fpr[i], tpr[i])\n",
    "    \n",
    "fpr[\"micro\"], tpr[\"micro\"], _ = roc_curve(y_test1.ravel(), y_pred1.ravel())\n",
    "roc_auc[\"micro\"] = auc(fpr[\"micro\"], tpr[\"micro\"])"
   ]
  },
  {
   "cell_type": "code",
   "execution_count": 20,
   "metadata": {
    "scrolled": false
   },
   "outputs": [
    {
     "data": {
      "image/png": "[encoded data removed]",
      "text/plain": [
       "<Figure size 432x288 with 1 Axes>"
      ]
     },
     "metadata": {
      "needs_background": "light"
     },
     "output_type": "display_data"
    }
   ],
   "source": [
    "import matplotlib.pyplot as plt\n",
    "from itertools import cycle\n",
    "\n",
    "lw = 2\n",
    "all_fpr = np.unique(np.concatenate([fpr[i] for i in range(n_classes)]))\n",
    "\n",
    "# Then interpolate all ROC curves at this points\n",
    "mean_tpr = np.zeros_like(all_fpr)\n",
    "for i in range(n_classes):\n",
    "    mean_tpr += np.interp(all_fpr, fpr[i], tpr[i])\n",
    "\n",
    "# Finally average it and compute AUC\n",
    "mean_tpr /= n_classes\n",
    "\n",
    "fpr[\"macro\"] = all_fpr\n",
    "tpr[\"macro\"] = mean_tpr\n",
    "roc_auc[\"macro\"] = auc(fpr[\"macro\"], tpr[\"macro\"])\n",
    "\n",
    "# Plot all ROC curves\n",
    "plt.figure()\n",
    "plt.plot(fpr[\"micro\"], tpr[\"micro\"],\n",
    "         label='micro-average ROC curve (area = {0:0.2f})'\n",
    "               ''.format(roc_auc[\"micro\"]),\n",
    "         color='deeppink', linestyle=':', linewidth=4)\n",
    "\n",
    "plt.plot(fpr[\"macro\"], tpr[\"macro\"],\n",
    "         label='macro-average ROC curve (area = {0:0.2f})'\n",
    "               ''.format(roc_auc[\"macro\"]),\n",
    "         color='navy', linestyle=':', linewidth=4)\n",
    "\n",
    "colors = cycle(['aqua', 'darkorange', 'cornflowerblue'])\n",
    "for i, color in zip(range(n_classes), colors):\n",
    "    plt.plot(fpr[i], tpr[i], color=color, lw=lw,\n",
    "             label='ROC curve of class {0} (area = {1:0.2f})'\n",
    "             ''.format(i, roc_auc[i]))\n",
    "\n",
    "plt.rcParams[\"figure.figsize\"] = (7,6)\n",
    "plt.plot([0, 1], [0, 1], 'k--', lw=lw)\n",
    "plt.xlim([0.0, 1.0])\n",
    "plt.ylim([0.0, 1.05])\n",
    "plt.xlabel('False Positive Rate')\n",
    "plt.ylabel('True Positive Rate')\n",
    "plt.title('Some extension of Receiver operating characteristic to multi-class')\n",
    "plt.legend(loc=\"lower right\")\n",
    "plt.show()"
   ]
  },
  {
   "cell_type": "markdown",
   "metadata": {},
   "source": [
    "## Współczynnik Giniego"
   ]
  },
  {
   "cell_type": "code",
   "execution_count": 21,
   "metadata": {},
   "outputs": [],
   "source": [
    "def gini_coeff(actual, pred):\n",
    "    assert (len(actual) == len(pred))\n",
    "    all = np.asarray(np.c_[actual, pred, np.arange(len(actual))], dtype=np.float)\n",
    "    all = all[np.lexsort((all[:, 2], -1 * all[:, 1]))]\n",
    "    totalLosses = all[:, 0].sum()\n",
    "    giniSum = all[:, 0].cumsum().sum() / totalLosses\n",
    "\n",
    "    giniSum -= (len(actual) + 1) / 2.\n",
    "    return giniSum / len(actual)"
   ]
  },
  {
   "cell_type": "code",
   "execution_count": 22,
   "metadata": {},
   "outputs": [],
   "source": [
    "n_classes = 3\n",
    "\n",
    "gini = dict()\n",
    "for i in range(n_classes):\n",
    "    gini[i] = gini_coeff(y_test1[:, i], y_pred1[:, i])"
   ]
  },
  {
   "cell_type": "code",
   "execution_count": 23,
   "metadata": {},
   "outputs": [
    {
     "data": {
      "text/plain": [
       "{0: 0.19666666666666666, 1: 0.31373333333333336, 2: 0.11386666666666666}"
      ]
     },
     "execution_count": 23,
     "metadata": {},
     "output_type": "execute_result"
    }
   ],
   "source": [
    "gini"
   ]
  },
  {
   "cell_type": "code",
   "execution_count": 24,
   "metadata": {},
   "outputs": [
    {
     "data": {
      "text/plain": [
       "0.10464444444444448"
      ]
     },
     "execution_count": 24,
     "metadata": {},
     "output_type": "execute_result"
    }
   ],
   "source": [
    "gini_coeff(y_test, y_pred)"
   ]
  },
  {
   "cell_type": "markdown",
   "metadata": {},
   "source": [
    "## Cohen Kappa"
   ]
  },
  {
   "cell_type": "code",
   "execution_count": 25,
   "metadata": {},
   "outputs": [
    {
     "name": "stdout",
     "output_type": "stream",
     "text": [
      "0.615\n"
     ]
    }
   ],
   "source": [
    "from sklearn.metrics import cohen_kappa_score\n",
    "print(cohen_kappa_score(y_test, y_pred))"
   ]
  }
 ],
 "metadata": {
  "kernelspec": {
   "display_name": "wbvenv36",
   "language": "python",
   "name": "wbvenv36"
  },
  "language_info": {
   "codemirror_mode": {
    "name": "ipython",
    "version": 3
   },
   "file_extension": ".py",
   "mimetype": "text/x-python",
   "name": "python",
   "nbconvert_exporter": "python",
   "pygments_lexer": "ipython3",
   "version": "3.6.12"
  }
 },
 "nbformat": 4,
 "nbformat_minor": 5
}
