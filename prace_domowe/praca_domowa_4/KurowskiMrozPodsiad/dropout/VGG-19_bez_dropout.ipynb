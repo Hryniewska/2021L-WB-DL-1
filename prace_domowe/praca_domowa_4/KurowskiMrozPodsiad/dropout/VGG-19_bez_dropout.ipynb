{
 "cells": [
  {
   "cell_type": "code",
   "execution_count": 1,
   "metadata": {},
   "outputs": [],
   "source": [
    "import cv2\n",
    "import numpy as np\n",
    "import matplotlib.pyplot as plt\n",
    "import os"
   ]
  },
  {
   "cell_type": "code",
   "execution_count": 2,
   "metadata": {},
   "outputs": [],
   "source": [
    "x_train = np.load('data/x_train_undersampled.npy')\n",
    "y_train = np.load('data/y_train_undersampled.npy')\n",
    "x_test = np.load('data/x_test_undersampled.npy')\n",
    "y_test = np.load('data/y_test_undersampled.npy')"
   ]
  },
  {
   "cell_type": "code",
   "execution_count": 3,
   "metadata": {},
   "outputs": [
    {
     "name": "stdout",
     "output_type": "stream",
     "text": [
      "(5010, 224, 224, 3)\n",
      "(300, 224, 224, 3)\n"
     ]
    }
   ],
   "source": [
    "print(x_train.shape)\n",
    "print(x_test.shape)"
   ]
  },
  {
   "cell_type": "code",
   "execution_count": 4,
   "metadata": {},
   "outputs": [
    {
     "name": "stdout",
     "output_type": "stream",
     "text": [
      "(5010,)\n",
      "(300,)\n"
     ]
    }
   ],
   "source": [
    "print(y_train.shape)\n",
    "print(y_test.shape)"
   ]
  },
  {
   "cell_type": "code",
   "execution_count": 5,
   "metadata": {},
   "outputs": [],
   "source": [
    "#x_train /= 255????"
   ]
  },
  {
   "cell_type": "code",
   "execution_count": 6,
   "metadata": {
    "scrolled": true
   },
   "outputs": [
    {
     "name": "stderr",
     "output_type": "stream",
     "text": [
      "C:\\Users\\hp\\Anaconda3\\envs\\wbvenv36\\lib\\site-packages\\tensorflow\\python\\framework\\dtypes.py:516: FutureWarning: Passing (type, 1) or '1type' as a synonym of type is deprecated; in a future version of numpy, it will be understood as (type, (1,)) / '(1,)type'.\n",
      "  _np_qint8 = np.dtype([(\"qint8\", np.int8, 1)])\n",
      "C:\\Users\\hp\\Anaconda3\\envs\\wbvenv36\\lib\\site-packages\\tensorflow\\python\\framework\\dtypes.py:517: FutureWarning: Passing (type, 1) or '1type' as a synonym of type is deprecated; in a future version of numpy, it will be understood as (type, (1,)) / '(1,)type'.\n",
      "  _np_quint8 = np.dtype([(\"quint8\", np.uint8, 1)])\n",
      "C:\\Users\\hp\\Anaconda3\\envs\\wbvenv36\\lib\\site-packages\\tensorflow\\python\\framework\\dtypes.py:518: FutureWarning: Passing (type, 1) or '1type' as a synonym of type is deprecated; in a future version of numpy, it will be understood as (type, (1,)) / '(1,)type'.\n",
      "  _np_qint16 = np.dtype([(\"qint16\", np.int16, 1)])\n",
      "C:\\Users\\hp\\Anaconda3\\envs\\wbvenv36\\lib\\site-packages\\tensorflow\\python\\framework\\dtypes.py:519: FutureWarning: Passing (type, 1) or '1type' as a synonym of type is deprecated; in a future version of numpy, it will be understood as (type, (1,)) / '(1,)type'.\n",
      "  _np_quint16 = np.dtype([(\"quint16\", np.uint16, 1)])\n",
      "C:\\Users\\hp\\Anaconda3\\envs\\wbvenv36\\lib\\site-packages\\tensorflow\\python\\framework\\dtypes.py:520: FutureWarning: Passing (type, 1) or '1type' as a synonym of type is deprecated; in a future version of numpy, it will be understood as (type, (1,)) / '(1,)type'.\n",
      "  _np_qint32 = np.dtype([(\"qint32\", np.int32, 1)])\n",
      "C:\\Users\\hp\\Anaconda3\\envs\\wbvenv36\\lib\\site-packages\\tensorflow\\python\\framework\\dtypes.py:525: FutureWarning: Passing (type, 1) or '1type' as a synonym of type is deprecated; in a future version of numpy, it will be understood as (type, (1,)) / '(1,)type'.\n",
      "  np_resource = np.dtype([(\"resource\", np.ubyte, 1)])\n",
      "C:\\Users\\hp\\Anaconda3\\envs\\wbvenv36\\lib\\site-packages\\tensorboard\\compat\\tensorflow_stub\\dtypes.py:541: FutureWarning: Passing (type, 1) or '1type' as a synonym of type is deprecated; in a future version of numpy, it will be understood as (type, (1,)) / '(1,)type'.\n",
      "  _np_qint8 = np.dtype([(\"qint8\", np.int8, 1)])\n",
      "C:\\Users\\hp\\Anaconda3\\envs\\wbvenv36\\lib\\site-packages\\tensorboard\\compat\\tensorflow_stub\\dtypes.py:542: FutureWarning: Passing (type, 1) or '1type' as a synonym of type is deprecated; in a future version of numpy, it will be understood as (type, (1,)) / '(1,)type'.\n",
      "  _np_quint8 = np.dtype([(\"quint8\", np.uint8, 1)])\n",
      "C:\\Users\\hp\\Anaconda3\\envs\\wbvenv36\\lib\\site-packages\\tensorboard\\compat\\tensorflow_stub\\dtypes.py:543: FutureWarning: Passing (type, 1) or '1type' as a synonym of type is deprecated; in a future version of numpy, it will be understood as (type, (1,)) / '(1,)type'.\n",
      "  _np_qint16 = np.dtype([(\"qint16\", np.int16, 1)])\n",
      "C:\\Users\\hp\\Anaconda3\\envs\\wbvenv36\\lib\\site-packages\\tensorboard\\compat\\tensorflow_stub\\dtypes.py:544: FutureWarning: Passing (type, 1) or '1type' as a synonym of type is deprecated; in a future version of numpy, it will be understood as (type, (1,)) / '(1,)type'.\n",
      "  _np_quint16 = np.dtype([(\"quint16\", np.uint16, 1)])\n",
      "C:\\Users\\hp\\Anaconda3\\envs\\wbvenv36\\lib\\site-packages\\tensorboard\\compat\\tensorflow_stub\\dtypes.py:545: FutureWarning: Passing (type, 1) or '1type' as a synonym of type is deprecated; in a future version of numpy, it will be understood as (type, (1,)) / '(1,)type'.\n",
      "  _np_qint32 = np.dtype([(\"qint32\", np.int32, 1)])\n",
      "C:\\Users\\hp\\Anaconda3\\envs\\wbvenv36\\lib\\site-packages\\tensorboard\\compat\\tensorflow_stub\\dtypes.py:550: FutureWarning: Passing (type, 1) or '1type' as a synonym of type is deprecated; in a future version of numpy, it will be understood as (type, (1,)) / '(1,)type'.\n",
      "  np_resource = np.dtype([(\"resource\", np.ubyte, 1)])\n",
      "Using TensorFlow backend.\n"
     ]
    }
   ],
   "source": [
    "from __future__ import print_function\n",
    "\n",
    "import numpy as np\n",
    "from random import shuffle\n",
    "import time\n",
    "import csv\n",
    "from PIL import Image\n",
    "import os\n",
    "import tensorflow as tf\n",
    "import keras\n",
    "from keras.callbacks import EarlyStopping, LearningRateScheduler\n",
    "from keras import initializers\n",
    "from keras.optimizers import SGD\n",
    "from keras.preprocessing import sequence\n",
    "from keras.utils import np_utils\n",
    "from keras.models import Sequential,load_model,Model\n",
    "from keras.layers import Dense, Dropout, Activation, Flatten\n",
    "from keras.layers import *\n",
    "from keras.callbacks import CSVLogger\n",
    "from keras import callbacks\n",
    "from keras.preprocessing.image import ImageDataGenerator\n",
    "\n",
    "from sklearn.metrics import classification_report\n",
    "from sklearn.model_selection import train_test_split\n",
    "import sklearn.metrics as sklm\n",
    "import sys\n",
    "sys.path.insert(0,'..')\n",
    "from utils import lossprettifier\n",
    "from Classifier.VGG_bez_dropout import *"
   ]
  },
  {
   "cell_type": "code",
   "execution_count": 7,
   "metadata": {},
   "outputs": [],
   "source": [
    "# for reproducibility\n",
    "np.random.seed(3768)\n",
    "\n",
    "# use this environment flag to change which GPU to use \n",
    "os.environ[\"CUDA_DEVICE_ORDER\"]=\"PCI_BUS_ID\"\n",
    "os.environ[\"CUDA_VISIBLE_DEVICES\"]=\"0\"  # specify which GPU(s) to be used\n",
    "\n",
    "#Get TensorFlow session\n",
    "def get_session(): \n",
    "  config = tf.ConfigProto() \n",
    "  config.gpu_options.allow_growth = True \n",
    "  return tf.Session(config=config) \n",
    "  \n",
    "# One hot encoding of labels \n",
    "def dense_to_one_hot(labels_dense,num_clases=4):\n",
    "  return np.eye(num_clases)[labels_dense]"
   ]
  },
  {
   "cell_type": "code",
   "execution_count": 8,
   "metadata": {},
   "outputs": [],
   "source": [
    "# Preparing training and test sets\n",
    "x_train, x_valid, y_train, y_valid = train_test_split(x_train, y_train, test_size=0.10, random_state=42)"
   ]
  },
  {
   "cell_type": "code",
   "execution_count": 9,
   "metadata": {},
   "outputs": [],
   "source": [
    "y_train = dense_to_one_hot(y_train,num_clases=3)\n",
    "y_valid= dense_to_one_hot(y_valid,num_clases=3)"
   ]
  },
  {
   "cell_type": "code",
   "execution_count": 10,
   "metadata": {},
   "outputs": [
    {
     "name": "stderr",
     "output_type": "stream",
     "text": [
      "C:\\Users\\hp\\Anaconda3\\envs\\wbvenv36\\lib\\site-packages\\keras_preprocessing\\image\\image_data_generator.py:349: UserWarning: This ImageDataGenerator specifies `featurewise_std_normalization`, which overrides setting of `featurewise_center`.\n",
      "  warnings.warn('This ImageDataGenerator specifies '\n"
     ]
    }
   ],
   "source": [
    "#Image data generation for the training \n",
    "datagen = ImageDataGenerator(\n",
    "               featurewise_center = False, \n",
    "               samplewise_center = False,  # set each sample mean to 0\n",
    "               featurewise_std_normalization = True,  \n",
    "               samplewise_std_normalization = False)  \n",
    "\n",
    "datagen.fit(x_train) \n",
    "for i in range(len(x_test)):\n",
    "      x_test[i] = datagen.standardize(x_test[i])"
   ]
  },
  {
   "cell_type": "code",
   "execution_count": 11,
   "metadata": {
    "scrolled": true
   },
   "outputs": [
    {
     "name": "stdout",
     "output_type": "stream",
     "text": [
      "WARNING:tensorflow:From C:\\Users\\hp\\AppData\\Roaming\\Python\\Python36\\site-packages\\keras\\backend\\tensorflow_backend.py:4070: The name tf.nn.max_pool is deprecated. Please use tf.nn.max_pool2d instead.\n",
      "\n",
      "WARNING:tensorflow:From C:\\Users\\hp\\AppData\\Roaming\\Python\\Python36\\site-packages\\keras\\backend\\tensorflow_backend.py:422: The name tf.global_variables is deprecated. Please use tf.compat.v1.global_variables instead.\n",
      "\n",
      "Epoch 1/50\n",
      "32/32 [==============================] - 3s 108ms/step - loss: 1.0793 - accuracy: 0.4033 - val_loss: 1.0552 - val_accuracy: 0.4391\n",
      "Epoch 2/50\n",
      "32/32 [==============================] - 2s 53ms/step - loss: 1.0103 - accuracy: 0.5132 - val_loss: 0.9352 - val_accuracy: 0.5569\n",
      "Epoch 3/50\n",
      "32/32 [==============================] - 1s 44ms/step - loss: 0.8786 - accuracy: 0.6182 - val_loss: 0.9524 - val_accuracy: 0.5469\n",
      "Epoch 4/50\n",
      "32/32 [==============================] - 1s 44ms/step - loss: 0.7807 - accuracy: 0.6328 - val_loss: 0.8960 - val_accuracy: 0.6587\n",
      "Epoch 5/50\n",
      "32/32 [==============================] - 1s 46ms/step - loss: 0.8450 - accuracy: 0.6426 - val_loss: 1.0615 - val_accuracy: 0.6747\n",
      "Epoch 6/50\n",
      "32/32 [==============================] - 1s 44ms/step - loss: 0.8058 - accuracy: 0.6631 - val_loss: 0.6085 - val_accuracy: 0.6607\n",
      "Epoch 7/50\n",
      "32/32 [==============================] - 1s 43ms/step - loss: 0.8038 - accuracy: 0.6415 - val_loss: 0.6402 - val_accuracy: 0.7126\n",
      "Epoch 8/50\n",
      "32/32 [==============================] - 1s 44ms/step - loss: 0.7133 - accuracy: 0.7129 - val_loss: 0.6485 - val_accuracy: 0.7565\n",
      "Epoch 9/50\n",
      "32/32 [==============================] - 1s 47ms/step - loss: 0.6287 - accuracy: 0.7520 - val_loss: 0.5864 - val_accuracy: 0.6986\n",
      "Epoch 10/50\n",
      "32/32 [==============================] - 1s 44ms/step - loss: 0.6242 - accuracy: 0.7568 - val_loss: 0.4546 - val_accuracy: 0.7585\n",
      "Epoch 11/50\n",
      "32/32 [==============================] - 1s 43ms/step - loss: 0.6359 - accuracy: 0.7305 - val_loss: 0.6935 - val_accuracy: 0.7505\n",
      "Epoch 12/50\n",
      "32/32 [==============================] - 1s 43ms/step - loss: 0.6454 - accuracy: 0.7334 - val_loss: 0.7219 - val_accuracy: 0.7565\n",
      "Epoch 13/50\n",
      "32/32 [==============================] - 1s 43ms/step - loss: 0.6236 - accuracy: 0.7424 - val_loss: 0.8641 - val_accuracy: 0.7445\n",
      "Epoch 14/50\n",
      "32/32 [==============================] - 1s 45ms/step - loss: 0.6682 - accuracy: 0.7346 - val_loss: 0.5564 - val_accuracy: 0.7645\n",
      "Epoch 15/50\n",
      "32/32 [==============================] - 1s 44ms/step - loss: 0.6582 - accuracy: 0.7402 - val_loss: 0.6990 - val_accuracy: 0.7485\n",
      "Epoch 16/50\n",
      "32/32 [==============================] - 1s 44ms/step - loss: 0.6438 - accuracy: 0.7412 - val_loss: 0.8564 - val_accuracy: 0.7006\n",
      "Epoch 17/50\n",
      "32/32 [==============================] - 1s 44ms/step - loss: 0.6207 - accuracy: 0.7373 - val_loss: 0.7409 - val_accuracy: 0.7784\n",
      "Epoch 18/50\n",
      "32/32 [==============================] - 1s 46ms/step - loss: 0.6697 - accuracy: 0.7266 - val_loss: 0.5870 - val_accuracy: 0.7725\n",
      "Epoch 19/50\n",
      "32/32 [==============================] - 1s 44ms/step - loss: 0.5536 - accuracy: 0.7816 - val_loss: 0.5757 - val_accuracy: 0.7365\n",
      "Epoch 20/50\n",
      "32/32 [==============================] - 1s 44ms/step - loss: 0.6449 - accuracy: 0.7412 - val_loss: 0.6577 - val_accuracy: 0.7405\n",
      "Epoch 21/50\n",
      "32/32 [==============================] - 1s 45ms/step - loss: 0.5738 - accuracy: 0.7598 - val_loss: 0.5229 - val_accuracy: 0.7345\n",
      "Epoch 22/50\n",
      "32/32 [==============================] - 1s 45ms/step - loss: 0.6244 - accuracy: 0.7549 - val_loss: 0.8792 - val_accuracy: 0.7585\n",
      "Epoch 23/50\n",
      "32/32 [==============================] - 1s 45ms/step - loss: 0.5506 - accuracy: 0.7920 - val_loss: 0.2873 - val_accuracy: 0.7485\n",
      "Epoch 24/50\n",
      "32/32 [==============================] - 1s 44ms/step - loss: 0.6194 - accuracy: 0.7395 - val_loss: 0.3928 - val_accuracy: 0.7425\n",
      "Epoch 25/50\n",
      "32/32 [==============================] - 1s 44ms/step - loss: 0.6234 - accuracy: 0.7510 - val_loss: 0.4294 - val_accuracy: 0.7944\n",
      "Epoch 26/50\n",
      "32/32 [==============================] - 1s 44ms/step - loss: 0.6030 - accuracy: 0.7559 - val_loss: 0.4200 - val_accuracy: 0.7884\n",
      "Epoch 27/50\n",
      "32/32 [==============================] - 2s 47ms/step - loss: 0.5800 - accuracy: 0.7786 - val_loss: 1.2154 - val_accuracy: 0.7485\n",
      "Epoch 28/50\n",
      "32/32 [==============================] - 1s 43ms/step - loss: 0.5556 - accuracy: 0.7803 - val_loss: 1.0538 - val_accuracy: 0.6846\n",
      "Epoch 29/50\n",
      "32/32 [==============================] - 1s 44ms/step - loss: 0.6235 - accuracy: 0.7607 - val_loss: 0.4389 - val_accuracy: 0.7625\n",
      "Epoch 30/50\n",
      "32/32 [==============================] - 1s 44ms/step - loss: 0.5871 - accuracy: 0.7705 - val_loss: 0.5026 - val_accuracy: 0.7465\n",
      "Epoch 31/50\n",
      "32/32 [==============================] - 2s 48ms/step - loss: 0.5485 - accuracy: 0.7715 - val_loss: 0.5944 - val_accuracy: 0.7844\n",
      "Epoch 32/50\n",
      "32/32 [==============================] - 1s 44ms/step - loss: 0.5451 - accuracy: 0.7855 - val_loss: 0.3178 - val_accuracy: 0.7804\n",
      "Epoch 33/50\n",
      "32/32 [==============================] - 1s 43ms/step - loss: 0.7526 - accuracy: 0.6904 - val_loss: 1.0014 - val_accuracy: 0.6307\n",
      "Epoch 34/50\n",
      "32/32 [==============================] - 1s 44ms/step - loss: 0.7650 - accuracy: 0.6855 - val_loss: 1.0388 - val_accuracy: 0.6647\n",
      "Epoch 35/50\n",
      "32/32 [==============================] - 1s 44ms/step - loss: 0.7705 - accuracy: 0.6758 - val_loss: 0.6218 - val_accuracy: 0.7106\n",
      "Epoch 36/50\n",
      "32/32 [==============================] - 2s 48ms/step - loss: 0.7796 - accuracy: 0.6699 - val_loss: 0.6532 - val_accuracy: 0.6667\n",
      "Epoch 37/50\n",
      "32/32 [==============================] - 1s 44ms/step - loss: 0.8291 - accuracy: 0.6318 - val_loss: 0.8932 - val_accuracy: 0.6786\n",
      "Epoch 38/50\n",
      "32/32 [==============================] - 1s 44ms/step - loss: 0.7205 - accuracy: 0.7012 - val_loss: 0.7305 - val_accuracy: 0.6747\n",
      "Epoch 39/50\n",
      "32/32 [==============================] - 1s 44ms/step - loss: 0.7311 - accuracy: 0.6895 - val_loss: 0.4724 - val_accuracy: 0.7166\n",
      "Epoch 40/50\n",
      "32/32 [==============================] - 2s 48ms/step - loss: 0.6956 - accuracy: 0.7012 - val_loss: 0.4753 - val_accuracy: 0.7246\n",
      "Epoch 41/50\n",
      "32/32 [==============================] - 1s 44ms/step - loss: 0.6627 - accuracy: 0.7275 - val_loss: 0.8607 - val_accuracy: 0.7106\n",
      "Epoch 42/50\n",
      "32/32 [==============================] - 1s 44ms/step - loss: 0.6106 - accuracy: 0.7473 - val_loss: 0.4754 - val_accuracy: 0.7804\n",
      "Epoch 43/50\n",
      "32/32 [==============================] - 1s 44ms/step - loss: 0.6374 - accuracy: 0.7568 - val_loss: 0.6506 - val_accuracy: 0.7465\n",
      "Epoch 44/50\n",
      "32/32 [==============================] - 1s 45ms/step - loss: 0.6176 - accuracy: 0.7598 - val_loss: 0.6365 - val_accuracy: 0.7565\n",
      "Epoch 45/50\n",
      "32/32 [==============================] - 1s 45ms/step - loss: 0.5725 - accuracy: 0.7656 - val_loss: 0.7897 - val_accuracy: 0.7884\n",
      "Epoch 46/50\n",
      "32/32 [==============================] - 1s 44ms/step - loss: 0.5677 - accuracy: 0.7637 - val_loss: 0.5832 - val_accuracy: 0.7645\n",
      "Epoch 47/50\n",
      "32/32 [==============================] - 1s 45ms/step - loss: 0.6177 - accuracy: 0.7646 - val_loss: 0.5772 - val_accuracy: 0.7645\n",
      "Epoch 48/50\n",
      "32/32 [==============================] - 1s 44ms/step - loss: 0.6366 - accuracy: 0.7383 - val_loss: 0.6505 - val_accuracy: 0.7685\n",
      "Epoch 49/50\n",
      "32/32 [==============================] - 2s 47ms/step - loss: 0.5335 - accuracy: 0.7855 - val_loss: 0.6991 - val_accuracy: 0.7745\n",
      "Epoch 50/50\n",
      "32/32 [==============================] - 1s 45ms/step - loss: 0.6572 - accuracy: 0.7197 - val_loss: 0.6368 - val_accuracy: 0.7365\n"
     ]
    }
   ],
   "source": [
    "#Defining hyperparameters\n",
    "batch_Size = 32\n",
    "steps_Per_Epoch = 32\n",
    "numEpochs = 50\n",
    "\n",
    "#Instantating VGG19 model\n",
    "model = VGG19((224,224,3),classes=3) #VGG19_dense for revised VGG19, VGG19 for VGG19. Please pay attention to VGG16(), chnage the input shape and class number in VGG.py.\n",
    "\n",
    "#Creating an optimizers\n",
    "adaDelta = keras.optimizers.Adadelta(lr=1.0, rho=0.95)\n",
    "sgd = SGD(lr=0.01, decay=1e-6, momentum=0.95, nesterov=True)\n",
    "model.compile(optimizer = sgd , loss = 'categorical_crossentropy', metrics = ['accuracy'])\n",
    "\n",
    "#Creating early stopping \n",
    "earlystop = EarlyStopping(monitor = 'val_accuracy', min_delta = 0, patience = 50, verbose = 1, mode = 'auto', restore_best_weights = True)       \n",
    "\n",
    "train_generator = datagen.flow(x_train, y_train, batch_size = batch_Size)\n",
    "validation_generator = datagen.flow(x_valid, y_valid, batch_size = batch_Size)\n",
    "\n",
    "# Model training\n",
    "history = model.fit_generator(\n",
    "    train_generator,\n",
    "    steps_per_epoch = steps_Per_Epoch,\n",
    "    validation_data = validation_generator, \n",
    "    validation_steps = 16,\n",
    "    epochs = numEpochs,\n",
    "    shuffle = True, \n",
    "    verbose = 1)"
   ]
  },
  {
   "cell_type": "code",
   "execution_count": 12,
   "metadata": {},
   "outputs": [],
   "source": [
    "modelPath = \"VGG19_COVID19_bez_dropout.h5\"\n",
    "resultPath = 'VGG19_COVID19_bez_dropout.txt'"
   ]
  },
  {
   "cell_type": "code",
   "execution_count": 13,
   "metadata": {},
   "outputs": [
    {
     "name": "stdout",
     "output_type": "stream",
     "text": [
      "Epoch     0 | LossA: 1.08(+0.00%) \u001b[0m\t| LossAB: 1.06(+0.00%) \u001b[0m\t\n",
      "Epoch     1 | LossA: \u001b[32m1.01(-6.39%) ▼\u001b[0m\t| LossAB: \u001b[32m0.94(-11.38%) ▼\u001b[0m\t\n",
      "Epoch     2 | LossA: \u001b[32m0.88(-13.04%) ▼\u001b[0m\t| LossAB: \u001b[91m0.95(+1.84%) ▲\u001b[0m\t\n",
      "Epoch     3 | LossA: \u001b[32m0.78(-11.13%) ▼\u001b[0m\t| LossAB: \u001b[32m0.90(-5.92%) ▼\u001b[0m\t\n",
      "Epoch     4 | LossA: \u001b[91m0.84(+8.22%) ▲\u001b[0m\t| LossAB: \u001b[91m1.06(+18.47%) ▲\u001b[0m\t\n",
      "Epoch     5 | LossA: \u001b[32m0.81(-4.63%) ▼\u001b[0m\t| LossAB: \u001b[32m0.61(-42.68%) ▼\u001b[0m\t\n",
      "Epoch     6 | LossA: \u001b[32m0.80(-0.36%) ▼\u001b[0m\t| LossAB: \u001b[91m0.64(+5.23%) ▲\u001b[0m\t\n",
      "Epoch     7 | LossA: \u001b[32m0.71(-11.16%) ▼\u001b[0m\t| LossAB: \u001b[91m0.65(+1.29%) ▲\u001b[0m\t\n",
      "Epoch     8 | LossA: \u001b[32m0.63(-11.86%) ▼\u001b[0m\t| LossAB: \u001b[32m0.59(-9.58%) ▼\u001b[0m\t\n",
      "Epoch     9 | LossA: \u001b[32m0.62(-0.71%) ▼\u001b[0m\t| LossAB: \u001b[32m0.45(-22.48%) ▼\u001b[0m\t\n",
      "Epoch    10 | LossA: \u001b[91m0.64(+1.87%) ▲\u001b[0m\t| LossAB: \u001b[91m0.69(+52.55%) ▲\u001b[0m\t\n",
      "Epoch    11 | LossA: \u001b[91m0.65(+1.50%) ▲\u001b[0m\t| LossAB: \u001b[91m0.72(+4.11%) ▲\u001b[0m\t\n",
      "Epoch    12 | LossA: \u001b[32m0.62(-3.47%) ▼\u001b[0m\t| LossAB: \u001b[91m0.86(+19.69%) ▲\u001b[0m\t\n",
      "Epoch    13 | LossA: \u001b[91m0.67(+7.24%) ▲\u001b[0m\t| LossAB: \u001b[32m0.56(-35.60%) ▼\u001b[0m\t\n",
      "Epoch    14 | LossA: \u001b[32m0.66(-1.49%) ▼\u001b[0m\t| LossAB: \u001b[91m0.70(+25.62%) ▲\u001b[0m\t\n",
      "Epoch    15 | LossA: \u001b[32m0.64(-2.18%) ▼\u001b[0m\t| LossAB: \u001b[91m0.86(+22.52%) ▲\u001b[0m\t\n",
      "Epoch    16 | LossA: \u001b[32m0.62(-3.59%) ▼\u001b[0m\t| LossAB: \u001b[32m0.74(-13.48%) ▼\u001b[0m\t\n",
      "Epoch    17 | LossA: \u001b[91m0.67(+7.89%) ▲\u001b[0m\t| LossAB: \u001b[32m0.59(-20.78%) ▼\u001b[0m\t\n",
      "Epoch    18 | LossA: \u001b[32m0.55(-17.30%) ▼\u001b[0m\t| LossAB: \u001b[32m0.58(-1.92%) ▼\u001b[0m\t\n",
      "Epoch    19 | LossA: \u001b[91m0.64(+16.44%) ▲\u001b[0m\t| LossAB: \u001b[91m0.66(+14.24%) ▲\u001b[0m\t\n",
      "Epoch    20 | LossA: \u001b[32m0.57(-11.01%) ▼\u001b[0m\t| LossAB: \u001b[32m0.52(-20.50%) ▼\u001b[0m\t\n",
      "Epoch    21 | LossA: \u001b[91m0.62(+8.82%) ▲\u001b[0m\t| LossAB: \u001b[91m0.88(+68.15%) ▲\u001b[0m\t\n",
      "Epoch    22 | LossA: \u001b[32m0.55(-11.83%) ▼\u001b[0m\t| LossAB: \u001b[32m0.29(-67.32%) ▼\u001b[0m\t\n",
      "Epoch    23 | LossA: \u001b[91m0.62(+12.52%) ▲\u001b[0m\t| LossAB: \u001b[91m0.39(+36.71%) ▲\u001b[0m\t\n",
      "Epoch    24 | LossA: \u001b[91m0.62(+0.64%) ▲\u001b[0m\t| LossAB: \u001b[91m0.43(+9.30%) ▲\u001b[0m\t\n",
      "Epoch    25 | LossA: \u001b[32m0.60(-3.27%) ▼\u001b[0m\t| LossAB: \u001b[32m0.42(-2.18%) ▼\u001b[0m\t\n",
      "Epoch    26 | LossA: \u001b[32m0.58(-3.81%) ▼\u001b[0m\t| LossAB: \u001b[91m1.22(+189.37%) ▲\u001b[0m\t\n",
      "Epoch    27 | LossA: \u001b[32m0.56(-4.21%) ▼\u001b[0m\t| LossAB: \u001b[32m1.05(-13.30%) ▼\u001b[0m\t\n",
      "Epoch    28 | LossA: \u001b[91m0.62(+12.23%) ▲\u001b[0m\t| LossAB: \u001b[32m0.44(-58.35%) ▼\u001b[0m\t\n",
      "Epoch    29 | LossA: \u001b[32m0.59(-5.84%) ▼\u001b[0m\t| LossAB: \u001b[91m0.50(+14.52%) ▲\u001b[0m\t\n",
      "Epoch    30 | LossA: \u001b[32m0.55(-6.58%) ▼\u001b[0m\t| LossAB: \u001b[91m0.59(+18.28%) ▲\u001b[0m\t\n",
      "Epoch    31 | LossA: \u001b[32m0.55(-0.60%) ▼\u001b[0m\t| LossAB: \u001b[32m0.32(-46.53%) ▼\u001b[0m\t\n",
      "Epoch    32 | LossA: \u001b[91m0.75(+38.06%) ▲\u001b[0m\t| LossAB: \u001b[91m1.00(+215.08%) ▲\u001b[0m\t\n",
      "Epoch    33 | LossA: \u001b[91m0.77(+1.64%) ▲\u001b[0m\t| LossAB: \u001b[91m1.04(+3.73%) ▲\u001b[0m\t\n",
      "Epoch    34 | LossA: \u001b[91m0.77(+0.72%) ▲\u001b[0m\t| LossAB: \u001b[32m0.62(-40.14%) ▼\u001b[0m\t\n",
      "Epoch    35 | LossA: \u001b[91m0.78(+1.16%) ▲\u001b[0m\t| LossAB: \u001b[91m0.65(+5.04%) ▲\u001b[0m\t\n",
      "Epoch    36 | LossA: \u001b[91m0.83(+6.38%) ▲\u001b[0m\t| LossAB: \u001b[91m0.89(+36.75%) ▲\u001b[0m\t\n",
      "Epoch    37 | LossA: \u001b[32m0.72(-13.10%) ▼\u001b[0m\t| LossAB: \u001b[32m0.73(-18.22%) ▼\u001b[0m\t\n",
      "Epoch    38 | LossA: \u001b[91m0.73(+1.46%) ▲\u001b[0m\t| LossAB: \u001b[32m0.47(-35.33%) ▼\u001b[0m\t\n",
      "Epoch    39 | LossA: \u001b[32m0.70(-4.85%) ▼\u001b[0m\t| LossAB: \u001b[91m0.48(+0.61%) ▲\u001b[0m\t\n",
      "Epoch    40 | LossA: \u001b[32m0.66(-4.73%) ▼\u001b[0m\t| LossAB: \u001b[91m0.86(+81.08%) ▲\u001b[0m\t\n",
      "Epoch    41 | LossA: \u001b[32m0.61(-7.88%) ▼\u001b[0m\t| LossAB: \u001b[32m0.48(-44.76%) ▼\u001b[0m\t\n",
      "Epoch    42 | LossA: \u001b[91m0.64(+4.40%) ▲\u001b[0m\t| LossAB: \u001b[91m0.65(+36.85%) ▲\u001b[0m\t\n",
      "Epoch    43 | LossA: \u001b[32m0.62(-3.10%) ▼\u001b[0m\t| LossAB: \u001b[32m0.64(-2.16%) ▼\u001b[0m\t\n",
      "Epoch    44 | LossA: \u001b[32m0.57(-7.30%) ▼\u001b[0m\t| LossAB: \u001b[91m0.79(+24.06%) ▲\u001b[0m\t\n",
      "Epoch    45 | LossA: \u001b[32m0.57(-0.85%) ▼\u001b[0m\t| LossAB: \u001b[32m0.58(-26.15%) ▼\u001b[0m\t\n",
      "Epoch    46 | LossA: \u001b[91m0.62(+8.81%) ▲\u001b[0m\t| LossAB: \u001b[32m0.58(-1.03%) ▼\u001b[0m\t\n",
      "Epoch    47 | LossA: \u001b[91m0.64(+3.07%) ▲\u001b[0m\t| LossAB: \u001b[91m0.65(+12.70%) ▲\u001b[0m\t\n",
      "Epoch    48 | LossA: \u001b[32m0.53(-16.35%) ▼\u001b[0m\t| LossAB: \u001b[91m0.70(+7.48%) ▲\u001b[0m\t\n",
      "300/300 [==============================] - 0s 1ms/step\n",
      "Accuracy: 0.7133333086967468\n"
     ]
    }
   ],
   "source": [
    "y_test_oh = dense_to_one_hot(y_test, num_clases=3)\n",
    "\n",
    "# visualizing losses and accuracy\n",
    "train_loss = history.history['loss']\n",
    "val_loss = history.history['val_loss']\n",
    "\n",
    "#Observing the losses but can be commented out as it's not mandatory \n",
    "reporter = lossprettifier.LossPrettifier(show_percentage=True)\n",
    "\n",
    "for i in range(numEpochs-1):\n",
    "    reporter(epoch=i, LossA = train_loss[i], LossAB = val_loss[i])\n",
    "\n",
    "# Model evaluation \n",
    "score, acc = model.evaluate(x_test, y_test_oh, batch_size=batch_Size)\n",
    "print(\"Accuracy:\", acc)\n",
    "\n",
    "#if acc>0.675:\n",
    "model.save_weights(modelPath)"
   ]
  },
  {
   "cell_type": "code",
   "execution_count": 14,
   "metadata": {},
   "outputs": [
    {
     "name": "stdout",
     "output_type": "stream",
     "text": [
      "              precision    recall  f1-score   support\n",
      "\n",
      "           0       0.91      0.60      0.72       100\n",
      "           1       0.62      0.78      0.69       100\n",
      "           2       0.70      0.76      0.73       100\n",
      "\n",
      "    accuracy                           0.71       300\n",
      "   macro avg       0.74      0.71      0.71       300\n",
      "weighted avg       0.74      0.71      0.71       300\n",
      "\n"
     ]
    }
   ],
   "source": [
    "y_pred = model.predict(x_test)\n",
    "y_pred = y_pred.reshape(len(y_test), 3)\n",
    "y_pred = np.argmax(y_pred, axis=1)\n",
    "\n",
    "# Writing results on file\n",
    "f = open(resultPath,'a') #create classification report\n",
    "f.write(classification_report(y_test, y_pred))\n",
    "f.write(str(sklm.cohen_kappa_score(y_test, y_pred))+\",\"+str(acc)+\",\"+str(score)+\"\\n\")\n",
    "\n",
    "#Print class-wise classification metrics\n",
    "print(classification_report(y_test, y_pred))"
   ]
  },
  {
   "cell_type": "code",
   "execution_count": 15,
   "metadata": {},
   "outputs": [
    {
     "data": {
      "image/png": "[encoded data removed]",
      "text/plain": [
       "<Figure size 432x288 with 2 Axes>"
      ]
     },
     "metadata": {
      "needs_background": "light"
     },
     "output_type": "display_data"
    }
   ],
   "source": [
    "from sklearn.metrics import confusion_matrix, ConfusionMatrixDisplay\n",
    "cm = confusion_matrix(y_test, y_pred)\n",
    "disp = ConfusionMatrixDisplay(confusion_matrix=cm, display_labels=np.array(['normal', 'COVID19', 'pneumonia']))\n",
    "disp.plot(cmap='Blues') \n",
    "disp.ax_.get_images()[0].set_clim(0, 100)"
   ]
  },
  {
   "cell_type": "code",
   "execution_count": 16,
   "metadata": {},
   "outputs": [],
   "source": [
    "f.close()"
   ]
  }
 ],
 "metadata": {
  "kernelspec": {
   "display_name": "wbvenv36",
   "language": "python",
   "name": "wbvenv36"
  },
  "language_info": {
   "codemirror_mode": {
    "name": "ipython",
    "version": 3
   },
   "file_extension": ".py",
   "mimetype": "text/x-python",
   "name": "python",
   "nbconvert_exporter": "python",
   "pygments_lexer": "ipython3",
   "version": "3.6.12"
  }
 },
 "nbformat": 4,
 "nbformat_minor": 2
}
