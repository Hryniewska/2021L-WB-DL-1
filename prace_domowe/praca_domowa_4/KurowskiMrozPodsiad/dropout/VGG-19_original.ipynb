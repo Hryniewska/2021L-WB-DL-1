{
 "cells": [
  {
   "cell_type": "code",
   "execution_count": 1,
   "metadata": {},
   "outputs": [],
   "source": [
    "import cv2\n",
    "import numpy as np\n",
    "import matplotlib.pyplot as plt\n",
    "import os"
   ]
  },
  {
   "cell_type": "code",
   "execution_count": 2,
   "metadata": {},
   "outputs": [],
   "source": [
    "x_train = np.load('data/x_train_undersampled.npy')\n",
    "y_train = np.load('data/y_train_undersampled.npy')\n",
    "x_test = np.load('data/x_test_undersampled.npy')\n",
    "y_test = np.load('data/y_test_undersampled.npy')"
   ]
  },
  {
   "cell_type": "code",
   "execution_count": 3,
   "metadata": {},
   "outputs": [
    {
     "name": "stdout",
     "output_type": "stream",
     "text": [
      "(5010, 224, 224, 3)\n",
      "(300, 224, 224, 3)\n"
     ]
    }
   ],
   "source": [
    "print(x_train.shape)\n",
    "print(x_test.shape)"
   ]
  },
  {
   "cell_type": "code",
   "execution_count": 4,
   "metadata": {},
   "outputs": [
    {
     "name": "stdout",
     "output_type": "stream",
     "text": [
      "(5010,)\n",
      "(300,)\n"
     ]
    }
   ],
   "source": [
    "print(y_train.shape)\n",
    "print(y_test.shape)"
   ]
  },
  {
   "cell_type": "code",
   "execution_count": 5,
   "metadata": {},
   "outputs": [],
   "source": [
    "#x_train /= 255????"
   ]
  },
  {
   "cell_type": "code",
   "execution_count": 6,
   "metadata": {
    "scrolled": true
   },
   "outputs": [
    {
     "name": "stderr",
     "output_type": "stream",
     "text": [
      "C:\\Users\\hp\\Anaconda3\\envs\\wbvenv36\\lib\\site-packages\\tensorflow\\python\\framework\\dtypes.py:516: FutureWarning: Passing (type, 1) or '1type' as a synonym of type is deprecated; in a future version of numpy, it will be understood as (type, (1,)) / '(1,)type'.\n",
      "  _np_qint8 = np.dtype([(\"qint8\", np.int8, 1)])\n",
      "C:\\Users\\hp\\Anaconda3\\envs\\wbvenv36\\lib\\site-packages\\tensorflow\\python\\framework\\dtypes.py:517: FutureWarning: Passing (type, 1) or '1type' as a synonym of type is deprecated; in a future version of numpy, it will be understood as (type, (1,)) / '(1,)type'.\n",
      "  _np_quint8 = np.dtype([(\"quint8\", np.uint8, 1)])\n",
      "C:\\Users\\hp\\Anaconda3\\envs\\wbvenv36\\lib\\site-packages\\tensorflow\\python\\framework\\dtypes.py:518: FutureWarning: Passing (type, 1) or '1type' as a synonym of type is deprecated; in a future version of numpy, it will be understood as (type, (1,)) / '(1,)type'.\n",
      "  _np_qint16 = np.dtype([(\"qint16\", np.int16, 1)])\n",
      "C:\\Users\\hp\\Anaconda3\\envs\\wbvenv36\\lib\\site-packages\\tensorflow\\python\\framework\\dtypes.py:519: FutureWarning: Passing (type, 1) or '1type' as a synonym of type is deprecated; in a future version of numpy, it will be understood as (type, (1,)) / '(1,)type'.\n",
      "  _np_quint16 = np.dtype([(\"quint16\", np.uint16, 1)])\n",
      "C:\\Users\\hp\\Anaconda3\\envs\\wbvenv36\\lib\\site-packages\\tensorflow\\python\\framework\\dtypes.py:520: FutureWarning: Passing (type, 1) or '1type' as a synonym of type is deprecated; in a future version of numpy, it will be understood as (type, (1,)) / '(1,)type'.\n",
      "  _np_qint32 = np.dtype([(\"qint32\", np.int32, 1)])\n",
      "C:\\Users\\hp\\Anaconda3\\envs\\wbvenv36\\lib\\site-packages\\tensorflow\\python\\framework\\dtypes.py:525: FutureWarning: Passing (type, 1) or '1type' as a synonym of type is deprecated; in a future version of numpy, it will be understood as (type, (1,)) / '(1,)type'.\n",
      "  np_resource = np.dtype([(\"resource\", np.ubyte, 1)])\n",
      "C:\\Users\\hp\\Anaconda3\\envs\\wbvenv36\\lib\\site-packages\\tensorboard\\compat\\tensorflow_stub\\dtypes.py:541: FutureWarning: Passing (type, 1) or '1type' as a synonym of type is deprecated; in a future version of numpy, it will be understood as (type, (1,)) / '(1,)type'.\n",
      "  _np_qint8 = np.dtype([(\"qint8\", np.int8, 1)])\n",
      "C:\\Users\\hp\\Anaconda3\\envs\\wbvenv36\\lib\\site-packages\\tensorboard\\compat\\tensorflow_stub\\dtypes.py:542: FutureWarning: Passing (type, 1) or '1type' as a synonym of type is deprecated; in a future version of numpy, it will be understood as (type, (1,)) / '(1,)type'.\n",
      "  _np_quint8 = np.dtype([(\"quint8\", np.uint8, 1)])\n",
      "C:\\Users\\hp\\Anaconda3\\envs\\wbvenv36\\lib\\site-packages\\tensorboard\\compat\\tensorflow_stub\\dtypes.py:543: FutureWarning: Passing (type, 1) or '1type' as a synonym of type is deprecated; in a future version of numpy, it will be understood as (type, (1,)) / '(1,)type'.\n",
      "  _np_qint16 = np.dtype([(\"qint16\", np.int16, 1)])\n",
      "C:\\Users\\hp\\Anaconda3\\envs\\wbvenv36\\lib\\site-packages\\tensorboard\\compat\\tensorflow_stub\\dtypes.py:544: FutureWarning: Passing (type, 1) or '1type' as a synonym of type is deprecated; in a future version of numpy, it will be understood as (type, (1,)) / '(1,)type'.\n",
      "  _np_quint16 = np.dtype([(\"quint16\", np.uint16, 1)])\n",
      "C:\\Users\\hp\\Anaconda3\\envs\\wbvenv36\\lib\\site-packages\\tensorboard\\compat\\tensorflow_stub\\dtypes.py:545: FutureWarning: Passing (type, 1) or '1type' as a synonym of type is deprecated; in a future version of numpy, it will be understood as (type, (1,)) / '(1,)type'.\n",
      "  _np_qint32 = np.dtype([(\"qint32\", np.int32, 1)])\n",
      "C:\\Users\\hp\\Anaconda3\\envs\\wbvenv36\\lib\\site-packages\\tensorboard\\compat\\tensorflow_stub\\dtypes.py:550: FutureWarning: Passing (type, 1) or '1type' as a synonym of type is deprecated; in a future version of numpy, it will be understood as (type, (1,)) / '(1,)type'.\n",
      "  np_resource = np.dtype([(\"resource\", np.ubyte, 1)])\n",
      "Using TensorFlow backend.\n"
     ]
    }
   ],
   "source": [
    "from __future__ import print_function\n",
    "\n",
    "import numpy as np\n",
    "from random import shuffle\n",
    "import time\n",
    "import csv\n",
    "from PIL import Image\n",
    "import os\n",
    "import tensorflow as tf\n",
    "import keras\n",
    "from keras.callbacks import EarlyStopping, LearningRateScheduler\n",
    "from keras import initializers\n",
    "from keras.optimizers import SGD\n",
    "from keras.preprocessing import sequence\n",
    "from keras.utils import np_utils\n",
    "from keras.models import Sequential,load_model,Model\n",
    "from keras.layers import Dense, Dropout, Activation, Flatten\n",
    "from keras.layers import *\n",
    "from keras.callbacks import CSVLogger\n",
    "from keras import callbacks\n",
    "from keras.preprocessing.image import ImageDataGenerator\n",
    "\n",
    "from sklearn.metrics import classification_report\n",
    "from sklearn.model_selection import train_test_split\n",
    "import sklearn.metrics as sklm\n",
    "import sys\n",
    "sys.path.insert(0,'..')\n",
    "from utils import lossprettifier\n",
    "from Classifier.VGG import *"
   ]
  },
  {
   "cell_type": "code",
   "execution_count": 7,
   "metadata": {},
   "outputs": [],
   "source": [
    "# for reproducibility\n",
    "np.random.seed(3768)\n",
    "\n",
    "# use this environment flag to change which GPU to use \n",
    "os.environ[\"CUDA_DEVICE_ORDER\"]=\"PCI_BUS_ID\"\n",
    "os.environ[\"CUDA_VISIBLE_DEVICES\"]=\"0\"  # specify which GPU(s) to be used\n",
    "\n",
    "#Get TensorFlow session\n",
    "def get_session(): \n",
    "  config = tf.ConfigProto() \n",
    "  config.gpu_options.allow_growth = True \n",
    "  return tf.Session(config=config) \n",
    "  \n",
    "# One hot encoding of labels \n",
    "def dense_to_one_hot(labels_dense,num_clases=4):\n",
    "  return np.eye(num_clases)[labels_dense]"
   ]
  },
  {
   "cell_type": "code",
   "execution_count": 8,
   "metadata": {},
   "outputs": [],
   "source": [
    "# Preparing training and test sets\n",
    "x_train, x_valid, y_train, y_valid = train_test_split(x_train, y_train, test_size=0.10, random_state=42)"
   ]
  },
  {
   "cell_type": "code",
   "execution_count": 9,
   "metadata": {},
   "outputs": [],
   "source": [
    "y_train = dense_to_one_hot(y_train,num_clases=3)\n",
    "y_valid= dense_to_one_hot(y_valid,num_clases=3)"
   ]
  },
  {
   "cell_type": "code",
   "execution_count": 10,
   "metadata": {},
   "outputs": [
    {
     "name": "stderr",
     "output_type": "stream",
     "text": [
      "C:\\Users\\hp\\Anaconda3\\envs\\wbvenv36\\lib\\site-packages\\keras_preprocessing\\image\\image_data_generator.py:349: UserWarning: This ImageDataGenerator specifies `featurewise_std_normalization`, which overrides setting of `featurewise_center`.\n",
      "  warnings.warn('This ImageDataGenerator specifies '\n"
     ]
    }
   ],
   "source": [
    "#Image data generation for the training \n",
    "datagen = ImageDataGenerator(\n",
    "               featurewise_center = False, \n",
    "               samplewise_center = False,  # set each sample mean to 0\n",
    "               featurewise_std_normalization = True,  \n",
    "               samplewise_std_normalization = False)  \n",
    "\n",
    "datagen.fit(x_train) \n",
    "for i in range(len(x_test)):\n",
    "      x_test[i] = datagen.standardize(x_test[i])"
   ]
  },
  {
   "cell_type": "code",
   "execution_count": 11,
   "metadata": {
    "scrolled": true
   },
   "outputs": [
    {
     "name": "stdout",
     "output_type": "stream",
     "text": [
      "WARNING:tensorflow:From C:\\Users\\hp\\AppData\\Roaming\\Python\\Python36\\site-packages\\keras\\backend\\tensorflow_backend.py:4070: The name tf.nn.max_pool is deprecated. Please use tf.nn.max_pool2d instead.\n",
      "\n",
      "WARNING:tensorflow:From C:\\Users\\hp\\AppData\\Roaming\\Python\\Python36\\site-packages\\keras\\backend\\tensorflow_backend.py:422: The name tf.global_variables is deprecated. Please use tf.compat.v1.global_variables instead.\n",
      "\n",
      "Epoch 1/50\n",
      "32/32 [==============================] - 4s 113ms/step - loss: 1.0962 - accuracy: 0.3800 - val_loss: 1.0861 - val_accuracy: 0.4471\n",
      "Epoch 2/50\n",
      "32/32 [==============================] - 1s 43ms/step - loss: 1.0324 - accuracy: 0.5137 - val_loss: 1.0122 - val_accuracy: 0.5389\n",
      "Epoch 3/50\n",
      "32/32 [==============================] - 1s 44ms/step - loss: 0.9464 - accuracy: 0.5566 - val_loss: 0.9024 - val_accuracy: 0.5609\n",
      "Epoch 4/50\n",
      "32/32 [==============================] - 1s 43ms/step - loss: 0.9172 - accuracy: 0.6045 - val_loss: 0.9876 - val_accuracy: 0.6248\n",
      "Epoch 5/50\n",
      "32/32 [==============================] - 1s 46ms/step - loss: 0.8400 - accuracy: 0.6533 - val_loss: 0.8481 - val_accuracy: 0.6447\n",
      "Epoch 6/50\n",
      "32/32 [==============================] - 1s 44ms/step - loss: 0.7690 - accuracy: 0.6787 - val_loss: 0.8437 - val_accuracy: 0.6307\n",
      "Epoch 7/50\n",
      "32/32 [==============================] - 1s 44ms/step - loss: 0.8380 - accuracy: 0.6396 - val_loss: 0.6277 - val_accuracy: 0.6727\n",
      "Epoch 8/50\n",
      "32/32 [==============================] - 1s 44ms/step - loss: 0.7856 - accuracy: 0.6650 - val_loss: 0.5348 - val_accuracy: 0.6946\n",
      "Epoch 9/50\n",
      "32/32 [==============================] - 2s 47ms/step - loss: 0.7382 - accuracy: 0.7041 - val_loss: 0.6662 - val_accuracy: 0.7086\n",
      "Epoch 10/50\n",
      "32/32 [==============================] - 1s 45ms/step - loss: 0.7450 - accuracy: 0.6875 - val_loss: 0.5403 - val_accuracy: 0.7325\n",
      "Epoch 11/50\n",
      "32/32 [==============================] - 1s 44ms/step - loss: 0.7343 - accuracy: 0.6934 - val_loss: 0.5432 - val_accuracy: 0.7265\n",
      "Epoch 12/50\n",
      "32/32 [==============================] - 1s 45ms/step - loss: 0.7214 - accuracy: 0.6934 - val_loss: 1.0583 - val_accuracy: 0.7305\n",
      "Epoch 13/50\n",
      "32/32 [==============================] - 1s 44ms/step - loss: 0.7524 - accuracy: 0.6865 - val_loss: 0.5798 - val_accuracy: 0.7086\n",
      "Epoch 14/50\n",
      "32/32 [==============================] - 1s 45ms/step - loss: 0.7094 - accuracy: 0.7080 - val_loss: 0.7076 - val_accuracy: 0.7206\n",
      "Epoch 15/50\n",
      "32/32 [==============================] - 1s 44ms/step - loss: 0.7225 - accuracy: 0.7012 - val_loss: 0.7139 - val_accuracy: 0.7385\n",
      "Epoch 16/50\n",
      "32/32 [==============================] - 1s 46ms/step - loss: 0.6754 - accuracy: 0.7189 - val_loss: 0.5957 - val_accuracy: 0.7625\n",
      "Epoch 17/50\n",
      "32/32 [==============================] - 2s 49ms/step - loss: 0.6716 - accuracy: 0.7168 - val_loss: 0.7245 - val_accuracy: 0.7305\n",
      "Epoch 18/50\n",
      "32/32 [==============================] - 2s 48ms/step - loss: 0.7126 - accuracy: 0.7021 - val_loss: 0.6917 - val_accuracy: 0.7625\n",
      "Epoch 19/50\n",
      "32/32 [==============================] - 2s 47ms/step - loss: 0.6891 - accuracy: 0.7178 - val_loss: 0.6062 - val_accuracy: 0.7345\n",
      "Epoch 20/50\n",
      "32/32 [==============================] - 1s 46ms/step - loss: 0.6621 - accuracy: 0.7158 - val_loss: 0.6472 - val_accuracy: 0.7665\n",
      "Epoch 21/50\n",
      "32/32 [==============================] - 1s 46ms/step - loss: 0.6662 - accuracy: 0.7324 - val_loss: 0.5891 - val_accuracy: 0.7265\n",
      "Epoch 22/50\n",
      "32/32 [==============================] - 2s 47ms/step - loss: 0.6059 - accuracy: 0.7561 - val_loss: 0.5619 - val_accuracy: 0.7545\n",
      "Epoch 23/50\n",
      "32/32 [==============================] - 2s 49ms/step - loss: 0.5664 - accuracy: 0.7910 - val_loss: 0.5212 - val_accuracy: 0.7565\n",
      "Epoch 24/50\n",
      "32/32 [==============================] - 1s 46ms/step - loss: 0.6199 - accuracy: 0.7422 - val_loss: 0.4073 - val_accuracy: 0.7106\n",
      "Epoch 25/50\n",
      "32/32 [==============================] - 1s 46ms/step - loss: 0.6310 - accuracy: 0.7365 - val_loss: 0.8606 - val_accuracy: 0.7385\n",
      "Epoch 26/50\n",
      "32/32 [==============================] - 1s 46ms/step - loss: 0.7060 - accuracy: 0.7090 - val_loss: 0.6166 - val_accuracy: 0.7345\n",
      "Epoch 27/50\n",
      "32/32 [==============================] - 2s 48ms/step - loss: 0.6449 - accuracy: 0.7453 - val_loss: 0.8878 - val_accuracy: 0.7605\n",
      "Epoch 28/50\n",
      "32/32 [==============================] - 2s 47ms/step - loss: 0.6115 - accuracy: 0.7480 - val_loss: 0.4637 - val_accuracy: 0.7505\n",
      "Epoch 29/50\n",
      "32/32 [==============================] - 1s 46ms/step - loss: 0.6530 - accuracy: 0.7354 - val_loss: 0.8191 - val_accuracy: 0.6826\n",
      "Epoch 30/50\n",
      "32/32 [==============================] - 1s 46ms/step - loss: 0.6790 - accuracy: 0.7305 - val_loss: 0.7781 - val_accuracy: 0.7126\n",
      "Epoch 31/50\n",
      "32/32 [==============================] - 2s 47ms/step - loss: 0.7049 - accuracy: 0.7070 - val_loss: 0.4257 - val_accuracy: 0.7465\n",
      "Epoch 32/50\n",
      "32/32 [==============================] - 1s 46ms/step - loss: 0.6323 - accuracy: 0.7402 - val_loss: 0.6756 - val_accuracy: 0.7685\n",
      "Epoch 33/50\n",
      "32/32 [==============================] - 1s 46ms/step - loss: 0.6221 - accuracy: 0.7402 - val_loss: 0.5116 - val_accuracy: 0.7385\n",
      "Epoch 34/50\n",
      "32/32 [==============================] - 1s 46ms/step - loss: 0.6213 - accuracy: 0.7512 - val_loss: 0.5066 - val_accuracy: 0.7545\n",
      "Epoch 35/50\n",
      "32/32 [==============================] - 1s 47ms/step - loss: 0.5644 - accuracy: 0.7725 - val_loss: 0.6829 - val_accuracy: 0.7764\n",
      "Epoch 36/50\n",
      "32/32 [==============================] - 1s 45ms/step - loss: 0.6249 - accuracy: 0.7432 - val_loss: 0.5053 - val_accuracy: 0.7764\n",
      "Epoch 37/50\n",
      "32/32 [==============================] - 1s 45ms/step - loss: 0.6427 - accuracy: 0.7405 - val_loss: 0.8553 - val_accuracy: 0.7465\n",
      "Epoch 38/50\n",
      "32/32 [==============================] - 1s 45ms/step - loss: 0.6231 - accuracy: 0.7402 - val_loss: 0.7281 - val_accuracy: 0.7645\n",
      "Epoch 39/50\n",
      "32/32 [==============================] - 1s 45ms/step - loss: 0.5959 - accuracy: 0.7676 - val_loss: 0.6317 - val_accuracy: 0.7565\n",
      "Epoch 40/50\n",
      "32/32 [==============================] - 1s 46ms/step - loss: 0.6662 - accuracy: 0.7314 - val_loss: 0.5142 - val_accuracy: 0.7425\n",
      "Epoch 41/50\n",
      "32/32 [==============================] - 1s 45ms/step - loss: 0.6061 - accuracy: 0.7640 - val_loss: 0.6915 - val_accuracy: 0.7505\n",
      "Epoch 42/50\n",
      "32/32 [==============================] - 1s 45ms/step - loss: 0.6247 - accuracy: 0.7441 - val_loss: 0.7177 - val_accuracy: 0.7545\n",
      "Epoch 43/50\n",
      "32/32 [==============================] - 1s 44ms/step - loss: 0.5867 - accuracy: 0.7695 - val_loss: 1.0096 - val_accuracy: 0.7425\n",
      "Epoch 44/50\n",
      "32/32 [==============================] - 1s 46ms/step - loss: 0.6477 - accuracy: 0.7207 - val_loss: 0.4901 - val_accuracy: 0.7545\n",
      "Epoch 45/50\n",
      "32/32 [==============================] - 2s 50ms/step - loss: 0.5844 - accuracy: 0.7637 - val_loss: 0.7210 - val_accuracy: 0.7545\n",
      "Epoch 46/50\n",
      "32/32 [==============================] - 2s 47ms/step - loss: 0.6192 - accuracy: 0.7266 - val_loss: 0.6824 - val_accuracy: 0.7445\n",
      "Epoch 47/50\n",
      "32/32 [==============================] - 1s 46ms/step - loss: 0.6315 - accuracy: 0.7461 - val_loss: 0.4996 - val_accuracy: 0.7804\n",
      "Epoch 48/50\n",
      "32/32 [==============================] - 1s 46ms/step - loss: 0.5743 - accuracy: 0.7600 - val_loss: 0.5918 - val_accuracy: 0.7565\n",
      "Epoch 49/50\n",
      "32/32 [==============================] - 2s 47ms/step - loss: 0.6167 - accuracy: 0.7539 - val_loss: 0.7970 - val_accuracy: 0.7505\n",
      "Epoch 50/50\n",
      "32/32 [==============================] - 2s 47ms/step - loss: 0.6212 - accuracy: 0.7393 - val_loss: 0.7780 - val_accuracy: 0.7645\n"
     ]
    }
   ],
   "source": [
    "#Defining hyperparameters\n",
    "batch_Size = 32\n",
    "steps_Per_Epoch = 32\n",
    "numEpochs = 50\n",
    "\n",
    "#Instantating VGG19 model\n",
    "model = VGG19((224,224,3),classes=3) #VGG19_dense for revised VGG19, VGG19 for VGG19. Please pay attention to VGG16(), chnage the input shape and class number in VGG.py.\n",
    "\n",
    "#Creating an optimizers\n",
    "adaDelta = keras.optimizers.Adadelta(lr=1.0, rho=0.95)\n",
    "sgd = SGD(lr=0.01, decay=1e-6, momentum=0.95, nesterov=True)\n",
    "model.compile(optimizer = sgd , loss = 'categorical_crossentropy', metrics = ['accuracy'])\n",
    "\n",
    "#Creating early stopping \n",
    "earlystop = EarlyStopping(monitor = 'val_accuracy', min_delta = 0, patience = 50, verbose = 1, mode = 'auto', restore_best_weights = True)       \n",
    "\n",
    "train_generator = datagen.flow(x_train, y_train, batch_size = batch_Size)\n",
    "validation_generator = datagen.flow(x_valid, y_valid, batch_size = batch_Size)\n",
    "\n",
    "# Model training\n",
    "history = model.fit_generator(\n",
    "    train_generator,\n",
    "    steps_per_epoch = steps_Per_Epoch,\n",
    "    validation_data = validation_generator, \n",
    "    validation_steps = 16,\n",
    "    epochs = numEpochs,\n",
    "    shuffle = True, \n",
    "    verbose = 1)"
   ]
  },
  {
   "cell_type": "code",
   "execution_count": 12,
   "metadata": {},
   "outputs": [],
   "source": [
    "modelPath = \"VGG19_COVID19.h5\"\n",
    "resultPath = 'VGG19_COVID19.txt'"
   ]
  },
  {
   "cell_type": "code",
   "execution_count": 13,
   "metadata": {},
   "outputs": [
    {
     "name": "stdout",
     "output_type": "stream",
     "text": [
      "Epoch     0 | LossA: 1.10(+0.00%) \u001b[0m\t| LossAB: 1.09(+0.00%) \u001b[0m\t\n",
      "Epoch     1 | LossA: \u001b[32m1.03(-5.82%) ▼\u001b[0m\t| LossAB: \u001b[32m1.01(-6.80%) ▼\u001b[0m\t\n",
      "Epoch     2 | LossA: \u001b[32m0.95(-8.33%) ▼\u001b[0m\t| LossAB: \u001b[32m0.90(-10.86%) ▼\u001b[0m\t\n",
      "Epoch     3 | LossA: \u001b[32m0.92(-3.08%) ▼\u001b[0m\t| LossAB: \u001b[91m0.99(+9.45%) ▲\u001b[0m\t\n",
      "Epoch     4 | LossA: \u001b[32m0.84(-8.44%) ▼\u001b[0m\t| LossAB: \u001b[32m0.85(-14.13%) ▼\u001b[0m\t\n",
      "Epoch     5 | LossA: \u001b[32m0.77(-8.43%) ▼\u001b[0m\t| LossAB: \u001b[32m0.84(-0.52%) ▼\u001b[0m\t\n",
      "Epoch     6 | LossA: \u001b[91m0.84(+8.97%) ▲\u001b[0m\t| LossAB: \u001b[32m0.63(-25.60%) ▼\u001b[0m\t\n",
      "Epoch     7 | LossA: \u001b[32m0.79(-6.25%) ▼\u001b[0m\t| LossAB: \u001b[32m0.53(-14.79%) ▼\u001b[0m\t\n",
      "Epoch     8 | LossA: \u001b[32m0.74(-6.03%) ▼\u001b[0m\t| LossAB: \u001b[91m0.67(+24.55%) ▲\u001b[0m\t\n",
      "Epoch     9 | LossA: \u001b[91m0.75(+0.93%) ▲\u001b[0m\t| LossAB: \u001b[32m0.54(-18.90%) ▼\u001b[0m\t\n",
      "Epoch    10 | LossA: \u001b[32m0.73(-1.48%) ▼\u001b[0m\t| LossAB: \u001b[91m0.54(+0.54%) ▲\u001b[0m\t\n",
      "Epoch    11 | LossA: \u001b[32m0.72(-1.71%) ▼\u001b[0m\t| LossAB: \u001b[91m1.06(+94.84%) ▲\u001b[0m\t\n",
      "Epoch    12 | LossA: \u001b[91m0.75(+4.30%) ▲\u001b[0m\t| LossAB: \u001b[32m0.58(-45.22%) ▼\u001b[0m\t\n",
      "Epoch    13 | LossA: \u001b[32m0.71(-5.72%) ▼\u001b[0m\t| LossAB: \u001b[91m0.71(+22.04%) ▲\u001b[0m\t\n",
      "Epoch    14 | LossA: \u001b[91m0.72(+1.85%) ▲\u001b[0m\t| LossAB: \u001b[91m0.71(+0.90%) ▲\u001b[0m\t\n",
      "Epoch    15 | LossA: \u001b[32m0.68(-6.49%) ▼\u001b[0m\t| LossAB: \u001b[32m0.60(-16.56%) ▼\u001b[0m\t\n",
      "Epoch    16 | LossA: \u001b[32m0.67(-0.60%) ▼\u001b[0m\t| LossAB: \u001b[91m0.72(+21.62%) ▲\u001b[0m\t\n",
      "Epoch    17 | LossA: \u001b[91m0.71(+6.11%) ▲\u001b[0m\t| LossAB: \u001b[32m0.69(-4.53%) ▼\u001b[0m\t\n",
      "Epoch    18 | LossA: \u001b[32m0.69(-3.30%) ▼\u001b[0m\t| LossAB: \u001b[32m0.61(-12.36%) ▼\u001b[0m\t\n",
      "Epoch    19 | LossA: \u001b[32m0.66(-3.91%) ▼\u001b[0m\t| LossAB: \u001b[91m0.65(+6.77%) ▲\u001b[0m\t\n",
      "Epoch    20 | LossA: \u001b[91m0.67(+0.61%) ▲\u001b[0m\t| LossAB: \u001b[32m0.59(-8.98%) ▼\u001b[0m\t\n",
      "Epoch    21 | LossA: \u001b[32m0.61(-9.11%) ▼\u001b[0m\t| LossAB: \u001b[32m0.56(-4.62%) ▼\u001b[0m\t\n",
      "Epoch    22 | LossA: \u001b[32m0.57(-6.45%) ▼\u001b[0m\t| LossAB: \u001b[32m0.52(-7.25%) ▼\u001b[0m\t\n",
      "Epoch    23 | LossA: \u001b[91m0.62(+9.43%) ▲\u001b[0m\t| LossAB: \u001b[32m0.41(-21.86%) ▼\u001b[0m\t\n",
      "Epoch    24 | LossA: \u001b[91m0.63(+1.80%) ▲\u001b[0m\t| LossAB: \u001b[91m0.86(+111.30%) ▲\u001b[0m\t\n",
      "Epoch    25 | LossA: \u001b[91m0.71(+11.89%) ▲\u001b[0m\t| LossAB: \u001b[32m0.62(-28.34%) ▼\u001b[0m\t\n",
      "Epoch    26 | LossA: \u001b[32m0.65(-8.63%) ▼\u001b[0m\t| LossAB: \u001b[91m0.89(+43.97%) ▲\u001b[0m\t\n",
      "Epoch    27 | LossA: \u001b[32m0.61(-5.20%) ▼\u001b[0m\t| LossAB: \u001b[32m0.46(-47.77%) ▼\u001b[0m\t\n",
      "Epoch    28 | LossA: \u001b[91m0.65(+6.78%) ▲\u001b[0m\t| LossAB: \u001b[91m0.82(+76.66%) ▲\u001b[0m\t\n",
      "Epoch    29 | LossA: \u001b[91m0.68(+3.99%) ▲\u001b[0m\t| LossAB: \u001b[32m0.78(-5.01%) ▼\u001b[0m\t\n",
      "Epoch    30 | LossA: \u001b[91m0.70(+3.82%) ▲\u001b[0m\t| LossAB: \u001b[32m0.43(-45.29%) ▼\u001b[0m\t\n",
      "Epoch    31 | LossA: \u001b[32m0.63(-10.30%) ▼\u001b[0m\t| LossAB: \u001b[91m0.68(+58.71%) ▲\u001b[0m\t\n",
      "Epoch    32 | LossA: \u001b[32m0.62(-1.62%) ▼\u001b[0m\t| LossAB: \u001b[32m0.51(-24.27%) ▼\u001b[0m\t\n",
      "Epoch    33 | LossA: \u001b[32m0.62(-0.25%) ▼\u001b[0m\t| LossAB: \u001b[32m0.51(-0.97%) ▼\u001b[0m\t\n",
      "Epoch    34 | LossA: \u001b[32m0.56(-9.04%) ▼\u001b[0m\t| LossAB: \u001b[91m0.68(+34.80%) ▲\u001b[0m\t\n",
      "Epoch    35 | LossA: \u001b[91m0.62(+10.71%) ▲\u001b[0m\t| LossAB: \u001b[32m0.51(-26.01%) ▼\u001b[0m\t\n",
      "Epoch    36 | LossA: \u001b[91m0.64(+2.88%) ▲\u001b[0m\t| LossAB: \u001b[91m0.86(+69.25%) ▲\u001b[0m\t\n",
      "Epoch    37 | LossA: \u001b[32m0.62(-3.08%) ▼\u001b[0m\t| LossAB: \u001b[32m0.73(-14.87%) ▼\u001b[0m\t\n",
      "Epoch    38 | LossA: \u001b[32m0.60(-4.37%) ▼\u001b[0m\t| LossAB: \u001b[32m0.63(-13.24%) ▼\u001b[0m\t\n",
      "Epoch    39 | LossA: \u001b[91m0.67(+11.81%) ▲\u001b[0m\t| LossAB: \u001b[32m0.51(-18.61%) ▼\u001b[0m\t\n",
      "Epoch    40 | LossA: \u001b[32m0.61(-9.05%) ▼\u001b[0m\t| LossAB: \u001b[91m0.69(+34.48%) ▲\u001b[0m\t\n",
      "Epoch    41 | LossA: \u001b[91m0.62(+3.09%) ▲\u001b[0m\t| LossAB: \u001b[91m0.72(+3.80%) ▲\u001b[0m\t\n",
      "Epoch    42 | LossA: \u001b[32m0.59(-6.08%) ▼\u001b[0m\t| LossAB: \u001b[91m1.01(+40.67%) ▲\u001b[0m\t\n",
      "Epoch    43 | LossA: \u001b[91m0.65(+10.39%) ▲\u001b[0m\t| LossAB: \u001b[32m0.49(-51.46%) ▼\u001b[0m\t\n",
      "Epoch    44 | LossA: \u001b[32m0.58(-9.77%) ▼\u001b[0m\t| LossAB: \u001b[91m0.72(+47.12%) ▲\u001b[0m\t\n",
      "Epoch    45 | LossA: \u001b[91m0.62(+5.96%) ▲\u001b[0m\t| LossAB: \u001b[32m0.68(-5.36%) ▼\u001b[0m\t\n",
      "Epoch    46 | LossA: \u001b[91m0.63(+1.99%) ▲\u001b[0m\t| LossAB: \u001b[32m0.50(-26.78%) ▼\u001b[0m\t\n",
      "Epoch    47 | LossA: \u001b[32m0.57(-9.04%) ▼\u001b[0m\t| LossAB: \u001b[91m0.59(+18.44%) ▲\u001b[0m\t\n",
      "Epoch    48 | LossA: \u001b[91m0.62(+7.36%) ▲\u001b[0m\t| LossAB: \u001b[91m0.80(+34.68%) ▲\u001b[0m\t\n",
      "300/300 [==============================] - 0s 1ms/step\n",
      "Accuracy: 0.7766666412353516\n"
     ]
    }
   ],
   "source": [
    "y_test_oh = dense_to_one_hot(y_test, num_clases=3)\n",
    "\n",
    "# visualizing losses and accuracy\n",
    "train_loss = history.history['loss']\n",
    "val_loss = history.history['val_loss']\n",
    "\n",
    "#Observing the losses but can be commented out as it's not mandatory \n",
    "reporter = lossprettifier.LossPrettifier(show_percentage=True)\n",
    "\n",
    "for i in range(numEpochs-1):\n",
    "    reporter(epoch=i, LossA = train_loss[i], LossAB = val_loss[i])\n",
    "\n",
    "# Model evaluation \n",
    "score, acc = model.evaluate(x_test, y_test_oh, batch_size=batch_Size)\n",
    "print(\"Accuracy:\", acc)\n",
    "\n",
    "#if acc>0.675:\n",
    "model.save_weights(modelPath)"
   ]
  },
  {
   "cell_type": "code",
   "execution_count": 14,
   "metadata": {},
   "outputs": [
    {
     "name": "stdout",
     "output_type": "stream",
     "text": [
      "              precision    recall  f1-score   support\n",
      "\n",
      "           0       0.77      0.87      0.82       100\n",
      "           1       0.87      0.78      0.82       100\n",
      "           2       0.79      0.77      0.78       100\n",
      "\n",
      "    accuracy                           0.81       300\n",
      "   macro avg       0.81      0.81      0.81       300\n",
      "weighted avg       0.81      0.81      0.81       300\n",
      "\n"
     ]
    }
   ],
   "source": [
    "y_pred = model.predict(x_test)\n",
    "y_pred = y_pred.reshape(len(y_test), 3)\n",
    "y_pred = np.argmax(y_pred, axis=1)\n",
    "\n",
    "# Writing results on file\n",
    "f = open(resultPath,'a') #create classification report\n",
    "f.write(classification_report(y_test, y_pred))\n",
    "f.write(str(sklm.cohen_kappa_score(y_test, y_pred))+\",\"+str(acc)+\",\"+str(score)+\"\\n\")\n",
    "\n",
    "#Print class-wise classification metrics\n",
    "print(classification_report(y_test, y_pred))"
   ]
  },
  {
   "cell_type": "code",
   "execution_count": 15,
   "metadata": {},
   "outputs": [
    {
     "data": {
      "image/png": "[encoded data removed]",
      "text/plain": [
       "<Figure size 432x288 with 2 Axes>"
      ]
     },
     "metadata": {
      "needs_background": "light"
     },
     "output_type": "display_data"
    }
   ],
   "source": [
    "from sklearn.metrics import confusion_matrix, ConfusionMatrixDisplay\n",
    "cm = confusion_matrix(y_test, y_pred)\n",
    "disp = ConfusionMatrixDisplay(confusion_matrix=cm, display_labels=np.array(['normal', 'COVID19', 'pneumonia']))\n",
    "disp.plot(cmap='Blues') \n",
    "disp.ax_.get_images()[0].set_clim(0, 100)"
   ]
  },
  {
   "cell_type": "code",
   "execution_count": 16,
   "metadata": {},
   "outputs": [],
   "source": [
    "f.close()"
   ]
  }
 ],
 "metadata": {
  "kernelspec": {
   "display_name": "wbvenv36",
   "language": "python",
   "name": "wbvenv36"
  },
  "language_info": {
   "codemirror_mode": {
    "name": "ipython",
    "version": 3
   },
   "file_extension": ".py",
   "mimetype": "text/x-python",
   "name": "python",
   "nbconvert_exporter": "python",
   "pygments_lexer": "ipython3",
   "version": "3.6.12"
  }
 },
 "nbformat": 4,
 "nbformat_minor": 2
}
