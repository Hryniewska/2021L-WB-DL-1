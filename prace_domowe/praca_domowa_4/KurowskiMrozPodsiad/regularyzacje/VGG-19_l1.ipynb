{
 "cells": [
  {
   "cell_type": "code",
   "execution_count": 31,
   "metadata": {},
   "outputs": [
    {
     "name": "stdout",
     "output_type": "stream",
     "text": [
      "/home/kurowskik/data_wb_iad/projekt/DeepCOVIDExplainer\n"
     ]
    }
   ],
   "source": [
    "#pip install matplotlib\n",
    "import os\n",
    "\n",
    "# Get the current working directory\n",
    "cwd = os.getcwd()\n",
    "print(cwd)\n",
    "os.chdir(\"/home/kurowskik/data_wb_iad/projekt/DeepCOVIDExplainer\")"
   ]
  },
  {
   "cell_type": "code",
   "execution_count": 32,
   "metadata": {},
   "outputs": [],
   "source": [
    "import cv2\n",
    "import numpy as np\n",
    "import matplotlib.pyplot as plt\n",
    "import os"
   ]
  },
  {
   "cell_type": "code",
   "execution_count": 33,
   "metadata": {},
   "outputs": [],
   "source": [
    "x_train = np.load('../../data/x_train_undersampled.npy')\n",
    "y_train = np.load('../../data/y_train_undersampled.npy')\n",
    "x_test = np.load('../../data/x_test_undersampled.npy')\n",
    "y_test = np.load('../../data/y_test_undersampled.npy')"
   ]
  },
  {
   "cell_type": "code",
   "execution_count": 34,
   "metadata": {},
   "outputs": [
    {
     "name": "stdout",
     "output_type": "stream",
     "text": [
      "(5010, 224, 224, 3)\n",
      "(300, 224, 224, 3)\n"
     ]
    }
   ],
   "source": [
    "print(x_train.shape)\n",
    "print(x_test.shape)"
   ]
  },
  {
   "cell_type": "code",
   "execution_count": 35,
   "metadata": {},
   "outputs": [
    {
     "name": "stdout",
     "output_type": "stream",
     "text": [
      "(5010,)\n",
      "(300,)\n"
     ]
    }
   ],
   "source": [
    "print(y_train.shape)\n",
    "print(y_test.shape)"
   ]
  },
  {
   "cell_type": "code",
   "execution_count": 23,
   "metadata": {},
   "outputs": [
    {
     "name": "stdout",
     "output_type": "stream",
     "text": [
      "/home/kurowskik/data_wb_iad/projekt/DeepCOVIDExplainer\n"
     ]
    }
   ],
   "source": [
    "#x_train /= 255????\n",
    "import os\n",
    "\n",
    "# Get the current working directory\n",
    "print( os.getcwd())"
   ]
  },
  {
   "cell_type": "code",
   "execution_count": 43,
   "metadata": {},
   "outputs": [],
   "source": [
    "from __future__ import print_function\n",
    "\n",
    "import numpy as np\n",
    "from random import shuffle\n",
    "import time\n",
    "import csv\n",
    "from PIL import Image\n",
    "import os\n",
    "import tensorflow as tf\n",
    "import keras\n",
    "from keras.callbacks import EarlyStopping, LearningRateScheduler\n",
    "from keras import initializers\n",
    "from keras.optimizers import SGD\n",
    "from keras.preprocessing import sequence\n",
    "from keras.utils import np_utils\n",
    "from keras.models import Sequential,load_model,Model\n",
    "from keras.layers import Dense, Dropout, Activation, Flatten\n",
    "from keras.layers import *\n",
    "from keras.callbacks import CSVLogger\n",
    "from keras import callbacks\n",
    "from keras.preprocessing.image import ImageDataGenerator\n",
    "\n",
    "from sklearn.metrics import classification_report\n",
    "from sklearn.model_selection import train_test_split\n",
    "import sklearn.metrics as sklm\n",
    "from utils import lossprettifier\n",
    "from Classifier import VGG\n",
    "from Classifier.VGG import *"
   ]
  },
  {
   "cell_type": "code",
   "execution_count": 37,
   "metadata": {},
   "outputs": [],
   "source": [
    "# for reproducibility\n",
    "np.random.seed(3768)\n",
    "\n",
    "# use this environment flag to change which GPU to use \n",
    "os.environ[\"CUDA_DEVICE_ORDER\"]=\"PCI_BUS_ID\"\n",
    "os.environ[\"CUDA_VISIBLE_DEVICES\"]=\"0\"  # specify which GPU(s) to be used\n",
    "\n",
    "#Get TensorFlow session\n",
    "def get_session(): \n",
    "    config = tf.ConfigProto() \n",
    "    config.gpu_options.allow_growth = True\n",
    "    return tf.Session(config=config) \n",
    "  \n",
    "# One hot encoding of labels \n",
    "def dense_to_one_hot(labels_dense,num_clases=4):\n",
    "    return np.eye(num_clases)[labels_dense]"
   ]
  },
  {
   "cell_type": "code",
   "execution_count": 38,
   "metadata": {},
   "outputs": [],
   "source": [
    "# Preparing training and test sets\n",
    "x_train, x_valid, y_train, y_valid = train_test_split(x_train, y_train, test_size=0.10, random_state=42)"
   ]
  },
  {
   "cell_type": "code",
   "execution_count": 39,
   "metadata": {},
   "outputs": [],
   "source": [
    "y_train = dense_to_one_hot(y_train,num_clases=4)\n",
    "y_valid= dense_to_one_hot(y_valid,num_clases=4)"
   ]
  },
  {
   "cell_type": "code",
   "execution_count": 40,
   "metadata": {},
   "outputs": [
    {
     "name": "stderr",
     "output_type": "stream",
     "text": [
      "/home/kurowskik/wbiad3.6/lib/python3.6/site-packages/keras_preprocessing/image/image_data_generator.py:349: UserWarning: This ImageDataGenerator specifies `featurewise_std_normalization`, which overrides setting of `featurewise_center`.\n",
      "  warnings.warn('This ImageDataGenerator specifies '\n"
     ]
    }
   ],
   "source": [
    "#Image data generation for the training \n",
    "datagen = ImageDataGenerator(\n",
    "               featurewise_center = False, \n",
    "               samplewise_center = False,  # set each sample mean to 0\n",
    "               featurewise_std_normalization = True,  \n",
    "               samplewise_std_normalization = False)  \n",
    "\n",
    "datagen.fit(x_train) \n",
    "for i in range(len(x_test)):\n",
    "      x_test[i] = datagen.standardize(x_test[i])"
   ]
  },
  {
   "cell_type": "code",
   "execution_count": 48,
   "metadata": {},
   "outputs": [
    {
     "name": "stdout",
     "output_type": "stream",
     "text": [
      "Epoch 1/50\n",
      "32/32 [==============================] - 19s 609ms/step - loss: 1.3611 - acc: 0.3242 - val_loss: 1.3420 - val_acc: 0.3433\n",
      "Epoch 2/50\n",
      "32/32 [==============================] - 14s 450ms/step - loss: 1.2225 - acc: 0.4873 - val_loss: 1.1271 - val_acc: 0.6028\n",
      "Epoch 3/50\n",
      "32/32 [==============================] - 14s 424ms/step - loss: 1.1075 - acc: 0.5938 - val_loss: 1.0882 - val_acc: 0.6048\n",
      "Epoch 4/50\n",
      "32/32 [==============================] - 14s 425ms/step - loss: 1.0685 - acc: 0.6211 - val_loss: 0.9992 - val_acc: 0.6587\n",
      "Epoch 5/50\n",
      "32/32 [==============================] - 14s 429ms/step - loss: 1.0665 - acc: 0.5975 - val_loss: 1.0060 - val_acc: 0.6547\n",
      "Epoch 6/50\n",
      "32/32 [==============================] - 13s 413ms/step - loss: 1.0336 - acc: 0.6357 - val_loss: 0.9734 - val_acc: 0.6427\n",
      "Epoch 7/50\n",
      "32/32 [==============================] - 13s 417ms/step - loss: 1.0220 - acc: 0.6396 - val_loss: 0.8867 - val_acc: 0.7246\n",
      "Epoch 8/50\n",
      "32/32 [==============================] - 13s 421ms/step - loss: 0.8948 - acc: 0.7148 - val_loss: 0.8502 - val_acc: 0.7305\n",
      "Epoch 9/50\n",
      "32/32 [==============================] - 13s 404ms/step - loss: 0.9171 - acc: 0.7012 - val_loss: 0.9230 - val_acc: 0.7146\n",
      "Epoch 10/50\n",
      "32/32 [==============================] - 13s 418ms/step - loss: 0.8947 - acc: 0.7061 - val_loss: 0.9594 - val_acc: 0.6946\n",
      "Epoch 11/50\n",
      "32/32 [==============================] - 13s 413ms/step - loss: 0.8716 - acc: 0.7168 - val_loss: 0.8812 - val_acc: 0.7265\n",
      "Epoch 12/50\n",
      "32/32 [==============================] - 13s 419ms/step - loss: 0.8398 - acc: 0.7344 - val_loss: 0.8392 - val_acc: 0.7226\n",
      "Epoch 13/50\n",
      "32/32 [==============================] - 14s 424ms/step - loss: 0.8413 - acc: 0.7559 - val_loss: 0.8174 - val_acc: 0.7465\n",
      "Epoch 14/50\n",
      "32/32 [==============================] - 14s 423ms/step - loss: 0.8343 - acc: 0.7325 - val_loss: 0.7445 - val_acc: 0.7705\n",
      "Epoch 15/50\n",
      "32/32 [==============================] - 13s 415ms/step - loss: 0.7923 - acc: 0.7656 - val_loss: 0.7756 - val_acc: 0.7824\n",
      "Epoch 16/50\n",
      "32/32 [==============================] - 14s 425ms/step - loss: 0.8196 - acc: 0.7637 - val_loss: 0.8117 - val_acc: 0.7325\n",
      "Epoch 17/50\n",
      "32/32 [==============================] - 13s 416ms/step - loss: 0.8150 - acc: 0.7559 - val_loss: 0.7355 - val_acc: 0.7725\n",
      "Epoch 18/50\n",
      "32/32 [==============================] - 13s 418ms/step - loss: 0.8219 - acc: 0.7415 - val_loss: 0.8017 - val_acc: 0.7226\n",
      "Epoch 19/50\n",
      "32/32 [==============================] - 13s 421ms/step - loss: 0.7546 - acc: 0.7754 - val_loss: 0.7219 - val_acc: 0.7645\n",
      "Epoch 20/50\n",
      "32/32 [==============================] - 14s 423ms/step - loss: 0.8117 - acc: 0.7422 - val_loss: 0.9460 - val_acc: 0.6727\n",
      "Epoch 21/50\n",
      "32/32 [==============================] - 13s 406ms/step - loss: 0.9548 - acc: 0.6787 - val_loss: 0.8607 - val_acc: 0.7305\n",
      "Epoch 22/50\n",
      "32/32 [==============================] - 13s 415ms/step - loss: 0.9085 - acc: 0.6992 - val_loss: 0.8425 - val_acc: 0.7265\n",
      "Epoch 23/50\n",
      "32/32 [==============================] - 13s 417ms/step - loss: 0.7963 - acc: 0.7591 - val_loss: 0.8494 - val_acc: 0.7545\n",
      "Epoch 24/50\n",
      "32/32 [==============================] - 14s 433ms/step - loss: 0.8533 - acc: 0.7227 - val_loss: 0.7949 - val_acc: 0.7725\n",
      "Epoch 25/50\n",
      "32/32 [==============================] - 13s 415ms/step - loss: 0.8656 - acc: 0.7227 - val_loss: 0.8164 - val_acc: 0.7246\n",
      "Epoch 26/50\n",
      "32/32 [==============================] - 13s 414ms/step - loss: 0.8081 - acc: 0.7725 - val_loss: 0.7532 - val_acc: 0.7844\n",
      "Epoch 27/50\n",
      "32/32 [==============================] - 13s 406ms/step - loss: 0.7106 - acc: 0.8024 - val_loss: 0.7486 - val_acc: 0.7745\n",
      "Epoch 28/50\n",
      "32/32 [==============================] - 13s 408ms/step - loss: 0.8003 - acc: 0.7588 - val_loss: 0.7365 - val_acc: 0.7864\n",
      "Epoch 29/50\n",
      "32/32 [==============================] - 13s 413ms/step - loss: 0.8097 - acc: 0.7510 - val_loss: 0.7476 - val_acc: 0.7505\n",
      "Epoch 30/50\n",
      "32/32 [==============================] - 13s 406ms/step - loss: 0.7638 - acc: 0.7598 - val_loss: 0.7841 - val_acc: 0.7425\n",
      "Epoch 31/50\n",
      "32/32 [==============================] - 13s 402ms/step - loss: 0.8286 - acc: 0.7495 - val_loss: 0.8104 - val_acc: 0.7265\n",
      "Epoch 32/50\n",
      "32/32 [==============================] - 13s 410ms/step - loss: 0.7630 - acc: 0.7725 - val_loss: 0.7279 - val_acc: 0.7784\n",
      "Epoch 33/50\n",
      "32/32 [==============================] - 13s 404ms/step - loss: 0.8046 - acc: 0.7656 - val_loss: 0.8812 - val_acc: 0.7126\n",
      "Epoch 34/50\n",
      "32/32 [==============================] - 13s 416ms/step - loss: 0.8455 - acc: 0.7324 - val_loss: 0.7356 - val_acc: 0.7685\n",
      "Epoch 35/50\n",
      "32/32 [==============================] - 13s 417ms/step - loss: 0.7651 - acc: 0.7754 - val_loss: 0.7271 - val_acc: 0.7764\n",
      "Epoch 36/50\n",
      "32/32 [==============================] - 13s 415ms/step - loss: 0.7847 - acc: 0.7493 - val_loss: 0.8167 - val_acc: 0.7705\n",
      "Epoch 37/50\n",
      "32/32 [==============================] - 13s 402ms/step - loss: 0.8696 - acc: 0.7285 - val_loss: 0.9407 - val_acc: 0.6727\n",
      "Epoch 38/50\n",
      "32/32 [==============================] - 13s 418ms/step - loss: 0.9942 - acc: 0.6445 - val_loss: 0.9602 - val_acc: 0.6667\n",
      "Epoch 39/50\n",
      "32/32 [==============================] - 13s 420ms/step - loss: 0.9574 - acc: 0.6621 - val_loss: 0.9582 - val_acc: 0.6766\n",
      "Epoch 40/50\n",
      "32/32 [==============================] - 13s 418ms/step - loss: 0.9321 - acc: 0.6778 - val_loss: 0.9631 - val_acc: 0.6607\n",
      "Epoch 41/50\n",
      "32/32 [==============================] - 13s 411ms/step - loss: 0.9293 - acc: 0.6963 - val_loss: 0.8535 - val_acc: 0.7345\n",
      "Epoch 42/50\n",
      "32/32 [==============================] - 13s 420ms/step - loss: 0.8861 - acc: 0.7188 - val_loss: 0.8256 - val_acc: 0.7465\n",
      "Epoch 43/50\n",
      "32/32 [==============================] - 13s 417ms/step - loss: 0.9505 - acc: 0.6729 - val_loss: 1.1523 - val_acc: 0.5150\n",
      "Epoch 44/50\n",
      "32/32 [==============================] - 14s 425ms/step - loss: 0.9383 - acc: 0.6787 - val_loss: 0.8999 - val_acc: 0.7046\n",
      "Epoch 45/50\n",
      "32/32 [==============================] - 13s 407ms/step - loss: 0.8708 - acc: 0.7122 - val_loss: 0.8860 - val_acc: 0.7046\n",
      "Epoch 46/50\n",
      "32/32 [==============================] - 13s 421ms/step - loss: 0.8793 - acc: 0.7100 - val_loss: 0.8684 - val_acc: 0.7066\n",
      "Epoch 47/50\n",
      "32/32 [==============================] - 13s 419ms/step - loss: 0.9090 - acc: 0.6875 - val_loss: 0.9361 - val_acc: 0.6866\n",
      "Epoch 48/50\n",
      "32/32 [==============================] - 13s 421ms/step - loss: 0.9075 - acc: 0.6904 - val_loss: 0.8121 - val_acc: 0.7545\n",
      "Epoch 49/50\n",
      "32/32 [==============================] - 13s 415ms/step - loss: 0.8315 - acc: 0.7358 - val_loss: 0.8317 - val_acc: 0.7425\n",
      "Epoch 50/50\n",
      "32/32 [==============================] - 13s 415ms/step - loss: 0.8568 - acc: 0.7334 - val_loss: 0.8376 - val_acc: 0.7265\n"
     ]
    }
   ],
   "source": [
    "from Classifier.VGG_with_l1 import *\n",
    "\n",
    "#Defining hyperparameters\n",
    "batch_Size = 32\n",
    "steps_Per_Epoch = 32\n",
    "numEpochs = 50\n",
    "\n",
    "#Instantating VGG19 model\n",
    "model = VGG19_l1((224,224,3),4) #VGG19_dense for revised VGG19, VGG19 for VGG19. Please pay attention to VGG16(), chnage the input shape and class number in VGG.py.\n",
    "\n",
    "#Creating an optimizers\n",
    "adaDelta = keras.optimizers.Adadelta(lr=1.0, rho=0.95)\n",
    "sgd = SGD(lr=0.01, decay=1e-6, momentum=0.95, nesterov=True)\n",
    "model.compile(optimizer = sgd , loss = 'categorical_crossentropy', metrics = ['accuracy'])\n",
    "\n",
    "#Creating early stopping \n",
    "earlystop = EarlyStopping(monitor = 'val_accuracy', min_delta = 0, patience = 50, verbose = 1, mode = 'auto', restore_best_weights = True)       \n",
    "\n",
    "train_generator = datagen.flow(x_train, y_train, batch_size = batch_Size)\n",
    "validation_generator = datagen.flow(x_valid, y_valid, batch_size = batch_Size)\n",
    "\n",
    "# Model training\n",
    "history = model.fit_generator(\n",
    "    train_generator,\n",
    "    steps_per_epoch = steps_Per_Epoch,\n",
    "    validation_data = validation_generator, \n",
    "    validation_steps = 16,\n",
    "    epochs = numEpochs,\n",
    "    shuffle = True, \n",
    "    verbose = 1)"
   ]
  },
  {
   "cell_type": "code",
   "execution_count": 49,
   "metadata": {},
   "outputs": [],
   "source": [
    "modelPath = \"VGG19_COVID19_undersampled_l1.h5\"\n",
    "resultPath = 'VGG19_COVID19_undersampled_l1.txt'"
   ]
  },
  {
   "cell_type": "code",
   "execution_count": 50,
   "metadata": {},
   "outputs": [
    {
     "name": "stdout",
     "output_type": "stream",
     "text": [
      "Epoch     0 | LossA: 1.36(+0.00%) \u001b[0m\t| LossAB: 1.34(+0.00%) \u001b[0m\t\n",
      "Epoch     1 | LossA: \u001b[32m1.22(-10.19%) ▼\u001b[0m\t| LossAB: \u001b[32m1.13(-16.01%) ▼\u001b[0m\t\n",
      "Epoch     2 | LossA: \u001b[32m1.11(-9.41%) ▼\u001b[0m\t| LossAB: \u001b[32m1.09(-3.45%) ▼\u001b[0m\t\n",
      "Epoch     3 | LossA: \u001b[32m1.07(-3.52%) ▼\u001b[0m\t| LossAB: \u001b[32m1.00(-8.18%) ▼\u001b[0m\t\n",
      "Epoch     4 | LossA: \u001b[32m1.07(-0.16%) ▼\u001b[0m\t| LossAB: \u001b[91m1.01(+0.68%) ▲\u001b[0m\t\n",
      "Epoch     5 | LossA: \u001b[32m1.03(-3.11%) ▼\u001b[0m\t| LossAB: \u001b[32m0.97(-3.24%) ▼\u001b[0m\t\n",
      "Epoch     6 | LossA: \u001b[32m1.02(-1.11%) ▼\u001b[0m\t| LossAB: \u001b[32m0.89(-8.91%) ▼\u001b[0m\t\n",
      "Epoch     7 | LossA: \u001b[32m0.89(-12.45%) ▼\u001b[0m\t| LossAB: \u001b[32m0.85(-4.11%) ▼\u001b[0m\t\n",
      "Epoch     8 | LossA: \u001b[91m0.92(+2.46%) ▲\u001b[0m\t| LossAB: \u001b[91m0.92(+8.56%) ▲\u001b[0m\t\n",
      "Epoch     9 | LossA: \u001b[32m0.89(-2.41%) ▼\u001b[0m\t| LossAB: \u001b[91m0.96(+3.95%) ▲\u001b[0m\t\n",
      "Epoch    10 | LossA: \u001b[32m0.87(-2.58%) ▼\u001b[0m\t| LossAB: \u001b[32m0.88(-8.15%) ▼\u001b[0m\t\n",
      "Epoch    11 | LossA: \u001b[32m0.84(-3.65%) ▼\u001b[0m\t| LossAB: \u001b[32m0.84(-4.77%) ▼\u001b[0m\t\n",
      "Epoch    12 | LossA: \u001b[91m0.84(+0.18%) ▲\u001b[0m\t| LossAB: \u001b[32m0.82(-2.60%) ▼\u001b[0m\t\n",
      "Epoch    13 | LossA: \u001b[32m0.83(-0.90%) ▼\u001b[0m\t| LossAB: \u001b[32m0.74(-8.92%) ▼\u001b[0m\t\n",
      "Epoch    14 | LossA: \u001b[32m0.79(-4.97%) ▼\u001b[0m\t| LossAB: \u001b[91m0.78(+4.17%) ▲\u001b[0m\t\n",
      "Epoch    15 | LossA: \u001b[91m0.82(+3.45%) ▲\u001b[0m\t| LossAB: \u001b[91m0.81(+4.66%) ▲\u001b[0m\t\n",
      "Epoch    16 | LossA: \u001b[32m0.81(-0.56%) ▼\u001b[0m\t| LossAB: \u001b[32m0.74(-9.39%) ▼\u001b[0m\t\n",
      "Epoch    17 | LossA: \u001b[91m0.82(+0.90%) ▲\u001b[0m\t| LossAB: \u001b[91m0.80(+9.00%) ▲\u001b[0m\t\n",
      "Epoch    18 | LossA: \u001b[32m0.75(-8.23%) ▼\u001b[0m\t| LossAB: \u001b[32m0.72(-9.95%) ▼\u001b[0m\t\n",
      "Epoch    19 | LossA: \u001b[91m0.81(+7.56%) ▲\u001b[0m\t| LossAB: \u001b[91m0.95(+31.04%) ▲\u001b[0m\t\n",
      "Epoch    20 | LossA: \u001b[91m0.95(+17.64%) ▲\u001b[0m\t| LossAB: \u001b[32m0.86(-9.01%) ▼\u001b[0m\t\n",
      "Epoch    21 | LossA: \u001b[32m0.91(-4.85%) ▼\u001b[0m\t| LossAB: \u001b[32m0.84(-2.12%) ▼\u001b[0m\t\n",
      "Epoch    22 | LossA: \u001b[32m0.80(-12.33%) ▼\u001b[0m\t| LossAB: \u001b[91m0.85(+0.82%) ▲\u001b[0m\t\n",
      "Epoch    23 | LossA: \u001b[91m0.85(+7.14%) ▲\u001b[0m\t| LossAB: \u001b[32m0.79(-6.41%) ▼\u001b[0m\t\n",
      "Epoch    24 | LossA: \u001b[91m0.87(+1.43%) ▲\u001b[0m\t| LossAB: \u001b[91m0.82(+2.71%) ▲\u001b[0m\t\n",
      "Epoch    25 | LossA: \u001b[32m0.81(-6.64%) ▼\u001b[0m\t| LossAB: \u001b[32m0.75(-7.74%) ▼\u001b[0m\t\n",
      "Epoch    26 | LossA: \u001b[32m0.71(-12.02%) ▼\u001b[0m\t| LossAB: \u001b[32m0.75(-0.62%) ▼\u001b[0m\t\n",
      "Epoch    27 | LossA: \u001b[91m0.80(+12.56%) ▲\u001b[0m\t| LossAB: \u001b[32m0.74(-1.61%) ▼\u001b[0m\t\n",
      "Epoch    28 | LossA: \u001b[91m0.81(+1.18%) ▲\u001b[0m\t| LossAB: \u001b[91m0.75(+1.51%) ▲\u001b[0m\t\n",
      "Epoch    29 | LossA: \u001b[32m0.76(-5.67%) ▼\u001b[0m\t| LossAB: \u001b[91m0.78(+4.89%) ▲\u001b[0m\t\n",
      "Epoch    30 | LossA: \u001b[91m0.83(+8.56%) ▲\u001b[0m\t| LossAB: \u001b[91m0.81(+3.35%) ▲\u001b[0m\t\n",
      "Epoch    31 | LossA: \u001b[32m0.76(-7.98%) ▼\u001b[0m\t| LossAB: \u001b[32m0.73(-10.17%) ▼\u001b[0m\t\n",
      "Epoch    32 | LossA: \u001b[91m0.80(+5.44%) ▲\u001b[0m\t| LossAB: \u001b[91m0.88(+21.06%) ▲\u001b[0m\t\n",
      "Epoch    33 | LossA: \u001b[91m0.85(+5.08%) ▲\u001b[0m\t| LossAB: \u001b[32m0.74(-16.53%) ▼\u001b[0m\t\n",
      "Epoch    34 | LossA: \u001b[32m0.77(-9.51%) ▼\u001b[0m\t| LossAB: \u001b[32m0.73(-1.15%) ▼\u001b[0m\t\n",
      "Epoch    35 | LossA: \u001b[91m0.78(+2.59%) ▲\u001b[0m\t| LossAB: \u001b[91m0.82(+12.31%) ▲\u001b[0m\t\n",
      "Epoch    36 | LossA: \u001b[91m0.87(+10.80%) ▲\u001b[0m\t| LossAB: \u001b[91m0.94(+15.19%) ▲\u001b[0m\t\n",
      "Epoch    37 | LossA: \u001b[91m0.99(+14.33%) ▲\u001b[0m\t| LossAB: \u001b[91m0.96(+2.07%) ▲\u001b[0m\t\n",
      "Epoch    38 | LossA: \u001b[32m0.96(-3.70%) ▼\u001b[0m\t| LossAB: \u001b[32m0.96(-0.21%) ▼\u001b[0m\t\n",
      "Epoch    39 | LossA: \u001b[32m0.93(-2.63%) ▼\u001b[0m\t| LossAB: \u001b[91m0.96(+0.51%) ▲\u001b[0m\t\n",
      "Epoch    40 | LossA: \u001b[32m0.93(-0.32%) ▼\u001b[0m\t| LossAB: \u001b[32m0.85(-11.38%) ▼\u001b[0m\t\n",
      "Epoch    41 | LossA: \u001b[32m0.89(-4.65%) ▼\u001b[0m\t| LossAB: \u001b[32m0.83(-3.27%) ▼\u001b[0m\t\n",
      "Epoch    42 | LossA: \u001b[91m0.95(+7.27%) ▲\u001b[0m\t| LossAB: \u001b[91m1.15(+39.57%) ▲\u001b[0m\t\n",
      "Epoch    43 | LossA: \u001b[32m0.94(-1.28%) ▼\u001b[0m\t| LossAB: \u001b[32m0.90(-21.90%) ▼\u001b[0m\t\n",
      "Epoch    44 | LossA: \u001b[32m0.87(-7.19%) ▼\u001b[0m\t| LossAB: \u001b[32m0.89(-1.55%) ▼\u001b[0m\t\n",
      "Epoch    45 | LossA: \u001b[91m0.88(+0.97%) ▲\u001b[0m\t| LossAB: \u001b[32m0.87(-1.99%) ▼\u001b[0m\t\n",
      "Epoch    46 | LossA: \u001b[91m0.91(+3.38%) ▲\u001b[0m\t| LossAB: \u001b[91m0.94(+7.79%) ▲\u001b[0m\t\n",
      "Epoch    47 | LossA: \u001b[32m0.91(-0.17%) ▼\u001b[0m\t| LossAB: \u001b[32m0.81(-13.24%) ▼\u001b[0m\t\n",
      "Epoch    48 | LossA: \u001b[32m0.83(-8.32%) ▼\u001b[0m\t| LossAB: \u001b[91m0.83(+2.41%) ▲\u001b[0m\t\n",
      "300/300 [==============================] - 3s 10ms/step\n",
      "Accuracy: 0.7166666674613953\n"
     ]
    }
   ],
   "source": [
    "y_test_oh = dense_to_one_hot(y_test, num_clases=4)\n",
    "\n",
    "# visualizing losses and accuracy\n",
    "train_loss = history.history['loss']\n",
    "val_loss = history.history['val_loss']\n",
    "\n",
    "#Observing the losses but can be commented out as it's not mandatory \n",
    "reporter = lossprettifier.LossPrettifier(show_percentage=True)\n",
    "\n",
    "for i in range(numEpochs-1):\n",
    "    reporter(epoch=i, LossA = train_loss[i], LossAB = val_loss[i])\n",
    "\n",
    "# Model evaluation \n",
    "#score, acc = model.evaluate(x_test, y_test_oh, batch_size=batch_Size)\n",
    "score, acc = model.evaluate(x_test, y_test_oh, batch_size=batch_Size)\n",
    "print(\"Accuracy:\", acc)\n",
    "\n",
    "#if acc>0.675:\n",
    "model.save_weights(modelPath)"
   ]
  },
  {
   "cell_type": "code",
   "execution_count": 51,
   "metadata": {},
   "outputs": [
    {
     "name": "stdout",
     "output_type": "stream",
     "text": [
      "              precision    recall  f1-score   support\n",
      "\n",
      "           0       0.71      0.78      0.74       100\n",
      "           1       0.71      0.71      0.71       100\n",
      "           2       0.73      0.66      0.69       100\n",
      "\n",
      "    accuracy                           0.72       300\n",
      "   macro avg       0.72      0.72      0.72       300\n",
      "weighted avg       0.72      0.72      0.72       300\n",
      "\n"
     ]
    }
   ],
   "source": [
    "y_pred = model.predict(x_test)\n",
    "y_pred = y_pred.reshape(len(y_test), 4)\n",
    "y_pred = np.argmax(y_pred, axis=1)\n",
    "\n",
    "# Writing results on file\n",
    "f = open(resultPath,'a') #create classification report\n",
    "f.write(classification_report(y_test, y_pred))\n",
    "f.write(str(sklm.cohen_kappa_score(y_test, y_pred))+\",\"+str(acc)+\",\"+str(score)+\"\\n\")\n",
    "\n",
    "#Print class-wise classification metrics\n",
    "print(classification_report(y_test, y_pred))"
   ]
  },
  {
   "cell_type": "code",
   "execution_count": 52,
   "metadata": {},
   "outputs": [
    {
     "name": "stdout",
     "output_type": "stream",
     "text": [
      "_________________________________________________________________\n",
      "Layer (type)                 Output Shape              Param #   \n",
      "=================================================================\n",
      "input_2 (InputLayer)         (None, 224, 224, 3)       0         \n",
      "_________________________________________________________________\n",
      "block1_conv1 (Conv2D)        (None, 224, 224, 2)       56        \n",
      "_________________________________________________________________\n",
      "block1_conv2 (Conv2D)        (None, 224, 224, 2)       38        \n",
      "_________________________________________________________________\n",
      "block1_pool (MaxPooling2D)   (None, 112, 112, 2)       0         \n",
      "_________________________________________________________________\n",
      "block2_conv1 (Conv2D)        (None, 112, 112, 4)       76        \n",
      "_________________________________________________________________\n",
      "block2_conv2 (Conv2D)        (None, 112, 112, 4)       148       \n",
      "_________________________________________________________________\n",
      "block2_pool (MaxPooling2D)   (None, 56, 56, 4)         0         \n",
      "_________________________________________________________________\n",
      "block3_conv1 (Conv2D)        (None, 56, 56, 8)         296       \n",
      "_________________________________________________________________\n",
      "block3_conv2 (Conv2D)        (None, 56, 56, 8)         584       \n",
      "_________________________________________________________________\n",
      "block3_conv3 (Conv2D)        (None, 56, 56, 8)         584       \n",
      "_________________________________________________________________\n",
      "block3_conv4 (Conv2D)        (None, 56, 56, 8)         584       \n",
      "_________________________________________________________________\n",
      "block3_pool (MaxPooling2D)   (None, 28, 28, 8)         0         \n",
      "_________________________________________________________________\n",
      "block4_conv1 (Conv2D)        (None, 28, 28, 16)        1168      \n",
      "_________________________________________________________________\n",
      "block4_conv2 (Conv2D)        (None, 28, 28, 16)        2320      \n",
      "_________________________________________________________________\n",
      "block4_conv3 (Conv2D)        (None, 28, 28, 16)        2320      \n",
      "_________________________________________________________________\n",
      "block4_conv4 (Conv2D)        (None, 28, 28, 16)        2320      \n",
      "_________________________________________________________________\n",
      "block4_pool (MaxPooling2D)   (None, 14, 14, 16)        0         \n",
      "_________________________________________________________________\n",
      "block5_conv1 (Conv2D)        (None, 14, 14, 16)        2320      \n",
      "_________________________________________________________________\n",
      "block5_conv2 (Conv2D)        (None, 14, 14, 16)        2320      \n",
      "_________________________________________________________________\n",
      "block5_conv3 (Conv2D)        (None, 14, 14, 16)        2320      \n",
      "_________________________________________________________________\n",
      "block5_conv4 (Conv2D)        (None, 14, 14, 16)        2320      \n",
      "_________________________________________________________________\n",
      "block5_pool (MaxPooling2D)   (None, 7, 7, 16)          0         \n",
      "_________________________________________________________________\n",
      "flatten (Flatten)            (None, 784)               0         \n",
      "_________________________________________________________________\n",
      "fc1 (Dense)                  (None, 512)               401920    \n",
      "_________________________________________________________________\n",
      "dropout_2 (Dropout)          (None, 512)               0         \n",
      "_________________________________________________________________\n",
      "fc2 (Dense)                  (None, 128)               65664     \n",
      "_________________________________________________________________\n",
      "predictions (Dense)          (None, 4)                 516       \n",
      "=================================================================\n",
      "Total params: 487,874\n",
      "Trainable params: 487,874\n",
      "Non-trainable params: 0\n",
      "_________________________________________________________________\n"
     ]
    }
   ],
   "source": [
    "model.summary()"
   ]
  },
  {
   "cell_type": "code",
   "execution_count": 53,
   "metadata": {},
   "outputs": [
    {
     "data": {
      "image/png": "[encoded data removed]",
      "text/plain": [
       "<Figure size 432x288 with 2 Axes>"
      ]
     },
     "metadata": {
      "needs_background": "light"
     },
     "output_type": "display_data"
    }
   ],
   "source": [
    "from sklearn.metrics import confusion_matrix, ConfusionMatrixDisplay\n",
    "cm = confusion_matrix(y_test, y_pred)\n",
    "disp = ConfusionMatrixDisplay(confusion_matrix=cm, display_labels=np.array(['normal', 'COVID19', 'pneumonia']))\n",
    "disp.plot(cmap='Blues') \n",
    "disp.ax_.get_images()[0].set_clim(0, 100)"
   ]
  }
 ],
 "metadata": {
  "kernelspec": {
   "display_name": "wbiad3.6",
   "language": "python",
   "name": "wbiad3.6"
  },
  "language_info": {
   "codemirror_mode": {
    "name": "ipython",
    "version": 3
   },
   "file_extension": ".py",
   "mimetype": "text/x-python",
   "name": "python",
   "nbconvert_exporter": "python",
   "pygments_lexer": "ipython3",
   "version": "3.6.13"
  }
 },
 "nbformat": 4,
 "nbformat_minor": 4
}
