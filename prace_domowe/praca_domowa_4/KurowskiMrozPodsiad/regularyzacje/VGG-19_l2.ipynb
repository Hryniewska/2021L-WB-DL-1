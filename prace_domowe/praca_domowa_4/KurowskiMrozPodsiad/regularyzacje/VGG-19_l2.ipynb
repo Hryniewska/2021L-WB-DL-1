{
 "cells": [
  {
   "cell_type": "code",
   "execution_count": 1,
   "metadata": {},
   "outputs": [
    {
     "name": "stdout",
     "output_type": "stream",
     "text": [
      "/home/kurowskik/data_wb_iad/projekt/DeepCOVIDExplainer/noteboks\n"
     ]
    }
   ],
   "source": [
    "#pip install matplotlib\n",
    "import os\n",
    "\n",
    "# Get the current working directory\n",
    "cwd = os.getcwd()\n",
    "print(cwd)\n",
    "os.chdir(\"/home/kurowskik/data_wb_iad/projekt/DeepCOVIDExplainer\")"
   ]
  },
  {
   "cell_type": "code",
   "execution_count": 3,
   "metadata": {},
   "outputs": [],
   "source": [
    "import cv2\n",
    "import numpy as np\n",
    "import matplotlib.pyplot as plt\n",
    "import os"
   ]
  },
  {
   "cell_type": "code",
   "execution_count": 4,
   "metadata": {},
   "outputs": [],
   "source": [
    "x_train = np.load('../../data/x_train_undersampled.npy')\n",
    "y_train = np.load('../../data/y_train_undersampled.npy')\n",
    "x_test = np.load('../../data/x_test_undersampled.npy')\n",
    "y_test = np.load('../../data/y_test_undersampled.npy')"
   ]
  },
  {
   "cell_type": "code",
   "execution_count": 5,
   "metadata": {},
   "outputs": [
    {
     "name": "stdout",
     "output_type": "stream",
     "text": [
      "(5010, 224, 224, 3)\n",
      "(300, 224, 224, 3)\n"
     ]
    }
   ],
   "source": [
    "print(x_train.shape)\n",
    "print(x_test.shape)"
   ]
  },
  {
   "cell_type": "code",
   "execution_count": 6,
   "metadata": {},
   "outputs": [
    {
     "name": "stdout",
     "output_type": "stream",
     "text": [
      "(5010,)\n",
      "(300,)\n"
     ]
    }
   ],
   "source": [
    "print(y_train.shape)\n",
    "print(y_test.shape)"
   ]
  },
  {
   "cell_type": "code",
   "execution_count": 7,
   "metadata": {},
   "outputs": [
    {
     "name": "stdout",
     "output_type": "stream",
     "text": [
      "/home/kurowskik/data_wb_iad/projekt/DeepCOVIDExplainer\n"
     ]
    }
   ],
   "source": [
    "#x_train /= 255????\n",
    "import os\n",
    "\n",
    "# Get the current working directory\n",
    "print( os.getcwd())"
   ]
  },
  {
   "cell_type": "code",
   "execution_count": 8,
   "metadata": {},
   "outputs": [
    {
     "name": "stderr",
     "output_type": "stream",
     "text": [
      "/home/kurowskik/wbiad3.6/lib/python3.6/site-packages/tensorflow/python/framework/dtypes.py:516: FutureWarning: Passing (type, 1) or '1type' as a synonym of type is deprecated; in a future version of numpy, it will be understood as (type, (1,)) / '(1,)type'.\n",
      "  _np_qint8 = np.dtype([(\"qint8\", np.int8, 1)])\n",
      "/home/kurowskik/wbiad3.6/lib/python3.6/site-packages/tensorflow/python/framework/dtypes.py:517: FutureWarning: Passing (type, 1) or '1type' as a synonym of type is deprecated; in a future version of numpy, it will be understood as (type, (1,)) / '(1,)type'.\n",
      "  _np_quint8 = np.dtype([(\"quint8\", np.uint8, 1)])\n",
      "/home/kurowskik/wbiad3.6/lib/python3.6/site-packages/tensorflow/python/framework/dtypes.py:518: FutureWarning: Passing (type, 1) or '1type' as a synonym of type is deprecated; in a future version of numpy, it will be understood as (type, (1,)) / '(1,)type'.\n",
      "  _np_qint16 = np.dtype([(\"qint16\", np.int16, 1)])\n",
      "/home/kurowskik/wbiad3.6/lib/python3.6/site-packages/tensorflow/python/framework/dtypes.py:519: FutureWarning: Passing (type, 1) or '1type' as a synonym of type is deprecated; in a future version of numpy, it will be understood as (type, (1,)) / '(1,)type'.\n",
      "  _np_quint16 = np.dtype([(\"quint16\", np.uint16, 1)])\n",
      "/home/kurowskik/wbiad3.6/lib/python3.6/site-packages/tensorflow/python/framework/dtypes.py:520: FutureWarning: Passing (type, 1) or '1type' as a synonym of type is deprecated; in a future version of numpy, it will be understood as (type, (1,)) / '(1,)type'.\n",
      "  _np_qint32 = np.dtype([(\"qint32\", np.int32, 1)])\n",
      "/home/kurowskik/wbiad3.6/lib/python3.6/site-packages/tensorflow/python/framework/dtypes.py:525: FutureWarning: Passing (type, 1) or '1type' as a synonym of type is deprecated; in a future version of numpy, it will be understood as (type, (1,)) / '(1,)type'.\n",
      "  np_resource = np.dtype([(\"resource\", np.ubyte, 1)])\n",
      "/home/kurowskik/wbiad3.6/lib/python3.6/site-packages/tensorboard/compat/tensorflow_stub/dtypes.py:541: FutureWarning: Passing (type, 1) or '1type' as a synonym of type is deprecated; in a future version of numpy, it will be understood as (type, (1,)) / '(1,)type'.\n",
      "  _np_qint8 = np.dtype([(\"qint8\", np.int8, 1)])\n",
      "/home/kurowskik/wbiad3.6/lib/python3.6/site-packages/tensorboard/compat/tensorflow_stub/dtypes.py:542: FutureWarning: Passing (type, 1) or '1type' as a synonym of type is deprecated; in a future version of numpy, it will be understood as (type, (1,)) / '(1,)type'.\n",
      "  _np_quint8 = np.dtype([(\"quint8\", np.uint8, 1)])\n",
      "/home/kurowskik/wbiad3.6/lib/python3.6/site-packages/tensorboard/compat/tensorflow_stub/dtypes.py:543: FutureWarning: Passing (type, 1) or '1type' as a synonym of type is deprecated; in a future version of numpy, it will be understood as (type, (1,)) / '(1,)type'.\n",
      "  _np_qint16 = np.dtype([(\"qint16\", np.int16, 1)])\n",
      "/home/kurowskik/wbiad3.6/lib/python3.6/site-packages/tensorboard/compat/tensorflow_stub/dtypes.py:544: FutureWarning: Passing (type, 1) or '1type' as a synonym of type is deprecated; in a future version of numpy, it will be understood as (type, (1,)) / '(1,)type'.\n",
      "  _np_quint16 = np.dtype([(\"quint16\", np.uint16, 1)])\n",
      "/home/kurowskik/wbiad3.6/lib/python3.6/site-packages/tensorboard/compat/tensorflow_stub/dtypes.py:545: FutureWarning: Passing (type, 1) or '1type' as a synonym of type is deprecated; in a future version of numpy, it will be understood as (type, (1,)) / '(1,)type'.\n",
      "  _np_qint32 = np.dtype([(\"qint32\", np.int32, 1)])\n",
      "/home/kurowskik/wbiad3.6/lib/python3.6/site-packages/tensorboard/compat/tensorflow_stub/dtypes.py:550: FutureWarning: Passing (type, 1) or '1type' as a synonym of type is deprecated; in a future version of numpy, it will be understood as (type, (1,)) / '(1,)type'.\n",
      "  np_resource = np.dtype([(\"resource\", np.ubyte, 1)])\n",
      "Using TensorFlow backend.\n"
     ]
    }
   ],
   "source": [
    "from __future__ import print_function\n",
    "\n",
    "import numpy as np\n",
    "from random import shuffle\n",
    "import time\n",
    "import csv\n",
    "from PIL import Image\n",
    "import os\n",
    "import tensorflow as tf\n",
    "import keras\n",
    "from keras.callbacks import EarlyStopping, LearningRateScheduler\n",
    "from keras import initializers\n",
    "from keras.optimizers import SGD\n",
    "from keras.preprocessing import sequence\n",
    "from keras.utils import np_utils\n",
    "from keras.models import Sequential,load_model,Model\n",
    "from keras.layers import Dense, Dropout, Activation, Flatten\n",
    "from keras.layers import *\n",
    "from keras.callbacks import CSVLogger\n",
    "from keras import callbacks\n",
    "from keras.preprocessing.image import ImageDataGenerator\n",
    "\n",
    "from sklearn.metrics import classification_report\n",
    "from sklearn.model_selection import train_test_split\n",
    "import sklearn.metrics as sklm\n",
    "from utils import lossprettifier\n",
    "from Classifier import VGG\n",
    "from Classifier.VGG import *"
   ]
  },
  {
   "cell_type": "code",
   "execution_count": 9,
   "metadata": {},
   "outputs": [],
   "source": [
    "# for reproducibility\n",
    "np.random.seed(3768)\n",
    "\n",
    "# use this environment flag to change which GPU to use \n",
    "os.environ[\"CUDA_DEVICE_ORDER\"]=\"PCI_BUS_ID\"\n",
    "os.environ[\"CUDA_VISIBLE_DEVICES\"]=\"0\"  # specify which GPU(s) to be used\n",
    "\n",
    "#Get TensorFlow session\n",
    "def get_session(): \n",
    "    config = tf.ConfigProto() \n",
    "    config.gpu_options.allow_growth = True\n",
    "    return tf.Session(config=config) \n",
    "  \n",
    "# One hot encoding of labels \n",
    "def dense_to_one_hot(labels_dense,num_clases=4):\n",
    "    return np.eye(num_clases)[labels_dense]"
   ]
  },
  {
   "cell_type": "code",
   "execution_count": 10,
   "metadata": {},
   "outputs": [],
   "source": [
    "# Preparing training and test sets\n",
    "x_train, x_valid, y_train, y_valid = train_test_split(x_train, y_train, test_size=0.10, random_state=42)"
   ]
  },
  {
   "cell_type": "code",
   "execution_count": 11,
   "metadata": {},
   "outputs": [],
   "source": [
    "y_train = dense_to_one_hot(y_train,num_clases=4)\n",
    "y_valid= dense_to_one_hot(y_valid,num_clases=4)"
   ]
  },
  {
   "cell_type": "code",
   "execution_count": 12,
   "metadata": {},
   "outputs": [
    {
     "name": "stderr",
     "output_type": "stream",
     "text": [
      "/home/kurowskik/wbiad3.6/lib/python3.6/site-packages/keras_preprocessing/image/image_data_generator.py:349: UserWarning: This ImageDataGenerator specifies `featurewise_std_normalization`, which overrides setting of `featurewise_center`.\n",
      "  warnings.warn('This ImageDataGenerator specifies '\n"
     ]
    }
   ],
   "source": [
    "#Image data generation for the training \n",
    "datagen = ImageDataGenerator(\n",
    "               featurewise_center = False, \n",
    "               samplewise_center = False,  # set each sample mean to 0\n",
    "               featurewise_std_normalization = True,  \n",
    "               samplewise_std_normalization = False)  \n",
    "\n",
    "datagen.fit(x_train) \n",
    "for i in range(len(x_test)):\n",
    "      x_test[i] = datagen.standardize(x_test[i])"
   ]
  },
  {
   "cell_type": "code",
   "execution_count": 13,
   "metadata": {},
   "outputs": [
    {
     "name": "stdout",
     "output_type": "stream",
     "text": [
      "WARNING:tensorflow:From /home/kurowskik/wbiad3.6/lib/python3.6/site-packages/keras/backend/tensorflow_backend.py:74: The name tf.get_default_graph is deprecated. Please use tf.compat.v1.get_default_graph instead.\n",
      "\n",
      "WARNING:tensorflow:From /home/kurowskik/wbiad3.6/lib/python3.6/site-packages/keras/backend/tensorflow_backend.py:517: The name tf.placeholder is deprecated. Please use tf.compat.v1.placeholder instead.\n",
      "\n",
      "WARNING:tensorflow:From /home/kurowskik/wbiad3.6/lib/python3.6/site-packages/keras/backend/tensorflow_backend.py:4185: The name tf.truncated_normal is deprecated. Please use tf.random.truncated_normal instead.\n",
      "\n",
      "WARNING:tensorflow:From /home/kurowskik/wbiad3.6/lib/python3.6/site-packages/keras/backend/tensorflow_backend.py:3976: The name tf.nn.max_pool is deprecated. Please use tf.nn.max_pool2d instead.\n",
      "\n",
      "WARNING:tensorflow:From /home/kurowskik/wbiad3.6/lib/python3.6/site-packages/keras/backend/tensorflow_backend.py:4138: The name tf.random_uniform is deprecated. Please use tf.random.uniform instead.\n",
      "\n",
      "WARNING:tensorflow:From /home/kurowskik/wbiad3.6/lib/python3.6/site-packages/keras/backend/tensorflow_backend.py:133: The name tf.placeholder_with_default is deprecated. Please use tf.compat.v1.placeholder_with_default instead.\n",
      "\n",
      "WARNING:tensorflow:From /home/kurowskik/wbiad3.6/lib/python3.6/site-packages/keras/backend/tensorflow_backend.py:3445: calling dropout (from tensorflow.python.ops.nn_ops) with keep_prob is deprecated and will be removed in a future version.\n",
      "Instructions for updating:\n",
      "Please use `rate` instead of `keep_prob`. Rate should be set to `rate = 1 - keep_prob`.\n",
      "WARNING:tensorflow:From /home/kurowskik/wbiad3.6/lib/python3.6/site-packages/keras/optimizers.py:790: The name tf.train.Optimizer is deprecated. Please use tf.compat.v1.train.Optimizer instead.\n",
      "\n",
      "WARNING:tensorflow:From /home/kurowskik/wbiad3.6/lib/python3.6/site-packages/tensorflow/python/ops/math_grad.py:1250: add_dispatch_support.<locals>.wrapper (from tensorflow.python.ops.array_ops) is deprecated and will be removed in a future version.\n",
      "Instructions for updating:\n",
      "Use tf.where in 2.0, which has the same broadcast rule as np.where\n",
      "Epoch 1/50\n",
      "32/32 [==============================] - 20s 628ms/step - loss: 1.3025 - acc: 0.3379 - val_loss: 1.2247 - val_acc: 0.3433\n",
      "Epoch 2/50\n",
      "32/32 [==============================] - 15s 463ms/step - loss: 1.1878 - acc: 0.4385 - val_loss: 1.1134 - val_acc: 0.5848\n",
      "Epoch 3/50\n",
      "32/32 [==============================] - 14s 447ms/step - loss: 1.0728 - acc: 0.5693 - val_loss: 1.0225 - val_acc: 0.5968\n",
      "Epoch 4/50\n",
      "32/32 [==============================] - 16s 504ms/step - loss: 1.0242 - acc: 0.6035 - val_loss: 1.0003 - val_acc: 0.5888\n",
      "Epoch 5/50\n",
      "32/32 [==============================] - 14s 442ms/step - loss: 1.0164 - acc: 0.5601 - val_loss: 0.9226 - val_acc: 0.6307\n",
      "Epoch 6/50\n",
      "32/32 [==============================] - 14s 426ms/step - loss: 0.9603 - acc: 0.6328 - val_loss: 0.9095 - val_acc: 0.6507\n",
      "Epoch 7/50\n",
      "32/32 [==============================] - 14s 450ms/step - loss: 0.9867 - acc: 0.6064 - val_loss: 0.8639 - val_acc: 0.6806\n",
      "Epoch 8/50\n",
      "32/32 [==============================] - 14s 442ms/step - loss: 0.8849 - acc: 0.6787 - val_loss: 0.8461 - val_acc: 0.6707\n",
      "Epoch 9/50\n",
      "32/32 [==============================] - 14s 436ms/step - loss: 0.9008 - acc: 0.6661 - val_loss: 0.9240 - val_acc: 0.6447\n",
      "Epoch 10/50\n",
      "32/32 [==============================] - 14s 423ms/step - loss: 0.8814 - acc: 0.6680 - val_loss: 0.7981 - val_acc: 0.7006\n",
      "Epoch 11/50\n",
      "32/32 [==============================] - 15s 461ms/step - loss: 0.8609 - acc: 0.6943 - val_loss: 0.8312 - val_acc: 0.6806\n",
      "Epoch 12/50\n",
      "32/32 [==============================] - 14s 447ms/step - loss: 0.8384 - acc: 0.7051 - val_loss: 0.8081 - val_acc: 0.7066\n",
      "Epoch 13/50\n",
      "32/32 [==============================] - 16s 511ms/step - loss: 0.8491 - acc: 0.7041 - val_loss: 0.7424 - val_acc: 0.7405\n",
      "Epoch 14/50\n",
      "32/32 [==============================] - 16s 496ms/step - loss: 0.8659 - acc: 0.6787 - val_loss: 0.7737 - val_acc: 0.7265\n",
      "Epoch 15/50\n",
      "32/32 [==============================] - 17s 530ms/step - loss: 0.7857 - acc: 0.7256 - val_loss: 0.7294 - val_acc: 0.7365\n",
      "Epoch 16/50\n",
      "32/32 [==============================] - 16s 493ms/step - loss: 0.8040 - acc: 0.7100 - val_loss: 0.8460 - val_acc: 0.6886\n",
      "Epoch 17/50\n",
      "32/32 [==============================] - 14s 453ms/step - loss: 0.8281 - acc: 0.7129 - val_loss: 0.7276 - val_acc: 0.7465\n",
      "Epoch 18/50\n",
      "32/32 [==============================] - 14s 440ms/step - loss: 0.8163 - acc: 0.6937 - val_loss: 0.7597 - val_acc: 0.7305\n",
      "Epoch 19/50\n",
      "32/32 [==============================] - 14s 450ms/step - loss: 0.8585 - acc: 0.6836 - val_loss: 0.7423 - val_acc: 0.7385\n",
      "Epoch 20/50\n",
      "32/32 [==============================] - 13s 421ms/step - loss: 0.8690 - acc: 0.6572 - val_loss: 0.8900 - val_acc: 0.6467\n",
      "Epoch 21/50\n",
      "32/32 [==============================] - 13s 413ms/step - loss: 0.8772 - acc: 0.6797 - val_loss: 0.7614 - val_acc: 0.7226\n",
      "Epoch 22/50\n",
      "32/32 [==============================] - 14s 427ms/step - loss: 0.8037 - acc: 0.7129 - val_loss: 0.7043 - val_acc: 0.7665\n",
      "Epoch 23/50\n",
      "32/32 [==============================] - 13s 416ms/step - loss: 0.7551 - acc: 0.7459 - val_loss: 0.7020 - val_acc: 0.7565\n",
      "Epoch 24/50\n",
      "32/32 [==============================] - 13s 420ms/step - loss: 0.8016 - acc: 0.7051 - val_loss: 0.7138 - val_acc: 0.7565\n",
      "Epoch 25/50\n",
      "32/32 [==============================] - 13s 409ms/step - loss: 0.7913 - acc: 0.7100 - val_loss: 0.7552 - val_acc: 0.7186\n",
      "Epoch 26/50\n",
      "32/32 [==============================] - 13s 422ms/step - loss: 0.7965 - acc: 0.7246 - val_loss: 0.7176 - val_acc: 0.7485\n",
      "Epoch 27/50\n",
      "32/32 [==============================] - 13s 413ms/step - loss: 0.7766 - acc: 0.7123 - val_loss: 0.6464 - val_acc: 0.8064\n",
      "Epoch 28/50\n",
      "32/32 [==============================] - 13s 415ms/step - loss: 0.8950 - acc: 0.6641 - val_loss: 0.9118 - val_acc: 0.6387\n",
      "Epoch 29/50\n",
      "32/32 [==============================] - 14s 429ms/step - loss: 0.9047 - acc: 0.6592 - val_loss: 0.7812 - val_acc: 0.7345\n",
      "Epoch 30/50\n",
      "32/32 [==============================] - 13s 419ms/step - loss: 0.8188 - acc: 0.6943 - val_loss: 0.7683 - val_acc: 0.7345\n",
      "Epoch 31/50\n",
      "32/32 [==============================] - 13s 413ms/step - loss: 0.8251 - acc: 0.6973 - val_loss: 0.7227 - val_acc: 0.7485\n",
      "Epoch 32/50\n",
      "32/32 [==============================] - 13s 421ms/step - loss: 0.7780 - acc: 0.7305 - val_loss: 0.7330 - val_acc: 0.7565\n",
      "Epoch 33/50\n",
      "32/32 [==============================] - 13s 413ms/step - loss: 0.7541 - acc: 0.7383 - val_loss: 0.8026 - val_acc: 0.6946\n",
      "Epoch 34/50\n",
      "32/32 [==============================] - 14s 427ms/step - loss: 0.9718 - acc: 0.6104 - val_loss: 0.8827 - val_acc: 0.6707\n",
      "Epoch 35/50\n",
      "32/32 [==============================] - 14s 438ms/step - loss: 0.8692 - acc: 0.6797 - val_loss: 0.8075 - val_acc: 0.6906\n",
      "Epoch 36/50\n",
      "32/32 [==============================] - 13s 414ms/step - loss: 0.8078 - acc: 0.7089 - val_loss: 0.7708 - val_acc: 0.7445\n",
      "Epoch 37/50\n",
      "32/32 [==============================] - 13s 421ms/step - loss: 0.8779 - acc: 0.6738 - val_loss: 0.7968 - val_acc: 0.7046\n",
      "Epoch 38/50\n",
      "32/32 [==============================] - 13s 409ms/step - loss: 0.8043 - acc: 0.7158 - val_loss: 0.8079 - val_acc: 0.6806\n",
      "Epoch 39/50\n",
      "32/32 [==============================] - 13s 414ms/step - loss: 0.8326 - acc: 0.6895 - val_loss: 0.8543 - val_acc: 0.6747\n",
      "Epoch 40/50\n",
      "32/32 [==============================] - 13s 419ms/step - loss: 0.8926 - acc: 0.6477 - val_loss: 0.7915 - val_acc: 0.7026\n",
      "Epoch 41/50\n",
      "32/32 [==============================] - 13s 415ms/step - loss: 0.9024 - acc: 0.6553 - val_loss: 0.8997 - val_acc: 0.6547\n",
      "Epoch 42/50\n",
      "32/32 [==============================] - 13s 416ms/step - loss: 0.9272 - acc: 0.6387 - val_loss: 0.9832 - val_acc: 0.5888\n",
      "Epoch 43/50\n",
      "32/32 [==============================] - 13s 418ms/step - loss: 1.0138 - acc: 0.5781 - val_loss: 0.8650 - val_acc: 0.6527\n",
      "Epoch 44/50\n",
      "32/32 [==============================] - 13s 412ms/step - loss: 0.8795 - acc: 0.6748 - val_loss: 0.8271 - val_acc: 0.7026\n",
      "Epoch 45/50\n",
      "32/32 [==============================] - 14s 422ms/step - loss: 0.8343 - acc: 0.6952 - val_loss: 0.8882 - val_acc: 0.6647\n",
      "Epoch 46/50\n",
      "32/32 [==============================] - 13s 420ms/step - loss: 0.9271 - acc: 0.6416 - val_loss: 1.0123 - val_acc: 0.5848\n",
      "Epoch 47/50\n",
      "32/32 [==============================] - 13s 409ms/step - loss: 0.9936 - acc: 0.5996 - val_loss: 0.9699 - val_acc: 0.6068\n",
      "Epoch 48/50\n",
      "32/32 [==============================] - 13s 419ms/step - loss: 1.0019 - acc: 0.5752 - val_loss: 0.9748 - val_acc: 0.6028\n",
      "Epoch 49/50\n",
      "32/32 [==============================] - 13s 404ms/step - loss: 0.9658 - acc: 0.6058 - val_loss: 0.9252 - val_acc: 0.6367\n",
      "Epoch 50/50\n",
      "32/32 [==============================] - 13s 414ms/step - loss: 0.9259 - acc: 0.6240 - val_loss: 0.9275 - val_acc: 0.6327\n"
     ]
    }
   ],
   "source": [
    "from Classifier.VGG_with_l2 import *\n",
    "\n",
    "#Defining hyperparameters\n",
    "batch_Size = 32\n",
    "steps_Per_Epoch = 32\n",
    "numEpochs = 50\n",
    "\n",
    "#Instantating VGG19 model\n",
    "model = VGG19_l2((224,224,3),4) #VGG19_dense for revised VGG19, VGG19 for VGG19. Please pay attention to VGG16(), chnage the input shape and class number in VGG.py.\n",
    "\n",
    "#Creating an optimizers\n",
    "adaDelta = keras.optimizers.Adadelta(lr=1.0, rho=0.95)\n",
    "sgd = SGD(lr=0.01, decay=1e-6, momentum=0.95, nesterov=True)\n",
    "model.compile(optimizer = sgd , loss = 'categorical_crossentropy', metrics = ['accuracy'])\n",
    "\n",
    "#Creating early stopping \n",
    "earlystop = EarlyStopping(monitor = 'val_accuracy', min_delta = 0, patience = 50, verbose = 1, mode = 'auto', restore_best_weights = True)       \n",
    "\n",
    "train_generator = datagen.flow(x_train, y_train, batch_size = batch_Size)\n",
    "validation_generator = datagen.flow(x_valid, y_valid, batch_size = batch_Size)\n",
    "\n",
    "# Model training\n",
    "history = model.fit_generator(\n",
    "    train_generator,\n",
    "    steps_per_epoch = steps_Per_Epoch,\n",
    "    validation_data = validation_generator, \n",
    "    validation_steps = 16,\n",
    "    epochs = numEpochs,\n",
    "    shuffle = True, \n",
    "    verbose = 1)"
   ]
  },
  {
   "cell_type": "code",
   "execution_count": 14,
   "metadata": {},
   "outputs": [],
   "source": [
    "modelPath = \"VGG19_COVID19_undersampled_l2.h5\"\n",
    "resultPath = 'VGG19_COVID19_undersampled_l2.txt'"
   ]
  },
  {
   "cell_type": "code",
   "execution_count": 15,
   "metadata": {},
   "outputs": [
    {
     "name": "stdout",
     "output_type": "stream",
     "text": [
      "Epoch     0 | LossA: 1.30(+0.00%) \u001b[0m\t| LossAB: 1.22(+0.00%) \u001b[0m\t\n",
      "Epoch     1 | LossA: \u001b[32m1.19(-8.81%) ▼\u001b[0m\t| LossAB: \u001b[32m1.11(-9.09%) ▼\u001b[0m\t\n",
      "Epoch     2 | LossA: \u001b[32m1.07(-9.68%) ▼\u001b[0m\t| LossAB: \u001b[32m1.02(-8.17%) ▼\u001b[0m\t\n",
      "Epoch     3 | LossA: \u001b[32m1.02(-4.53%) ▼\u001b[0m\t| LossAB: \u001b[32m1.00(-2.17%) ▼\u001b[0m\t\n",
      "Epoch     4 | LossA: \u001b[32m1.02(-0.77%) ▼\u001b[0m\t| LossAB: \u001b[32m0.92(-7.76%) ▼\u001b[0m\t\n",
      "Epoch     5 | LossA: \u001b[32m0.96(-5.51%) ▼\u001b[0m\t| LossAB: \u001b[32m0.91(-1.42%) ▼\u001b[0m\t\n",
      "Epoch     6 | LossA: \u001b[91m0.99(+2.75%) ▲\u001b[0m\t| LossAB: \u001b[32m0.86(-5.01%) ▼\u001b[0m\t\n",
      "Epoch     7 | LossA: \u001b[32m0.88(-10.32%) ▼\u001b[0m\t| LossAB: \u001b[32m0.85(-2.06%) ▼\u001b[0m\t\n",
      "Epoch     8 | LossA: \u001b[91m0.90(+1.83%) ▲\u001b[0m\t| LossAB: \u001b[91m0.92(+9.20%) ▲\u001b[0m\t\n",
      "Epoch     9 | LossA: \u001b[32m0.88(-2.19%) ▼\u001b[0m\t| LossAB: \u001b[32m0.80(-13.62%) ▼\u001b[0m\t\n",
      "Epoch    10 | LossA: \u001b[32m0.86(-2.33%) ▼\u001b[0m\t| LossAB: \u001b[91m0.83(+4.15%) ▲\u001b[0m\t\n",
      "Epoch    11 | LossA: \u001b[32m0.84(-2.62%) ▼\u001b[0m\t| LossAB: \u001b[32m0.81(-2.78%) ▼\u001b[0m\t\n",
      "Epoch    12 | LossA: \u001b[91m0.85(+1.28%) ▲\u001b[0m\t| LossAB: \u001b[32m0.74(-8.14%) ▼\u001b[0m\t\n",
      "Epoch    13 | LossA: \u001b[91m0.87(+1.96%) ▲\u001b[0m\t| LossAB: \u001b[91m0.77(+4.23%) ▲\u001b[0m\t\n",
      "Epoch    14 | LossA: \u001b[32m0.79(-9.24%) ▼\u001b[0m\t| LossAB: \u001b[32m0.73(-5.72%) ▼\u001b[0m\t\n",
      "Epoch    15 | LossA: \u001b[91m0.80(+2.33%) ▲\u001b[0m\t| LossAB: \u001b[91m0.85(+15.97%) ▲\u001b[0m\t\n",
      "Epoch    16 | LossA: \u001b[91m0.83(+3.00%) ▲\u001b[0m\t| LossAB: \u001b[32m0.73(-13.99%) ▼\u001b[0m\t\n",
      "Epoch    17 | LossA: \u001b[32m0.82(-1.36%) ▼\u001b[0m\t| LossAB: \u001b[91m0.76(+4.41%) ▲\u001b[0m\t\n",
      "Epoch    18 | LossA: \u001b[91m0.86(+5.10%) ▲\u001b[0m\t| LossAB: \u001b[32m0.74(-2.29%) ▼\u001b[0m\t\n",
      "Epoch    19 | LossA: \u001b[91m0.87(+1.22%) ▲\u001b[0m\t| LossAB: \u001b[91m0.89(+19.89%) ▲\u001b[0m\t\n",
      "Epoch    20 | LossA: \u001b[91m0.88(+0.95%) ▲\u001b[0m\t| LossAB: \u001b[32m0.76(-14.44%) ▼\u001b[0m\t\n",
      "Epoch    21 | LossA: \u001b[32m0.80(-8.38%) ▼\u001b[0m\t| LossAB: \u001b[32m0.70(-7.51%) ▼\u001b[0m\t\n",
      "Epoch    22 | LossA: \u001b[32m0.75(-6.09%) ▼\u001b[0m\t| LossAB: \u001b[32m0.70(-0.32%) ▼\u001b[0m\t\n",
      "Epoch    23 | LossA: \u001b[91m0.80(+6.21%) ▲\u001b[0m\t| LossAB: \u001b[91m0.71(+1.69%) ▲\u001b[0m\t\n",
      "Epoch    24 | LossA: \u001b[32m0.79(-1.29%) ▼\u001b[0m\t| LossAB: \u001b[91m0.76(+5.80%) ▲\u001b[0m\t\n",
      "Epoch    25 | LossA: \u001b[91m0.80(+0.67%) ▲\u001b[0m\t| LossAB: \u001b[32m0.72(-4.98%) ▼\u001b[0m\t\n",
      "Epoch    26 | LossA: \u001b[32m0.78(-2.46%) ▼\u001b[0m\t| LossAB: \u001b[32m0.65(-9.93%) ▼\u001b[0m\t\n",
      "Epoch    27 | LossA: \u001b[91m0.90(+15.20%) ▲\u001b[0m\t| LossAB: \u001b[91m0.91(+41.07%) ▲\u001b[0m\t\n",
      "Epoch    28 | LossA: \u001b[91m0.90(+1.08%) ▲\u001b[0m\t| LossAB: \u001b[32m0.78(-14.33%) ▼\u001b[0m\t\n",
      "Epoch    29 | LossA: \u001b[32m0.82(-9.50%) ▼\u001b[0m\t| LossAB: \u001b[32m0.77(-1.66%) ▼\u001b[0m\t\n",
      "Epoch    30 | LossA: \u001b[91m0.83(+0.84%) ▲\u001b[0m\t| LossAB: \u001b[32m0.72(-5.93%) ▼\u001b[0m\t\n",
      "Epoch    31 | LossA: \u001b[32m0.78(-5.77%) ▼\u001b[0m\t| LossAB: \u001b[91m0.73(+1.43%) ▲\u001b[0m\t\n",
      "Epoch    32 | LossA: \u001b[32m0.75(-3.07%) ▼\u001b[0m\t| LossAB: \u001b[91m0.80(+9.49%) ▲\u001b[0m\t\n",
      "Epoch    33 | LossA: \u001b[91m0.97(+28.87%) ▲\u001b[0m\t| LossAB: \u001b[91m0.88(+9.98%) ▲\u001b[0m\t\n",
      "Epoch    34 | LossA: \u001b[32m0.87(-10.55%) ▼\u001b[0m\t| LossAB: \u001b[32m0.81(-8.51%) ▼\u001b[0m\t\n",
      "Epoch    35 | LossA: \u001b[32m0.81(-7.15%) ▼\u001b[0m\t| LossAB: \u001b[32m0.77(-4.55%) ▼\u001b[0m\t\n",
      "Epoch    36 | LossA: \u001b[91m0.88(+8.78%) ▲\u001b[0m\t| LossAB: \u001b[91m0.80(+3.37%) ▲\u001b[0m\t\n",
      "Epoch    37 | LossA: \u001b[32m0.80(-8.38%) ▼\u001b[0m\t| LossAB: \u001b[91m0.81(+1.39%) ▲\u001b[0m\t\n",
      "Epoch    38 | LossA: \u001b[91m0.83(+3.52%) ▲\u001b[0m\t| LossAB: \u001b[91m0.85(+5.75%) ▲\u001b[0m\t\n",
      "Epoch    39 | LossA: \u001b[91m0.89(+7.27%) ▲\u001b[0m\t| LossAB: \u001b[32m0.79(-7.36%) ▼\u001b[0m\t\n",
      "Epoch    40 | LossA: \u001b[91m0.90(+1.04%) ▲\u001b[0m\t| LossAB: \u001b[91m0.90(+13.68%) ▲\u001b[0m\t\n",
      "Epoch    41 | LossA: \u001b[91m0.93(+2.75%) ▲\u001b[0m\t| LossAB: \u001b[91m0.98(+9.28%) ▲\u001b[0m\t\n",
      "Epoch    42 | LossA: \u001b[91m1.01(+9.35%) ▲\u001b[0m\t| LossAB: \u001b[32m0.87(-12.02%) ▼\u001b[0m\t\n",
      "Epoch    43 | LossA: \u001b[32m0.88(-13.25%) ▼\u001b[0m\t| LossAB: \u001b[32m0.83(-4.38%) ▼\u001b[0m\t\n",
      "Epoch    44 | LossA: \u001b[32m0.83(-5.17%) ▼\u001b[0m\t| LossAB: \u001b[91m0.89(+7.39%) ▲\u001b[0m\t\n",
      "Epoch    45 | LossA: \u001b[91m0.93(+11.16%) ▲\u001b[0m\t| LossAB: \u001b[91m1.01(+13.98%) ▲\u001b[0m\t\n",
      "Epoch    46 | LossA: \u001b[91m0.99(+7.18%) ▲\u001b[0m\t| LossAB: \u001b[32m0.97(-4.19%) ▼\u001b[0m\t\n",
      "Epoch    47 | LossA: \u001b[91m1.00(+0.83%) ▲\u001b[0m\t| LossAB: \u001b[91m0.97(+0.50%) ▲\u001b[0m\t\n",
      "Epoch    48 | LossA: \u001b[32m0.97(-3.56%) ▼\u001b[0m\t| LossAB: \u001b[32m0.93(-5.08%) ▼\u001b[0m\t\n",
      "300/300 [==============================] - 5s 15ms/step\n",
      "Accuracy: 0.5833333333333334\n"
     ]
    }
   ],
   "source": [
    "y_test_oh = dense_to_one_hot(y_test, num_clases=4)\n",
    "\n",
    "# visualizing losses and accuracy\n",
    "train_loss = history.history['loss']\n",
    "val_loss = history.history['val_loss']\n",
    "\n",
    "#Observing the losses but can be commented out as it's not mandatory \n",
    "reporter = lossprettifier.LossPrettifier(show_percentage=True)\n",
    "\n",
    "for i in range(numEpochs-1):\n",
    "    reporter(epoch=i, LossA = train_loss[i], LossAB = val_loss[i])\n",
    "\n",
    "# Model evaluation \n",
    "#score, acc = model.evaluate(x_test, y_test_oh, batch_size=batch_Size)\n",
    "score, acc = model.evaluate(x_test, y_test_oh, batch_size=batch_Size)\n",
    "print(\"Accuracy:\", acc)\n",
    "\n",
    "#if acc>0.675:\n",
    "model.save_weights(modelPath)"
   ]
  },
  {
   "cell_type": "code",
   "execution_count": 16,
   "metadata": {},
   "outputs": [
    {
     "name": "stdout",
     "output_type": "stream",
     "text": [
      "              precision    recall  f1-score   support\n",
      "\n",
      "           0       0.67      0.52      0.58       100\n",
      "           1       0.58      0.74      0.65       100\n",
      "           2       0.52      0.49      0.51       100\n",
      "\n",
      "    accuracy                           0.58       300\n",
      "   macro avg       0.59      0.58      0.58       300\n",
      "weighted avg       0.59      0.58      0.58       300\n",
      "\n"
     ]
    }
   ],
   "source": [
    "y_pred = model.predict(x_test)\n",
    "y_pred = y_pred.reshape(len(y_test), 4)\n",
    "y_pred = np.argmax(y_pred, axis=1)\n",
    "\n",
    "# Writing results on file\n",
    "f = open(resultPath,'a') #create classification report\n",
    "f.write(classification_report(y_test, y_pred))\n",
    "f.write(str(sklm.cohen_kappa_score(y_test, y_pred))+\",\"+str(acc)+\",\"+str(score)+\"\\n\")\n",
    "\n",
    "#Print class-wise classification metrics\n",
    "print(classification_report(y_test, y_pred))"
   ]
  },
  {
   "cell_type": "code",
   "execution_count": 17,
   "metadata": {},
   "outputs": [
    {
     "name": "stdout",
     "output_type": "stream",
     "text": [
      "_________________________________________________________________\n",
      "Layer (type)                 Output Shape              Param #   \n",
      "=================================================================\n",
      "input_1 (InputLayer)         (None, 224, 224, 3)       0         \n",
      "_________________________________________________________________\n",
      "block1_conv1 (Conv2D)        (None, 224, 224, 2)       56        \n",
      "_________________________________________________________________\n",
      "block1_conv2 (Conv2D)        (None, 224, 224, 2)       38        \n",
      "_________________________________________________________________\n",
      "block1_pool (MaxPooling2D)   (None, 112, 112, 2)       0         \n",
      "_________________________________________________________________\n",
      "block2_conv1 (Conv2D)        (None, 112, 112, 4)       76        \n",
      "_________________________________________________________________\n",
      "block2_conv2 (Conv2D)        (None, 112, 112, 4)       148       \n",
      "_________________________________________________________________\n",
      "block2_pool (MaxPooling2D)   (None, 56, 56, 4)         0         \n",
      "_________________________________________________________________\n",
      "block3_conv1 (Conv2D)        (None, 56, 56, 8)         296       \n",
      "_________________________________________________________________\n",
      "block3_conv2 (Conv2D)        (None, 56, 56, 8)         584       \n",
      "_________________________________________________________________\n",
      "block3_conv3 (Conv2D)        (None, 56, 56, 8)         584       \n",
      "_________________________________________________________________\n",
      "block3_conv4 (Conv2D)        (None, 56, 56, 8)         584       \n",
      "_________________________________________________________________\n",
      "block3_pool (MaxPooling2D)   (None, 28, 28, 8)         0         \n",
      "_________________________________________________________________\n",
      "block4_conv1 (Conv2D)        (None, 28, 28, 16)        1168      \n",
      "_________________________________________________________________\n",
      "block4_conv2 (Conv2D)        (None, 28, 28, 16)        2320      \n",
      "_________________________________________________________________\n",
      "block4_conv3 (Conv2D)        (None, 28, 28, 16)        2320      \n",
      "_________________________________________________________________\n",
      "block4_conv4 (Conv2D)        (None, 28, 28, 16)        2320      \n",
      "_________________________________________________________________\n",
      "block4_pool (MaxPooling2D)   (None, 14, 14, 16)        0         \n",
      "_________________________________________________________________\n",
      "block5_conv1 (Conv2D)        (None, 14, 14, 16)        2320      \n",
      "_________________________________________________________________\n",
      "block5_conv2 (Conv2D)        (None, 14, 14, 16)        2320      \n",
      "_________________________________________________________________\n",
      "block5_conv3 (Conv2D)        (None, 14, 14, 16)        2320      \n",
      "_________________________________________________________________\n",
      "block5_conv4 (Conv2D)        (None, 14, 14, 16)        2320      \n",
      "_________________________________________________________________\n",
      "block5_pool (MaxPooling2D)   (None, 7, 7, 16)          0         \n",
      "_________________________________________________________________\n",
      "flatten (Flatten)            (None, 784)               0         \n",
      "_________________________________________________________________\n",
      "fc1 (Dense)                  (None, 512)               401920    \n",
      "_________________________________________________________________\n",
      "dropout_1 (Dropout)          (None, 512)               0         \n",
      "_________________________________________________________________\n",
      "fc2 (Dense)                  (None, 128)               65664     \n",
      "_________________________________________________________________\n",
      "predictions (Dense)          (None, 4)                 516       \n",
      "=================================================================\n",
      "Total params: 487,874\n",
      "Trainable params: 487,874\n",
      "Non-trainable params: 0\n",
      "_________________________________________________________________\n"
     ]
    }
   ],
   "source": [
    "model.summary()"
   ]
  },
  {
   "cell_type": "code",
   "execution_count": 18,
   "metadata": {},
   "outputs": [
    {
     "data": {
      "image/png": "[encoded data removed]",
      "text/plain": [
       "<Figure size 432x288 with 2 Axes>"
      ]
     },
     "metadata": {
      "needs_background": "light"
     },
     "output_type": "display_data"
    }
   ],
   "source": [
    "from sklearn.metrics import confusion_matrix, ConfusionMatrixDisplay\n",
    "cm = confusion_matrix(y_test, y_pred)\n",
    "disp = ConfusionMatrixDisplay(confusion_matrix=cm, display_labels=np.array(['normal', 'COVID19', 'pneumonia']))\n",
    "disp.plot(cmap='Blues') \n",
    "disp.ax_.get_images()[0].set_clim(0, 100)"
   ]
  }
 ],
 "metadata": {
  "kernelspec": {
   "display_name": "wbiad3.6",
   "language": "python",
   "name": "wbiad3.6"
  },
  "language_info": {
   "codemirror_mode": {
    "name": "ipython",
    "version": 3
   },
   "file_extension": ".py",
   "mimetype": "text/x-python",
   "name": "python",
   "nbconvert_exporter": "python",
   "pygments_lexer": "ipython3",
   "version": "3.6.13"
  }
 },
 "nbformat": 4,
 "nbformat_minor": 4
}
